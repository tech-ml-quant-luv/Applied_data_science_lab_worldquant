{
 "cells": [
  {
   "cell_type": "markdown",
   "id": "fb671650",
   "metadata": {},
   "source": [
    "### Predicting House with size"
   ]
  },
  {
   "cell_type": "markdown",
   "id": "09bd4439",
   "metadata": {},
   "source": [
    "#### URLS"
   ]
  },
  {
   "cell_type": "markdown",
   "id": "b36f9062",
   "metadata": {},
   "source": [
    "<table border=\"1\" class=\"dataframe\">\n",
    "  <thead>\n",
    "    <tr style=\"text-align: right;\">\n",
    "      <th></th>\n",
    "      <th>url</th>\n",
    "      <th>checkbox</th>\n",
    "    </tr>\n",
    "  </thead>\n",
    "  <tbody>\n",
    "    <tr>\n",
    "      <th>18</th>\n",
    "      <td><a href=\"https://player.vimeo.com/video/656685229?h=b668f12bc1\">https://player.vimeo.com/video/656685229?h=b668f12bc1</a></td>\n",
    "      <td><input type=\"checkbox\"></td>\n",
    "    </tr>\n",
    "    <tr>\n",
    "      <th>19</th>\n",
    "      <td><a href=\"https://player.vimeo.com/video/656684478?h=87d29a2ba6\">https://player.vimeo.com/video/656684478?h=87d29a2ba6</a></td>\n",
    "      <td><input type=\"checkbox\"></td>\n",
    "    </tr>\n",
    "    <tr>\n",
    "      <th>20</th>\n",
    "      <td><a href=\"https://player.vimeo.com/video/656684245?h=f96cf91211\">https://player.vimeo.com/video/656684245?h=f96cf91211</a></td>\n",
    "      <td><input type=\"checkbox\"></td>\n",
    "    </tr>\n",
    "    <tr>\n",
    "      <th>21</th>\n",
    "      <td><a href=\"https://player.vimeo.com/video/656684037?h=f30c2b4dfc\">https://player.vimeo.com/video/656684037?h=f30c2b4dfc</a></td>\n",
    "      <td><input type=\"checkbox\"></td>\n",
    "    </tr>\n",
    "    <tr>\n",
    "      <th>22</th>\n",
    "      <td><a href=\"https://player.vimeo.com/video/656683862?h=886904448d\">https://player.vimeo.com/video/656683862?h=886904448d</a></td>\n",
    "      <td><input type=\"checkbox\"></td>\n",
    "    </tr>\n",
    "  </tbody>\n",
    "</table>"
   ]
  },
  {
   "cell_type": "code",
   "execution_count": 75,
   "id": "85ed4246",
   "metadata": {},
   "outputs": [],
   "source": [
    "import warnings\n",
    "import matplotlib.pyplot as plt\n",
    "import pandas as pd\n",
    "import numpy as np\n",
    "from sklearn.linear_model import LinearRegression   #Build our linear regression model\n",
    "from sklearn.metrics import mean_absolute_error #Evaluate our model\n",
    "from sklearn.utils.validation import check_is_fitted    #\n",
    "warnings.simplefilter(action=\"ignore\",category=FutureWarning)"
   ]
  },
  {
   "cell_type": "markdown",
   "id": "4f32d864",
   "metadata": {},
   "source": [
    "#### Data Wrangling\n",
    "\n",
    "- Reshaping DataSets\n",
    "- Merging DataSets\n",
    "- Creating new variables\n",
    "- Filtering and Subsetting\n",
    "- Data type Conversions\n",
    "- Aggregating data"
   ]
  },
  {
   "cell_type": "markdown",
   "id": "21fb51be",
   "metadata": {},
   "source": [
    "<p style=\"color:orange\">Subsetting a Dataset</p>"
   ]
  },
  {
   "cell_type": "code",
   "execution_count": 76,
   "id": "6db5355c",
   "metadata": {},
   "outputs": [],
   "source": [
    "def get_data(filepath):\n",
    "    df = pd.read_csv(filepath)\n",
    "    return df"
   ]
  },
  {
   "cell_type": "code",
   "execution_count": 77,
   "id": "3bdad9a7",
   "metadata": {},
   "outputs": [
    {
     "name": "stdout",
     "output_type": "stream",
     "text": [
      "df shape:  (8606, 17)\n"
     ]
    },
    {
     "data": {
      "application/vnd.microsoft.datawrangler.viewer.v0+json": {
       "columns": [
        {
         "name": "index",
         "rawType": "int64",
         "type": "integer"
        },
        {
         "name": "Unnamed: 0",
         "rawType": "int64",
         "type": "integer"
        },
        {
         "name": "operation",
         "rawType": "object",
         "type": "string"
        },
        {
         "name": "property_type",
         "rawType": "object",
         "type": "string"
        },
        {
         "name": "place_with_parent_names",
         "rawType": "object",
         "type": "string"
        },
        {
         "name": "lat-lon",
         "rawType": "object",
         "type": "unknown"
        },
        {
         "name": "price",
         "rawType": "float64",
         "type": "float"
        },
        {
         "name": "currency",
         "rawType": "object",
         "type": "string"
        },
        {
         "name": "price_aprox_local_currency",
         "rawType": "float64",
         "type": "float"
        },
        {
         "name": "price_aprox_usd",
         "rawType": "float64",
         "type": "float"
        },
        {
         "name": "surface_total_in_m2",
         "rawType": "float64",
         "type": "float"
        },
        {
         "name": "surface_covered_in_m2",
         "rawType": "float64",
         "type": "float"
        },
        {
         "name": "price_usd_per_m2",
         "rawType": "float64",
         "type": "float"
        },
        {
         "name": "price_per_m2",
         "rawType": "float64",
         "type": "float"
        },
        {
         "name": "floor",
         "rawType": "float64",
         "type": "float"
        },
        {
         "name": "rooms",
         "rawType": "float64",
         "type": "float"
        },
        {
         "name": "expenses",
         "rawType": "object",
         "type": "unknown"
        },
        {
         "name": "properati_url",
         "rawType": "object",
         "type": "string"
        }
       ],
       "ref": "581b2e06-e90e-4e25-ac2a-c40ec2aefb46",
       "rows": [
        [
         "0",
         "0",
         "sell",
         "apartment",
         "|Argentina|Capital Federal|Villa Crespo|",
         "-34.6047834183,-58.4586812499",
         "180000.0",
         "USD",
         "2729232.0",
         "180000.0",
         "120.0",
         "110.0",
         "1500.0",
         "1636.3636363636365",
         null,
         "4.0",
         null,
         "http://villa-crespo.properati.com.ar/12egq_venta_departamentos_villa-crespo_justo-juan-b-av-_4018_balcon_lavadero_luminoso_dependencias_estudio-lca"
        ],
        [
         "1",
         "1",
         "sell",
         "house",
         "|Argentina|Bs.As. G.B.A. Zona Oeste|La Matanza|Ramos Mejía|",
         null,
         "250000.0",
         "USD",
         "3790600.0",
         "250000.0",
         "117.0",
         "120.0",
         "2136.7521367521367",
         "2083.333333333333",
         null,
         "4.0",
         null,
         "http://ramos-mejia.properati.com.ar/s7pd_venta_casa_la-matanza"
        ],
        [
         "2",
         "2",
         "sell",
         "house",
         "|Argentina|Bs.As. G.B.A. Zona Oeste|Morón|Castelar|",
         "-34.6497002,-58.658073",
         "410000.0",
         "USD",
         "6216584.0",
         "410000.0",
         "410.0",
         "220.0",
         "1000.0",
         "1863.636363636364",
         null,
         null,
         null,
         "http://castelar-moron.properati.com.ar/11vgn_venta_casa_castelar_suite_lavadero_parrilla_piscina_quincho_toilette_dependencias_garage_leloir-inmuebles"
        ],
        [
         "3",
         "3",
         "sell",
         "house",
         "|Argentina|Bs.As. G.B.A. Zona Oeste|Tres de Febrero|",
         "-34.5957086,-58.5669503",
         "180000.0",
         "USD",
         "2729232.0",
         "180000.0",
         "200.0",
         "135.0",
         "900.0",
         "1333.3333333333333",
         null,
         "5.0",
         null,
         "http://tres-de-febrero.properati.com.ar/7f7u_venta_casa_tres-de-febrero"
        ],
        [
         "4",
         "4",
         "sell",
         "apartment",
         "|Argentina|Capital Federal|Chacarita|",
         "-34.5846508988,-58.4546932614",
         "129000.0",
         "USD",
         "1955949.6",
         "129000.0",
         "76.0",
         "70.0",
         "1697.3684210526317",
         "1842.857142857143",
         null,
         null,
         null,
         "http://chacarita.properati.com.ar/10qlv_venta_departamentos_chacarita_balcon_lavadero_toilette_placard_losa-radiante_barrera-y-asociados"
        ]
       ],
       "shape": {
        "columns": 17,
        "rows": 5
       }
      },
      "text/html": [
       "<div>\n",
       "<style scoped>\n",
       "    .dataframe tbody tr th:only-of-type {\n",
       "        vertical-align: middle;\n",
       "    }\n",
       "\n",
       "    .dataframe tbody tr th {\n",
       "        vertical-align: top;\n",
       "    }\n",
       "\n",
       "    .dataframe thead th {\n",
       "        text-align: right;\n",
       "    }\n",
       "</style>\n",
       "<table border=\"1\" class=\"dataframe\">\n",
       "  <thead>\n",
       "    <tr style=\"text-align: right;\">\n",
       "      <th></th>\n",
       "      <th>Unnamed: 0</th>\n",
       "      <th>operation</th>\n",
       "      <th>property_type</th>\n",
       "      <th>place_with_parent_names</th>\n",
       "      <th>lat-lon</th>\n",
       "      <th>price</th>\n",
       "      <th>currency</th>\n",
       "      <th>price_aprox_local_currency</th>\n",
       "      <th>price_aprox_usd</th>\n",
       "      <th>surface_total_in_m2</th>\n",
       "      <th>surface_covered_in_m2</th>\n",
       "      <th>price_usd_per_m2</th>\n",
       "      <th>price_per_m2</th>\n",
       "      <th>floor</th>\n",
       "      <th>rooms</th>\n",
       "      <th>expenses</th>\n",
       "      <th>properati_url</th>\n",
       "    </tr>\n",
       "  </thead>\n",
       "  <tbody>\n",
       "    <tr>\n",
       "      <th>0</th>\n",
       "      <td>0</td>\n",
       "      <td>sell</td>\n",
       "      <td>apartment</td>\n",
       "      <td>|Argentina|Capital Federal|Villa Crespo|</td>\n",
       "      <td>-34.6047834183,-58.4586812499</td>\n",
       "      <td>180000.0</td>\n",
       "      <td>USD</td>\n",
       "      <td>2729232.0</td>\n",
       "      <td>180000.0</td>\n",
       "      <td>120.0</td>\n",
       "      <td>110.0</td>\n",
       "      <td>1500.000000</td>\n",
       "      <td>1636.363636</td>\n",
       "      <td>NaN</td>\n",
       "      <td>4.0</td>\n",
       "      <td>NaN</td>\n",
       "      <td>http://villa-crespo.properati.com.ar/12egq_ven...</td>\n",
       "    </tr>\n",
       "    <tr>\n",
       "      <th>1</th>\n",
       "      <td>1</td>\n",
       "      <td>sell</td>\n",
       "      <td>house</td>\n",
       "      <td>|Argentina|Bs.As. G.B.A. Zona Oeste|La Matanza...</td>\n",
       "      <td>NaN</td>\n",
       "      <td>250000.0</td>\n",
       "      <td>USD</td>\n",
       "      <td>3790600.0</td>\n",
       "      <td>250000.0</td>\n",
       "      <td>117.0</td>\n",
       "      <td>120.0</td>\n",
       "      <td>2136.752137</td>\n",
       "      <td>2083.333333</td>\n",
       "      <td>NaN</td>\n",
       "      <td>4.0</td>\n",
       "      <td>NaN</td>\n",
       "      <td>http://ramos-mejia.properati.com.ar/s7pd_venta...</td>\n",
       "    </tr>\n",
       "    <tr>\n",
       "      <th>2</th>\n",
       "      <td>2</td>\n",
       "      <td>sell</td>\n",
       "      <td>house</td>\n",
       "      <td>|Argentina|Bs.As. G.B.A. Zona Oeste|Morón|Cast...</td>\n",
       "      <td>-34.6497002,-58.658073</td>\n",
       "      <td>410000.0</td>\n",
       "      <td>USD</td>\n",
       "      <td>6216584.0</td>\n",
       "      <td>410000.0</td>\n",
       "      <td>410.0</td>\n",
       "      <td>220.0</td>\n",
       "      <td>1000.000000</td>\n",
       "      <td>1863.636364</td>\n",
       "      <td>NaN</td>\n",
       "      <td>NaN</td>\n",
       "      <td>NaN</td>\n",
       "      <td>http://castelar-moron.properati.com.ar/11vgn_v...</td>\n",
       "    </tr>\n",
       "    <tr>\n",
       "      <th>3</th>\n",
       "      <td>3</td>\n",
       "      <td>sell</td>\n",
       "      <td>house</td>\n",
       "      <td>|Argentina|Bs.As. G.B.A. Zona Oeste|Tres de Fe...</td>\n",
       "      <td>-34.5957086,-58.5669503</td>\n",
       "      <td>180000.0</td>\n",
       "      <td>USD</td>\n",
       "      <td>2729232.0</td>\n",
       "      <td>180000.0</td>\n",
       "      <td>200.0</td>\n",
       "      <td>135.0</td>\n",
       "      <td>900.000000</td>\n",
       "      <td>1333.333333</td>\n",
       "      <td>NaN</td>\n",
       "      <td>5.0</td>\n",
       "      <td>NaN</td>\n",
       "      <td>http://tres-de-febrero.properati.com.ar/7f7u_v...</td>\n",
       "    </tr>\n",
       "    <tr>\n",
       "      <th>4</th>\n",
       "      <td>4</td>\n",
       "      <td>sell</td>\n",
       "      <td>apartment</td>\n",
       "      <td>|Argentina|Capital Federal|Chacarita|</td>\n",
       "      <td>-34.5846508988,-58.4546932614</td>\n",
       "      <td>129000.0</td>\n",
       "      <td>USD</td>\n",
       "      <td>1955949.6</td>\n",
       "      <td>129000.0</td>\n",
       "      <td>76.0</td>\n",
       "      <td>70.0</td>\n",
       "      <td>1697.368421</td>\n",
       "      <td>1842.857143</td>\n",
       "      <td>NaN</td>\n",
       "      <td>NaN</td>\n",
       "      <td>NaN</td>\n",
       "      <td>http://chacarita.properati.com.ar/10qlv_venta_...</td>\n",
       "    </tr>\n",
       "  </tbody>\n",
       "</table>\n",
       "</div>"
      ],
      "text/plain": [
       "   Unnamed: 0 operation property_type  \\\n",
       "0           0      sell     apartment   \n",
       "1           1      sell         house   \n",
       "2           2      sell         house   \n",
       "3           3      sell         house   \n",
       "4           4      sell     apartment   \n",
       "\n",
       "                             place_with_parent_names  \\\n",
       "0           |Argentina|Capital Federal|Villa Crespo|   \n",
       "1  |Argentina|Bs.As. G.B.A. Zona Oeste|La Matanza...   \n",
       "2  |Argentina|Bs.As. G.B.A. Zona Oeste|Morón|Cast...   \n",
       "3  |Argentina|Bs.As. G.B.A. Zona Oeste|Tres de Fe...   \n",
       "4              |Argentina|Capital Federal|Chacarita|   \n",
       "\n",
       "                         lat-lon     price currency  \\\n",
       "0  -34.6047834183,-58.4586812499  180000.0      USD   \n",
       "1                            NaN  250000.0      USD   \n",
       "2         -34.6497002,-58.658073  410000.0      USD   \n",
       "3        -34.5957086,-58.5669503  180000.0      USD   \n",
       "4  -34.5846508988,-58.4546932614  129000.0      USD   \n",
       "\n",
       "   price_aprox_local_currency  price_aprox_usd  surface_total_in_m2  \\\n",
       "0                   2729232.0         180000.0                120.0   \n",
       "1                   3790600.0         250000.0                117.0   \n",
       "2                   6216584.0         410000.0                410.0   \n",
       "3                   2729232.0         180000.0                200.0   \n",
       "4                   1955949.6         129000.0                 76.0   \n",
       "\n",
       "   surface_covered_in_m2  price_usd_per_m2  price_per_m2  floor  rooms  \\\n",
       "0                  110.0       1500.000000   1636.363636    NaN    4.0   \n",
       "1                  120.0       2136.752137   2083.333333    NaN    4.0   \n",
       "2                  220.0       1000.000000   1863.636364    NaN    NaN   \n",
       "3                  135.0        900.000000   1333.333333    NaN    5.0   \n",
       "4                   70.0       1697.368421   1842.857143    NaN    NaN   \n",
       "\n",
       "  expenses                                      properati_url  \n",
       "0      NaN  http://villa-crespo.properati.com.ar/12egq_ven...  \n",
       "1      NaN  http://ramos-mejia.properati.com.ar/s7pd_venta...  \n",
       "2      NaN  http://castelar-moron.properati.com.ar/11vgn_v...  \n",
       "3      NaN  http://tres-de-febrero.properati.com.ar/7f7u_v...  \n",
       "4      NaN  http://chacarita.properati.com.ar/10qlv_venta_...  "
      ]
     },
     "execution_count": 77,
     "metadata": {},
     "output_type": "execute_result"
    }
   ],
   "source": [
    "df = get_data(\"./data/buenos-aires-real-estate-1.csv\")\n",
    "print(\"df shape: \", df.shape)\n",
    "df.head()"
   ]
  },
  {
   "cell_type": "code",
   "execution_count": 78,
   "id": "04ab3f7c",
   "metadata": {},
   "outputs": [],
   "source": [
    "# Check our work\n",
    "assert(\n",
    "    len(df)<=8606\n",
    "), f\"`df` should have no more thatn 8606 observations, not {len(df)}\""
   ]
  },
  {
   "cell_type": "code",
   "execution_count": 79,
   "id": "8bad2d44",
   "metadata": {},
   "outputs": [],
   "source": [
    " #Subset to properties in \"Capital Federal\"\n",
    "df = df[df[\"place_with_parent_names\"].str.contains(\"Capital Federal\")]\n",
    "#Subet to apartments\n",
    "df = df[df[\"property_type\"]==\"apartment\"]   "
   ]
  },
  {
   "cell_type": "code",
   "execution_count": 80,
   "id": "3744c29d",
   "metadata": {},
   "outputs": [
    {
     "data": {
      "text/plain": [
       "array(['USD', nan, 'ARS'], dtype=object)"
      ]
     },
     "execution_count": 80,
     "metadata": {},
     "output_type": "execute_result"
    }
   ],
   "source": [
    "df.currency.unique()"
   ]
  },
  {
   "cell_type": "code",
   "execution_count": 81,
   "id": "4c29d198",
   "metadata": {},
   "outputs": [
    {
     "name": "stdout",
     "output_type": "stream",
     "text": [
      "<class 'pandas.core.frame.DataFrame'>\n",
      "Index: 2068 entries, 0 to 8604\n",
      "Data columns (total 17 columns):\n",
      " #   Column                      Non-Null Count  Dtype  \n",
      "---  ------                      --------------  -----  \n",
      " 0   Unnamed: 0                  2068 non-null   int64  \n",
      " 1   operation                   2068 non-null   object \n",
      " 2   property_type               2068 non-null   object \n",
      " 3   place_with_parent_names     2068 non-null   object \n",
      " 4   lat-lon                     1984 non-null   object \n",
      " 5   price                       1944 non-null   float64\n",
      " 6   currency                    1944 non-null   object \n",
      " 7   price_aprox_local_currency  1944 non-null   float64\n",
      " 8   price_aprox_usd             1944 non-null   float64\n",
      " 9   surface_total_in_m2         1430 non-null   float64\n",
      " 10  surface_covered_in_m2       1859 non-null   float64\n",
      " 11  price_usd_per_m2            1314 non-null   float64\n",
      " 12  price_per_m2                1752 non-null   float64\n",
      " 13  floor                       533 non-null    float64\n",
      " 14  rooms                       1580 non-null   float64\n",
      " 15  expenses                    521 non-null    object \n",
      " 16  properati_url               2068 non-null   object \n",
      "dtypes: float64(9), int64(1), object(7)\n",
      "memory usage: 290.8+ KB\n"
     ]
    }
   ],
   "source": [
    "df.info()"
   ]
  },
  {
   "cell_type": "code",
   "execution_count": 82,
   "id": "16ea511e",
   "metadata": {},
   "outputs": [],
   "source": [
    "#Subset to properties where \"price approx usd\" is less than 400000\n",
    "df = df[df[\"price_aprox_usd\"]<400_000] "
   ]
  },
  {
   "cell_type": "markdown",
   "id": "f5d3e132",
   "metadata": {},
   "source": [
    "#### Exploratory Data Analysis"
   ]
  },
  {
   "cell_type": "markdown",
   "id": "66bd0a77",
   "metadata": {},
   "source": [
    "<p style=\"color:orange\">Histogram of Area of House</p>"
   ]
  },
  {
   "cell_type": "code",
   "execution_count": 83,
   "id": "e1df87ae",
   "metadata": {},
   "outputs": [
    {
     "data": {
      "application/vnd.microsoft.datawrangler.viewer.v0+json": {
       "columns": [
        {
         "name": "index",
         "rawType": "int64",
         "type": "integer"
        },
        {
         "name": "Unnamed: 0",
         "rawType": "int64",
         "type": "integer"
        },
        {
         "name": "operation",
         "rawType": "object",
         "type": "string"
        },
        {
         "name": "property_type",
         "rawType": "object",
         "type": "string"
        },
        {
         "name": "place_with_parent_names",
         "rawType": "object",
         "type": "string"
        },
        {
         "name": "lat-lon",
         "rawType": "object",
         "type": "string"
        },
        {
         "name": "price",
         "rawType": "float64",
         "type": "float"
        },
        {
         "name": "currency",
         "rawType": "object",
         "type": "string"
        },
        {
         "name": "price_aprox_local_currency",
         "rawType": "float64",
         "type": "float"
        },
        {
         "name": "price_aprox_usd",
         "rawType": "float64",
         "type": "float"
        },
        {
         "name": "surface_total_in_m2",
         "rawType": "float64",
         "type": "float"
        },
        {
         "name": "surface_covered_in_m2",
         "rawType": "float64",
         "type": "float"
        },
        {
         "name": "price_usd_per_m2",
         "rawType": "float64",
         "type": "float"
        },
        {
         "name": "price_per_m2",
         "rawType": "float64",
         "type": "float"
        },
        {
         "name": "floor",
         "rawType": "float64",
         "type": "float"
        },
        {
         "name": "rooms",
         "rawType": "float64",
         "type": "float"
        },
        {
         "name": "expenses",
         "rawType": "object",
         "type": "unknown"
        },
        {
         "name": "properati_url",
         "rawType": "object",
         "type": "string"
        }
       ],
       "ref": "c93c5eab-7a85-4b32-a07e-1716e92337e1",
       "rows": [
        [
         "0",
         "0",
         "sell",
         "apartment",
         "|Argentina|Capital Federal|Villa Crespo|",
         "-34.6047834183,-58.4586812499",
         "180000.0",
         "USD",
         "2729232.0",
         "180000.0",
         "120.0",
         "110.0",
         "1500.0",
         "1636.3636363636365",
         null,
         "4.0",
         null,
         "http://villa-crespo.properati.com.ar/12egq_venta_departamentos_villa-crespo_justo-juan-b-av-_4018_balcon_lavadero_luminoso_dependencias_estudio-lca"
        ],
        [
         "4",
         "4",
         "sell",
         "apartment",
         "|Argentina|Capital Federal|Chacarita|",
         "-34.5846508988,-58.4546932614",
         "129000.0",
         "USD",
         "1955949.6",
         "129000.0",
         "76.0",
         "70.0",
         "1697.3684210526317",
         "1842.857142857143",
         null,
         null,
         null,
         "http://chacarita.properati.com.ar/10qlv_venta_departamentos_chacarita_balcon_lavadero_toilette_placard_losa-radiante_barrera-y-asociados"
        ],
        [
         "9",
         "9",
         "sell",
         "apartment",
         "|Argentina|Capital Federal|Villa Luro|",
         "-34.6389789,-58.500115",
         "87000.0",
         "USD",
         "1319128.8",
         "87000.0",
         "48.0",
         "42.0",
         "1812.5",
         "2071.428571428572",
         null,
         null,
         null,
         "http://villa-luro.properati.com.ar/12m82_venta_departamentos_villa-luro_balcon_parrilla_patio_garage_aire-acondicionado_inmobiliaria-calot"
        ],
        [
         "11",
         "11",
         "sell",
         "apartment",
         "|Argentina|Capital Federal|Once|",
         "-34.6050060697,-58.4001162302",
         "60000.0",
         "USD",
         "909744.0",
         "60000.0",
         "28.0",
         "28.0",
         "2142.8571428571427",
         "2142.8571428571427",
         null,
         "1.0",
         null,
         "http://once.properati.com.ar/zz0q_venta_departamentos_once_luminoso_placard_ferrari-propiedades_cv8"
        ],
        [
         "20",
         "20",
         "sell",
         "apartment",
         "|Argentina|Capital Federal|San Nicolás|",
         "-34.603898,-58.378617",
         "69000.0",
         "USD",
         "1046205.6",
         "69000.0",
         null,
         "22.0",
         null,
         "3136.3636363636365",
         "23.0",
         "2.0",
         null,
         "http://san-nicolas.properati.com.ar/rnju_venta_departamentos_constitucion"
        ]
       ],
       "shape": {
        "columns": 17,
        "rows": 5
       }
      },
      "text/html": [
       "<div>\n",
       "<style scoped>\n",
       "    .dataframe tbody tr th:only-of-type {\n",
       "        vertical-align: middle;\n",
       "    }\n",
       "\n",
       "    .dataframe tbody tr th {\n",
       "        vertical-align: top;\n",
       "    }\n",
       "\n",
       "    .dataframe thead th {\n",
       "        text-align: right;\n",
       "    }\n",
       "</style>\n",
       "<table border=\"1\" class=\"dataframe\">\n",
       "  <thead>\n",
       "    <tr style=\"text-align: right;\">\n",
       "      <th></th>\n",
       "      <th>Unnamed: 0</th>\n",
       "      <th>operation</th>\n",
       "      <th>property_type</th>\n",
       "      <th>place_with_parent_names</th>\n",
       "      <th>lat-lon</th>\n",
       "      <th>price</th>\n",
       "      <th>currency</th>\n",
       "      <th>price_aprox_local_currency</th>\n",
       "      <th>price_aprox_usd</th>\n",
       "      <th>surface_total_in_m2</th>\n",
       "      <th>surface_covered_in_m2</th>\n",
       "      <th>price_usd_per_m2</th>\n",
       "      <th>price_per_m2</th>\n",
       "      <th>floor</th>\n",
       "      <th>rooms</th>\n",
       "      <th>expenses</th>\n",
       "      <th>properati_url</th>\n",
       "    </tr>\n",
       "  </thead>\n",
       "  <tbody>\n",
       "    <tr>\n",
       "      <th>0</th>\n",
       "      <td>0</td>\n",
       "      <td>sell</td>\n",
       "      <td>apartment</td>\n",
       "      <td>|Argentina|Capital Federal|Villa Crespo|</td>\n",
       "      <td>-34.6047834183,-58.4586812499</td>\n",
       "      <td>180000.0</td>\n",
       "      <td>USD</td>\n",
       "      <td>2729232.0</td>\n",
       "      <td>180000.0</td>\n",
       "      <td>120.0</td>\n",
       "      <td>110.0</td>\n",
       "      <td>1500.000000</td>\n",
       "      <td>1636.363636</td>\n",
       "      <td>NaN</td>\n",
       "      <td>4.0</td>\n",
       "      <td>NaN</td>\n",
       "      <td>http://villa-crespo.properati.com.ar/12egq_ven...</td>\n",
       "    </tr>\n",
       "    <tr>\n",
       "      <th>4</th>\n",
       "      <td>4</td>\n",
       "      <td>sell</td>\n",
       "      <td>apartment</td>\n",
       "      <td>|Argentina|Capital Federal|Chacarita|</td>\n",
       "      <td>-34.5846508988,-58.4546932614</td>\n",
       "      <td>129000.0</td>\n",
       "      <td>USD</td>\n",
       "      <td>1955949.6</td>\n",
       "      <td>129000.0</td>\n",
       "      <td>76.0</td>\n",
       "      <td>70.0</td>\n",
       "      <td>1697.368421</td>\n",
       "      <td>1842.857143</td>\n",
       "      <td>NaN</td>\n",
       "      <td>NaN</td>\n",
       "      <td>NaN</td>\n",
       "      <td>http://chacarita.properati.com.ar/10qlv_venta_...</td>\n",
       "    </tr>\n",
       "    <tr>\n",
       "      <th>9</th>\n",
       "      <td>9</td>\n",
       "      <td>sell</td>\n",
       "      <td>apartment</td>\n",
       "      <td>|Argentina|Capital Federal|Villa Luro|</td>\n",
       "      <td>-34.6389789,-58.500115</td>\n",
       "      <td>87000.0</td>\n",
       "      <td>USD</td>\n",
       "      <td>1319128.8</td>\n",
       "      <td>87000.0</td>\n",
       "      <td>48.0</td>\n",
       "      <td>42.0</td>\n",
       "      <td>1812.500000</td>\n",
       "      <td>2071.428571</td>\n",
       "      <td>NaN</td>\n",
       "      <td>NaN</td>\n",
       "      <td>NaN</td>\n",
       "      <td>http://villa-luro.properati.com.ar/12m82_venta...</td>\n",
       "    </tr>\n",
       "    <tr>\n",
       "      <th>11</th>\n",
       "      <td>11</td>\n",
       "      <td>sell</td>\n",
       "      <td>apartment</td>\n",
       "      <td>|Argentina|Capital Federal|Once|</td>\n",
       "      <td>-34.6050060697,-58.4001162302</td>\n",
       "      <td>60000.0</td>\n",
       "      <td>USD</td>\n",
       "      <td>909744.0</td>\n",
       "      <td>60000.0</td>\n",
       "      <td>28.0</td>\n",
       "      <td>28.0</td>\n",
       "      <td>2142.857143</td>\n",
       "      <td>2142.857143</td>\n",
       "      <td>NaN</td>\n",
       "      <td>1.0</td>\n",
       "      <td>NaN</td>\n",
       "      <td>http://once.properati.com.ar/zz0q_venta_depart...</td>\n",
       "    </tr>\n",
       "    <tr>\n",
       "      <th>20</th>\n",
       "      <td>20</td>\n",
       "      <td>sell</td>\n",
       "      <td>apartment</td>\n",
       "      <td>|Argentina|Capital Federal|San Nicolás|</td>\n",
       "      <td>-34.603898,-58.378617</td>\n",
       "      <td>69000.0</td>\n",
       "      <td>USD</td>\n",
       "      <td>1046205.6</td>\n",
       "      <td>69000.0</td>\n",
       "      <td>NaN</td>\n",
       "      <td>22.0</td>\n",
       "      <td>NaN</td>\n",
       "      <td>3136.363636</td>\n",
       "      <td>23.0</td>\n",
       "      <td>2.0</td>\n",
       "      <td>NaN</td>\n",
       "      <td>http://san-nicolas.properati.com.ar/rnju_venta...</td>\n",
       "    </tr>\n",
       "  </tbody>\n",
       "</table>\n",
       "</div>"
      ],
      "text/plain": [
       "    Unnamed: 0 operation property_type  \\\n",
       "0            0      sell     apartment   \n",
       "4            4      sell     apartment   \n",
       "9            9      sell     apartment   \n",
       "11          11      sell     apartment   \n",
       "20          20      sell     apartment   \n",
       "\n",
       "                     place_with_parent_names                        lat-lon  \\\n",
       "0   |Argentina|Capital Federal|Villa Crespo|  -34.6047834183,-58.4586812499   \n",
       "4      |Argentina|Capital Federal|Chacarita|  -34.5846508988,-58.4546932614   \n",
       "9     |Argentina|Capital Federal|Villa Luro|         -34.6389789,-58.500115   \n",
       "11          |Argentina|Capital Federal|Once|  -34.6050060697,-58.4001162302   \n",
       "20   |Argentina|Capital Federal|San Nicolás|          -34.603898,-58.378617   \n",
       "\n",
       "       price currency  price_aprox_local_currency  price_aprox_usd  \\\n",
       "0   180000.0      USD                   2729232.0         180000.0   \n",
       "4   129000.0      USD                   1955949.6         129000.0   \n",
       "9    87000.0      USD                   1319128.8          87000.0   \n",
       "11   60000.0      USD                    909744.0          60000.0   \n",
       "20   69000.0      USD                   1046205.6          69000.0   \n",
       "\n",
       "    surface_total_in_m2  surface_covered_in_m2  price_usd_per_m2  \\\n",
       "0                 120.0                  110.0       1500.000000   \n",
       "4                  76.0                   70.0       1697.368421   \n",
       "9                  48.0                   42.0       1812.500000   \n",
       "11                 28.0                   28.0       2142.857143   \n",
       "20                  NaN                   22.0               NaN   \n",
       "\n",
       "    price_per_m2  floor  rooms expenses  \\\n",
       "0    1636.363636    NaN    4.0      NaN   \n",
       "4    1842.857143    NaN    NaN      NaN   \n",
       "9    2071.428571    NaN    NaN      NaN   \n",
       "11   2142.857143    NaN    1.0      NaN   \n",
       "20   3136.363636   23.0    2.0      NaN   \n",
       "\n",
       "                                        properati_url  \n",
       "0   http://villa-crespo.properati.com.ar/12egq_ven...  \n",
       "4   http://chacarita.properati.com.ar/10qlv_venta_...  \n",
       "9   http://villa-luro.properati.com.ar/12m82_venta...  \n",
       "11  http://once.properati.com.ar/zz0q_venta_depart...  \n",
       "20  http://san-nicolas.properati.com.ar/rnju_venta...  "
      ]
     },
     "execution_count": 83,
     "metadata": {},
     "output_type": "execute_result"
    }
   ],
   "source": [
    "df.head()"
   ]
  },
  {
   "cell_type": "code",
   "execution_count": 84,
   "id": "4579004e",
   "metadata": {},
   "outputs": [
    {
     "data": {
      "text/plain": [
       "Text(0.5, 1.0, 'Distribution of Aparment Sizes')"
      ]
     },
     "execution_count": 84,
     "metadata": {},
     "output_type": "execute_result"
    },
    {
     "data": {
      "image/png": "[encoded data removed]",
      "text/plain": [
       "<Figure size 700x300 with 1 Axes>"
      ]
     },
     "metadata": {},
     "output_type": "display_data"
    }
   ],
   "source": [
    "fig,ax = plt.subplots(figsize=(7,3))\n",
    "ax.hist(df[\"surface_covered_in_m2\"])\n",
    "ax.set_xlabel(\"Area in sq meters\")\n",
    "ax.set_title(\"Distribution of Aparment Sizes\")"
   ]
  },
  {
   "cell_type": "code",
   "execution_count": 85,
   "id": "86467d8f",
   "metadata": {},
   "outputs": [
    {
     "data": {
      "application/vnd.microsoft.datawrangler.viewer.v0+json": {
       "columns": [
        {
         "name": "index",
         "rawType": "object",
         "type": "string"
        },
        {
         "name": "surface_covered_in_m2",
         "rawType": "float64",
         "type": "float"
        }
       ],
       "ref": "ef6db47a-2324-4439-8bbe-9e0ece20c360",
       "rows": [
        [
         "count",
         "1635.0"
        ],
        [
         "mean",
         "97.87706422018348"
        ],
        [
         "std",
         "1533.0576103500907"
        ],
        [
         "min",
         "0.0"
        ],
        [
         "25%",
         "38.0"
        ],
        [
         "50%",
         "50.0"
        ],
        [
         "75%",
         "73.0"
        ],
        [
         "max",
         "62034.0"
        ]
       ],
       "shape": {
        "columns": 1,
        "rows": 8
       }
      },
      "text/plain": [
       "count     1635.000000\n",
       "mean        97.877064\n",
       "std       1533.057610\n",
       "min          0.000000\n",
       "25%         38.000000\n",
       "50%         50.000000\n",
       "75%         73.000000\n",
       "max      62034.000000\n",
       "Name: surface_covered_in_m2, dtype: float64"
      ]
     },
     "execution_count": 85,
     "metadata": {},
     "output_type": "execute_result"
    }
   ],
   "source": [
    "df[\"surface_covered_in_m2\"].describe() #This is telling us that our data is really skewed"
   ]
  },
  {
   "cell_type": "markdown",
   "id": "a50a3067",
   "metadata": {},
   "source": [
    "<p style=\"color:orange\">Removing outliers</p>"
   ]
  },
  {
   "cell_type": "code",
   "execution_count": 86,
   "id": "92c1e9c8",
   "metadata": {},
   "outputs": [
    {
     "name": "stdout",
     "output_type": "stream",
     "text": [
      "(1343, 17)\n"
     ]
    },
    {
     "data": {
      "application/vnd.microsoft.datawrangler.viewer.v0+json": {
       "columns": [
        {
         "name": "index",
         "rawType": "int64",
         "type": "integer"
        },
        {
         "name": "Unnamed: 0",
         "rawType": "int64",
         "type": "integer"
        },
        {
         "name": "operation",
         "rawType": "object",
         "type": "string"
        },
        {
         "name": "property_type",
         "rawType": "object",
         "type": "string"
        },
        {
         "name": "place_with_parent_names",
         "rawType": "object",
         "type": "string"
        },
        {
         "name": "lat-lon",
         "rawType": "object",
         "type": "string"
        },
        {
         "name": "price",
         "rawType": "float64",
         "type": "float"
        },
        {
         "name": "currency",
         "rawType": "object",
         "type": "string"
        },
        {
         "name": "price_aprox_local_currency",
         "rawType": "float64",
         "type": "float"
        },
        {
         "name": "price_aprox_usd",
         "rawType": "float64",
         "type": "float"
        },
        {
         "name": "surface_total_in_m2",
         "rawType": "float64",
         "type": "float"
        },
        {
         "name": "surface_covered_in_m2",
         "rawType": "float64",
         "type": "float"
        },
        {
         "name": "price_usd_per_m2",
         "rawType": "float64",
         "type": "float"
        },
        {
         "name": "price_per_m2",
         "rawType": "float64",
         "type": "float"
        },
        {
         "name": "floor",
         "rawType": "float64",
         "type": "float"
        },
        {
         "name": "rooms",
         "rawType": "float64",
         "type": "float"
        },
        {
         "name": "expenses",
         "rawType": "object",
         "type": "unknown"
        },
        {
         "name": "properati_url",
         "rawType": "object",
         "type": "string"
        }
       ],
       "ref": "38d77b3c-49b0-4168-9263-fbc9076ed900",
       "rows": [
        [
         "4",
         "4",
         "sell",
         "apartment",
         "|Argentina|Capital Federal|Chacarita|",
         "-34.5846508988,-58.4546932614",
         "129000.0",
         "USD",
         "1955949.6",
         "129000.0",
         "76.0",
         "70.0",
         "1697.3684210526317",
         "1842.857142857143",
         null,
         null,
         null,
         "http://chacarita.properati.com.ar/10qlv_venta_departamentos_chacarita_balcon_lavadero_toilette_placard_losa-radiante_barrera-y-asociados"
        ],
        [
         "9",
         "9",
         "sell",
         "apartment",
         "|Argentina|Capital Federal|Villa Luro|",
         "-34.6389789,-58.500115",
         "87000.0",
         "USD",
         "1319128.8",
         "87000.0",
         "48.0",
         "42.0",
         "1812.5",
         "2071.428571428572",
         null,
         null,
         null,
         "http://villa-luro.properati.com.ar/12m82_venta_departamentos_villa-luro_balcon_parrilla_patio_garage_aire-acondicionado_inmobiliaria-calot"
        ],
        [
         "29",
         "29",
         "sell",
         "apartment",
         "|Argentina|Capital Federal|Caballito|",
         "-34.615847,-58.459957",
         "118000.0",
         "USD",
         "1789163.2",
         "118000.0",
         null,
         "54.0",
         null,
         "2185.185185185185",
         null,
         "2.0",
         null,
         "http://caballito.properati.com.ar/11wqh_venta_departamentos_caballito_balcon_jardin_garage_placard_losa-radiante_re-max-vanguard"
        ],
        [
         "40",
         "40",
         "sell",
         "apartment",
         "|Argentina|Capital Federal|Constitución|",
         "-34.6252219,-58.3823825",
         "57000.0",
         "USD",
         "864256.8",
         "57000.0",
         "42.0",
         "42.0",
         "1357.142857142857",
         "1357.142857142857",
         "5.0",
         "2.0",
         "364",
         "http://constitucion.properati.com.ar/k2f0_venta_departamentos_constitucion_lima_1400"
        ],
        [
         "41",
         "41",
         "sell",
         "apartment",
         "|Argentina|Capital Federal|Once|",
         "-34.6106102,-58.4125107",
         "90000.0",
         "USD",
         "1364616.0",
         "90000.0",
         "57.0",
         "50.0",
         "1578.9473684210527",
         "1800.0",
         null,
         "3.0",
         "450",
         "http://once.properati.com.ar/suwa_venta_departamentos_once_rivadavia-av-_3200"
        ]
       ],
       "shape": {
        "columns": 17,
        "rows": 5
       }
      },
      "text/html": [
       "<div>\n",
       "<style scoped>\n",
       "    .dataframe tbody tr th:only-of-type {\n",
       "        vertical-align: middle;\n",
       "    }\n",
       "\n",
       "    .dataframe tbody tr th {\n",
       "        vertical-align: top;\n",
       "    }\n",
       "\n",
       "    .dataframe thead th {\n",
       "        text-align: right;\n",
       "    }\n",
       "</style>\n",
       "<table border=\"1\" class=\"dataframe\">\n",
       "  <thead>\n",
       "    <tr style=\"text-align: right;\">\n",
       "      <th></th>\n",
       "      <th>Unnamed: 0</th>\n",
       "      <th>operation</th>\n",
       "      <th>property_type</th>\n",
       "      <th>place_with_parent_names</th>\n",
       "      <th>lat-lon</th>\n",
       "      <th>price</th>\n",
       "      <th>currency</th>\n",
       "      <th>price_aprox_local_currency</th>\n",
       "      <th>price_aprox_usd</th>\n",
       "      <th>surface_total_in_m2</th>\n",
       "      <th>surface_covered_in_m2</th>\n",
       "      <th>price_usd_per_m2</th>\n",
       "      <th>price_per_m2</th>\n",
       "      <th>floor</th>\n",
       "      <th>rooms</th>\n",
       "      <th>expenses</th>\n",
       "      <th>properati_url</th>\n",
       "    </tr>\n",
       "  </thead>\n",
       "  <tbody>\n",
       "    <tr>\n",
       "      <th>4</th>\n",
       "      <td>4</td>\n",
       "      <td>sell</td>\n",
       "      <td>apartment</td>\n",
       "      <td>|Argentina|Capital Federal|Chacarita|</td>\n",
       "      <td>-34.5846508988,-58.4546932614</td>\n",
       "      <td>129000.0</td>\n",
       "      <td>USD</td>\n",
       "      <td>1955949.6</td>\n",
       "      <td>129000.0</td>\n",
       "      <td>76.0</td>\n",
       "      <td>70.0</td>\n",
       "      <td>1697.368421</td>\n",
       "      <td>1842.857143</td>\n",
       "      <td>NaN</td>\n",
       "      <td>NaN</td>\n",
       "      <td>NaN</td>\n",
       "      <td>http://chacarita.properati.com.ar/10qlv_venta_...</td>\n",
       "    </tr>\n",
       "    <tr>\n",
       "      <th>9</th>\n",
       "      <td>9</td>\n",
       "      <td>sell</td>\n",
       "      <td>apartment</td>\n",
       "      <td>|Argentina|Capital Federal|Villa Luro|</td>\n",
       "      <td>-34.6389789,-58.500115</td>\n",
       "      <td>87000.0</td>\n",
       "      <td>USD</td>\n",
       "      <td>1319128.8</td>\n",
       "      <td>87000.0</td>\n",
       "      <td>48.0</td>\n",
       "      <td>42.0</td>\n",
       "      <td>1812.500000</td>\n",
       "      <td>2071.428571</td>\n",
       "      <td>NaN</td>\n",
       "      <td>NaN</td>\n",
       "      <td>NaN</td>\n",
       "      <td>http://villa-luro.properati.com.ar/12m82_venta...</td>\n",
       "    </tr>\n",
       "    <tr>\n",
       "      <th>29</th>\n",
       "      <td>29</td>\n",
       "      <td>sell</td>\n",
       "      <td>apartment</td>\n",
       "      <td>|Argentina|Capital Federal|Caballito|</td>\n",
       "      <td>-34.615847,-58.459957</td>\n",
       "      <td>118000.0</td>\n",
       "      <td>USD</td>\n",
       "      <td>1789163.2</td>\n",
       "      <td>118000.0</td>\n",
       "      <td>NaN</td>\n",
       "      <td>54.0</td>\n",
       "      <td>NaN</td>\n",
       "      <td>2185.185185</td>\n",
       "      <td>NaN</td>\n",
       "      <td>2.0</td>\n",
       "      <td>NaN</td>\n",
       "      <td>http://caballito.properati.com.ar/11wqh_venta_...</td>\n",
       "    </tr>\n",
       "    <tr>\n",
       "      <th>40</th>\n",
       "      <td>40</td>\n",
       "      <td>sell</td>\n",
       "      <td>apartment</td>\n",
       "      <td>|Argentina|Capital Federal|Constitución|</td>\n",
       "      <td>-34.6252219,-58.3823825</td>\n",
       "      <td>57000.0</td>\n",
       "      <td>USD</td>\n",
       "      <td>864256.8</td>\n",
       "      <td>57000.0</td>\n",
       "      <td>42.0</td>\n",
       "      <td>42.0</td>\n",
       "      <td>1357.142857</td>\n",
       "      <td>1357.142857</td>\n",
       "      <td>5.0</td>\n",
       "      <td>2.0</td>\n",
       "      <td>364</td>\n",
       "      <td>http://constitucion.properati.com.ar/k2f0_vent...</td>\n",
       "    </tr>\n",
       "    <tr>\n",
       "      <th>41</th>\n",
       "      <td>41</td>\n",
       "      <td>sell</td>\n",
       "      <td>apartment</td>\n",
       "      <td>|Argentina|Capital Federal|Once|</td>\n",
       "      <td>-34.6106102,-58.4125107</td>\n",
       "      <td>90000.0</td>\n",
       "      <td>USD</td>\n",
       "      <td>1364616.0</td>\n",
       "      <td>90000.0</td>\n",
       "      <td>57.0</td>\n",
       "      <td>50.0</td>\n",
       "      <td>1578.947368</td>\n",
       "      <td>1800.000000</td>\n",
       "      <td>NaN</td>\n",
       "      <td>3.0</td>\n",
       "      <td>450</td>\n",
       "      <td>http://once.properati.com.ar/suwa_venta_depart...</td>\n",
       "    </tr>\n",
       "  </tbody>\n",
       "</table>\n",
       "</div>"
      ],
      "text/plain": [
       "    Unnamed: 0 operation property_type  \\\n",
       "4            4      sell     apartment   \n",
       "9            9      sell     apartment   \n",
       "29          29      sell     apartment   \n",
       "40          40      sell     apartment   \n",
       "41          41      sell     apartment   \n",
       "\n",
       "                     place_with_parent_names                        lat-lon  \\\n",
       "4      |Argentina|Capital Federal|Chacarita|  -34.5846508988,-58.4546932614   \n",
       "9     |Argentina|Capital Federal|Villa Luro|         -34.6389789,-58.500115   \n",
       "29     |Argentina|Capital Federal|Caballito|          -34.615847,-58.459957   \n",
       "40  |Argentina|Capital Federal|Constitución|        -34.6252219,-58.3823825   \n",
       "41          |Argentina|Capital Federal|Once|        -34.6106102,-58.4125107   \n",
       "\n",
       "       price currency  price_aprox_local_currency  price_aprox_usd  \\\n",
       "4   129000.0      USD                   1955949.6         129000.0   \n",
       "9    87000.0      USD                   1319128.8          87000.0   \n",
       "29  118000.0      USD                   1789163.2         118000.0   \n",
       "40   57000.0      USD                    864256.8          57000.0   \n",
       "41   90000.0      USD                   1364616.0          90000.0   \n",
       "\n",
       "    surface_total_in_m2  surface_covered_in_m2  price_usd_per_m2  \\\n",
       "4                  76.0                   70.0       1697.368421   \n",
       "9                  48.0                   42.0       1812.500000   \n",
       "29                  NaN                   54.0               NaN   \n",
       "40                 42.0                   42.0       1357.142857   \n",
       "41                 57.0                   50.0       1578.947368   \n",
       "\n",
       "    price_per_m2  floor  rooms expenses  \\\n",
       "4    1842.857143    NaN    NaN      NaN   \n",
       "9    2071.428571    NaN    NaN      NaN   \n",
       "29   2185.185185    NaN    2.0      NaN   \n",
       "40   1357.142857    5.0    2.0      364   \n",
       "41   1800.000000    NaN    3.0      450   \n",
       "\n",
       "                                        properati_url  \n",
       "4   http://chacarita.properati.com.ar/10qlv_venta_...  \n",
       "9   http://villa-luro.properati.com.ar/12m82_venta...  \n",
       "29  http://caballito.properati.com.ar/11wqh_venta_...  \n",
       "40  http://constitucion.properati.com.ar/k2f0_vent...  \n",
       "41  http://once.properati.com.ar/suwa_venta_depart...  "
      ]
     },
     "execution_count": 86,
     "metadata": {},
     "output_type": "execute_result"
    }
   ],
   "source": [
    "low,high = df[\"surface_covered_in_m2\"].quantile([0.1,0.9])\n",
    "df = df[df[\"surface_covered_in_m2\"].between(low,high)]\n",
    "print(df.shape)\n",
    "df.head()"
   ]
  },
  {
   "cell_type": "code",
   "execution_count": 87,
   "id": "6a31ae34",
   "metadata": {},
   "outputs": [
    {
     "data": {
      "text/plain": [
       "Text(0.5, 1.0, 'Distribution of Aparment Sizes')"
      ]
     },
     "execution_count": 87,
     "metadata": {},
     "output_type": "execute_result"
    },
    {
     "data": {
      "image/png": "[encoded data removed]",
      "text/plain": [
       "<Figure size 700x300 with 1 Axes>"
      ]
     },
     "metadata": {},
     "output_type": "display_data"
    }
   ],
   "source": [
    "fig,ax = plt.subplots(figsize=(7,3))\n",
    "ax.hist(df[\"surface_covered_in_m2\"])\n",
    "ax.set_xlabel(\"Area in sq meters\")\n",
    "ax.set_title(\"Distribution of Aparment Sizes\")"
   ]
  },
  {
   "cell_type": "code",
   "execution_count": 88,
   "id": "50a16a0e",
   "metadata": {},
   "outputs": [
    {
     "data": {
      "text/plain": [
       "Text(0.5, 1.0, 'Beunos Aires: Price vs Area')"
      ]
     },
     "execution_count": 88,
     "metadata": {},
     "output_type": "execute_result"
    },
    {
     "data": {
      "image/png": "[encoded data removed]",
      "text/plain": [
       "<Figure size 700x300 with 1 Axes>"
      ]
     },
     "metadata": {},
     "output_type": "display_data"
    }
   ],
   "source": [
    "fig,ax = plt.subplots(figsize=(7,3))\n",
    "ax.scatter(df[\"surface_covered_in_m2\"], df[\"price_aprox_usd\"])\n",
    "ax.set_xlabel(\"Area [sq meters]\")\n",
    "ax.set_ylabel(\"Price [USD]\")\n",
    "ax.set_title(\"Beunos Aires: Price vs Area\")"
   ]
  },
  {
   "cell_type": "code",
   "execution_count": 89,
   "id": "70b9f01c",
   "metadata": {},
   "outputs": [
    {
     "name": "stdout",
     "output_type": "stream",
     "text": [
      "0.6868188329865075\n"
     ]
    }
   ],
   "source": [
    "p_coefficient = df[\"surface_covered_in_m2\"].corr(df[\"price_aprox_usd\"])\n",
    "print(p_coefficient)"
   ]
  },
  {
   "cell_type": "markdown",
   "id": "7e997916",
   "metadata": {},
   "source": [
    "### Machine Learning"
   ]
  },
  {
   "cell_type": "markdown",
   "id": "4e7a6723",
   "metadata": {},
   "source": [
    "#### Linear Models\n",
    "- Linear models are all about straigth lines.\n",
    "- Linear models are very concerned with distance\n",
    "- With linear models we are trying to find a line that best fits our data\n",
    "- Linear model uses an algorithm which tries to minimise the distance.\n",
    "- Linear models works best when our data has a linear relationship\n",
    "- When we don't have a linear relationship, it is better to use some other machine learning model. "
   ]
  },
  {
   "cell_type": "markdown",
   "id": "58a8025f",
   "metadata": {},
   "source": [
    "<p style=\"color:orange\">Splitting the data</p>Their are couple of splits that we do in our data. The most common ones are-\n",
    "\n",
    "- Feature Metrics and Target Vector\n",
    "- We use \"X\" for feature metrics and \"y\" for target_vector"
   ]
  },
  {
   "cell_type": "code",
   "execution_count": 90,
   "id": "65654c25",
   "metadata": {},
   "outputs": [
    {
     "name": "stdout",
     "output_type": "stream",
     "text": [
      "(1343, 1)\n"
     ]
    },
    {
     "data": {
      "application/vnd.microsoft.datawrangler.viewer.v0+json": {
       "columns": [
        {
         "name": "index",
         "rawType": "int64",
         "type": "integer"
        },
        {
         "name": "surface_covered_in_m2",
         "rawType": "float64",
         "type": "float"
        }
       ],
       "ref": "203eed4f-112a-40a4-869f-d61d59efcc62",
       "rows": [
        [
         "4",
         "70.0"
        ],
        [
         "9",
         "42.0"
        ],
        [
         "29",
         "54.0"
        ],
        [
         "40",
         "42.0"
        ],
        [
         "41",
         "50.0"
        ]
       ],
       "shape": {
        "columns": 1,
        "rows": 5
       }
      },
      "text/html": [
       "<div>\n",
       "<style scoped>\n",
       "    .dataframe tbody tr th:only-of-type {\n",
       "        vertical-align: middle;\n",
       "    }\n",
       "\n",
       "    .dataframe tbody tr th {\n",
       "        vertical-align: top;\n",
       "    }\n",
       "\n",
       "    .dataframe thead th {\n",
       "        text-align: right;\n",
       "    }\n",
       "</style>\n",
       "<table border=\"1\" class=\"dataframe\">\n",
       "  <thead>\n",
       "    <tr style=\"text-align: right;\">\n",
       "      <th></th>\n",
       "      <th>surface_covered_in_m2</th>\n",
       "    </tr>\n",
       "  </thead>\n",
       "  <tbody>\n",
       "    <tr>\n",
       "      <th>4</th>\n",
       "      <td>70.0</td>\n",
       "    </tr>\n",
       "    <tr>\n",
       "      <th>9</th>\n",
       "      <td>42.0</td>\n",
       "    </tr>\n",
       "    <tr>\n",
       "      <th>29</th>\n",
       "      <td>54.0</td>\n",
       "    </tr>\n",
       "    <tr>\n",
       "      <th>40</th>\n",
       "      <td>42.0</td>\n",
       "    </tr>\n",
       "    <tr>\n",
       "      <th>41</th>\n",
       "      <td>50.0</td>\n",
       "    </tr>\n",
       "  </tbody>\n",
       "</table>\n",
       "</div>"
      ],
      "text/plain": [
       "    surface_covered_in_m2\n",
       "4                    70.0\n",
       "9                    42.0\n",
       "29                   54.0\n",
       "40                   42.0\n",
       "41                   50.0"
      ]
     },
     "execution_count": 90,
     "metadata": {},
     "output_type": "execute_result"
    }
   ],
   "source": [
    "features = [\"surface_covered_in_m2\"]\n",
    "X_train = df[features]\n",
    "print(X_train.shape)\n",
    "X_train.head()"
   ]
  },
  {
   "cell_type": "code",
   "execution_count": 91,
   "id": "7d441121",
   "metadata": {},
   "outputs": [
    {
     "name": "stdout",
     "output_type": "stream",
     "text": [
      "(1343,)\n"
     ]
    },
    {
     "data": {
      "application/vnd.microsoft.datawrangler.viewer.v0+json": {
       "columns": [
        {
         "name": "index",
         "rawType": "int64",
         "type": "integer"
        },
        {
         "name": "price_aprox_usd",
         "rawType": "float64",
         "type": "float"
        }
       ],
       "ref": "f5a8c2ec-1832-4175-a2f1-fd3c6eba14be",
       "rows": [
        [
         "4",
         "129000.0"
        ],
        [
         "9",
         "87000.0"
        ],
        [
         "29",
         "118000.0"
        ],
        [
         "40",
         "57000.0"
        ],
        [
         "41",
         "90000.0"
        ],
        [
         "48",
         "138000.0"
        ],
        [
         "58",
         "114000.0"
        ],
        [
         "62",
         "82000.0"
        ],
        [
         "70",
         "166000.0"
        ],
        [
         "72",
         "136500.0"
        ],
        [
         "79",
         "75000.0"
        ],
        [
         "88",
         "68000.0"
        ],
        [
         "104",
         "80000.0"
        ],
        [
         "131",
         "125000.0"
        ],
        [
         "140",
         "120000.0"
        ],
        [
         "142",
         "145000.0"
        ],
        [
         "149",
         "95000.0"
        ],
        [
         "170",
         "155000.0"
        ],
        [
         "176",
         "300000.0"
        ],
        [
         "178",
         "95000.0"
        ],
        [
         "192",
         "82000.0"
        ],
        [
         "193",
         "129000.0"
        ],
        [
         "200",
         "280000.0"
        ],
        [
         "203",
         "125151.86"
        ],
        [
         "208",
         "103144.44"
        ],
        [
         "217",
         "118885.0"
        ],
        [
         "223",
         "190000.0"
        ],
        [
         "234",
         "157000.0"
        ],
        [
         "240",
         "119000.0"
        ],
        [
         "247",
         "290000.0"
        ],
        [
         "253",
         "149000.0"
        ],
        [
         "256",
         "199000.0"
        ],
        [
         "273",
         "74400.0"
        ],
        [
         "282",
         "130000.0"
        ],
        [
         "283",
         "140000.0"
        ],
        [
         "287",
         "179869.0"
        ],
        [
         "316",
         "89000.0"
        ],
        [
         "319",
         "80000.0"
        ],
        [
         "331",
         "40711.36"
        ],
        [
         "338",
         "84000.0"
        ],
        [
         "341",
         "110000.0"
        ],
        [
         "344",
         "115000.0"
        ],
        [
         "357",
         "137500.0"
        ],
        [
         "361",
         "88000.0"
        ],
        [
         "366",
         "115000.0"
        ],
        [
         "376",
         "83000.0"
        ],
        [
         "388",
         "107000.0"
        ],
        [
         "389",
         "129500.0"
        ],
        [
         "399",
         "160000.0"
        ],
        [
         "412",
         "97000.0"
        ]
       ],
       "shape": {
        "columns": 1,
        "rows": 1343
       }
      },
      "text/plain": [
       "4       129000.00\n",
       "9        87000.00\n",
       "29      118000.00\n",
       "40       57000.00\n",
       "41       90000.00\n",
       "          ...    \n",
       "8589     73536.95\n",
       "8590    119000.00\n",
       "8593     62000.00\n",
       "8601    125000.00\n",
       "8604     78000.00\n",
       "Name: price_aprox_usd, Length: 1343, dtype: float64"
      ]
     },
     "execution_count": 91,
     "metadata": {},
     "output_type": "execute_result"
    }
   ],
   "source": [
    "target = \"price_aprox_usd\"\n",
    "y_train = df[target]\n",
    "print(y_train.shape)\n",
    "y_train"
   ]
  },
  {
   "cell_type": "markdown",
   "id": "287e8955",
   "metadata": {},
   "source": [
    "##### Setting up a baseline for benchmark"
   ]
  },
  {
   "cell_type": "markdown",
   "id": "f0e07bef",
   "metadata": {},
   "source": [
    "- Baseline - We need to decide a benchmark for our model to pass in order to get call it a good model.\n",
    "    - We call it a Naive model\n",
    "- Then we need to decide that is it a regression problem or classification problem\n",
    "    - Are we predicting a dicrete values or continuous values"
   ]
  },
  {
   "cell_type": "code",
   "execution_count": 92,
   "id": "59ba620e",
   "metadata": {},
   "outputs": [
    {
     "name": "stdout",
     "output_type": "stream",
     "text": [
      "135527.83871928515\n"
     ]
    }
   ],
   "source": [
    "y_train_mean = y_train.mean()\n",
    "print(y_train_mean)"
   ]
  },
  {
   "cell_type": "code",
   "execution_count": 93,
   "id": "99af7789",
   "metadata": {},
   "outputs": [
    {
     "name": "stdout",
     "output_type": "stream",
     "text": [
      "True\n"
     ]
    },
    {
     "data": {
      "text/plain": [
       "[np.float64(135527.83871928515),\n",
       " np.float64(135527.83871928515),\n",
       " np.float64(135527.83871928515),\n",
       " np.float64(135527.83871928515),\n",
       " np.float64(135527.83871928515)]"
      ]
     },
     "execution_count": 93,
     "metadata": {},
     "output_type": "execute_result"
    }
   ],
   "source": [
    "y_pred_baseline = [y_train_mean] * len(y_train)\n",
    "print(len(y_pred_baseline) == len(y_train))\n",
    "y_pred_baseline[:5]"
   ]
  },
  {
   "cell_type": "markdown",
   "id": "1d75409a",
   "metadata": {},
   "source": [
    "<p style=\"color:orange\">Baseline Scatter Plot</p>"
   ]
  },
  {
   "cell_type": "markdown",
   "id": "aaa90556",
   "metadata": {},
   "source": [
    "To plot the chart in matplotlib, we actully need one column in both x axis and y axis. We can achive that by\n",
    "- X_train[\"column_name\"]\n",
    "- X_train.values (But in this case as well, X_train should only have one column)"
   ]
  },
  {
   "cell_type": "code",
   "execution_count": 94,
   "id": "19409b6e",
   "metadata": {},
   "outputs": [
    {
     "data": {
      "image/png": "[encoded data removed]",
      "text/plain": [
       "<Figure size 640x480 with 1 Axes>"
      ]
     },
     "metadata": {},
     "output_type": "display_data"
    }
   ],
   "source": [
    "from data_wrangling_pipeline import input_for_matplotlib\n",
    "fig,ax = plt.subplots()\n",
    "ax.plot(X_train.values, y_pred_baseline, color=\"orange\", label=\"Baseline model\")\n",
    "ax.scatter(X_train,y_train)\n",
    "ax = input_for_matplotlib(ax)\n",
    "ax.legend()\n",
    "plt.show()\n"
   ]
  },
  {
   "cell_type": "markdown",
   "id": "343f431a",
   "metadata": {},
   "source": [
    "<p style=\"color:orange\">Measuring Perfomance metrics for Linear regression</p>\n",
    "\n",
    "- The most popular performance metrics for linear regression is mean squared error."
   ]
  },
  {
   "cell_type": "code",
   "execution_count": 95,
   "id": "4d238206",
   "metadata": {},
   "outputs": [
    {
     "name": "stdout",
     "output_type": "stream",
     "text": [
      "Mean apt price 135527.84\n",
      "Baseline MAE: 45199.46\n"
     ]
    }
   ],
   "source": [
    "mae_baseline = mean_absolute_error(y_true=y_train,y_pred=y_pred_baseline)\n",
    "print(\"Mean apt price\", round(y_train_mean,2))\n",
    "print(\"Baseline MAE:\", round(mae_baseline,2))"
   ]
  },
  {
   "cell_type": "markdown",
   "id": "2cb622e8",
   "metadata": {},
   "source": [
    "What this means is that, if on an average I choose the mean price (135527.84) of the houses as the actual price of every house, then on an average, I would be wrong by 45199.46 USD which is our Mean absolute error.\n",
    "\n",
    "<p style=\"color:yellow; font-weight: bold\"> This means that in order for our model to be useful, we want our baseline mean absolute error to be less than 45199.46</p>"
   ]
  },
  {
   "cell_type": "markdown",
   "id": "48e4ed6e",
   "metadata": {},
   "source": [
    "#### <p style=\"color:orange; font-size:25px\">Instantiate a Model</p>"
   ]
  },
  {
   "cell_type": "markdown",
   "id": "ce87a1ad",
   "metadata": {},
   "source": [
    "Their are three steps in building the model: \n",
    "- Creating/Intantiating a model\n",
    "- Train a model\n",
    "- Use that model to predict"
   ]
  },
  {
   "cell_type": "code",
   "execution_count": 96,
   "id": "a83a510e",
   "metadata": {},
   "outputs": [],
   "source": [
    "linear_model = LinearRegression()   # We have instantiated a model"
   ]
  },
  {
   "cell_type": "code",
   "execution_count": 97,
   "id": "c471e8fc",
   "metadata": {},
   "outputs": [
    {
     "data": {
      "text/html": [
       "<style>#sk-container-id-5 {\n",
       "  /* Definition of color scheme common for light and dark mode */\n",
       "  --sklearn-color-text: #000;\n",
       "  --sklearn-color-text-muted: #666;\n",
       "  --sklearn-color-line: gray;\n",
       "  /* Definition of color scheme for unfitted estimators */\n",
       "  --sklearn-color-unfitted-level-0: #fff5e6;\n",
       "  --sklearn-color-unfitted-level-1: #f6e4d2;\n",
       "  --sklearn-color-unfitted-level-2: #ffe0b3;\n",
       "  --sklearn-color-unfitted-level-3: chocolate;\n",
       "  /* Definition of color scheme for fitted estimators */\n",
       "  --sklearn-color-fitted-level-0: #f0f8ff;\n",
       "  --sklearn-color-fitted-level-1: #d4ebff;\n",
       "  --sklearn-color-fitted-level-2: #b3dbfd;\n",
       "  --sklearn-color-fitted-level-3: cornflowerblue;\n",
       "\n",
       "  /* Specific color for light theme */\n",
       "  --sklearn-color-text-on-default-background: var(--sg-text-color, var(--theme-code-foreground, var(--jp-content-font-color1, black)));\n",
       "  --sklearn-color-background: var(--sg-background-color, var(--theme-background, var(--jp-layout-color0, white)));\n",
       "  --sklearn-color-border-box: var(--sg-text-color, var(--theme-code-foreground, var(--jp-content-font-color1, black)));\n",
       "  --sklearn-color-icon: #696969;\n",
       "\n",
       "  @media (prefers-color-scheme: dark) {\n",
       "    /* Redefinition of color scheme for dark theme */\n",
       "    --sklearn-color-text-on-default-background: var(--sg-text-color, var(--theme-code-foreground, var(--jp-content-font-color1, white)));\n",
       "    --sklearn-color-background: var(--sg-background-color, var(--theme-background, var(--jp-layout-color0, #111)));\n",
       "    --sklearn-color-border-box: var(--sg-text-color, var(--theme-code-foreground, var(--jp-content-font-color1, white)));\n",
       "    --sklearn-color-icon: #878787;\n",
       "  }\n",
       "}\n",
       "\n",
       "#sk-container-id-5 {\n",
       "  color: var(--sklearn-color-text);\n",
       "}\n",
       "\n",
       "#sk-container-id-5 pre {\n",
       "  padding: 0;\n",
       "}\n",
       "\n",
       "#sk-container-id-5 input.sk-hidden--visually {\n",
       "  border: 0;\n",
       "  clip: rect(1px 1px 1px 1px);\n",
       "  clip: rect(1px, 1px, 1px, 1px);\n",
       "  height: 1px;\n",
       "  margin: -1px;\n",
       "  overflow: hidden;\n",
       "  padding: 0;\n",
       "  position: absolute;\n",
       "  width: 1px;\n",
       "}\n",
       "\n",
       "#sk-container-id-5 div.sk-dashed-wrapped {\n",
       "  border: 1px dashed var(--sklearn-color-line);\n",
       "  margin: 0 0.4em 0.5em 0.4em;\n",
       "  box-sizing: border-box;\n",
       "  padding-bottom: 0.4em;\n",
       "  background-color: var(--sklearn-color-background);\n",
       "}\n",
       "\n",
       "#sk-container-id-5 div.sk-container {\n",
       "  /* jupyter's `normalize.less` sets `[hidden] { display: none; }`\n",
       "     but bootstrap.min.css set `[hidden] { display: none !important; }`\n",
       "     so we also need the `!important` here to be able to override the\n",
       "     default hidden behavior on the sphinx rendered scikit-learn.org.\n",
       "     See: https://github.com/scikit-learn/scikit-learn/issues/21755 */\n",
       "  display: inline-block !important;\n",
       "  position: relative;\n",
       "}\n",
       "\n",
       "#sk-container-id-5 div.sk-text-repr-fallback {\n",
       "  display: none;\n",
       "}\n",
       "\n",
       "div.sk-parallel-item,\n",
       "div.sk-serial,\n",
       "div.sk-item {\n",
       "  /* draw centered vertical line to link estimators */\n",
       "  background-image: linear-gradient(var(--sklearn-color-text-on-default-background), var(--sklearn-color-text-on-default-background));\n",
       "  background-size: 2px 100%;\n",
       "  background-repeat: no-repeat;\n",
       "  background-position: center center;\n",
       "}\n",
       "\n",
       "/* Parallel-specific style estimator block */\n",
       "\n",
       "#sk-container-id-5 div.sk-parallel-item::after {\n",
       "  content: \"\";\n",
       "  width: 100%;\n",
       "  border-bottom: 2px solid var(--sklearn-color-text-on-default-background);\n",
       "  flex-grow: 1;\n",
       "}\n",
       "\n",
       "#sk-container-id-5 div.sk-parallel {\n",
       "  display: flex;\n",
       "  align-items: stretch;\n",
       "  justify-content: center;\n",
       "  background-color: var(--sklearn-color-background);\n",
       "  position: relative;\n",
       "}\n",
       "\n",
       "#sk-container-id-5 div.sk-parallel-item {\n",
       "  display: flex;\n",
       "  flex-direction: column;\n",
       "}\n",
       "\n",
       "#sk-container-id-5 div.sk-parallel-item:first-child::after {\n",
       "  align-self: flex-end;\n",
       "  width: 50%;\n",
       "}\n",
       "\n",
       "#sk-container-id-5 div.sk-parallel-item:last-child::after {\n",
       "  align-self: flex-start;\n",
       "  width: 50%;\n",
       "}\n",
       "\n",
       "#sk-container-id-5 div.sk-parallel-item:only-child::after {\n",
       "  width: 0;\n",
       "}\n",
       "\n",
       "/* Serial-specific style estimator block */\n",
       "\n",
       "#sk-container-id-5 div.sk-serial {\n",
       "  display: flex;\n",
       "  flex-direction: column;\n",
       "  align-items: center;\n",
       "  background-color: var(--sklearn-color-background);\n",
       "  padding-right: 1em;\n",
       "  padding-left: 1em;\n",
       "}\n",
       "\n",
       "\n",
       "/* Toggleable style: style used for estimator/Pipeline/ColumnTransformer box that is\n",
       "clickable and can be expanded/collapsed.\n",
       "- Pipeline and ColumnTransformer use this feature and define the default style\n",
       "- Estimators will overwrite some part of the style using the `sk-estimator` class\n",
       "*/\n",
       "\n",
       "/* Pipeline and ColumnTransformer style (default) */\n",
       "\n",
       "#sk-container-id-5 div.sk-toggleable {\n",
       "  /* Default theme specific background. It is overwritten whether we have a\n",
       "  specific estimator or a Pipeline/ColumnTransformer */\n",
       "  background-color: var(--sklearn-color-background);\n",
       "}\n",
       "\n",
       "/* Toggleable label */\n",
       "#sk-container-id-5 label.sk-toggleable__label {\n",
       "  cursor: pointer;\n",
       "  display: flex;\n",
       "  width: 100%;\n",
       "  margin-bottom: 0;\n",
       "  padding: 0.5em;\n",
       "  box-sizing: border-box;\n",
       "  text-align: center;\n",
       "  align-items: start;\n",
       "  justify-content: space-between;\n",
       "  gap: 0.5em;\n",
       "}\n",
       "\n",
       "#sk-container-id-5 label.sk-toggleable__label .caption {\n",
       "  font-size: 0.6rem;\n",
       "  font-weight: lighter;\n",
       "  color: var(--sklearn-color-text-muted);\n",
       "}\n",
       "\n",
       "#sk-container-id-5 label.sk-toggleable__label-arrow:before {\n",
       "  /* Arrow on the left of the label */\n",
       "  content: \"▸\";\n",
       "  float: left;\n",
       "  margin-right: 0.25em;\n",
       "  color: var(--sklearn-color-icon);\n",
       "}\n",
       "\n",
       "#sk-container-id-5 label.sk-toggleable__label-arrow:hover:before {\n",
       "  color: var(--sklearn-color-text);\n",
       "}\n",
       "\n",
       "/* Toggleable content - dropdown */\n",
       "\n",
       "#sk-container-id-5 div.sk-toggleable__content {\n",
       "  display: none;\n",
       "  text-align: left;\n",
       "  /* unfitted */\n",
       "  background-color: var(--sklearn-color-unfitted-level-0);\n",
       "}\n",
       "\n",
       "#sk-container-id-5 div.sk-toggleable__content.fitted {\n",
       "  /* fitted */\n",
       "  background-color: var(--sklearn-color-fitted-level-0);\n",
       "}\n",
       "\n",
       "#sk-container-id-5 div.sk-toggleable__content pre {\n",
       "  margin: 0.2em;\n",
       "  border-radius: 0.25em;\n",
       "  color: var(--sklearn-color-text);\n",
       "  /* unfitted */\n",
       "  background-color: var(--sklearn-color-unfitted-level-0);\n",
       "}\n",
       "\n",
       "#sk-container-id-5 div.sk-toggleable__content.fitted pre {\n",
       "  /* unfitted */\n",
       "  background-color: var(--sklearn-color-fitted-level-0);\n",
       "}\n",
       "\n",
       "#sk-container-id-5 input.sk-toggleable__control:checked~div.sk-toggleable__content {\n",
       "  /* Expand drop-down */\n",
       "  display: block;\n",
       "  width: 100%;\n",
       "  overflow: visible;\n",
       "}\n",
       "\n",
       "#sk-container-id-5 input.sk-toggleable__control:checked~label.sk-toggleable__label-arrow:before {\n",
       "  content: \"▾\";\n",
       "}\n",
       "\n",
       "/* Pipeline/ColumnTransformer-specific style */\n",
       "\n",
       "#sk-container-id-5 div.sk-label input.sk-toggleable__control:checked~label.sk-toggleable__label {\n",
       "  color: var(--sklearn-color-text);\n",
       "  background-color: var(--sklearn-color-unfitted-level-2);\n",
       "}\n",
       "\n",
       "#sk-container-id-5 div.sk-label.fitted input.sk-toggleable__control:checked~label.sk-toggleable__label {\n",
       "  background-color: var(--sklearn-color-fitted-level-2);\n",
       "}\n",
       "\n",
       "/* Estimator-specific style */\n",
       "\n",
       "/* Colorize estimator box */\n",
       "#sk-container-id-5 div.sk-estimator input.sk-toggleable__control:checked~label.sk-toggleable__label {\n",
       "  /* unfitted */\n",
       "  background-color: var(--sklearn-color-unfitted-level-2);\n",
       "}\n",
       "\n",
       "#sk-container-id-5 div.sk-estimator.fitted input.sk-toggleable__control:checked~label.sk-toggleable__label {\n",
       "  /* fitted */\n",
       "  background-color: var(--sklearn-color-fitted-level-2);\n",
       "}\n",
       "\n",
       "#sk-container-id-5 div.sk-label label.sk-toggleable__label,\n",
       "#sk-container-id-5 div.sk-label label {\n",
       "  /* The background is the default theme color */\n",
       "  color: var(--sklearn-color-text-on-default-background);\n",
       "}\n",
       "\n",
       "/* On hover, darken the color of the background */\n",
       "#sk-container-id-5 div.sk-label:hover label.sk-toggleable__label {\n",
       "  color: var(--sklearn-color-text);\n",
       "  background-color: var(--sklearn-color-unfitted-level-2);\n",
       "}\n",
       "\n",
       "/* Label box, darken color on hover, fitted */\n",
       "#sk-container-id-5 div.sk-label.fitted:hover label.sk-toggleable__label.fitted {\n",
       "  color: var(--sklearn-color-text);\n",
       "  background-color: var(--sklearn-color-fitted-level-2);\n",
       "}\n",
       "\n",
       "/* Estimator label */\n",
       "\n",
       "#sk-container-id-5 div.sk-label label {\n",
       "  font-family: monospace;\n",
       "  font-weight: bold;\n",
       "  display: inline-block;\n",
       "  line-height: 1.2em;\n",
       "}\n",
       "\n",
       "#sk-container-id-5 div.sk-label-container {\n",
       "  text-align: center;\n",
       "}\n",
       "\n",
       "/* Estimator-specific */\n",
       "#sk-container-id-5 div.sk-estimator {\n",
       "  font-family: monospace;\n",
       "  border: 1px dotted var(--sklearn-color-border-box);\n",
       "  border-radius: 0.25em;\n",
       "  box-sizing: border-box;\n",
       "  margin-bottom: 0.5em;\n",
       "  /* unfitted */\n",
       "  background-color: var(--sklearn-color-unfitted-level-0);\n",
       "}\n",
       "\n",
       "#sk-container-id-5 div.sk-estimator.fitted {\n",
       "  /* fitted */\n",
       "  background-color: var(--sklearn-color-fitted-level-0);\n",
       "}\n",
       "\n",
       "/* on hover */\n",
       "#sk-container-id-5 div.sk-estimator:hover {\n",
       "  /* unfitted */\n",
       "  background-color: var(--sklearn-color-unfitted-level-2);\n",
       "}\n",
       "\n",
       "#sk-container-id-5 div.sk-estimator.fitted:hover {\n",
       "  /* fitted */\n",
       "  background-color: var(--sklearn-color-fitted-level-2);\n",
       "}\n",
       "\n",
       "/* Specification for estimator info (e.g. \"i\" and \"?\") */\n",
       "\n",
       "/* Common style for \"i\" and \"?\" */\n",
       "\n",
       ".sk-estimator-doc-link,\n",
       "a:link.sk-estimator-doc-link,\n",
       "a:visited.sk-estimator-doc-link {\n",
       "  float: right;\n",
       "  font-size: smaller;\n",
       "  line-height: 1em;\n",
       "  font-family: monospace;\n",
       "  background-color: var(--sklearn-color-background);\n",
       "  border-radius: 1em;\n",
       "  height: 1em;\n",
       "  width: 1em;\n",
       "  text-decoration: none !important;\n",
       "  margin-left: 0.5em;\n",
       "  text-align: center;\n",
       "  /* unfitted */\n",
       "  border: var(--sklearn-color-unfitted-level-1) 1pt solid;\n",
       "  color: var(--sklearn-color-unfitted-level-1);\n",
       "}\n",
       "\n",
       ".sk-estimator-doc-link.fitted,\n",
       "a:link.sk-estimator-doc-link.fitted,\n",
       "a:visited.sk-estimator-doc-link.fitted {\n",
       "  /* fitted */\n",
       "  border: var(--sklearn-color-fitted-level-1) 1pt solid;\n",
       "  color: var(--sklearn-color-fitted-level-1);\n",
       "}\n",
       "\n",
       "/* On hover */\n",
       "div.sk-estimator:hover .sk-estimator-doc-link:hover,\n",
       ".sk-estimator-doc-link:hover,\n",
       "div.sk-label-container:hover .sk-estimator-doc-link:hover,\n",
       ".sk-estimator-doc-link:hover {\n",
       "  /* unfitted */\n",
       "  background-color: var(--sklearn-color-unfitted-level-3);\n",
       "  color: var(--sklearn-color-background);\n",
       "  text-decoration: none;\n",
       "}\n",
       "\n",
       "div.sk-estimator.fitted:hover .sk-estimator-doc-link.fitted:hover,\n",
       ".sk-estimator-doc-link.fitted:hover,\n",
       "div.sk-label-container:hover .sk-estimator-doc-link.fitted:hover,\n",
       ".sk-estimator-doc-link.fitted:hover {\n",
       "  /* fitted */\n",
       "  background-color: var(--sklearn-color-fitted-level-3);\n",
       "  color: var(--sklearn-color-background);\n",
       "  text-decoration: none;\n",
       "}\n",
       "\n",
       "/* Span, style for the box shown on hovering the info icon */\n",
       ".sk-estimator-doc-link span {\n",
       "  display: none;\n",
       "  z-index: 9999;\n",
       "  position: relative;\n",
       "  font-weight: normal;\n",
       "  right: .2ex;\n",
       "  padding: .5ex;\n",
       "  margin: .5ex;\n",
       "  width: min-content;\n",
       "  min-width: 20ex;\n",
       "  max-width: 50ex;\n",
       "  color: var(--sklearn-color-text);\n",
       "  box-shadow: 2pt 2pt 4pt #999;\n",
       "  /* unfitted */\n",
       "  background: var(--sklearn-color-unfitted-level-0);\n",
       "  border: .5pt solid var(--sklearn-color-unfitted-level-3);\n",
       "}\n",
       "\n",
       ".sk-estimator-doc-link.fitted span {\n",
       "  /* fitted */\n",
       "  background: var(--sklearn-color-fitted-level-0);\n",
       "  border: var(--sklearn-color-fitted-level-3);\n",
       "}\n",
       "\n",
       ".sk-estimator-doc-link:hover span {\n",
       "  display: block;\n",
       "}\n",
       "\n",
       "/* \"?\"-specific style due to the `<a>` HTML tag */\n",
       "\n",
       "#sk-container-id-5 a.estimator_doc_link {\n",
       "  float: right;\n",
       "  font-size: 1rem;\n",
       "  line-height: 1em;\n",
       "  font-family: monospace;\n",
       "  background-color: var(--sklearn-color-background);\n",
       "  border-radius: 1rem;\n",
       "  height: 1rem;\n",
       "  width: 1rem;\n",
       "  text-decoration: none;\n",
       "  /* unfitted */\n",
       "  color: var(--sklearn-color-unfitted-level-1);\n",
       "  border: var(--sklearn-color-unfitted-level-1) 1pt solid;\n",
       "}\n",
       "\n",
       "#sk-container-id-5 a.estimator_doc_link.fitted {\n",
       "  /* fitted */\n",
       "  border: var(--sklearn-color-fitted-level-1) 1pt solid;\n",
       "  color: var(--sklearn-color-fitted-level-1);\n",
       "}\n",
       "\n",
       "/* On hover */\n",
       "#sk-container-id-5 a.estimator_doc_link:hover {\n",
       "  /* unfitted */\n",
       "  background-color: var(--sklearn-color-unfitted-level-3);\n",
       "  color: var(--sklearn-color-background);\n",
       "  text-decoration: none;\n",
       "}\n",
       "\n",
       "#sk-container-id-5 a.estimator_doc_link.fitted:hover {\n",
       "  /* fitted */\n",
       "  background-color: var(--sklearn-color-fitted-level-3);\n",
       "}\n",
       "\n",
       ".estimator-table summary {\n",
       "    padding: .5rem;\n",
       "    font-family: monospace;\n",
       "    cursor: pointer;\n",
       "}\n",
       "\n",
       ".estimator-table details[open] {\n",
       "    padding-left: 0.1rem;\n",
       "    padding-right: 0.1rem;\n",
       "    padding-bottom: 0.3rem;\n",
       "}\n",
       "\n",
       ".estimator-table .parameters-table {\n",
       "    margin-left: auto !important;\n",
       "    margin-right: auto !important;\n",
       "}\n",
       "\n",
       ".estimator-table .parameters-table tr:nth-child(odd) {\n",
       "    background-color: #fff;\n",
       "}\n",
       "\n",
       ".estimator-table .parameters-table tr:nth-child(even) {\n",
       "    background-color: #f6f6f6;\n",
       "}\n",
       "\n",
       ".estimator-table .parameters-table tr:hover {\n",
       "    background-color: #e0e0e0;\n",
       "}\n",
       "\n",
       ".estimator-table table td {\n",
       "    border: 1px solid rgba(106, 105, 104, 0.232);\n",
       "}\n",
       "\n",
       ".user-set td {\n",
       "    color:rgb(255, 94, 0);\n",
       "    text-align: left;\n",
       "}\n",
       "\n",
       ".user-set td.value pre {\n",
       "    color:rgb(255, 94, 0) !important;\n",
       "    background-color: transparent !important;\n",
       "}\n",
       "\n",
       ".default td {\n",
       "    color: black;\n",
       "    text-align: left;\n",
       "}\n",
       "\n",
       ".user-set td i,\n",
       ".default td i {\n",
       "    color: black;\n",
       "}\n",
       "\n",
       ".copy-paste-icon {\n",
       "    background-image: url(data:image/svg+xml;base64,PHN2ZyB4bWxucz0iaHR0cDovL3d3dy53My5vcmcvMjAwMC9zdmciIHZpZXdCb3g9IjAgMCA0NDggNTEyIj48IS0tIUZvbnQgQXdlc29tZSBGcmVlIDYuNy4yIGJ5IEBmb250YXdlc29tZSAtIGh0dHBzOi8vZm9udGF3ZXNvbWUuY29tIExpY2Vuc2UgLSBodHRwczovL2ZvbnRhd2Vzb21lLmNvbS9saWNlbnNlL2ZyZWUgQ29weXJpZ2h0IDIwMjUgRm9udGljb25zLCBJbmMuLS0+PHBhdGggZD0iTTIwOCAwTDMzMi4xIDBjMTIuNyAwIDI0LjkgNS4xIDMzLjkgMTQuMWw2Ny45IDY3LjljOSA5IDE0LjEgMjEuMiAxNC4xIDMzLjlMNDQ4IDMzNmMwIDI2LjUtMjEuNSA0OC00OCA0OGwtMTkyIDBjLTI2LjUgMC00OC0yMS41LTQ4LTQ4bDAtMjg4YzAtMjYuNSAyMS41LTQ4IDQ4LTQ4ek00OCAxMjhsODAgMCAwIDY0LTY0IDAgMCAyNTYgMTkyIDAgMC0zMiA2NCAwIDAgNDhjMCAyNi41LTIxLjUgNDgtNDggNDhMNDggNTEyYy0yNi41IDAtNDgtMjEuNS00OC00OEwwIDE3NmMwLTI2LjUgMjEuNS00OCA0OC00OHoiLz48L3N2Zz4=);\n",
       "    background-repeat: no-repeat;\n",
       "    background-size: 14px 14px;\n",
       "    background-position: 0;\n",
       "    display: inline-block;\n",
       "    width: 14px;\n",
       "    height: 14px;\n",
       "    cursor: pointer;\n",
       "}\n",
       "</style><body><div id=\"sk-container-id-5\" class=\"sk-top-container\"><div class=\"sk-text-repr-fallback\"><pre>LinearRegression()</pre><b>In a Jupyter environment, please rerun this cell to show the HTML representation or trust the notebook. <br />On GitHub, the HTML representation is unable to render, please try loading this page with nbviewer.org.</b></div><div class=\"sk-container\" hidden><div class=\"sk-item\"><div class=\"sk-estimator fitted sk-toggleable\"><input class=\"sk-toggleable__control sk-hidden--visually\" id=\"sk-estimator-id-5\" type=\"checkbox\" checked><label for=\"sk-estimator-id-5\" class=\"sk-toggleable__label fitted sk-toggleable__label-arrow\"><div><div>LinearRegression</div></div><div><a class=\"sk-estimator-doc-link fitted\" rel=\"noreferrer\" target=\"_blank\" href=\"https://scikit-learn.org/1.7/modules/generated/sklearn.linear_model.LinearRegression.html\">?<span>Documentation for LinearRegression</span></a><span class=\"sk-estimator-doc-link fitted\">i<span>Fitted</span></span></div></label><div class=\"sk-toggleable__content fitted\" data-param-prefix=\"\">\n",
       "        <div class=\"estimator-table\">\n",
       "            <details>\n",
       "                <summary>Parameters</summary>\n",
       "                <table class=\"parameters-table\">\n",
       "                  <tbody>\n",
       "                    \n",
       "        <tr class=\"default\">\n",
       "            <td><i class=\"copy-paste-icon\"\n",
       "                 onclick=\"copyToClipboard('fit_intercept',\n",
       "                          this.parentElement.nextElementSibling)\"\n",
       "            ></i></td>\n",
       "            <td class=\"param\">fit_intercept&nbsp;</td>\n",
       "            <td class=\"value\">True</td>\n",
       "        </tr>\n",
       "    \n",
       "\n",
       "        <tr class=\"default\">\n",
       "            <td><i class=\"copy-paste-icon\"\n",
       "                 onclick=\"copyToClipboard('copy_X',\n",
       "                          this.parentElement.nextElementSibling)\"\n",
       "            ></i></td>\n",
       "            <td class=\"param\">copy_X&nbsp;</td>\n",
       "            <td class=\"value\">True</td>\n",
       "        </tr>\n",
       "    \n",
       "\n",
       "        <tr class=\"default\">\n",
       "            <td><i class=\"copy-paste-icon\"\n",
       "                 onclick=\"copyToClipboard('tol',\n",
       "                          this.parentElement.nextElementSibling)\"\n",
       "            ></i></td>\n",
       "            <td class=\"param\">tol&nbsp;</td>\n",
       "            <td class=\"value\">1e-06</td>\n",
       "        </tr>\n",
       "    \n",
       "\n",
       "        <tr class=\"default\">\n",
       "            <td><i class=\"copy-paste-icon\"\n",
       "                 onclick=\"copyToClipboard('n_jobs',\n",
       "                          this.parentElement.nextElementSibling)\"\n",
       "            ></i></td>\n",
       "            <td class=\"param\">n_jobs&nbsp;</td>\n",
       "            <td class=\"value\">None</td>\n",
       "        </tr>\n",
       "    \n",
       "\n",
       "        <tr class=\"default\">\n",
       "            <td><i class=\"copy-paste-icon\"\n",
       "                 onclick=\"copyToClipboard('positive',\n",
       "                          this.parentElement.nextElementSibling)\"\n",
       "            ></i></td>\n",
       "            <td class=\"param\">positive&nbsp;</td>\n",
       "            <td class=\"value\">False</td>\n",
       "        </tr>\n",
       "    \n",
       "                  </tbody>\n",
       "                </table>\n",
       "            </details>\n",
       "        </div>\n",
       "    </div></div></div></div></div><script>function copyToClipboard(text, element) {\n",
       "    // Get the parameter prefix from the closest toggleable content\n",
       "    const toggleableContent = element.closest('.sk-toggleable__content');\n",
       "    const paramPrefix = toggleableContent ? toggleableContent.dataset.paramPrefix : '';\n",
       "    const fullParamName = paramPrefix ? `${paramPrefix}${text}` : text;\n",
       "\n",
       "    const originalStyle = element.style;\n",
       "    const computedStyle = window.getComputedStyle(element);\n",
       "    const originalWidth = computedStyle.width;\n",
       "    const originalHTML = element.innerHTML.replace('Copied!', '');\n",
       "\n",
       "    navigator.clipboard.writeText(fullParamName)\n",
       "        .then(() => {\n",
       "            element.style.width = originalWidth;\n",
       "            element.style.color = 'green';\n",
       "            element.innerHTML = \"Copied!\";\n",
       "\n",
       "            setTimeout(() => {\n",
       "                element.innerHTML = originalHTML;\n",
       "                element.style = originalStyle;\n",
       "            }, 2000);\n",
       "        })\n",
       "        .catch(err => {\n",
       "            console.error('Failed to copy:', err);\n",
       "            element.style.color = 'red';\n",
       "            element.innerHTML = \"Failed!\";\n",
       "            setTimeout(() => {\n",
       "                element.innerHTML = originalHTML;\n",
       "                element.style = originalStyle;\n",
       "            }, 2000);\n",
       "        });\n",
       "    return false;\n",
       "}\n",
       "\n",
       "document.querySelectorAll('.fa-regular.fa-copy').forEach(function(element) {\n",
       "    const toggleableContent = element.closest('.sk-toggleable__content');\n",
       "    const paramPrefix = toggleableContent ? toggleableContent.dataset.paramPrefix : '';\n",
       "    const paramName = element.parentElement.nextElementSibling.textContent.trim();\n",
       "    const fullParamName = paramPrefix ? `${paramPrefix}${paramName}` : paramName;\n",
       "\n",
       "    element.setAttribute('title', fullParamName);\n",
       "});\n",
       "</script></body>"
      ],
      "text/plain": [
       "LinearRegression()"
      ]
     },
     "execution_count": 97,
     "metadata": {},
     "output_type": "execute_result"
    }
   ],
   "source": [
    "linear_model.fit(X=X_train,y=y_train)   # Training the model"
   ]
  },
  {
   "cell_type": "code",
   "execution_count": null,
   "id": "f182539e",
   "metadata": {},
   "outputs": [
    {
     "data": {
      "text/plain": [
       "array([169151.87330223, 106064.44707446, 133101.91545779, 106064.44707446,\n",
       "       124089.42599668])"
      ]
     },
     "execution_count": 98,
     "metadata": {},
     "output_type": "execute_result"
    }
   ],
   "source": [
    "y_predicted = linear_model.predict(X_train) # Made predictions using the model\n",
    "y_predicted[:5]"
   ]
  },
  {
   "cell_type": "markdown",
   "id": "02c78337",
   "metadata": {},
   "source": [
    "<p style=\"color:orange; font-size:20px\">Evaluating the trained model</p>"
   ]
  },
  {
   "cell_type": "code",
   "execution_count": 99,
   "id": "dd6de9b2",
   "metadata": {},
   "outputs": [
    {
     "name": "stdout",
     "output_type": "stream",
     "text": [
      "Training MAE: 31248.26\n"
     ]
    }
   ],
   "source": [
    "mae_training = mean_absolute_error(y_true=y_train,y_pred=y_predicted)\n",
    "print(\"Training MAE:\", round(mae_training,2))"
   ]
  },
  {
   "cell_type": "markdown",
   "id": "a1e68beb",
   "metadata": {},
   "source": [
    "#### Analysis on prediction and using prediction\n",
    "When we say price as a function of Area, we can describe it as -\n",
    "\n",
    "- y - mx+b\n",
    "-   where y = Price\n",
    "    -   x = area\n",
    "    -   m = coefficient of this x/Slope of the line\n",
    "    -   b = y-intercept"
   ]
  },
  {
   "cell_type": "code",
   "execution_count": 104,
   "id": "5eb081cd",
   "metadata": {},
   "outputs": [
    {
     "name": "stdout",
     "output_type": "stream",
     "text": [
      "11433.31\n",
      "Our coefficient is 2253.12 and intercept is 11433.31.\n"
     ]
    }
   ],
   "source": [
    "intercept = round(linear_model.intercept_,2)\n",
    "print(intercept)\n",
    "coefficient = round(linear_model.coef_[0],2)\n",
    "print(f\"Our coefficient is {coefficient} and intercept is {intercept}.\")"
   ]
  },
  {
   "cell_type": "code",
   "execution_count": 113,
   "id": "b5ee163a",
   "metadata": {},
   "outputs": [
    {
     "name": "stdout",
     "output_type": "stream",
     "text": [
      "apt_price = 11433.31 + 2253.12 * surface_covered\n"
     ]
    }
   ],
   "source": [
    "print(f\"apt_price = {intercept} + {coefficient} * surface_covered\")"
   ]
  },
  {
   "cell_type": "code",
   "execution_count": 124,
   "id": "efd79e0b",
   "metadata": {},
   "outputs": [
    {
     "data": {
      "image/png": "[encoded data removed]",
      "text/plain": [
       "<Figure size 640x480 with 1 Axes>"
      ]
     },
     "metadata": {},
     "output_type": "display_data"
    }
   ],
   "source": [
    "fig, ax = plt.subplots()\n",
    "ax.scatter(X_train,y_train, label=\"Actual Price\")\n",
    "ax.plot(X_train,y_predicted, label=\"Prediction line\", color=\"orange\", linewidth=5)\n",
    "# ax.scatter(X_train,y_predicted, label=\"Prediction line\", color=\"orange\") This will also work\n",
    "ax = input_for_matplotlib(ax)\n",
    "ax.legend()\n",
    "plt.show()"
   ]
  }
 ],
 "metadata": {
  "kernelspec": {
   "display_name": "applied_data_science_lab",
   "language": "python",
   "name": "python3"
  },
  "language_info": {
   "codemirror_mode": {
    "name": "ipython",
    "version": 3
   },
   "file_extension": ".py",
   "mimetype": "text/x-python",
   "name": "python",
   "nbconvert_exporter": "python",
   "pygments_lexer": "ipython3",
   "version": "3.13.2"
  }
 },
 "nbformat": 4,
 "nbformat_minor": 5
}
