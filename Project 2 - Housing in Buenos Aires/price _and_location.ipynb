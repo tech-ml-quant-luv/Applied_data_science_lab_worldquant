{
 "cells": [
  {
   "cell_type": "markdown",
   "id": "487812e5",
   "metadata": {},
   "source": [
    "#### URLs"
   ]
  },
  {
   "cell_type": "markdown",
   "id": "56626171",
   "metadata": {},
   "source": [
    "<table border=\"1\" class=\"dataframe\">\n",
    "  <thead>\n",
    "    <tr style=\"text-align: right;\">\n",
    "      <th></th>\n",
    "      <th>url</th>\n",
    "      <th>checkbox</th>\n",
    "    </tr>\n",
    "  </thead>\n",
    "  <tbody>\n",
    "    <tr>\n",
    "      <th>12</th>\n",
    "      <td><a href=\"https://player.vimeo.com/video/656748659?h=fdaa8d0329\">https://player.vimeo.com/video/656748659?h=fdaa8d0329</a></td>\n",
    "      <td><input type=\"checkbox\"></td>\n",
    "    </tr>\n",
    "    <tr>\n",
    "      <th>13</th>\n",
    "      <td><a href=\"https://player.vimeo.com/video/656748527?h=d76e63760c\">https://player.vimeo.com/video/656748527?h=d76e63760c</a></td>\n",
    "      <td><input type=\"checkbox\"></td>\n",
    "    </tr>\n",
    "    <tr>\n",
    "      <th>14</th>\n",
    "      <td><a href=\"https://player.vimeo.com/video/656748360?h=50b4643a26\">https://player.vimeo.com/video/656748360?h=50b4643a26</a></td>\n",
    "      <td><input type=\"checkbox\"></td>\n",
    "    </tr>\n",
    "    <tr>\n",
    "      <th>15</th>\n",
    "      <td><a href=\"https://player.vimeo.com/video/656748234?h=59ba7958d5\">https://player.vimeo.com/video/656748234?h=59ba7958d5</a></td>\n",
    "      <td><input type=\"checkbox\"></td>\n",
    "    </tr>\n",
    "    <tr>\n",
    "      <th>16</th>\n",
    "      <td><a href=\"https://player.vimeo.com/video/656748155?h=5672ef44cb\">https://player.vimeo.com/video/656748155?h=5672ef44cb</a></td>\n",
    "      <td><input type=\"checkbox\"></td>\n",
    "    </tr>\n",
    "    <tr>\n",
    "      <th>17</th>\n",
    "      <td><a href=\"https://player.vimeo.com/video/656748205?h=13144556a6\">https://player.vimeo.com/video/656748205?h=13144556a6</a></td>\n",
    "      <td><input type=\"checkbox\"></td>\n",
    "    </tr>\n",
    "    <tr>\n",
    "      <th>18</th>\n",
    "      <td><a href=\"https://player.vimeo.com/video/656747630?h=b90db6b373\">https://player.vimeo.com/video/656747630?h=b90db6b373</a></td>\n",
    "      <td><input type=\"checkbox\"></td>\n",
    "    </tr>\n",
    "    <tr>\n",
    "      <th>19</th>\n",
    "      <td><a href=\"https://player.vimeo.com/video/656746928?h=71bfe94764\">https://player.vimeo.com/video/656746928?h=71bfe94764</a></td>\n",
    "      <td><input type=\"checkbox\"></td>\n",
    "    </tr>\n",
    "  </tbody>\n",
    "</table>"
   ]
  },
  {
   "cell_type": "code",
   "execution_count": 123,
   "id": "fddecfcb",
   "metadata": {},
   "outputs": [],
   "source": [
    "import warnings\n",
    "\n",
    "import numpy as np\n",
    "import pandas as pd\n",
    "import plotly.express as px\n",
    "import plotly.graph_objects as go\n",
    "from sklearn.impute import SimpleImputer\n",
    "from sklearn.linear_model import LinearRegression\n",
    "from sklearn.metrics import mean_absolute_error\n",
    "from sklearn.pipeline import Pipeline, make_pipeline\n",
    "from sklearn.utils.validation import check_is_fitted\n",
    "from data_wrangling_pipeline import wrangle, input_for_matplotlib\n",
    "\n",
    "warnings.simplefilter(action=\"ignore\", category=FutureWarning)"
   ]
  },
  {
   "cell_type": "markdown",
   "id": "a4acefe1",
   "metadata": {},
   "source": [
    "#### Data Wrangling"
   ]
  },
  {
   "cell_type": "code",
   "execution_count": 124,
   "id": "e404b751",
   "metadata": {},
   "outputs": [
    {
     "name": "stdout",
     "output_type": "stream",
     "text": [
      "<class 'pandas.core.frame.DataFrame'>\n",
      "Index: 1476 entries, 0 to 8604\n",
      "Data columns (total 17 columns):\n",
      " #   Column                      Non-Null Count  Dtype  \n",
      "---  ------                      --------------  -----  \n",
      " 0   operation                   1476 non-null   object \n",
      " 1   property_type               1476 non-null   object \n",
      " 2   place_with_parent_names     1476 non-null   object \n",
      " 3   price                       1476 non-null   float64\n",
      " 4   currency                    1476 non-null   object \n",
      " 5   price_aprox_local_currency  1476 non-null   float64\n",
      " 6   price_aprox_usd             1476 non-null   float64\n",
      " 7   surface_total_in_m2         1066 non-null   float64\n",
      " 8   surface_covered_in_m2       1476 non-null   float64\n",
      " 9   price_usd_per_m2            1026 non-null   float64\n",
      " 10  price_per_m2                1476 non-null   float64\n",
      " 11  floor                       418 non-null    float64\n",
      " 12  rooms                       1191 non-null   float64\n",
      " 13  expenses                    384 non-null    object \n",
      " 14  properati_url               1476 non-null   object \n",
      " 15  lat                         1427 non-null   float64\n",
      " 16  lon                         1427 non-null   float64\n",
      "dtypes: float64(11), object(6)\n",
      "memory usage: 207.6+ KB\n",
      "None\n"
     ]
    },
    {
     "data": {
      "application/vnd.microsoft.datawrangler.viewer.v0+json": {
       "columns": [
        {
         "name": "index",
         "rawType": "int64",
         "type": "integer"
        },
        {
         "name": "operation",
         "rawType": "object",
         "type": "string"
        },
        {
         "name": "property_type",
         "rawType": "object",
         "type": "string"
        },
        {
         "name": "place_with_parent_names",
         "rawType": "object",
         "type": "string"
        },
        {
         "name": "price",
         "rawType": "float64",
         "type": "float"
        },
        {
         "name": "currency",
         "rawType": "object",
         "type": "string"
        },
        {
         "name": "price_aprox_local_currency",
         "rawType": "float64",
         "type": "float"
        },
        {
         "name": "price_aprox_usd",
         "rawType": "float64",
         "type": "float"
        },
        {
         "name": "surface_total_in_m2",
         "rawType": "float64",
         "type": "float"
        },
        {
         "name": "surface_covered_in_m2",
         "rawType": "float64",
         "type": "float"
        },
        {
         "name": "price_usd_per_m2",
         "rawType": "float64",
         "type": "float"
        },
        {
         "name": "price_per_m2",
         "rawType": "float64",
         "type": "float"
        },
        {
         "name": "floor",
         "rawType": "float64",
         "type": "float"
        },
        {
         "name": "rooms",
         "rawType": "float64",
         "type": "float"
        },
        {
         "name": "expenses",
         "rawType": "object",
         "type": "unknown"
        },
        {
         "name": "properati_url",
         "rawType": "object",
         "type": "string"
        },
        {
         "name": "lat",
         "rawType": "float64",
         "type": "float"
        },
        {
         "name": "lon",
         "rawType": "float64",
         "type": "float"
        }
       ],
       "ref": "2b5efc2e-07ab-42cd-891a-bbad4a078707",
       "rows": [
        [
         "0",
         "sell",
         "apartment",
         "|Argentina|Capital Federal|Villa Crespo|",
         "180000.0",
         "USD",
         "2729232.0",
         "180000.0",
         "120.0",
         "110.0",
         "1500.0",
         "1636.3636363636365",
         null,
         "4.0",
         null,
         "http://villa-crespo.properati.com.ar/12egq_venta_departamentos_villa-crespo_justo-juan-b-av-_4018_balcon_lavadero_luminoso_dependencias_estudio-lca",
         "-34.6047834183",
         "-58.4586812499"
        ],
        [
         "4",
         "sell",
         "apartment",
         "|Argentina|Capital Federal|Chacarita|",
         "129000.0",
         "USD",
         "1955949.6",
         "129000.0",
         "76.0",
         "70.0",
         "1697.3684210526317",
         "1842.857142857143",
         null,
         null,
         null,
         "http://chacarita.properati.com.ar/10qlv_venta_departamentos_chacarita_balcon_lavadero_toilette_placard_losa-radiante_barrera-y-asociados",
         "-34.5846508988",
         "-58.4546932614"
        ],
        [
         "9",
         "sell",
         "apartment",
         "|Argentina|Capital Federal|Villa Luro|",
         "87000.0",
         "USD",
         "1319128.8",
         "87000.0",
         "48.0",
         "42.0",
         "1812.5",
         "2071.428571428572",
         null,
         null,
         null,
         "http://villa-luro.properati.com.ar/12m82_venta_departamentos_villa-luro_balcon_parrilla_patio_garage_aire-acondicionado_inmobiliaria-calot",
         "-34.6389789",
         "-58.500115"
        ],
        [
         "11",
         "sell",
         "apartment",
         "|Argentina|Capital Federal|Once|",
         "60000.0",
         "USD",
         "909744.0",
         "60000.0",
         "28.0",
         "28.0",
         "2142.8571428571427",
         "2142.8571428571427",
         null,
         "1.0",
         null,
         "http://once.properati.com.ar/zz0q_venta_departamentos_once_luminoso_placard_ferrari-propiedades_cv8",
         "-34.6050060697",
         "-58.4001162302"
        ],
        [
         "29",
         "sell",
         "apartment",
         "|Argentina|Capital Federal|Caballito|",
         "118000.0",
         "USD",
         "1789163.2",
         "118000.0",
         null,
         "54.0",
         null,
         "2185.185185185185",
         null,
         "2.0",
         null,
         "http://caballito.properati.com.ar/11wqh_venta_departamentos_caballito_balcon_jardin_garage_placard_losa-radiante_re-max-vanguard",
         "-34.615847",
         "-58.459957"
        ]
       ],
       "shape": {
        "columns": 17,
        "rows": 5
       }
      },
      "text/html": [
       "<div>\n",
       "<style scoped>\n",
       "    .dataframe tbody tr th:only-of-type {\n",
       "        vertical-align: middle;\n",
       "    }\n",
       "\n",
       "    .dataframe tbody tr th {\n",
       "        vertical-align: top;\n",
       "    }\n",
       "\n",
       "    .dataframe thead th {\n",
       "        text-align: right;\n",
       "    }\n",
       "</style>\n",
       "<table border=\"1\" class=\"dataframe\">\n",
       "  <thead>\n",
       "    <tr style=\"text-align: right;\">\n",
       "      <th></th>\n",
       "      <th>operation</th>\n",
       "      <th>property_type</th>\n",
       "      <th>place_with_parent_names</th>\n",
       "      <th>price</th>\n",
       "      <th>currency</th>\n",
       "      <th>price_aprox_local_currency</th>\n",
       "      <th>price_aprox_usd</th>\n",
       "      <th>surface_total_in_m2</th>\n",
       "      <th>surface_covered_in_m2</th>\n",
       "      <th>price_usd_per_m2</th>\n",
       "      <th>price_per_m2</th>\n",
       "      <th>floor</th>\n",
       "      <th>rooms</th>\n",
       "      <th>expenses</th>\n",
       "      <th>properati_url</th>\n",
       "      <th>lat</th>\n",
       "      <th>lon</th>\n",
       "    </tr>\n",
       "  </thead>\n",
       "  <tbody>\n",
       "    <tr>\n",
       "      <th>0</th>\n",
       "      <td>sell</td>\n",
       "      <td>apartment</td>\n",
       "      <td>|Argentina|Capital Federal|Villa Crespo|</td>\n",
       "      <td>180000.0</td>\n",
       "      <td>USD</td>\n",
       "      <td>2729232.0</td>\n",
       "      <td>180000.0</td>\n",
       "      <td>120.0</td>\n",
       "      <td>110.0</td>\n",
       "      <td>1500.000000</td>\n",
       "      <td>1636.363636</td>\n",
       "      <td>NaN</td>\n",
       "      <td>4.0</td>\n",
       "      <td>NaN</td>\n",
       "      <td>http://villa-crespo.properati.com.ar/12egq_ven...</td>\n",
       "      <td>-34.604783</td>\n",
       "      <td>-58.458681</td>\n",
       "    </tr>\n",
       "    <tr>\n",
       "      <th>4</th>\n",
       "      <td>sell</td>\n",
       "      <td>apartment</td>\n",
       "      <td>|Argentina|Capital Federal|Chacarita|</td>\n",
       "      <td>129000.0</td>\n",
       "      <td>USD</td>\n",
       "      <td>1955949.6</td>\n",
       "      <td>129000.0</td>\n",
       "      <td>76.0</td>\n",
       "      <td>70.0</td>\n",
       "      <td>1697.368421</td>\n",
       "      <td>1842.857143</td>\n",
       "      <td>NaN</td>\n",
       "      <td>NaN</td>\n",
       "      <td>NaN</td>\n",
       "      <td>http://chacarita.properati.com.ar/10qlv_venta_...</td>\n",
       "      <td>-34.584651</td>\n",
       "      <td>-58.454693</td>\n",
       "    </tr>\n",
       "    <tr>\n",
       "      <th>9</th>\n",
       "      <td>sell</td>\n",
       "      <td>apartment</td>\n",
       "      <td>|Argentina|Capital Federal|Villa Luro|</td>\n",
       "      <td>87000.0</td>\n",
       "      <td>USD</td>\n",
       "      <td>1319128.8</td>\n",
       "      <td>87000.0</td>\n",
       "      <td>48.0</td>\n",
       "      <td>42.0</td>\n",
       "      <td>1812.500000</td>\n",
       "      <td>2071.428571</td>\n",
       "      <td>NaN</td>\n",
       "      <td>NaN</td>\n",
       "      <td>NaN</td>\n",
       "      <td>http://villa-luro.properati.com.ar/12m82_venta...</td>\n",
       "      <td>-34.638979</td>\n",
       "      <td>-58.500115</td>\n",
       "    </tr>\n",
       "    <tr>\n",
       "      <th>11</th>\n",
       "      <td>sell</td>\n",
       "      <td>apartment</td>\n",
       "      <td>|Argentina|Capital Federal|Once|</td>\n",
       "      <td>60000.0</td>\n",
       "      <td>USD</td>\n",
       "      <td>909744.0</td>\n",
       "      <td>60000.0</td>\n",
       "      <td>28.0</td>\n",
       "      <td>28.0</td>\n",
       "      <td>2142.857143</td>\n",
       "      <td>2142.857143</td>\n",
       "      <td>NaN</td>\n",
       "      <td>1.0</td>\n",
       "      <td>NaN</td>\n",
       "      <td>http://once.properati.com.ar/zz0q_venta_depart...</td>\n",
       "      <td>-34.605006</td>\n",
       "      <td>-58.400116</td>\n",
       "    </tr>\n",
       "    <tr>\n",
       "      <th>29</th>\n",
       "      <td>sell</td>\n",
       "      <td>apartment</td>\n",
       "      <td>|Argentina|Capital Federal|Caballito|</td>\n",
       "      <td>118000.0</td>\n",
       "      <td>USD</td>\n",
       "      <td>1789163.2</td>\n",
       "      <td>118000.0</td>\n",
       "      <td>NaN</td>\n",
       "      <td>54.0</td>\n",
       "      <td>NaN</td>\n",
       "      <td>2185.185185</td>\n",
       "      <td>NaN</td>\n",
       "      <td>2.0</td>\n",
       "      <td>NaN</td>\n",
       "      <td>http://caballito.properati.com.ar/11wqh_venta_...</td>\n",
       "      <td>-34.615847</td>\n",
       "      <td>-58.459957</td>\n",
       "    </tr>\n",
       "  </tbody>\n",
       "</table>\n",
       "</div>"
      ],
      "text/plain": [
       "   operation property_type                   place_with_parent_names  \\\n",
       "0       sell     apartment  |Argentina|Capital Federal|Villa Crespo|   \n",
       "4       sell     apartment     |Argentina|Capital Federal|Chacarita|   \n",
       "9       sell     apartment    |Argentina|Capital Federal|Villa Luro|   \n",
       "11      sell     apartment          |Argentina|Capital Federal|Once|   \n",
       "29      sell     apartment     |Argentina|Capital Federal|Caballito|   \n",
       "\n",
       "       price currency  price_aprox_local_currency  price_aprox_usd  \\\n",
       "0   180000.0      USD                   2729232.0         180000.0   \n",
       "4   129000.0      USD                   1955949.6         129000.0   \n",
       "9    87000.0      USD                   1319128.8          87000.0   \n",
       "11   60000.0      USD                    909744.0          60000.0   \n",
       "29  118000.0      USD                   1789163.2         118000.0   \n",
       "\n",
       "    surface_total_in_m2  surface_covered_in_m2  price_usd_per_m2  \\\n",
       "0                 120.0                  110.0       1500.000000   \n",
       "4                  76.0                   70.0       1697.368421   \n",
       "9                  48.0                   42.0       1812.500000   \n",
       "11                 28.0                   28.0       2142.857143   \n",
       "29                  NaN                   54.0               NaN   \n",
       "\n",
       "    price_per_m2  floor  rooms expenses  \\\n",
       "0    1636.363636    NaN    4.0      NaN   \n",
       "4    1842.857143    NaN    NaN      NaN   \n",
       "9    2071.428571    NaN    NaN      NaN   \n",
       "11   2142.857143    NaN    1.0      NaN   \n",
       "29   2185.185185    NaN    2.0      NaN   \n",
       "\n",
       "                                        properati_url        lat        lon  \n",
       "0   http://villa-crespo.properati.com.ar/12egq_ven... -34.604783 -58.458681  \n",
       "4   http://chacarita.properati.com.ar/10qlv_venta_... -34.584651 -58.454693  \n",
       "9   http://villa-luro.properati.com.ar/12m82_venta... -34.638979 -58.500115  \n",
       "11  http://once.properati.com.ar/zz0q_venta_depart... -34.605006 -58.400116  \n",
       "29  http://caballito.properati.com.ar/11wqh_venta_... -34.615847 -58.459957  "
      ]
     },
     "execution_count": 124,
     "metadata": {},
     "output_type": "execute_result"
    }
   ],
   "source": [
    "frame1=wrangle(filepath=\"./data/buenos-aires-real-estate-1.csv\")\n",
    "print(frame1.info())\n",
    "frame1.head()"
   ]
  },
  {
   "cell_type": "markdown",
   "id": "c346a66e",
   "metadata": {},
   "source": [
    "<p style=\"color:orange\">Importing the next CSV file</p>"
   ]
  },
  {
   "cell_type": "code",
   "execution_count": 125,
   "id": "430d870f",
   "metadata": {},
   "outputs": [
    {
     "name": "stdout",
     "output_type": "stream",
     "text": [
      "<class 'pandas.core.frame.DataFrame'>\n",
      "Index: 1474 entries, 2 to 8585\n",
      "Data columns (total 17 columns):\n",
      " #   Column                      Non-Null Count  Dtype  \n",
      "---  ------                      --------------  -----  \n",
      " 0   operation                   1474 non-null   object \n",
      " 1   property_type               1474 non-null   object \n",
      " 2   place_with_parent_names     1474 non-null   object \n",
      " 3   price                       1474 non-null   float64\n",
      " 4   currency                    1474 non-null   object \n",
      " 5   price_aprox_local_currency  1474 non-null   float64\n",
      " 6   price_aprox_usd             1474 non-null   float64\n",
      " 7   surface_total_in_m2         1051 non-null   float64\n",
      " 8   surface_covered_in_m2       1474 non-null   float64\n",
      " 9   price_usd_per_m2            1003 non-null   float64\n",
      " 10  price_per_m2                1474 non-null   float64\n",
      " 11  floor                       449 non-null    float64\n",
      " 12  rooms                       1184 non-null   float64\n",
      " 13  expenses                    387 non-null    float64\n",
      " 14  properati_url               1474 non-null   object \n",
      " 15  lat                         1410 non-null   float64\n",
      " 16  lon                         1410 non-null   float64\n",
      "dtypes: float64(12), object(5)\n",
      "memory usage: 207.3+ KB\n"
     ]
    },
    {
     "data": {
      "application/vnd.microsoft.datawrangler.viewer.v0+json": {
       "columns": [
        {
         "name": "index",
         "rawType": "int64",
         "type": "integer"
        },
        {
         "name": "operation",
         "rawType": "object",
         "type": "string"
        },
        {
         "name": "property_type",
         "rawType": "object",
         "type": "string"
        },
        {
         "name": "place_with_parent_names",
         "rawType": "object",
         "type": "string"
        },
        {
         "name": "price",
         "rawType": "float64",
         "type": "float"
        },
        {
         "name": "currency",
         "rawType": "object",
         "type": "string"
        },
        {
         "name": "price_aprox_local_currency",
         "rawType": "float64",
         "type": "float"
        },
        {
         "name": "price_aprox_usd",
         "rawType": "float64",
         "type": "float"
        },
        {
         "name": "surface_total_in_m2",
         "rawType": "float64",
         "type": "float"
        },
        {
         "name": "surface_covered_in_m2",
         "rawType": "float64",
         "type": "float"
        },
        {
         "name": "price_usd_per_m2",
         "rawType": "float64",
         "type": "float"
        },
        {
         "name": "price_per_m2",
         "rawType": "float64",
         "type": "float"
        },
        {
         "name": "floor",
         "rawType": "float64",
         "type": "float"
        },
        {
         "name": "rooms",
         "rawType": "float64",
         "type": "float"
        },
        {
         "name": "expenses",
         "rawType": "float64",
         "type": "float"
        },
        {
         "name": "properati_url",
         "rawType": "object",
         "type": "string"
        },
        {
         "name": "lat",
         "rawType": "float64",
         "type": "float"
        },
        {
         "name": "lon",
         "rawType": "float64",
         "type": "float"
        }
       ],
       "ref": "b1ddf7f8-cec3-4417-86bc-562a41da5bd5",
       "rows": [
        [
         "2",
         "sell",
         "apartment",
         "|Argentina|Capital Federal|Recoleta|",
         "215000.0",
         "USD",
         "3259916.0",
         "215000.0",
         "40.0",
         "35.0",
         "5375.0",
         "6142.857142857143",
         null,
         "1.0",
         "3500.0",
         "http://recoleta.properati.com.ar/12j4v_venta_departamentos_recoleta_balcon_gimnasio_sum_sauna_garage_placard_aire-acondicionado_subte-linea-d_subte-linea-h_deptos-temporarios",
         "-34.5889927",
         "-58.4001326"
        ],
        [
         "9",
         "sell",
         "apartment",
         "|Argentina|Capital Federal|Recoleta|",
         "341550.0",
         "USD",
         "5178717.72",
         "341550.0",
         null,
         "90.0",
         null,
         "3795.0",
         "8.0",
         "2.0",
         null,
         "http://recoleta.properati.com.ar/100t0_venta_departamentos_capital-federal_avenida-pueyrredon_balcon_baulera_suite_jardin_lavadero_parrilla_piscina_terraza_vestidor_garage_re-max-total-v",
         "-34.5880437",
         "-58.3980657"
        ],
        [
         "12",
         "sell",
         "apartment",
         "|Argentina|Capital Federal|Monserrat|",
         "1386000.0",
         "ARS",
         "1382153.13",
         "91156.62",
         "39.0",
         "33.0",
         "2337.349230769231",
         "42000.0",
         null,
         null,
         null,
         "http://monserrat.properati.com.ar/t05l_venta_departamentos_monserrat",
         "-34.6233199695",
         "-58.3974607122"
        ],
        [
         "13",
         "sell",
         "apartment",
         "|Argentina|Capital Federal|Belgrano|",
         "105000.0",
         "USD",
         "1592052.0",
         "105000.0",
         null,
         "33.0",
         null,
         "3181.818181818182",
         "1.0",
         "1.0",
         null,
         "http://belgrano.properati.com.ar/zsd5_venta_departamentos_belgrano_balcon_luminoso_aire-acondicionado_imprenta",
         "-34.553897",
         "-58.451939"
        ],
        [
         "17",
         "sell",
         "apartment",
         "|Argentina|Capital Federal|Villa del Parque|",
         "89681.0",
         "USD",
         "1359779.19",
         "89681.0",
         "46.0",
         "39.0",
         "1949.5869565217392",
         "2299.5128205128203",
         null,
         "1.0",
         "1500.0",
         "http://villa-del-parque.properati.com.ar/12q2f_venta_departamentos_villa-del-parque_parrilla_piscina_sum_lujoso_amenities_subte-linea-a_le-bleu",
         "-34.6288131",
         "-58.4722301"
        ]
       ],
       "shape": {
        "columns": 17,
        "rows": 5
       }
      },
      "text/html": [
       "<div>\n",
       "<style scoped>\n",
       "    .dataframe tbody tr th:only-of-type {\n",
       "        vertical-align: middle;\n",
       "    }\n",
       "\n",
       "    .dataframe tbody tr th {\n",
       "        vertical-align: top;\n",
       "    }\n",
       "\n",
       "    .dataframe thead th {\n",
       "        text-align: right;\n",
       "    }\n",
       "</style>\n",
       "<table border=\"1\" class=\"dataframe\">\n",
       "  <thead>\n",
       "    <tr style=\"text-align: right;\">\n",
       "      <th></th>\n",
       "      <th>operation</th>\n",
       "      <th>property_type</th>\n",
       "      <th>place_with_parent_names</th>\n",
       "      <th>price</th>\n",
       "      <th>currency</th>\n",
       "      <th>price_aprox_local_currency</th>\n",
       "      <th>price_aprox_usd</th>\n",
       "      <th>surface_total_in_m2</th>\n",
       "      <th>surface_covered_in_m2</th>\n",
       "      <th>price_usd_per_m2</th>\n",
       "      <th>price_per_m2</th>\n",
       "      <th>floor</th>\n",
       "      <th>rooms</th>\n",
       "      <th>expenses</th>\n",
       "      <th>properati_url</th>\n",
       "      <th>lat</th>\n",
       "      <th>lon</th>\n",
       "    </tr>\n",
       "  </thead>\n",
       "  <tbody>\n",
       "    <tr>\n",
       "      <th>2</th>\n",
       "      <td>sell</td>\n",
       "      <td>apartment</td>\n",
       "      <td>|Argentina|Capital Federal|Recoleta|</td>\n",
       "      <td>215000.0</td>\n",
       "      <td>USD</td>\n",
       "      <td>3259916.00</td>\n",
       "      <td>215000.00</td>\n",
       "      <td>40.0</td>\n",
       "      <td>35.0</td>\n",
       "      <td>5375.000000</td>\n",
       "      <td>6142.857143</td>\n",
       "      <td>NaN</td>\n",
       "      <td>1.0</td>\n",
       "      <td>3500.0</td>\n",
       "      <td>http://recoleta.properati.com.ar/12j4v_venta_d...</td>\n",
       "      <td>-34.588993</td>\n",
       "      <td>-58.400133</td>\n",
       "    </tr>\n",
       "    <tr>\n",
       "      <th>9</th>\n",
       "      <td>sell</td>\n",
       "      <td>apartment</td>\n",
       "      <td>|Argentina|Capital Federal|Recoleta|</td>\n",
       "      <td>341550.0</td>\n",
       "      <td>USD</td>\n",
       "      <td>5178717.72</td>\n",
       "      <td>341550.00</td>\n",
       "      <td>NaN</td>\n",
       "      <td>90.0</td>\n",
       "      <td>NaN</td>\n",
       "      <td>3795.000000</td>\n",
       "      <td>8.0</td>\n",
       "      <td>2.0</td>\n",
       "      <td>NaN</td>\n",
       "      <td>http://recoleta.properati.com.ar/100t0_venta_d...</td>\n",
       "      <td>-34.588044</td>\n",
       "      <td>-58.398066</td>\n",
       "    </tr>\n",
       "    <tr>\n",
       "      <th>12</th>\n",
       "      <td>sell</td>\n",
       "      <td>apartment</td>\n",
       "      <td>|Argentina|Capital Federal|Monserrat|</td>\n",
       "      <td>1386000.0</td>\n",
       "      <td>ARS</td>\n",
       "      <td>1382153.13</td>\n",
       "      <td>91156.62</td>\n",
       "      <td>39.0</td>\n",
       "      <td>33.0</td>\n",
       "      <td>2337.349231</td>\n",
       "      <td>42000.000000</td>\n",
       "      <td>NaN</td>\n",
       "      <td>NaN</td>\n",
       "      <td>NaN</td>\n",
       "      <td>http://monserrat.properati.com.ar/t05l_venta_d...</td>\n",
       "      <td>-34.623320</td>\n",
       "      <td>-58.397461</td>\n",
       "    </tr>\n",
       "    <tr>\n",
       "      <th>13</th>\n",
       "      <td>sell</td>\n",
       "      <td>apartment</td>\n",
       "      <td>|Argentina|Capital Federal|Belgrano|</td>\n",
       "      <td>105000.0</td>\n",
       "      <td>USD</td>\n",
       "      <td>1592052.00</td>\n",
       "      <td>105000.00</td>\n",
       "      <td>NaN</td>\n",
       "      <td>33.0</td>\n",
       "      <td>NaN</td>\n",
       "      <td>3181.818182</td>\n",
       "      <td>1.0</td>\n",
       "      <td>1.0</td>\n",
       "      <td>NaN</td>\n",
       "      <td>http://belgrano.properati.com.ar/zsd5_venta_de...</td>\n",
       "      <td>-34.553897</td>\n",
       "      <td>-58.451939</td>\n",
       "    </tr>\n",
       "    <tr>\n",
       "      <th>17</th>\n",
       "      <td>sell</td>\n",
       "      <td>apartment</td>\n",
       "      <td>|Argentina|Capital Federal|Villa del Parque|</td>\n",
       "      <td>89681.0</td>\n",
       "      <td>USD</td>\n",
       "      <td>1359779.19</td>\n",
       "      <td>89681.00</td>\n",
       "      <td>46.0</td>\n",
       "      <td>39.0</td>\n",
       "      <td>1949.586957</td>\n",
       "      <td>2299.512821</td>\n",
       "      <td>NaN</td>\n",
       "      <td>1.0</td>\n",
       "      <td>1500.0</td>\n",
       "      <td>http://villa-del-parque.properati.com.ar/12q2f...</td>\n",
       "      <td>-34.628813</td>\n",
       "      <td>-58.472230</td>\n",
       "    </tr>\n",
       "  </tbody>\n",
       "</table>\n",
       "</div>"
      ],
      "text/plain": [
       "   operation property_type                       place_with_parent_names  \\\n",
       "2       sell     apartment          |Argentina|Capital Federal|Recoleta|   \n",
       "9       sell     apartment          |Argentina|Capital Federal|Recoleta|   \n",
       "12      sell     apartment         |Argentina|Capital Federal|Monserrat|   \n",
       "13      sell     apartment          |Argentina|Capital Federal|Belgrano|   \n",
       "17      sell     apartment  |Argentina|Capital Federal|Villa del Parque|   \n",
       "\n",
       "        price currency  price_aprox_local_currency  price_aprox_usd  \\\n",
       "2    215000.0      USD                  3259916.00        215000.00   \n",
       "9    341550.0      USD                  5178717.72        341550.00   \n",
       "12  1386000.0      ARS                  1382153.13         91156.62   \n",
       "13   105000.0      USD                  1592052.00        105000.00   \n",
       "17    89681.0      USD                  1359779.19         89681.00   \n",
       "\n",
       "    surface_total_in_m2  surface_covered_in_m2  price_usd_per_m2  \\\n",
       "2                  40.0                   35.0       5375.000000   \n",
       "9                   NaN                   90.0               NaN   \n",
       "12                 39.0                   33.0       2337.349231   \n",
       "13                  NaN                   33.0               NaN   \n",
       "17                 46.0                   39.0       1949.586957   \n",
       "\n",
       "    price_per_m2  floor  rooms  expenses  \\\n",
       "2    6142.857143    NaN    1.0    3500.0   \n",
       "9    3795.000000    8.0    2.0       NaN   \n",
       "12  42000.000000    NaN    NaN       NaN   \n",
       "13   3181.818182    1.0    1.0       NaN   \n",
       "17   2299.512821    NaN    1.0    1500.0   \n",
       "\n",
       "                                        properati_url        lat        lon  \n",
       "2   http://recoleta.properati.com.ar/12j4v_venta_d... -34.588993 -58.400133  \n",
       "9   http://recoleta.properati.com.ar/100t0_venta_d... -34.588044 -58.398066  \n",
       "12  http://monserrat.properati.com.ar/t05l_venta_d... -34.623320 -58.397461  \n",
       "13  http://belgrano.properati.com.ar/zsd5_venta_de... -34.553897 -58.451939  \n",
       "17  http://villa-del-parque.properati.com.ar/12q2f... -34.628813 -58.472230  "
      ]
     },
     "execution_count": 125,
     "metadata": {},
     "output_type": "execute_result"
    }
   ],
   "source": [
    "frame2 = wrangle(\"./data/buenos-aires-real-estate-2.csv\")\n",
    "frame2.info()\n",
    "frame2.head()"
   ]
  },
  {
   "cell_type": "code",
   "execution_count": 126,
   "id": "035b8e35",
   "metadata": {},
   "outputs": [],
   "source": [
    "df = pd.concat([frame1,frame2], ignore_index=True,axis=0)"
   ]
  },
  {
   "cell_type": "code",
   "execution_count": 127,
   "id": "6d666199",
   "metadata": {},
   "outputs": [
    {
     "data": {
      "application/vnd.microsoft.datawrangler.viewer.v0+json": {
       "columns": [
        {
         "name": "index",
         "rawType": "int64",
         "type": "integer"
        },
        {
         "name": "operation",
         "rawType": "object",
         "type": "string"
        },
        {
         "name": "property_type",
         "rawType": "object",
         "type": "string"
        },
        {
         "name": "place_with_parent_names",
         "rawType": "object",
         "type": "string"
        },
        {
         "name": "price",
         "rawType": "float64",
         "type": "float"
        },
        {
         "name": "currency",
         "rawType": "object",
         "type": "string"
        },
        {
         "name": "price_aprox_local_currency",
         "rawType": "float64",
         "type": "float"
        },
        {
         "name": "price_aprox_usd",
         "rawType": "float64",
         "type": "float"
        },
        {
         "name": "surface_total_in_m2",
         "rawType": "float64",
         "type": "float"
        },
        {
         "name": "surface_covered_in_m2",
         "rawType": "float64",
         "type": "float"
        },
        {
         "name": "price_usd_per_m2",
         "rawType": "float64",
         "type": "float"
        },
        {
         "name": "price_per_m2",
         "rawType": "float64",
         "type": "float"
        },
        {
         "name": "floor",
         "rawType": "float64",
         "type": "float"
        },
        {
         "name": "rooms",
         "rawType": "float64",
         "type": "float"
        },
        {
         "name": "expenses",
         "rawType": "object",
         "type": "unknown"
        },
        {
         "name": "properati_url",
         "rawType": "object",
         "type": "string"
        },
        {
         "name": "lat",
         "rawType": "float64",
         "type": "float"
        },
        {
         "name": "lon",
         "rawType": "float64",
         "type": "float"
        }
       ],
       "ref": "440c34bc-1b4d-427d-bafd-5081a08ddbba",
       "rows": [
        [
         "0",
         "sell",
         "apartment",
         "|Argentina|Capital Federal|Villa Crespo|",
         "180000.0",
         "USD",
         "2729232.0",
         "180000.0",
         "120.0",
         "110.0",
         "1500.0",
         "1636.3636363636365",
         null,
         "4.0",
         null,
         "http://villa-crespo.properati.com.ar/12egq_venta_departamentos_villa-crespo_justo-juan-b-av-_4018_balcon_lavadero_luminoso_dependencias_estudio-lca",
         "-34.6047834183",
         "-58.4586812499"
        ],
        [
         "1",
         "sell",
         "apartment",
         "|Argentina|Capital Federal|Chacarita|",
         "129000.0",
         "USD",
         "1955949.6",
         "129000.0",
         "76.0",
         "70.0",
         "1697.3684210526317",
         "1842.857142857143",
         null,
         null,
         null,
         "http://chacarita.properati.com.ar/10qlv_venta_departamentos_chacarita_balcon_lavadero_toilette_placard_losa-radiante_barrera-y-asociados",
         "-34.5846508988",
         "-58.4546932614"
        ],
        [
         "2",
         "sell",
         "apartment",
         "|Argentina|Capital Federal|Villa Luro|",
         "87000.0",
         "USD",
         "1319128.8",
         "87000.0",
         "48.0",
         "42.0",
         "1812.5",
         "2071.428571428572",
         null,
         null,
         null,
         "http://villa-luro.properati.com.ar/12m82_venta_departamentos_villa-luro_balcon_parrilla_patio_garage_aire-acondicionado_inmobiliaria-calot",
         "-34.6389789",
         "-58.500115"
        ],
        [
         "3",
         "sell",
         "apartment",
         "|Argentina|Capital Federal|Once|",
         "60000.0",
         "USD",
         "909744.0",
         "60000.0",
         "28.0",
         "28.0",
         "2142.8571428571427",
         "2142.8571428571427",
         null,
         "1.0",
         null,
         "http://once.properati.com.ar/zz0q_venta_departamentos_once_luminoso_placard_ferrari-propiedades_cv8",
         "-34.6050060697",
         "-58.4001162302"
        ],
        [
         "4",
         "sell",
         "apartment",
         "|Argentina|Capital Federal|Caballito|",
         "118000.0",
         "USD",
         "1789163.2",
         "118000.0",
         null,
         "54.0",
         null,
         "2185.185185185185",
         null,
         "2.0",
         null,
         "http://caballito.properati.com.ar/11wqh_venta_departamentos_caballito_balcon_jardin_garage_placard_losa-radiante_re-max-vanguard",
         "-34.615847",
         "-58.459957"
        ],
        [
         "5",
         "sell",
         "apartment",
         "|Argentina|Capital Federal|Centro / Microcentro|",
         "78000.0",
         "USD",
         "1182667.2",
         "78000.0",
         null,
         "28.0",
         null,
         "2785.714285714286",
         "3.0",
         "2.0",
         null,
         "http://centro-microcentro.properati.com.ar/118o8_venta_departamentos_capital-federal_reconquista_800_luminoso_re-max-total-iii",
         "-34.5985342536",
         "-58.3727964943"
        ],
        [
         "6",
         "sell",
         "apartment",
         "|Argentina|Capital Federal|Constitución|",
         "57000.0",
         "USD",
         "864256.8",
         "57000.0",
         "42.0",
         "42.0",
         "1357.142857142857",
         "1357.142857142857",
         "5.0",
         "2.0",
         "364",
         "http://constitucion.properati.com.ar/k2f0_venta_departamentos_constitucion_lima_1400",
         "-34.6252219",
         "-58.3823825"
        ],
        [
         "7",
         "sell",
         "apartment",
         "|Argentina|Capital Federal|Once|",
         "90000.0",
         "USD",
         "1364616.0",
         "90000.0",
         "57.0",
         "50.0",
         "1578.9473684210527",
         "1800.0",
         null,
         "3.0",
         "450",
         "http://once.properati.com.ar/suwa_venta_departamentos_once_rivadavia-av-_3200",
         "-34.6106102",
         "-58.4125107"
        ],
        [
         "8",
         "sell",
         "apartment",
         "|Argentina|Capital Federal|Almagro|",
         "138000.0",
         "USD",
         "2092411.2",
         "138000.0",
         "74.0",
         "74.0",
         "1864.8648648648648",
         "1864.8648648648648",
         "1.0",
         "3.0",
         "300",
         "http://almagro.properati.com.ar/11w6t_venta_departamentos_almagro_lavadero_luminoso_aire-acondicionado_bertolotti",
         "-34.6038236",
         "-58.4272911"
        ],
        [
         "9",
         "sell",
         "apartment",
         "|Argentina|Capital Federal|Palermo|",
         "114000.0",
         "USD",
         "1728513.6",
         "114000.0",
         null,
         "32.0",
         null,
         "3562.5",
         null,
         "2.0",
         null,
         "http://palermo.properati.com.ar/11vtx_venta_departamentos_palermo_baulera_luminoso_placard_aire-acondicionado_re-max-premium",
         "-34.586103",
         "-58.423963"
        ],
        [
         "10",
         "sell",
         "apartment",
         "|Argentina|Capital Federal|Flores|",
         "82000.0",
         "USD",
         "1243316.8",
         "82000.0",
         "50.0",
         "50.0",
         "1640.0",
         "1640.0",
         null,
         "2.0",
         null,
         "http://flores.properati.com.ar/12w4k_venta_departamentos_flores_balcon_lavadero_placard_subte-linea-a_hanin-propiedades",
         "-34.6265182557",
         "-58.4724630529"
        ],
        [
         "11",
         "sell",
         "apartment",
         "|Argentina|Capital Federal|Belgrano|",
         "166000.0",
         "USD",
         "2516958.4",
         "166000.0",
         "58.0",
         "52.0",
         "2862.0689655172414",
         "3192.3076923076924",
         null,
         "2.0",
         null,
         "http://belgrano.properati.com.ar/12tu6_venta_departamentos_belgrano_suite_parrilla_patio_piscina_toilette_amenities_placard_subte-linea-d_zuker-propiedades_dke",
         "-34.5620844",
         "-58.4566864"
        ],
        [
         "12",
         "sell",
         "apartment",
         "|Argentina|Capital Federal|Liniers|",
         "136500.0",
         "USD",
         "2069667.6",
         "136500.0",
         null,
         "71.0",
         null,
         "1922.5352112676053",
         null,
         "3.0",
         null,
         "http://liniers.properati.com.ar/11xwz_venta_departamentos_liniers_balcon_terraza_vestidor_luminoso_re-max-urbana",
         "-34.648143",
         "-58.524277"
        ],
        [
         "13",
         "sell",
         "apartment",
         "|Argentina|Capital Federal|Villa Crespo|",
         "75000.0",
         "USD",
         "1137180.0",
         "75000.0",
         "40.0",
         "36.0",
         "1875.0",
         "2083.333333333333",
         null,
         "2.0",
         null,
         "http://villa-crespo.properati.com.ar/10auc_venta_departamentos_villa-crespo_luminoso_migliorisi-propiedades_cy0",
         "-34.596715",
         "-58.444045"
        ],
        [
         "14",
         "sell",
         "apartment",
         "|Argentina|Capital Federal|Villa Crespo|",
         "68000.0",
         "USD",
         "1031043.2",
         "68000.0",
         null,
         "37.0",
         null,
         "1837.837837837838",
         null,
         "2.0",
         null,
         "http://villa-crespo.properati.com.ar/yzjo_venta_departamentos_villa-crespo_balcon_lavadero_parrilla_sum_luminoso_lujoso_garage_amenities_aire-acondicionado_estrenar_re-max-vanguard",
         "-34.599722",
         "-58.430668"
        ],
        [
         "15",
         "sell",
         "apartment",
         "|Argentina|Capital Federal|San Cristobal|",
         "80000.0",
         "USD",
         "1212992.0",
         "80000.0",
         "55.0",
         "55.0",
         "1454.5454545454545",
         "1454.5454545454545",
         null,
         "3.0",
         null,
         "http://san-cristobal.properati.com.ar/11de1_venta_departamentos_san-cristobal_luminoso_migliorisi-propiedades_cy1",
         "-34.616182",
         "-58.3926968"
        ],
        [
         "16",
         "sell",
         "apartment",
         "|Argentina|Capital Federal|Almagro|",
         "125000.0",
         "USD",
         "1895300.0",
         "125000.0",
         "74.0",
         "74.0",
         "1689.1891891891892",
         "1689.1891891891892",
         null,
         "4.0",
         null,
         "http://almagro.properati.com.ar/10b76_venta_departamentos_almagro_luminoso_migliorisi-propiedades_cy2",
         "-34.6034659",
         "-58.4159718"
        ],
        [
         "17",
         "sell",
         "apartment",
         "|Argentina|Capital Federal|Congreso|",
         "120000.0",
         "USD",
         "1819488.0",
         "120000.0",
         "74.0",
         "60.0",
         "1621.6216216216217",
         "2000.0",
         "12.0",
         "2.0",
         "850",
         "http://congreso.properati.com.ar/y2s7_venta_departamentos_congreso_balcon_lavadero_terraza_luminoso_placard_buyma-propiedades",
         "-34.6136992",
         "-58.3897597"
        ],
        [
         "18",
         "sell",
         "apartment",
         "|Argentina|Capital Federal|Saavedra|",
         "145000.0",
         "USD",
         "2198548.0",
         "145000.0",
         "68.0",
         "52.0",
         "2132.3529411764707",
         "2788.4615384615386",
         null,
         "2.0",
         null,
         "http://saavedra.properati.com.ar/102lz_venta_departamentos_saavedra_balcon_baulera_jardin_parrilla_piscina_terraza_toilette_vestidor_garage_placard_aire-acondicionado_desarrollista-com",
         "-34.5475074",
         "-58.4842066"
        ],
        [
         "19",
         "sell",
         "apartment",
         "|Argentina|Capital Federal|Balvanera|",
         "95000.0",
         "USD",
         "1440428.0",
         "95000.0",
         "57.0",
         "57.0",
         "1666.6666666666667",
         "1666.6666666666667",
         null,
         "2.0",
         "1230",
         "http://balvanera.properati.com.ar/1049g_venta_departamentos_balvanera_lavadero_patio_placard_goldstein-propiedades-srl_9yp",
         "-34.6087015",
         "-58.4039197"
        ],
        [
         "20",
         "sell",
         "apartment",
         "|Argentina|Capital Federal|Villa Crespo|",
         "155000.0",
         "USD",
         "2350172.0",
         "155000.0",
         "190.0",
         "55.0",
         "815.7894736842105",
         "2818.181818181818",
         null,
         "2.0",
         null,
         "http://villa-crespo.properati.com.ar/10b1o_venta_departamentos_villa-crespo_balcon_terraza_toilette_vestidor_migliorisi-propiedades_cy0",
         "-34.5975665",
         "-58.4410115"
        ],
        [
         "21",
         "sell",
         "apartment",
         "|Argentina|Capital Federal|Belgrano|",
         "300000.0",
         "USD",
         "4548720.0",
         "300000.0",
         "95.0",
         "90.0",
         "3157.894736842105",
         "3333.333333333333",
         null,
         null,
         null,
         "http://belgrano.properati.com.ar/10k1c_venta_departamentos_belgrano_balcon_baulera_lavadero_luminoso_garage_roberto-siconolfi-propiedes",
         "-34.5670929999",
         "-58.4470949374"
        ],
        [
         "22",
         "sell",
         "apartment",
         "|Argentina|Capital Federal|Parque Avellaneda|",
         "95000.0",
         "USD",
         "1440428.0",
         "95000.0",
         "44.0",
         "44.0",
         "2159.090909090909",
         "2159.090909090909",
         null,
         "2.0",
         null,
         "http://parque-avellaneda.properati.com.ar/oda7_venta_departamentos_parque-avellaneda_bruix-av-_4800",
         "-34.645401",
         "-58.4931185"
        ],
        [
         "23",
         "sell",
         "apartment",
         "|Argentina|Capital Federal|Almagro|",
         "82000.0",
         "USD",
         "1243316.8",
         "82000.0",
         "35.0",
         "33.0",
         "2342.8571428571427",
         "2484.848484848485",
         "1.0",
         "1.0",
         "1194",
         "http://almagro.properati.com.ar/t2g1_venta_departamentos_almagro_treinta-y-tres-orientales_500",
         "-34.6198687",
         "-58.4242176"
        ],
        [
         "24",
         "sell",
         "apartment",
         "|Argentina|Capital Federal|Caballito|",
         "129000.0",
         "USD",
         "1955949.6",
         "129000.0",
         null,
         "72.0",
         null,
         "1791.6666666666667",
         "4.0",
         "3.0",
         null,
         "http://caballito.properati.com.ar/10u9l_venta_departamentos_caballito_baulera_lavadero_toilette_luminoso_dependencias_placard_caballito",
         "-34.618545",
         "-58.443838"
        ],
        [
         "25",
         "sell",
         "apartment",
         "|Argentina|Capital Federal|Recoleta|",
         "280000.0",
         "USD",
         "4245472.0",
         "280000.0",
         "104.0",
         "98.0",
         "2692.3076923076924",
         "2857.1428571428573",
         "6.0",
         null,
         "3350",
         "http://recoleta.properati.com.ar/11vqo_venta_departamentos_recoleta_balcon_baulera_lavadero_toilette_luminoso_dependencias_garage_losa-radiante_lepore-propiedades",
         "-34.5933599",
         "-58.4124669"
        ],
        [
         "26",
         "sell",
         "apartment",
         "|Argentina|Capital Federal|San Telmo|",
         "1902884.0",
         "ARS",
         "1897602.56",
         "125151.86",
         "66.0",
         "45.0",
         "1896.240303030303",
         "42286.31111111112",
         null,
         "1.0",
         null,
         "http://san-telmo.properati.com.ar/118di_venta_departamentos_san-telmo_balcon_gimnasio_garage_aire-acondicionado_nucifora-propiedades_crr",
         "-34.620556",
         "-58.371667"
        ],
        [
         "27",
         "sell",
         "apartment",
         "|Argentina|Capital Federal|Nuñez|",
         "1568270.0",
         "ARS",
         "1563917.25",
         "103144.44",
         null,
         "45.0",
         null,
         "34850.444444444445",
         null,
         "2.0",
         null,
         "http://nunez.properati.com.ar/sy08_venta_departamentos_palermo",
         "-34.552129",
         "-58.46838"
        ],
        [
         "28",
         "sell",
         "apartment",
         "|Argentina|Capital Federal|Belgrano|",
         "118885.0",
         "USD",
         "1802581.92",
         "118885.0",
         "40.0",
         "35.0",
         "2972.125",
         "3396.714285714286",
         null,
         "1.0",
         null,
         "http://belgrano.properati.com.ar/11lpi_venta_departamentos_belgrano_suite_gimnasio_hidromasaje_garage_amenities_nucifora-propiedades_crr",
         "-34.5620844",
         "-58.4566864"
        ],
        [
         "29",
         "sell",
         "apartment",
         "|Argentina|Capital Federal|Recoleta|",
         "190000.0",
         "USD",
         "2880856.0",
         "190000.0",
         "60.0",
         "55.0",
         "3166.6666666666665",
         "3454.5454545454545",
         null,
         null,
         null,
         "http://recoleta.properati.com.ar/ea6x_venta_departamento_recoleta",
         "-34.5892291",
         "-58.3909376"
        ],
        [
         "30",
         "sell",
         "apartment",
         "|Argentina|Capital Federal|Caballito|",
         "157000.0",
         "USD",
         "2380496.8",
         "157000.0",
         "78.0",
         "74.0",
         "2012.820512820513",
         "2121.6216216216217",
         null,
         "3.0",
         "1700",
         "http://caballito.properati.com.ar/10hoh_venta_departamentos_caballito_balcon_lavadero_toilette_luminoso_grupo-mega-junin",
         "-34.6206701",
         "-58.4280921"
        ],
        [
         "31",
         "sell",
         "apartment",
         "|Argentina|Capital Federal|Almagro|",
         "119000.0",
         "USD",
         "1804325.6",
         "119000.0",
         "56.0",
         "50.0",
         "2125.0",
         "2380.0",
         null,
         null,
         null,
         "http://almagro.properati.com.ar/10oz7_venta_departamentos_almagro_balcon_lavadero_luminoso_amoblado_amenities_vaira-propiedades",
         "-34.617869",
         "-58.422687"
        ],
        [
         "32",
         "sell",
         "apartment",
         "|Argentina|Capital Federal|Recoleta|",
         "290000.0",
         "USD",
         "4397096.0",
         "290000.0",
         "90.0",
         "82.0",
         "3222.222222222222",
         "3536.5853658536585",
         "2.0",
         "3.0",
         "3600",
         "http://recoleta.properati.com.ar/12ve2_venta_departamentos_recoleta_junin_1000_balcon_baulera_suite_lavadero_toilette_lujoso_placard_aire-acondicionado_subte-linea-d_subte-linea-h_efege-propiedades",
         "-34.5972390007",
         "-58.3975515537"
        ],
        [
         "33",
         "sell",
         "apartment",
         "|Argentina|Capital Federal|Almagro|",
         "149000.0",
         "USD",
         "2259197.6",
         "149000.0",
         "76.0",
         "76.0",
         "1960.5263157894733",
         "1960.5263157894733",
         "10.0",
         "4.0",
         "1100",
         "http://almagro.properati.com.ar/wxfo_venta_departamentos_almagro",
         "-34.6044029",
         "-58.418703"
        ],
        [
         "34",
         "sell",
         "apartment",
         "|Argentina|Capital Federal|Belgrano|",
         "199000.0",
         "USD",
         "3017317.6",
         "199000.0",
         "66.0",
         "63.0",
         "3015.151515151515",
         "3158.7301587301586",
         null,
         "3.0",
         "2500",
         "http://belgrano.properati.com.ar/yt5p_venta_departamentos_belgrano_parrilla_piscina_sum_terraza_toilette_luminoso_garage_amenities_estrenar_meet-invest-re",
         "-34.5628985",
         "-58.4652556"
        ],
        [
         "35",
         "sell",
         "apartment",
         "|Argentina|Capital Federal|Barrio Norte|",
         "283700.0",
         "USD",
         "4301572.88",
         "283700.0",
         "113.0",
         "109.0",
         "2510.619469026549",
         "2602.7522935779816",
         null,
         "1.0",
         "2100",
         "http://barrio-norte.properati.com.ar/10anq_venta_departamentos_barrio-norte_luminoso_lujoso_garage_estrenar_max-plen-soaje-pinto_cxu",
         "-34.5986461",
         "-58.39644"
        ],
        [
         "36",
         "sell",
         "apartment",
         "|Argentina|Capital Federal|Caballito|",
         "74400.0",
         "USD",
         "1128082.56",
         "74400.0",
         "35.0",
         "31.0",
         "2125.714285714286",
         "2400.0",
         null,
         "1.0",
         null,
         "http://caballito.properati.com.ar/10ruk_venta_departamentos_caballito_balcon_lavadero_parrilla_sum_terraza_grupo-g-asociados_cgu",
         "-34.6171601",
         "-58.4566753"
        ],
        [
         "37",
         "sell",
         "apartment",
         "|Argentina|Capital Federal|Almagro|",
         "130000.0",
         "USD",
         "1971112.0",
         "130000.0",
         null,
         "70.0",
         null,
         "1857.142857142857",
         null,
         "3.0",
         null,
         "http://almagro.properati.com.ar/103bn_venta_departamentos_almagro_balcon_lavadero_luminoso_dependencias_re-max-total-v",
         "-34.624943",
         "-58.416152"
        ],
        [
         "38",
         "sell",
         "apartment",
         "|Argentina|Capital Federal|Barrio Norte|",
         "140000.0",
         "USD",
         "2122736.0",
         "140000.0",
         "83.0",
         "83.0",
         "1686.7469879518071",
         "1686.7469879518071",
         "1.0",
         "3.0",
         "1200",
         "http://barrio-norte.properati.com.ar/wk10_venta_departamentos_barrio-norte",
         "-34.5995053",
         "-58.4019575"
        ],
        [
         "39",
         "sell",
         "apartment",
         "|Argentina|Capital Federal|Almagro|",
         "179869.0",
         "USD",
         "2727245.72",
         "179869.0",
         "77.0",
         "71.0",
         "2335.961038961039",
         "2533.3661971830984",
         null,
         "3.0",
         null,
         "http://almagro.properati.com.ar/11c3o_venta_departamentos_almagro_balcon_gimnasio_parrilla_piscina_luminoso_vista_lujoso_garage_amenities_center-propiedades",
         "-34.61098",
         "-58.417856"
        ],
        [
         "40",
         "sell",
         "apartment",
         "|Argentina|Capital Federal|Saavedra|",
         "100537.0",
         "USD",
         "1524382.2",
         "100537.0",
         "52.0",
         "30.0",
         "1933.4038461538464",
         "3351.233333333333",
         null,
         "1.0",
         null,
         "http://saavedra.properati.com.ar/12izs_venta_departamentos_saavedra_baulera_luminoso_garage_le-bleu",
         "-34.5546524",
         "-58.4936437"
        ],
        [
         "41",
         "sell",
         "apartment",
         "|Argentina|Capital Federal|Belgrano|",
         "89000.0",
         "USD",
         "1349453.6",
         "89000.0",
         "0.0",
         "33.0",
         null,
         "2696.969696969697",
         null,
         "1.0",
         null,
         "http://belgrano.properati.com.ar/xdz0_venta_departamentos_belgrano",
         "-34.554535",
         "-58.455713"
        ],
        [
         "42",
         "sell",
         "apartment",
         "|Argentina|Capital Federal|Flores|",
         "80000.0",
         "USD",
         "1212992.0",
         "80000.0",
         "40.0",
         "40.0",
         "2000.0",
         "2000.0",
         "7.0",
         "2.0",
         "1500",
         "http://flores.properati.com.ar/12vhe_venta_departamentos_flores_luminoso_subte-linea-a_the-union-propiedades_8tu",
         "-34.6266557",
         "-58.4562243"
        ],
        [
         "43",
         "sell",
         "apartment",
         "|Argentina|Capital Federal|Parque Centenario|",
         "619000.0",
         "ARS",
         "617281.92",
         "40711.36",
         "37.0",
         "34.0",
         "1100.307027027027",
         "18205.88235294117",
         null,
         null,
         null,
         "http://parque-centenario.properati.com.ar/ebjd_venta_departamento_parque-centenario",
         "-34.6076122891",
         "-58.4401524326"
        ],
        [
         "44",
         "sell",
         "apartment",
         "|Argentina|Capital Federal|Abasto|",
         "84000.0",
         "USD",
         "1273641.6",
         "84000.0",
         "41.0",
         "38.0",
         "2048.7804878048782",
         "2210.5263157894738",
         null,
         "1.0",
         "1000",
         "http://abasto.properati.com.ar/xz6e_venta_departamentos_abasto_luminoso_garage_amoblado_aire-acondicionado_goldstein-propiedades-srl_9yp",
         "-34.603367",
         "-58.4095145"
        ],
        [
         "45",
         "sell",
         "apartment",
         "|Argentina|Capital Federal|Villa Crespo|",
         "110000.0",
         "USD",
         "1667864.0",
         "110000.0",
         "56.0",
         "44.0",
         "1964.2857142857144",
         "2500.0",
         null,
         "2.0",
         "1000",
         "http://villa-crespo.properati.com.ar/rqid_venta_departamentos_villa-crespo_lavalleja_800",
         "-34.5987952",
         "-58.431148"
        ],
        [
         "46",
         "sell",
         "apartment",
         "|Argentina|Capital Federal|Saavedra|",
         "115000.0",
         "USD",
         "1743676.0",
         "115000.0",
         null,
         "67.0",
         null,
         "1716.4179104477612",
         "1.0",
         "2.0",
         null,
         "http://saavedra.properati.com.ar/10oqa_venta_departamentos_saavedra_balcon_patio_sum_terraza_luminoso_lujoso_amenities_placard_estrenar_re-max-vanguard",
         "-34.546801",
         "-58.478304"
        ],
        [
         "47",
         "sell",
         "apartment",
         "|Argentina|Capital Federal|Belgrano|",
         "137500.0",
         "USD",
         "2084830.0",
         "137500.0",
         "55.0",
         "46.0",
         "2500.0",
         "2989.1304347826085",
         "8.0",
         null,
         "1200",
         "http://belgrano.properati.com.ar/sfq7_venta_departamentos_belgrano_roosevelt-franklin-d-_3000",
         "-34.5607997",
         "-58.4661541"
        ],
        [
         "48",
         "sell",
         "apartment",
         "|Argentina|Capital Federal|Centro / Microcentro|",
         "88000.0",
         "USD",
         "1334291.2",
         "88000.0",
         "33.0",
         "33.0",
         "2666.6666666666665",
         "2666.6666666666665",
         "7.0",
         "2.0",
         "1940",
         "http://centro-microcentro.properati.com.ar/zvva_venta_departamentos_centro-microcentro_balcon_baulera_luminoso_kitchinete_amoblado_placard_aire-acondicionado_buyma-propiedades",
         "-34.5990818",
         "-58.3791226"
        ],
        [
         "49",
         "sell",
         "apartment",
         "|Argentina|Capital Federal|Once|",
         "115000.0",
         "USD",
         "1743676.0",
         "115000.0",
         "67.0",
         "65.0",
         "1716.4179104477612",
         "1769.2307692307693",
         null,
         "3.0",
         null,
         "http://once.properati.com.ar/ymp6_venta_departamentos_once_pasteur_100_lavadero_garage_blejman-propiedades_bsl",
         "-34.6085660579",
         "-58.39925557"
        ]
       ],
       "shape": {
        "columns": 17,
        "rows": 2950
       }
      },
      "text/html": [
       "<div>\n",
       "<style scoped>\n",
       "    .dataframe tbody tr th:only-of-type {\n",
       "        vertical-align: middle;\n",
       "    }\n",
       "\n",
       "    .dataframe tbody tr th {\n",
       "        vertical-align: top;\n",
       "    }\n",
       "\n",
       "    .dataframe thead th {\n",
       "        text-align: right;\n",
       "    }\n",
       "</style>\n",
       "<table border=\"1\" class=\"dataframe\">\n",
       "  <thead>\n",
       "    <tr style=\"text-align: right;\">\n",
       "      <th></th>\n",
       "      <th>operation</th>\n",
       "      <th>property_type</th>\n",
       "      <th>place_with_parent_names</th>\n",
       "      <th>price</th>\n",
       "      <th>currency</th>\n",
       "      <th>price_aprox_local_currency</th>\n",
       "      <th>price_aprox_usd</th>\n",
       "      <th>surface_total_in_m2</th>\n",
       "      <th>surface_covered_in_m2</th>\n",
       "      <th>price_usd_per_m2</th>\n",
       "      <th>price_per_m2</th>\n",
       "      <th>floor</th>\n",
       "      <th>rooms</th>\n",
       "      <th>expenses</th>\n",
       "      <th>properati_url</th>\n",
       "      <th>lat</th>\n",
       "      <th>lon</th>\n",
       "    </tr>\n",
       "  </thead>\n",
       "  <tbody>\n",
       "    <tr>\n",
       "      <th>0</th>\n",
       "      <td>sell</td>\n",
       "      <td>apartment</td>\n",
       "      <td>|Argentina|Capital Federal|Villa Crespo|</td>\n",
       "      <td>180000.0</td>\n",
       "      <td>USD</td>\n",
       "      <td>2729232.00</td>\n",
       "      <td>180000.00</td>\n",
       "      <td>120.0</td>\n",
       "      <td>110.0</td>\n",
       "      <td>1500.000000</td>\n",
       "      <td>1636.363636</td>\n",
       "      <td>NaN</td>\n",
       "      <td>4.0</td>\n",
       "      <td>NaN</td>\n",
       "      <td>http://villa-crespo.properati.com.ar/12egq_ven...</td>\n",
       "      <td>-34.604783</td>\n",
       "      <td>-58.458681</td>\n",
       "    </tr>\n",
       "    <tr>\n",
       "      <th>1</th>\n",
       "      <td>sell</td>\n",
       "      <td>apartment</td>\n",
       "      <td>|Argentina|Capital Federal|Chacarita|</td>\n",
       "      <td>129000.0</td>\n",
       "      <td>USD</td>\n",
       "      <td>1955949.60</td>\n",
       "      <td>129000.00</td>\n",
       "      <td>76.0</td>\n",
       "      <td>70.0</td>\n",
       "      <td>1697.368421</td>\n",
       "      <td>1842.857143</td>\n",
       "      <td>NaN</td>\n",
       "      <td>NaN</td>\n",
       "      <td>NaN</td>\n",
       "      <td>http://chacarita.properati.com.ar/10qlv_venta_...</td>\n",
       "      <td>-34.584651</td>\n",
       "      <td>-58.454693</td>\n",
       "    </tr>\n",
       "    <tr>\n",
       "      <th>2</th>\n",
       "      <td>sell</td>\n",
       "      <td>apartment</td>\n",
       "      <td>|Argentina|Capital Federal|Villa Luro|</td>\n",
       "      <td>87000.0</td>\n",
       "      <td>USD</td>\n",
       "      <td>1319128.80</td>\n",
       "      <td>87000.00</td>\n",
       "      <td>48.0</td>\n",
       "      <td>42.0</td>\n",
       "      <td>1812.500000</td>\n",
       "      <td>2071.428571</td>\n",
       "      <td>NaN</td>\n",
       "      <td>NaN</td>\n",
       "      <td>NaN</td>\n",
       "      <td>http://villa-luro.properati.com.ar/12m82_venta...</td>\n",
       "      <td>-34.638979</td>\n",
       "      <td>-58.500115</td>\n",
       "    </tr>\n",
       "    <tr>\n",
       "      <th>3</th>\n",
       "      <td>sell</td>\n",
       "      <td>apartment</td>\n",
       "      <td>|Argentina|Capital Federal|Once|</td>\n",
       "      <td>60000.0</td>\n",
       "      <td>USD</td>\n",
       "      <td>909744.00</td>\n",
       "      <td>60000.00</td>\n",
       "      <td>28.0</td>\n",
       "      <td>28.0</td>\n",
       "      <td>2142.857143</td>\n",
       "      <td>2142.857143</td>\n",
       "      <td>NaN</td>\n",
       "      <td>1.0</td>\n",
       "      <td>NaN</td>\n",
       "      <td>http://once.properati.com.ar/zz0q_venta_depart...</td>\n",
       "      <td>-34.605006</td>\n",
       "      <td>-58.400116</td>\n",
       "    </tr>\n",
       "    <tr>\n",
       "      <th>4</th>\n",
       "      <td>sell</td>\n",
       "      <td>apartment</td>\n",
       "      <td>|Argentina|Capital Federal|Caballito|</td>\n",
       "      <td>118000.0</td>\n",
       "      <td>USD</td>\n",
       "      <td>1789163.20</td>\n",
       "      <td>118000.00</td>\n",
       "      <td>NaN</td>\n",
       "      <td>54.0</td>\n",
       "      <td>NaN</td>\n",
       "      <td>2185.185185</td>\n",
       "      <td>NaN</td>\n",
       "      <td>2.0</td>\n",
       "      <td>NaN</td>\n",
       "      <td>http://caballito.properati.com.ar/11wqh_venta_...</td>\n",
       "      <td>-34.615847</td>\n",
       "      <td>-58.459957</td>\n",
       "    </tr>\n",
       "    <tr>\n",
       "      <th>...</th>\n",
       "      <td>...</td>\n",
       "      <td>...</td>\n",
       "      <td>...</td>\n",
       "      <td>...</td>\n",
       "      <td>...</td>\n",
       "      <td>...</td>\n",
       "      <td>...</td>\n",
       "      <td>...</td>\n",
       "      <td>...</td>\n",
       "      <td>...</td>\n",
       "      <td>...</td>\n",
       "      <td>...</td>\n",
       "      <td>...</td>\n",
       "      <td>...</td>\n",
       "      <td>...</td>\n",
       "      <td>...</td>\n",
       "      <td>...</td>\n",
       "    </tr>\n",
       "    <tr>\n",
       "      <th>2945</th>\n",
       "      <td>sell</td>\n",
       "      <td>apartment</td>\n",
       "      <td>|Argentina|Capital Federal|Almagro|</td>\n",
       "      <td>60000.0</td>\n",
       "      <td>USD</td>\n",
       "      <td>909744.00</td>\n",
       "      <td>60000.00</td>\n",
       "      <td>29.0</td>\n",
       "      <td>27.0</td>\n",
       "      <td>2068.965517</td>\n",
       "      <td>2222.222222</td>\n",
       "      <td>NaN</td>\n",
       "      <td>NaN</td>\n",
       "      <td>NaN</td>\n",
       "      <td>http://almagro.properati.com.ar/xi8t_venta_dep...</td>\n",
       "      <td>-34.617428</td>\n",
       "      <td>-58.418304</td>\n",
       "    </tr>\n",
       "    <tr>\n",
       "      <th>2946</th>\n",
       "      <td>sell</td>\n",
       "      <td>apartment</td>\n",
       "      <td>|Argentina|Capital Federal|Palermo|</td>\n",
       "      <td>145000.0</td>\n",
       "      <td>USD</td>\n",
       "      <td>2198548.00</td>\n",
       "      <td>145000.00</td>\n",
       "      <td>NaN</td>\n",
       "      <td>40.0</td>\n",
       "      <td>NaN</td>\n",
       "      <td>3625.000000</td>\n",
       "      <td>1.0</td>\n",
       "      <td>2.0</td>\n",
       "      <td>NaN</td>\n",
       "      <td>http://palermo.properati.com.ar/10st9_venta_de...</td>\n",
       "      <td>-34.590708</td>\n",
       "      <td>-58.415568</td>\n",
       "    </tr>\n",
       "    <tr>\n",
       "      <th>2947</th>\n",
       "      <td>sell</td>\n",
       "      <td>apartment</td>\n",
       "      <td>|Argentina|Capital Federal|Nuñez|</td>\n",
       "      <td>180000.0</td>\n",
       "      <td>USD</td>\n",
       "      <td>2729232.00</td>\n",
       "      <td>180000.00</td>\n",
       "      <td>65.0</td>\n",
       "      <td>60.0</td>\n",
       "      <td>2769.230769</td>\n",
       "      <td>3000.000000</td>\n",
       "      <td>NaN</td>\n",
       "      <td>3.0</td>\n",
       "      <td>3500.0</td>\n",
       "      <td>http://nunez.properati.com.ar/zoia_venta_depar...</td>\n",
       "      <td>-34.537851</td>\n",
       "      <td>-58.470731</td>\n",
       "    </tr>\n",
       "    <tr>\n",
       "      <th>2948</th>\n",
       "      <td>sell</td>\n",
       "      <td>apartment</td>\n",
       "      <td>|Argentina|Capital Federal|Villa Crespo|</td>\n",
       "      <td>119500.0</td>\n",
       "      <td>USD</td>\n",
       "      <td>1811906.80</td>\n",
       "      <td>119500.00</td>\n",
       "      <td>44.0</td>\n",
       "      <td>40.0</td>\n",
       "      <td>2715.909091</td>\n",
       "      <td>2987.500000</td>\n",
       "      <td>NaN</td>\n",
       "      <td>2.0</td>\n",
       "      <td>NaN</td>\n",
       "      <td>http://villa-crespo.properati.com.ar/10auv_ven...</td>\n",
       "      <td>-34.596715</td>\n",
       "      <td>-58.444045</td>\n",
       "    </tr>\n",
       "    <tr>\n",
       "      <th>2949</th>\n",
       "      <td>sell</td>\n",
       "      <td>apartment</td>\n",
       "      <td>|Argentina|Capital Federal|Colegiales|</td>\n",
       "      <td>4045624.0</td>\n",
       "      <td>ARS</td>\n",
       "      <td>4034395.31</td>\n",
       "      <td>266078.94</td>\n",
       "      <td>87.0</td>\n",
       "      <td>77.0</td>\n",
       "      <td>3058.378621</td>\n",
       "      <td>52540.571429</td>\n",
       "      <td>NaN</td>\n",
       "      <td>3.0</td>\n",
       "      <td>NaN</td>\n",
       "      <td>http://colegiales.properati.com.ar/10nb4_venta...</td>\n",
       "      <td>-34.574537</td>\n",
       "      <td>-58.455439</td>\n",
       "    </tr>\n",
       "  </tbody>\n",
       "</table>\n",
       "<p>2950 rows × 17 columns</p>\n",
       "</div>"
      ],
      "text/plain": [
       "     operation property_type                   place_with_parent_names  \\\n",
       "0         sell     apartment  |Argentina|Capital Federal|Villa Crespo|   \n",
       "1         sell     apartment     |Argentina|Capital Federal|Chacarita|   \n",
       "2         sell     apartment    |Argentina|Capital Federal|Villa Luro|   \n",
       "3         sell     apartment          |Argentina|Capital Federal|Once|   \n",
       "4         sell     apartment     |Argentina|Capital Federal|Caballito|   \n",
       "...        ...           ...                                       ...   \n",
       "2945      sell     apartment       |Argentina|Capital Federal|Almagro|   \n",
       "2946      sell     apartment       |Argentina|Capital Federal|Palermo|   \n",
       "2947      sell     apartment         |Argentina|Capital Federal|Nuñez|   \n",
       "2948      sell     apartment  |Argentina|Capital Federal|Villa Crespo|   \n",
       "2949      sell     apartment    |Argentina|Capital Federal|Colegiales|   \n",
       "\n",
       "          price currency  price_aprox_local_currency  price_aprox_usd  \\\n",
       "0      180000.0      USD                  2729232.00        180000.00   \n",
       "1      129000.0      USD                  1955949.60        129000.00   \n",
       "2       87000.0      USD                  1319128.80         87000.00   \n",
       "3       60000.0      USD                   909744.00         60000.00   \n",
       "4      118000.0      USD                  1789163.20        118000.00   \n",
       "...         ...      ...                         ...              ...   \n",
       "2945    60000.0      USD                   909744.00         60000.00   \n",
       "2946   145000.0      USD                  2198548.00        145000.00   \n",
       "2947   180000.0      USD                  2729232.00        180000.00   \n",
       "2948   119500.0      USD                  1811906.80        119500.00   \n",
       "2949  4045624.0      ARS                  4034395.31        266078.94   \n",
       "\n",
       "      surface_total_in_m2  surface_covered_in_m2  price_usd_per_m2  \\\n",
       "0                   120.0                  110.0       1500.000000   \n",
       "1                    76.0                   70.0       1697.368421   \n",
       "2                    48.0                   42.0       1812.500000   \n",
       "3                    28.0                   28.0       2142.857143   \n",
       "4                     NaN                   54.0               NaN   \n",
       "...                   ...                    ...               ...   \n",
       "2945                 29.0                   27.0       2068.965517   \n",
       "2946                  NaN                   40.0               NaN   \n",
       "2947                 65.0                   60.0       2769.230769   \n",
       "2948                 44.0                   40.0       2715.909091   \n",
       "2949                 87.0                   77.0       3058.378621   \n",
       "\n",
       "      price_per_m2  floor  rooms expenses  \\\n",
       "0      1636.363636    NaN    4.0      NaN   \n",
       "1      1842.857143    NaN    NaN      NaN   \n",
       "2      2071.428571    NaN    NaN      NaN   \n",
       "3      2142.857143    NaN    1.0      NaN   \n",
       "4      2185.185185    NaN    2.0      NaN   \n",
       "...            ...    ...    ...      ...   \n",
       "2945   2222.222222    NaN    NaN      NaN   \n",
       "2946   3625.000000    1.0    2.0      NaN   \n",
       "2947   3000.000000    NaN    3.0   3500.0   \n",
       "2948   2987.500000    NaN    2.0      NaN   \n",
       "2949  52540.571429    NaN    3.0      NaN   \n",
       "\n",
       "                                          properati_url        lat        lon  \n",
       "0     http://villa-crespo.properati.com.ar/12egq_ven... -34.604783 -58.458681  \n",
       "1     http://chacarita.properati.com.ar/10qlv_venta_... -34.584651 -58.454693  \n",
       "2     http://villa-luro.properati.com.ar/12m82_venta... -34.638979 -58.500115  \n",
       "3     http://once.properati.com.ar/zz0q_venta_depart... -34.605006 -58.400116  \n",
       "4     http://caballito.properati.com.ar/11wqh_venta_... -34.615847 -58.459957  \n",
       "...                                                 ...        ...        ...  \n",
       "2945  http://almagro.properati.com.ar/xi8t_venta_dep... -34.617428 -58.418304  \n",
       "2946  http://palermo.properati.com.ar/10st9_venta_de... -34.590708 -58.415568  \n",
       "2947  http://nunez.properati.com.ar/zoia_venta_depar... -34.537851 -58.470731  \n",
       "2948  http://villa-crespo.properati.com.ar/10auv_ven... -34.596715 -58.444045  \n",
       "2949  http://colegiales.properati.com.ar/10nb4_venta... -34.574537 -58.455439  \n",
       "\n",
       "[2950 rows x 17 columns]"
      ]
     },
     "execution_count": 127,
     "metadata": {},
     "output_type": "execute_result"
    }
   ],
   "source": [
    "df"
   ]
  },
  {
   "cell_type": "markdown",
   "id": "3738152c",
   "metadata": {},
   "source": [
    "#### Exploratory data analysis"
   ]
  },
  {
   "cell_type": "code",
   "execution_count": 128,
   "id": "91b5d580",
   "metadata": {},
   "outputs": [
    {
     "data": {
      "application/vnd.plotly.v1+json": {
       "config": {
        "plotlyServerURL": "https://plot.ly"
       },
       "data": [
        {
         "customdata": {
          "bdata": "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",
          "dtype": "f8",
          "shape": "2950, 1"
         },
         "hovertemplate": "lat=%{lat}<br>lon=%{lon}<br>price_aprox_usd=%{marker.color}<extra></extra>",
         "lat": {
          "bdata": "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",
          "dtype": "f8"
         },
         "legendgroup": "",
         "lon": {
          "bdata": "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",
          "dtype": "f8"
         },
         "marker": {
          "color": {
           "bdata": "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",
           "dtype": "f8"
          },
          "coloraxis": "coloraxis"
         },
         "mode": "markers",
         "name": "",
         "showlegend": false,
         "subplot": "map",
         "type": "scattermap"
        }
       ],
       "layout": {
        "coloraxis": {
         "colorbar": {
          "title": {
           "text": "price_aprox_usd"
          }
         },
         "colorscale": [
          [
           0,
           "#0d0887"
          ],
          [
           0.1111111111111111,
           "#46039f"
          ],
          [
           0.2222222222222222,
           "#7201a8"
          ],
          [
           0.3333333333333333,
           "#9c179e"
          ],
          [
           0.4444444444444444,
           "#bd3786"
          ],
          [
           0.5555555555555556,
           "#d8576b"
          ],
          [
           0.6666666666666666,
           "#ed7953"
          ],
          [
           0.7777777777777778,
           "#fb9f3a"
          ],
          [
           0.8888888888888888,
           "#fdca26"
          ],
          [
           1,
           "#f0f921"
          ]
         ]
        },
        "height": 600,
        "legend": {
         "tracegroupgap": 0
        },
        "map": {
         "center": {
          "lat": -34.59838612512774,
          "lon": -58.43577380920339
         },
         "domain": {
          "x": [
           0,
           1
          ],
          "y": [
           0,
           1
          ]
         },
         "zoom": 8
        },
        "mapbox": {
         "center": {
          "lat": -34.59838612512774,
          "lon": -58.43577380920339
         },
         "style": "open-street-map",
         "zoom": 8
        },
        "margin": {
         "t": 60
        },
        "template": {
         "data": {
          "bar": [
           {
            "error_x": {
             "color": "#2a3f5f"
            },
            "error_y": {
             "color": "#2a3f5f"
            },
            "marker": {
             "line": {
              "color": "#E5ECF6",
              "width": 0.5
             },
             "pattern": {
              "fillmode": "overlay",
              "size": 10,
              "solidity": 0.2
             }
            },
            "type": "bar"
           }
          ],
          "barpolar": [
           {
            "marker": {
             "line": {
              "color": "#E5ECF6",
              "width": 0.5
             },
             "pattern": {
              "fillmode": "overlay",
              "size": 10,
              "solidity": 0.2
             }
            },
            "type": "barpolar"
           }
          ],
          "carpet": [
           {
            "aaxis": {
             "endlinecolor": "#2a3f5f",
             "gridcolor": "white",
             "linecolor": "white",
             "minorgridcolor": "white",
             "startlinecolor": "#2a3f5f"
            },
            "baxis": {
             "endlinecolor": "#2a3f5f",
             "gridcolor": "white",
             "linecolor": "white",
             "minorgridcolor": "white",
             "startlinecolor": "#2a3f5f"
            },
            "type": "carpet"
           }
          ],
          "choropleth": [
           {
            "colorbar": {
             "outlinewidth": 0,
             "ticks": ""
            },
            "type": "choropleth"
           }
          ],
          "contour": [
           {
            "colorbar": {
             "outlinewidth": 0,
             "ticks": ""
            },
            "colorscale": [
             [
              0,
              "#0d0887"
             ],
             [
              0.1111111111111111,
              "#46039f"
             ],
             [
              0.2222222222222222,
              "#7201a8"
             ],
             [
              0.3333333333333333,
              "#9c179e"
             ],
             [
              0.4444444444444444,
              "#bd3786"
             ],
             [
              0.5555555555555556,
              "#d8576b"
             ],
             [
              0.6666666666666666,
              "#ed7953"
             ],
             [
              0.7777777777777778,
              "#fb9f3a"
             ],
             [
              0.8888888888888888,
              "#fdca26"
             ],
             [
              1,
              "#f0f921"
             ]
            ],
            "type": "contour"
           }
          ],
          "contourcarpet": [
           {
            "colorbar": {
             "outlinewidth": 0,
             "ticks": ""
            },
            "type": "contourcarpet"
           }
          ],
          "heatmap": [
           {
            "colorbar": {
             "outlinewidth": 0,
             "ticks": ""
            },
            "colorscale": [
             [
              0,
              "#0d0887"
             ],
             [
              0.1111111111111111,
              "#46039f"
             ],
             [
              0.2222222222222222,
              "#7201a8"
             ],
             [
              0.3333333333333333,
              "#9c179e"
             ],
             [
              0.4444444444444444,
              "#bd3786"
             ],
             [
              0.5555555555555556,
              "#d8576b"
             ],
             [
              0.6666666666666666,
              "#ed7953"
             ],
             [
              0.7777777777777778,
              "#fb9f3a"
             ],
             [
              0.8888888888888888,
              "#fdca26"
             ],
             [
              1,
              "#f0f921"
             ]
            ],
            "type": "heatmap"
           }
          ],
          "histogram": [
           {
            "marker": {
             "pattern": {
              "fillmode": "overlay",
              "size": 10,
              "solidity": 0.2
             }
            },
            "type": "histogram"
           }
          ],
          "histogram2d": [
           {
            "colorbar": {
             "outlinewidth": 0,
             "ticks": ""
            },
            "colorscale": [
             [
              0,
              "#0d0887"
             ],
             [
              0.1111111111111111,
              "#46039f"
             ],
             [
              0.2222222222222222,
              "#7201a8"
             ],
             [
              0.3333333333333333,
              "#9c179e"
             ],
             [
              0.4444444444444444,
              "#bd3786"
             ],
             [
              0.5555555555555556,
              "#d8576b"
             ],
             [
              0.6666666666666666,
              "#ed7953"
             ],
             [
              0.7777777777777778,
              "#fb9f3a"
             ],
             [
              0.8888888888888888,
              "#fdca26"
             ],
             [
              1,
              "#f0f921"
             ]
            ],
            "type": "histogram2d"
           }
          ],
          "histogram2dcontour": [
           {
            "colorbar": {
             "outlinewidth": 0,
             "ticks": ""
            },
            "colorscale": [
             [
              0,
              "#0d0887"
             ],
             [
              0.1111111111111111,
              "#46039f"
             ],
             [
              0.2222222222222222,
              "#7201a8"
             ],
             [
              0.3333333333333333,
              "#9c179e"
             ],
             [
              0.4444444444444444,
              "#bd3786"
             ],
             [
              0.5555555555555556,
              "#d8576b"
             ],
             [
              0.6666666666666666,
              "#ed7953"
             ],
             [
              0.7777777777777778,
              "#fb9f3a"
             ],
             [
              0.8888888888888888,
              "#fdca26"
             ],
             [
              1,
              "#f0f921"
             ]
            ],
            "type": "histogram2dcontour"
           }
          ],
          "mesh3d": [
           {
            "colorbar": {
             "outlinewidth": 0,
             "ticks": ""
            },
            "type": "mesh3d"
           }
          ],
          "parcoords": [
           {
            "line": {
             "colorbar": {
              "outlinewidth": 0,
              "ticks": ""
             }
            },
            "type": "parcoords"
           }
          ],
          "pie": [
           {
            "automargin": true,
            "type": "pie"
           }
          ],
          "scatter": [
           {
            "fillpattern": {
             "fillmode": "overlay",
             "size": 10,
             "solidity": 0.2
            },
            "type": "scatter"
           }
          ],
          "scatter3d": [
           {
            "line": {
             "colorbar": {
              "outlinewidth": 0,
              "ticks": ""
             }
            },
            "marker": {
             "colorbar": {
              "outlinewidth": 0,
              "ticks": ""
             }
            },
            "type": "scatter3d"
           }
          ],
          "scattercarpet": [
           {
            "marker": {
             "colorbar": {
              "outlinewidth": 0,
              "ticks": ""
             }
            },
            "type": "scattercarpet"
           }
          ],
          "scattergeo": [
           {
            "marker": {
             "colorbar": {
              "outlinewidth": 0,
              "ticks": ""
             }
            },
            "type": "scattergeo"
           }
          ],
          "scattergl": [
           {
            "marker": {
             "colorbar": {
              "outlinewidth": 0,
              "ticks": ""
             }
            },
            "type": "scattergl"
           }
          ],
          "scattermap": [
           {
            "marker": {
             "colorbar": {
              "outlinewidth": 0,
              "ticks": ""
             }
            },
            "type": "scattermap"
           }
          ],
          "scattermapbox": [
           {
            "marker": {
             "colorbar": {
              "outlinewidth": 0,
              "ticks": ""
             }
            },
            "type": "scattermapbox"
           }
          ],
          "scatterpolar": [
           {
            "marker": {
             "colorbar": {
              "outlinewidth": 0,
              "ticks": ""
             }
            },
            "type": "scatterpolar"
           }
          ],
          "scatterpolargl": [
           {
            "marker": {
             "colorbar": {
              "outlinewidth": 0,
              "ticks": ""
             }
            },
            "type": "scatterpolargl"
           }
          ],
          "scatterternary": [
           {
            "marker": {
             "colorbar": {
              "outlinewidth": 0,
              "ticks": ""
             }
            },
            "type": "scatterternary"
           }
          ],
          "surface": [
           {
            "colorbar": {
             "outlinewidth": 0,
             "ticks": ""
            },
            "colorscale": [
             [
              0,
              "#0d0887"
             ],
             [
              0.1111111111111111,
              "#46039f"
             ],
             [
              0.2222222222222222,
              "#7201a8"
             ],
             [
              0.3333333333333333,
              "#9c179e"
             ],
             [
              0.4444444444444444,
              "#bd3786"
             ],
             [
              0.5555555555555556,
              "#d8576b"
             ],
             [
              0.6666666666666666,
              "#ed7953"
             ],
             [
              0.7777777777777778,
              "#fb9f3a"
             ],
             [
              0.8888888888888888,
              "#fdca26"
             ],
             [
              1,
              "#f0f921"
             ]
            ],
            "type": "surface"
           }
          ],
          "table": [
           {
            "cells": {
             "fill": {
              "color": "#EBF0F8"
             },
             "line": {
              "color": "white"
             }
            },
            "header": {
             "fill": {
              "color": "#C8D4E3"
             },
             "line": {
              "color": "white"
             }
            },
            "type": "table"
           }
          ]
         },
         "layout": {
          "annotationdefaults": {
           "arrowcolor": "#2a3f5f",
           "arrowhead": 0,
           "arrowwidth": 1
          },
          "autotypenumbers": "strict",
          "coloraxis": {
           "colorbar": {
            "outlinewidth": 0,
            "ticks": ""
           }
          },
          "colorscale": {
           "diverging": [
            [
             0,
             "#8e0152"
            ],
            [
             0.1,
             "#c51b7d"
            ],
            [
             0.2,
             "#de77ae"
            ],
            [
             0.3,
             "#f1b6da"
            ],
            [
             0.4,
             "#fde0ef"
            ],
            [
             0.5,
             "#f7f7f7"
            ],
            [
             0.6,
             "#e6f5d0"
            ],
            [
             0.7,
             "#b8e186"
            ],
            [
             0.8,
             "#7fbc41"
            ],
            [
             0.9,
             "#4d9221"
            ],
            [
             1,
             "#276419"
            ]
           ],
           "sequential": [
            [
             0,
             "#0d0887"
            ],
            [
             0.1111111111111111,
             "#46039f"
            ],
            [
             0.2222222222222222,
             "#7201a8"
            ],
            [
             0.3333333333333333,
             "#9c179e"
            ],
            [
             0.4444444444444444,
             "#bd3786"
            ],
            [
             0.5555555555555556,
             "#d8576b"
            ],
            [
             0.6666666666666666,
             "#ed7953"
            ],
            [
             0.7777777777777778,
             "#fb9f3a"
            ],
            [
             0.8888888888888888,
             "#fdca26"
            ],
            [
             1,
             "#f0f921"
            ]
           ],
           "sequentialminus": [
            [
             0,
             "#0d0887"
            ],
            [
             0.1111111111111111,
             "#46039f"
            ],
            [
             0.2222222222222222,
             "#7201a8"
            ],
            [
             0.3333333333333333,
             "#9c179e"
            ],
            [
             0.4444444444444444,
             "#bd3786"
            ],
            [
             0.5555555555555556,
             "#d8576b"
            ],
            [
             0.6666666666666666,
             "#ed7953"
            ],
            [
             0.7777777777777778,
             "#fb9f3a"
            ],
            [
             0.8888888888888888,
             "#fdca26"
            ],
            [
             1,
             "#f0f921"
            ]
           ]
          },
          "colorway": [
           "#636efa",
           "#EF553B",
           "#00cc96",
           "#ab63fa",
           "#FFA15A",
           "#19d3f3",
           "#FF6692",
           "#B6E880",
           "#FF97FF",
           "#FECB52"
          ],
          "font": {
           "color": "#2a3f5f"
          },
          "geo": {
           "bgcolor": "white",
           "lakecolor": "white",
           "landcolor": "#E5ECF6",
           "showlakes": true,
           "showland": true,
           "subunitcolor": "white"
          },
          "hoverlabel": {
           "align": "left"
          },
          "hovermode": "closest",
          "mapbox": {
           "style": "light"
          },
          "paper_bgcolor": "white",
          "plot_bgcolor": "#E5ECF6",
          "polar": {
           "angularaxis": {
            "gridcolor": "white",
            "linecolor": "white",
            "ticks": ""
           },
           "bgcolor": "#E5ECF6",
           "radialaxis": {
            "gridcolor": "white",
            "linecolor": "white",
            "ticks": ""
           }
          },
          "scene": {
           "xaxis": {
            "backgroundcolor": "#E5ECF6",
            "gridcolor": "white",
            "gridwidth": 2,
            "linecolor": "white",
            "showbackground": true,
            "ticks": "",
            "zerolinecolor": "white"
           },
           "yaxis": {
            "backgroundcolor": "#E5ECF6",
            "gridcolor": "white",
            "gridwidth": 2,
            "linecolor": "white",
            "showbackground": true,
            "ticks": "",
            "zerolinecolor": "white"
           },
           "zaxis": {
            "backgroundcolor": "#E5ECF6",
            "gridcolor": "white",
            "gridwidth": 2,
            "linecolor": "white",
            "showbackground": true,
            "ticks": "",
            "zerolinecolor": "white"
           }
          },
          "shapedefaults": {
           "line": {
            "color": "#2a3f5f"
           }
          },
          "ternary": {
           "aaxis": {
            "gridcolor": "white",
            "linecolor": "white",
            "ticks": ""
           },
           "baxis": {
            "gridcolor": "white",
            "linecolor": "white",
            "ticks": ""
           },
           "bgcolor": "#E5ECF6",
           "caxis": {
            "gridcolor": "white",
            "linecolor": "white",
            "ticks": ""
           }
          },
          "title": {
           "x": 0.05
          },
          "xaxis": {
           "automargin": true,
           "gridcolor": "white",
           "linecolor": "white",
           "ticks": "",
           "title": {
            "standoff": 15
           },
           "zerolinecolor": "white",
           "zerolinewidth": 2
          },
          "yaxis": {
           "automargin": true,
           "gridcolor": "white",
           "linecolor": "white",
           "ticks": "",
           "title": {
            "standoff": 15
           },
           "zerolinecolor": "white",
           "zerolinewidth": 2
          }
         }
        },
        "width": 600
       }
      }
     },
     "metadata": {},
     "output_type": "display_data"
    }
   ],
   "source": [
    "fig = px.scatter_map(\n",
    "    df,\n",
    "    lat=\"lat\",\n",
    "    lon=\"lon\",\n",
    "    width=600,\n",
    "    height=600,\n",
    "    color=\"price_aprox_usd\", #Creates a heatmap kind of a thing in the map\n",
    "    hover_data=[\"price_aprox_usd\"],\n",
    ")\n",
    "fig.update_layout(mapbox_style=\"open-street-map\")\n",
    "fig.show()"
   ]
  },
  {
   "cell_type": "markdown",
   "id": "149c8fc5",
   "metadata": {},
   "source": [
    "<p style=\"color:yellow; font-size:30px\">3-D Scatter Plot</p>"
   ]
  },
  {
   "cell_type": "code",
   "execution_count": 129,
   "id": "1f872b33",
   "metadata": {},
   "outputs": [
    {
     "data": {
      "application/vnd.plotly.v1+json": {
       "config": {
        "plotlyServerURL": "https://plot.ly"
       },
       "data": [
        {
         "hovertemplate": "longitude=%{x}<br>latitude=%{y}<br>price=%{z}<extra></extra>",
         "legendgroup": "",
         "marker": {
          "color": "#636efa",
          "line": {
           "color": "DarkSlateGrey",
           "width": 2
          },
          "size": 4,
          "symbol": "circle"
         },
         "mode": "markers",
         "name": "",
         "scene": "scene",
         "showlegend": false,
         "type": "scatter3d",
         "x": {
          "bdata": "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",
          "dtype": "f8"
         },
         "y": {
          "bdata": "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",
          "dtype": "f8"
         },
         "z": {
          "bdata": "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",
          "dtype": "f8"
         }
        }
       ],
       "layout": {
        "legend": {
         "tracegroupgap": 0
        },
        "margin": {
         "t": 60
        },
        "scene": {
         "domain": {
          "x": [
           0,
           1
          ],
          "y": [
           0,
           1
          ]
         },
         "xaxis": {
          "title": {
           "text": "longitude"
          }
         },
         "yaxis": {
          "title": {
           "text": "latitude"
          }
         },
         "zaxis": {
          "title": {
           "text": "price"
          }
         }
        },
        "template": {
         "data": {
          "bar": [
           {
            "error_x": {
             "color": "#2a3f5f"
            },
            "error_y": {
             "color": "#2a3f5f"
            },
            "marker": {
             "line": {
              "color": "#E5ECF6",
              "width": 0.5
             },
             "pattern": {
              "fillmode": "overlay",
              "size": 10,
              "solidity": 0.2
             }
            },
            "type": "bar"
           }
          ],
          "barpolar": [
           {
            "marker": {
             "line": {
              "color": "#E5ECF6",
              "width": 0.5
             },
             "pattern": {
              "fillmode": "overlay",
              "size": 10,
              "solidity": 0.2
             }
            },
            "type": "barpolar"
           }
          ],
          "carpet": [
           {
            "aaxis": {
             "endlinecolor": "#2a3f5f",
             "gridcolor": "white",
             "linecolor": "white",
             "minorgridcolor": "white",
             "startlinecolor": "#2a3f5f"
            },
            "baxis": {
             "endlinecolor": "#2a3f5f",
             "gridcolor": "white",
             "linecolor": "white",
             "minorgridcolor": "white",
             "startlinecolor": "#2a3f5f"
            },
            "type": "carpet"
           }
          ],
          "choropleth": [
           {
            "colorbar": {
             "outlinewidth": 0,
             "ticks": ""
            },
            "type": "choropleth"
           }
          ],
          "contour": [
           {
            "colorbar": {
             "outlinewidth": 0,
             "ticks": ""
            },
            "colorscale": [
             [
              0,
              "#0d0887"
             ],
             [
              0.1111111111111111,
              "#46039f"
             ],
             [
              0.2222222222222222,
              "#7201a8"
             ],
             [
              0.3333333333333333,
              "#9c179e"
             ],
             [
              0.4444444444444444,
              "#bd3786"
             ],
             [
              0.5555555555555556,
              "#d8576b"
             ],
             [
              0.6666666666666666,
              "#ed7953"
             ],
             [
              0.7777777777777778,
              "#fb9f3a"
             ],
             [
              0.8888888888888888,
              "#fdca26"
             ],
             [
              1,
              "#f0f921"
             ]
            ],
            "type": "contour"
           }
          ],
          "contourcarpet": [
           {
            "colorbar": {
             "outlinewidth": 0,
             "ticks": ""
            },
            "type": "contourcarpet"
           }
          ],
          "heatmap": [
           {
            "colorbar": {
             "outlinewidth": 0,
             "ticks": ""
            },
            "colorscale": [
             [
              0,
              "#0d0887"
             ],
             [
              0.1111111111111111,
              "#46039f"
             ],
             [
              0.2222222222222222,
              "#7201a8"
             ],
             [
              0.3333333333333333,
              "#9c179e"
             ],
             [
              0.4444444444444444,
              "#bd3786"
             ],
             [
              0.5555555555555556,
              "#d8576b"
             ],
             [
              0.6666666666666666,
              "#ed7953"
             ],
             [
              0.7777777777777778,
              "#fb9f3a"
             ],
             [
              0.8888888888888888,
              "#fdca26"
             ],
             [
              1,
              "#f0f921"
             ]
            ],
            "type": "heatmap"
           }
          ],
          "histogram": [
           {
            "marker": {
             "pattern": {
              "fillmode": "overlay",
              "size": 10,
              "solidity": 0.2
             }
            },
            "type": "histogram"
           }
          ],
          "histogram2d": [
           {
            "colorbar": {
             "outlinewidth": 0,
             "ticks": ""
            },
            "colorscale": [
             [
              0,
              "#0d0887"
             ],
             [
              0.1111111111111111,
              "#46039f"
             ],
             [
              0.2222222222222222,
              "#7201a8"
             ],
             [
              0.3333333333333333,
              "#9c179e"
             ],
             [
              0.4444444444444444,
              "#bd3786"
             ],
             [
              0.5555555555555556,
              "#d8576b"
             ],
             [
              0.6666666666666666,
              "#ed7953"
             ],
             [
              0.7777777777777778,
              "#fb9f3a"
             ],
             [
              0.8888888888888888,
              "#fdca26"
             ],
             [
              1,
              "#f0f921"
             ]
            ],
            "type": "histogram2d"
           }
          ],
          "histogram2dcontour": [
           {
            "colorbar": {
             "outlinewidth": 0,
             "ticks": ""
            },
            "colorscale": [
             [
              0,
              "#0d0887"
             ],
             [
              0.1111111111111111,
              "#46039f"
             ],
             [
              0.2222222222222222,
              "#7201a8"
             ],
             [
              0.3333333333333333,
              "#9c179e"
             ],
             [
              0.4444444444444444,
              "#bd3786"
             ],
             [
              0.5555555555555556,
              "#d8576b"
             ],
             [
              0.6666666666666666,
              "#ed7953"
             ],
             [
              0.7777777777777778,
              "#fb9f3a"
             ],
             [
              0.8888888888888888,
              "#fdca26"
             ],
             [
              1,
              "#f0f921"
             ]
            ],
            "type": "histogram2dcontour"
           }
          ],
          "mesh3d": [
           {
            "colorbar": {
             "outlinewidth": 0,
             "ticks": ""
            },
            "type": "mesh3d"
           }
          ],
          "parcoords": [
           {
            "line": {
             "colorbar": {
              "outlinewidth": 0,
              "ticks": ""
             }
            },
            "type": "parcoords"
           }
          ],
          "pie": [
           {
            "automargin": true,
            "type": "pie"
           }
          ],
          "scatter": [
           {
            "fillpattern": {
             "fillmode": "overlay",
             "size": 10,
             "solidity": 0.2
            },
            "type": "scatter"
           }
          ],
          "scatter3d": [
           {
            "line": {
             "colorbar": {
              "outlinewidth": 0,
              "ticks": ""
             }
            },
            "marker": {
             "colorbar": {
              "outlinewidth": 0,
              "ticks": ""
             }
            },
            "type": "scatter3d"
           }
          ],
          "scattercarpet": [
           {
            "marker": {
             "colorbar": {
              "outlinewidth": 0,
              "ticks": ""
             }
            },
            "type": "scattercarpet"
           }
          ],
          "scattergeo": [
           {
            "marker": {
             "colorbar": {
              "outlinewidth": 0,
              "ticks": ""
             }
            },
            "type": "scattergeo"
           }
          ],
          "scattergl": [
           {
            "marker": {
             "colorbar": {
              "outlinewidth": 0,
              "ticks": ""
             }
            },
            "type": "scattergl"
           }
          ],
          "scattermap": [
           {
            "marker": {
             "colorbar": {
              "outlinewidth": 0,
              "ticks": ""
             }
            },
            "type": "scattermap"
           }
          ],
          "scattermapbox": [
           {
            "marker": {
             "colorbar": {
              "outlinewidth": 0,
              "ticks": ""
             }
            },
            "type": "scattermapbox"
           }
          ],
          "scatterpolar": [
           {
            "marker": {
             "colorbar": {
              "outlinewidth": 0,
              "ticks": ""
             }
            },
            "type": "scatterpolar"
           }
          ],
          "scatterpolargl": [
           {
            "marker": {
             "colorbar": {
              "outlinewidth": 0,
              "ticks": ""
             }
            },
            "type": "scatterpolargl"
           }
          ],
          "scatterternary": [
           {
            "marker": {
             "colorbar": {
              "outlinewidth": 0,
              "ticks": ""
             }
            },
            "type": "scatterternary"
           }
          ],
          "surface": [
           {
            "colorbar": {
             "outlinewidth": 0,
             "ticks": ""
            },
            "colorscale": [
             [
              0,
              "#0d0887"
             ],
             [
              0.1111111111111111,
              "#46039f"
             ],
             [
              0.2222222222222222,
              "#7201a8"
             ],
             [
              0.3333333333333333,
              "#9c179e"
             ],
             [
              0.4444444444444444,
              "#bd3786"
             ],
             [
              0.5555555555555556,
              "#d8576b"
             ],
             [
              0.6666666666666666,
              "#ed7953"
             ],
             [
              0.7777777777777778,
              "#fb9f3a"
             ],
             [
              0.8888888888888888,
              "#fdca26"
             ],
             [
              1,
              "#f0f921"
             ]
            ],
            "type": "surface"
           }
          ],
          "table": [
           {
            "cells": {
             "fill": {
              "color": "#EBF0F8"
             },
             "line": {
              "color": "white"
             }
            },
            "header": {
             "fill": {
              "color": "#C8D4E3"
             },
             "line": {
              "color": "white"
             }
            },
            "type": "table"
           }
          ]
         },
         "layout": {
          "annotationdefaults": {
           "arrowcolor": "#2a3f5f",
           "arrowhead": 0,
           "arrowwidth": 1
          },
          "autotypenumbers": "strict",
          "coloraxis": {
           "colorbar": {
            "outlinewidth": 0,
            "ticks": ""
           }
          },
          "colorscale": {
           "diverging": [
            [
             0,
             "#8e0152"
            ],
            [
             0.1,
             "#c51b7d"
            ],
            [
             0.2,
             "#de77ae"
            ],
            [
             0.3,
             "#f1b6da"
            ],
            [
             0.4,
             "#fde0ef"
            ],
            [
             0.5,
             "#f7f7f7"
            ],
            [
             0.6,
             "#e6f5d0"
            ],
            [
             0.7,
             "#b8e186"
            ],
            [
             0.8,
             "#7fbc41"
            ],
            [
             0.9,
             "#4d9221"
            ],
            [
             1,
             "#276419"
            ]
           ],
           "sequential": [
            [
             0,
             "#0d0887"
            ],
            [
             0.1111111111111111,
             "#46039f"
            ],
            [
             0.2222222222222222,
             "#7201a8"
            ],
            [
             0.3333333333333333,
             "#9c179e"
            ],
            [
             0.4444444444444444,
             "#bd3786"
            ],
            [
             0.5555555555555556,
             "#d8576b"
            ],
            [
             0.6666666666666666,
             "#ed7953"
            ],
            [
             0.7777777777777778,
             "#fb9f3a"
            ],
            [
             0.8888888888888888,
             "#fdca26"
            ],
            [
             1,
             "#f0f921"
            ]
           ],
           "sequentialminus": [
            [
             0,
             "#0d0887"
            ],
            [
             0.1111111111111111,
             "#46039f"
            ],
            [
             0.2222222222222222,
             "#7201a8"
            ],
            [
             0.3333333333333333,
             "#9c179e"
            ],
            [
             0.4444444444444444,
             "#bd3786"
            ],
            [
             0.5555555555555556,
             "#d8576b"
            ],
            [
             0.6666666666666666,
             "#ed7953"
            ],
            [
             0.7777777777777778,
             "#fb9f3a"
            ],
            [
             0.8888888888888888,
             "#fdca26"
            ],
            [
             1,
             "#f0f921"
            ]
           ]
          },
          "colorway": [
           "#636efa",
           "#EF553B",
           "#00cc96",
           "#ab63fa",
           "#FFA15A",
           "#19d3f3",
           "#FF6692",
           "#B6E880",
           "#FF97FF",
           "#FECB52"
          ],
          "font": {
           "color": "#2a3f5f"
          },
          "geo": {
           "bgcolor": "white",
           "lakecolor": "white",
           "landcolor": "#E5ECF6",
           "showlakes": true,
           "showland": true,
           "subunitcolor": "white"
          },
          "hoverlabel": {
           "align": "left"
          },
          "hovermode": "closest",
          "mapbox": {
           "style": "light"
          },
          "paper_bgcolor": "white",
          "plot_bgcolor": "#E5ECF6",
          "polar": {
           "angularaxis": {
            "gridcolor": "white",
            "linecolor": "white",
            "ticks": ""
           },
           "bgcolor": "#E5ECF6",
           "radialaxis": {
            "gridcolor": "white",
            "linecolor": "white",
            "ticks": ""
           }
          },
          "scene": {
           "xaxis": {
            "backgroundcolor": "#E5ECF6",
            "gridcolor": "white",
            "gridwidth": 2,
            "linecolor": "white",
            "showbackground": true,
            "ticks": "",
            "zerolinecolor": "white"
           },
           "yaxis": {
            "backgroundcolor": "#E5ECF6",
            "gridcolor": "white",
            "gridwidth": 2,
            "linecolor": "white",
            "showbackground": true,
            "ticks": "",
            "zerolinecolor": "white"
           },
           "zaxis": {
            "backgroundcolor": "#E5ECF6",
            "gridcolor": "white",
            "gridwidth": 2,
            "linecolor": "white",
            "showbackground": true,
            "ticks": "",
            "zerolinecolor": "white"
           }
          },
          "shapedefaults": {
           "line": {
            "color": "#2a3f5f"
           }
          },
          "ternary": {
           "aaxis": {
            "gridcolor": "white",
            "linecolor": "white",
            "ticks": ""
           },
           "baxis": {
            "gridcolor": "white",
            "linecolor": "white",
            "ticks": ""
           },
           "bgcolor": "#E5ECF6",
           "caxis": {
            "gridcolor": "white",
            "linecolor": "white",
            "ticks": ""
           }
          },
          "title": {
           "x": 0.05
          },
          "xaxis": {
           "automargin": true,
           "gridcolor": "white",
           "linecolor": "white",
           "ticks": "",
           "title": {
            "standoff": 15
           },
           "zerolinecolor": "white",
           "zerolinewidth": 2
          },
          "yaxis": {
           "automargin": true,
           "gridcolor": "white",
           "linecolor": "white",
           "ticks": "",
           "title": {
            "standoff": 15
           },
           "zerolinecolor": "white",
           "zerolinewidth": 2
          }
         }
        }
       }
      }
     },
     "metadata": {},
     "output_type": "display_data"
    }
   ],
   "source": [
    "fig = px.scatter_3d(\n",
    "    df,\n",
    "    x=\"lon\",\n",
    "    y=\"lat\",\n",
    "    z=\"price_aprox_usd\",\n",
    "    labels={\"lon\":\"longitude\",\"lat\" :\"latitude\",\"price_aprox_usd\":\"price\"}\n",
    ")\n",
    "fig.update_traces(\n",
    "    marker={\"size\":4,\"line\":{\"width\": 2,\"color\":\"DarkSlateGrey\"}},\n",
    "    selector={\"mode\":\"markers\"}\n",
    ")\n",
    "fig.show()"
   ]
  },
  {
   "cell_type": "markdown",
   "id": "18e278b6",
   "metadata": {},
   "source": [
    "#### <p style=\"color:orange\">Machine Learning</p>"
   ]
  },
  {
   "cell_type": "markdown",
   "id": "a111fe9f",
   "metadata": {},
   "source": [
    "##### Data Preparation"
   ]
  },
  {
   "cell_type": "code",
   "execution_count": 130,
   "id": "a88c46d3",
   "metadata": {},
   "outputs": [
    {
     "name": "stdout",
     "output_type": "stream",
     "text": [
      "(2950, 2)\n"
     ]
    },
    {
     "data": {
      "application/vnd.microsoft.datawrangler.viewer.v0+json": {
       "columns": [
        {
         "name": "index",
         "rawType": "int64",
         "type": "integer"
        },
        {
         "name": "lon",
         "rawType": "float64",
         "type": "float"
        },
        {
         "name": "lat",
         "rawType": "float64",
         "type": "float"
        }
       ],
       "ref": "790fa430-c2fa-4e3e-8951-8470b8d6fc3d",
       "rows": [
        [
         "0",
         "-58.4586812499",
         "-34.6047834183"
        ],
        [
         "1",
         "-58.4546932614",
         "-34.5846508988"
        ],
        [
         "2",
         "-58.500115",
         "-34.6389789"
        ],
        [
         "3",
         "-58.4001162302",
         "-34.6050060697"
        ],
        [
         "4",
         "-58.459957",
         "-34.615847"
        ],
        [
         "5",
         "-58.3727964943",
         "-34.5985342536"
        ],
        [
         "6",
         "-58.3823825",
         "-34.6252219"
        ],
        [
         "7",
         "-58.4125107",
         "-34.6106102"
        ],
        [
         "8",
         "-58.4272911",
         "-34.6038236"
        ],
        [
         "9",
         "-58.423963",
         "-34.586103"
        ],
        [
         "10",
         "-58.4724630529",
         "-34.6265182557"
        ],
        [
         "11",
         "-58.4566864",
         "-34.5620844"
        ],
        [
         "12",
         "-58.524277",
         "-34.648143"
        ],
        [
         "13",
         "-58.444045",
         "-34.596715"
        ],
        [
         "14",
         "-58.430668",
         "-34.599722"
        ],
        [
         "15",
         "-58.3926968",
         "-34.616182"
        ],
        [
         "16",
         "-58.4159718",
         "-34.6034659"
        ],
        [
         "17",
         "-58.3897597",
         "-34.6136992"
        ],
        [
         "18",
         "-58.4842066",
         "-34.5475074"
        ],
        [
         "19",
         "-58.4039197",
         "-34.6087015"
        ],
        [
         "20",
         "-58.4410115",
         "-34.5975665"
        ],
        [
         "21",
         "-58.4470949374",
         "-34.5670929999"
        ],
        [
         "22",
         "-58.4931185",
         "-34.645401"
        ],
        [
         "23",
         "-58.4242176",
         "-34.6198687"
        ],
        [
         "24",
         "-58.443838",
         "-34.618545"
        ],
        [
         "25",
         "-58.4124669",
         "-34.5933599"
        ],
        [
         "26",
         "-58.371667",
         "-34.620556"
        ],
        [
         "27",
         "-58.46838",
         "-34.552129"
        ],
        [
         "28",
         "-58.4566864",
         "-34.5620844"
        ],
        [
         "29",
         "-58.3909376",
         "-34.5892291"
        ],
        [
         "30",
         "-58.4280921",
         "-34.6206701"
        ],
        [
         "31",
         "-58.422687",
         "-34.617869"
        ],
        [
         "32",
         "-58.3975515537",
         "-34.5972390007"
        ],
        [
         "33",
         "-58.418703",
         "-34.6044029"
        ],
        [
         "34",
         "-58.4652556",
         "-34.5628985"
        ],
        [
         "35",
         "-58.39644",
         "-34.5986461"
        ],
        [
         "36",
         "-58.4566753",
         "-34.6171601"
        ],
        [
         "37",
         "-58.416152",
         "-34.624943"
        ],
        [
         "38",
         "-58.4019575",
         "-34.5995053"
        ],
        [
         "39",
         "-58.417856",
         "-34.61098"
        ],
        [
         "40",
         "-58.4936437",
         "-34.5546524"
        ],
        [
         "41",
         "-58.455713",
         "-34.554535"
        ],
        [
         "42",
         "-58.4562243",
         "-34.6266557"
        ],
        [
         "43",
         "-58.4401524326",
         "-34.6076122891"
        ],
        [
         "44",
         "-58.4095145",
         "-34.603367"
        ],
        [
         "45",
         "-58.431148",
         "-34.5987952"
        ],
        [
         "46",
         "-58.478304",
         "-34.546801"
        ],
        [
         "47",
         "-58.4661541",
         "-34.5607997"
        ],
        [
         "48",
         "-58.3791226",
         "-34.5990818"
        ],
        [
         "49",
         "-58.39925557",
         "-34.6085660579"
        ]
       ],
       "shape": {
        "columns": 2,
        "rows": 2950
       }
      },
      "text/html": [
       "<div>\n",
       "<style scoped>\n",
       "    .dataframe tbody tr th:only-of-type {\n",
       "        vertical-align: middle;\n",
       "    }\n",
       "\n",
       "    .dataframe tbody tr th {\n",
       "        vertical-align: top;\n",
       "    }\n",
       "\n",
       "    .dataframe thead th {\n",
       "        text-align: right;\n",
       "    }\n",
       "</style>\n",
       "<table border=\"1\" class=\"dataframe\">\n",
       "  <thead>\n",
       "    <tr style=\"text-align: right;\">\n",
       "      <th></th>\n",
       "      <th>lon</th>\n",
       "      <th>lat</th>\n",
       "    </tr>\n",
       "  </thead>\n",
       "  <tbody>\n",
       "    <tr>\n",
       "      <th>0</th>\n",
       "      <td>-58.458681</td>\n",
       "      <td>-34.604783</td>\n",
       "    </tr>\n",
       "    <tr>\n",
       "      <th>1</th>\n",
       "      <td>-58.454693</td>\n",
       "      <td>-34.584651</td>\n",
       "    </tr>\n",
       "    <tr>\n",
       "      <th>2</th>\n",
       "      <td>-58.500115</td>\n",
       "      <td>-34.638979</td>\n",
       "    </tr>\n",
       "    <tr>\n",
       "      <th>3</th>\n",
       "      <td>-58.400116</td>\n",
       "      <td>-34.605006</td>\n",
       "    </tr>\n",
       "    <tr>\n",
       "      <th>4</th>\n",
       "      <td>-58.459957</td>\n",
       "      <td>-34.615847</td>\n",
       "    </tr>\n",
       "    <tr>\n",
       "      <th>...</th>\n",
       "      <td>...</td>\n",
       "      <td>...</td>\n",
       "    </tr>\n",
       "    <tr>\n",
       "      <th>2945</th>\n",
       "      <td>-58.418304</td>\n",
       "      <td>-34.617428</td>\n",
       "    </tr>\n",
       "    <tr>\n",
       "      <th>2946</th>\n",
       "      <td>-58.415568</td>\n",
       "      <td>-34.590708</td>\n",
       "    </tr>\n",
       "    <tr>\n",
       "      <th>2947</th>\n",
       "      <td>-58.470731</td>\n",
       "      <td>-34.537851</td>\n",
       "    </tr>\n",
       "    <tr>\n",
       "      <th>2948</th>\n",
       "      <td>-58.444045</td>\n",
       "      <td>-34.596715</td>\n",
       "    </tr>\n",
       "    <tr>\n",
       "      <th>2949</th>\n",
       "      <td>-58.455439</td>\n",
       "      <td>-34.574537</td>\n",
       "    </tr>\n",
       "  </tbody>\n",
       "</table>\n",
       "<p>2950 rows × 2 columns</p>\n",
       "</div>"
      ],
      "text/plain": [
       "            lon        lat\n",
       "0    -58.458681 -34.604783\n",
       "1    -58.454693 -34.584651\n",
       "2    -58.500115 -34.638979\n",
       "3    -58.400116 -34.605006\n",
       "4    -58.459957 -34.615847\n",
       "...         ...        ...\n",
       "2945 -58.418304 -34.617428\n",
       "2946 -58.415568 -34.590708\n",
       "2947 -58.470731 -34.537851\n",
       "2948 -58.444045 -34.596715\n",
       "2949 -58.455439 -34.574537\n",
       "\n",
       "[2950 rows x 2 columns]"
      ]
     },
     "execution_count": 130,
     "metadata": {},
     "output_type": "execute_result"
    }
   ],
   "source": [
    "features = [\"lon\",\"lat\"]\n",
    "X_train = df[features]\n",
    "print(X_train.shape)\n",
    "X_train"
   ]
  },
  {
   "cell_type": "code",
   "execution_count": 131,
   "id": "dc630803",
   "metadata": {},
   "outputs": [
    {
     "name": "stdout",
     "output_type": "stream",
     "text": [
      "(2950,)\n",
      "0    180000.0\n",
      "1    129000.0\n",
      "2     87000.0\n",
      "3     60000.0\n",
      "4    118000.0\n",
      "Name: price_aprox_usd, dtype: float64\n"
     ]
    }
   ],
   "source": [
    "y_train = df[\"price_aprox_usd\"]\n",
    "print(y_train.shape)\n",
    "print(y_train.head())"
   ]
  },
  {
   "cell_type": "markdown",
   "id": "2080bb71",
   "metadata": {},
   "source": [
    "##### Building the Model"
   ]
  },
  {
   "cell_type": "code",
   "execution_count": 132,
   "id": "f27822c1",
   "metadata": {},
   "outputs": [
    {
     "name": "stdout",
     "output_type": "stream",
     "text": [
      "138422.43\n"
     ]
    }
   ],
   "source": [
    "# Finding the baseline value\n",
    "\n",
    "# y_mean = y_train.mean() This can be also used which is a pandas function\n",
    "y_mean = round(np.average(y_train),2)\n",
    "print(y_mean)"
   ]
  },
  {
   "cell_type": "code",
   "execution_count": 133,
   "id": "44e37ddc",
   "metadata": {},
   "outputs": [
    {
     "data": {
      "text/plain": [
       "[np.float64(138422.43),\n",
       " np.float64(138422.43),\n",
       " np.float64(138422.43),\n",
       " np.float64(138422.43),\n",
       " np.float64(138422.43)]"
      ]
     },
     "execution_count": 133,
     "metadata": {},
     "output_type": "execute_result"
    }
   ],
   "source": [
    "y_pred_baseline = [y_mean] * len(y_train)\n",
    "y_pred_baseline[:5]"
   ]
  },
  {
   "cell_type": "code",
   "execution_count": 134,
   "id": "268b3588",
   "metadata": {},
   "outputs": [
    {
     "name": "stdout",
     "output_type": "stream",
     "text": [
      "50825.79\n"
     ]
    }
   ],
   "source": [
    "y_train_mae=mean_absolute_error(y_true=y_train,y_pred=y_pred_baseline)\n",
    "print(round(y_train_mae,2))"
   ]
  },
  {
   "cell_type": "markdown",
   "id": "433ff0e2",
   "metadata": {},
   "source": [
    "<p style=\"color:orange\">Data Imputation (Handling Missing Data)</p>"
   ]
  },
  {
   "cell_type": "code",
   "execution_count": 135,
   "id": "b50d3f2e",
   "metadata": {},
   "outputs": [
    {
     "name": "stdout",
     "output_type": "stream",
     "text": [
      "<class 'pandas.core.frame.DataFrame'>\n",
      "RangeIndex: 2950 entries, 0 to 2949\n",
      "Data columns (total 2 columns):\n",
      " #   Column  Non-Null Count  Dtype  \n",
      "---  ------  --------------  -----  \n",
      " 0   lon     2837 non-null   float64\n",
      " 1   lat     2837 non-null   float64\n",
      "dtypes: float64(2)\n",
      "memory usage: 46.2 KB\n",
      "None\n",
      "--------------------------------------------------\n",
      "Actual number of data points: 2950, \n",
      "null values: lon    113\n",
      "lat    113\n",
      "dtype: int64\n"
     ]
    }
   ],
   "source": [
    "print(X_train.info())\n",
    "print(\"-\"*50)\n",
    "print(f\"Actual number of data points: {len(X_train)}, \\nnull values: {X_train.isna().sum()}\")"
   ]
  },
  {
   "cell_type": "markdown",
   "id": "0fa02c33",
   "metadata": {},
   "source": [
    "##### Using Imputer separately"
   ]
  },
  {
   "cell_type": "code",
   "execution_count": 136,
   "id": "b8e9d0aa",
   "metadata": {},
   "outputs": [],
   "source": [
    "# imputer = SimpleImputer()"
   ]
  },
  {
   "cell_type": "code",
   "execution_count": 137,
   "id": "3c89405f",
   "metadata": {},
   "outputs": [],
   "source": [
    "# imputer.fit(X_train)"
   ]
  },
  {
   "cell_type": "code",
   "execution_count": 138,
   "id": "b540206e",
   "metadata": {},
   "outputs": [],
   "source": [
    "# XT_train = imputer.transform(X_train)\n",
    "# pd.DataFrame(XT_train,columns=X_train.columns).info()"
   ]
  },
  {
   "cell_type": "markdown",
   "id": "bd4e47bb",
   "metadata": {},
   "source": [
    "##### <p style=\"color:orange\">Pipeline</p>"
   ]
  },
  {
   "cell_type": "code",
   "execution_count": 139,
   "id": "350297f2",
   "metadata": {},
   "outputs": [],
   "source": [
    "model = make_pipeline(\n",
    "    SimpleImputer(),\n",
    "    LinearRegression()\n",
    ")"
   ]
  },
  {
   "cell_type": "code",
   "execution_count": 140,
   "id": "32815cb6",
   "metadata": {},
   "outputs": [
    {
     "data": {
      "text/html": [
       "<style>#sk-container-id-5 {\n",
       "  /* Definition of color scheme common for light and dark mode */\n",
       "  --sklearn-color-text: #000;\n",
       "  --sklearn-color-text-muted: #666;\n",
       "  --sklearn-color-line: gray;\n",
       "  /* Definition of color scheme for unfitted estimators */\n",
       "  --sklearn-color-unfitted-level-0: #fff5e6;\n",
       "  --sklearn-color-unfitted-level-1: #f6e4d2;\n",
       "  --sklearn-color-unfitted-level-2: #ffe0b3;\n",
       "  --sklearn-color-unfitted-level-3: chocolate;\n",
       "  /* Definition of color scheme for fitted estimators */\n",
       "  --sklearn-color-fitted-level-0: #f0f8ff;\n",
       "  --sklearn-color-fitted-level-1: #d4ebff;\n",
       "  --sklearn-color-fitted-level-2: #b3dbfd;\n",
       "  --sklearn-color-fitted-level-3: cornflowerblue;\n",
       "\n",
       "  /* Specific color for light theme */\n",
       "  --sklearn-color-text-on-default-background: var(--sg-text-color, var(--theme-code-foreground, var(--jp-content-font-color1, black)));\n",
       "  --sklearn-color-background: var(--sg-background-color, var(--theme-background, var(--jp-layout-color0, white)));\n",
       "  --sklearn-color-border-box: var(--sg-text-color, var(--theme-code-foreground, var(--jp-content-font-color1, black)));\n",
       "  --sklearn-color-icon: #696969;\n",
       "\n",
       "  @media (prefers-color-scheme: dark) {\n",
       "    /* Redefinition of color scheme for dark theme */\n",
       "    --sklearn-color-text-on-default-background: var(--sg-text-color, var(--theme-code-foreground, var(--jp-content-font-color1, white)));\n",
       "    --sklearn-color-background: var(--sg-background-color, var(--theme-background, var(--jp-layout-color0, #111)));\n",
       "    --sklearn-color-border-box: var(--sg-text-color, var(--theme-code-foreground, var(--jp-content-font-color1, white)));\n",
       "    --sklearn-color-icon: #878787;\n",
       "  }\n",
       "}\n",
       "\n",
       "#sk-container-id-5 {\n",
       "  color: var(--sklearn-color-text);\n",
       "}\n",
       "\n",
       "#sk-container-id-5 pre {\n",
       "  padding: 0;\n",
       "}\n",
       "\n",
       "#sk-container-id-5 input.sk-hidden--visually {\n",
       "  border: 0;\n",
       "  clip: rect(1px 1px 1px 1px);\n",
       "  clip: rect(1px, 1px, 1px, 1px);\n",
       "  height: 1px;\n",
       "  margin: -1px;\n",
       "  overflow: hidden;\n",
       "  padding: 0;\n",
       "  position: absolute;\n",
       "  width: 1px;\n",
       "}\n",
       "\n",
       "#sk-container-id-5 div.sk-dashed-wrapped {\n",
       "  border: 1px dashed var(--sklearn-color-line);\n",
       "  margin: 0 0.4em 0.5em 0.4em;\n",
       "  box-sizing: border-box;\n",
       "  padding-bottom: 0.4em;\n",
       "  background-color: var(--sklearn-color-background);\n",
       "}\n",
       "\n",
       "#sk-container-id-5 div.sk-container {\n",
       "  /* jupyter's `normalize.less` sets `[hidden] { display: none; }`\n",
       "     but bootstrap.min.css set `[hidden] { display: none !important; }`\n",
       "     so we also need the `!important` here to be able to override the\n",
       "     default hidden behavior on the sphinx rendered scikit-learn.org.\n",
       "     See: https://github.com/scikit-learn/scikit-learn/issues/21755 */\n",
       "  display: inline-block !important;\n",
       "  position: relative;\n",
       "}\n",
       "\n",
       "#sk-container-id-5 div.sk-text-repr-fallback {\n",
       "  display: none;\n",
       "}\n",
       "\n",
       "div.sk-parallel-item,\n",
       "div.sk-serial,\n",
       "div.sk-item {\n",
       "  /* draw centered vertical line to link estimators */\n",
       "  background-image: linear-gradient(var(--sklearn-color-text-on-default-background), var(--sklearn-color-text-on-default-background));\n",
       "  background-size: 2px 100%;\n",
       "  background-repeat: no-repeat;\n",
       "  background-position: center center;\n",
       "}\n",
       "\n",
       "/* Parallel-specific style estimator block */\n",
       "\n",
       "#sk-container-id-5 div.sk-parallel-item::after {\n",
       "  content: \"\";\n",
       "  width: 100%;\n",
       "  border-bottom: 2px solid var(--sklearn-color-text-on-default-background);\n",
       "  flex-grow: 1;\n",
       "}\n",
       "\n",
       "#sk-container-id-5 div.sk-parallel {\n",
       "  display: flex;\n",
       "  align-items: stretch;\n",
       "  justify-content: center;\n",
       "  background-color: var(--sklearn-color-background);\n",
       "  position: relative;\n",
       "}\n",
       "\n",
       "#sk-container-id-5 div.sk-parallel-item {\n",
       "  display: flex;\n",
       "  flex-direction: column;\n",
       "}\n",
       "\n",
       "#sk-container-id-5 div.sk-parallel-item:first-child::after {\n",
       "  align-self: flex-end;\n",
       "  width: 50%;\n",
       "}\n",
       "\n",
       "#sk-container-id-5 div.sk-parallel-item:last-child::after {\n",
       "  align-self: flex-start;\n",
       "  width: 50%;\n",
       "}\n",
       "\n",
       "#sk-container-id-5 div.sk-parallel-item:only-child::after {\n",
       "  width: 0;\n",
       "}\n",
       "\n",
       "/* Serial-specific style estimator block */\n",
       "\n",
       "#sk-container-id-5 div.sk-serial {\n",
       "  display: flex;\n",
       "  flex-direction: column;\n",
       "  align-items: center;\n",
       "  background-color: var(--sklearn-color-background);\n",
       "  padding-right: 1em;\n",
       "  padding-left: 1em;\n",
       "}\n",
       "\n",
       "\n",
       "/* Toggleable style: style used for estimator/Pipeline/ColumnTransformer box that is\n",
       "clickable and can be expanded/collapsed.\n",
       "- Pipeline and ColumnTransformer use this feature and define the default style\n",
       "- Estimators will overwrite some part of the style using the `sk-estimator` class\n",
       "*/\n",
       "\n",
       "/* Pipeline and ColumnTransformer style (default) */\n",
       "\n",
       "#sk-container-id-5 div.sk-toggleable {\n",
       "  /* Default theme specific background. It is overwritten whether we have a\n",
       "  specific estimator or a Pipeline/ColumnTransformer */\n",
       "  background-color: var(--sklearn-color-background);\n",
       "}\n",
       "\n",
       "/* Toggleable label */\n",
       "#sk-container-id-5 label.sk-toggleable__label {\n",
       "  cursor: pointer;\n",
       "  display: flex;\n",
       "  width: 100%;\n",
       "  margin-bottom: 0;\n",
       "  padding: 0.5em;\n",
       "  box-sizing: border-box;\n",
       "  text-align: center;\n",
       "  align-items: start;\n",
       "  justify-content: space-between;\n",
       "  gap: 0.5em;\n",
       "}\n",
       "\n",
       "#sk-container-id-5 label.sk-toggleable__label .caption {\n",
       "  font-size: 0.6rem;\n",
       "  font-weight: lighter;\n",
       "  color: var(--sklearn-color-text-muted);\n",
       "}\n",
       "\n",
       "#sk-container-id-5 label.sk-toggleable__label-arrow:before {\n",
       "  /* Arrow on the left of the label */\n",
       "  content: \"▸\";\n",
       "  float: left;\n",
       "  margin-right: 0.25em;\n",
       "  color: var(--sklearn-color-icon);\n",
       "}\n",
       "\n",
       "#sk-container-id-5 label.sk-toggleable__label-arrow:hover:before {\n",
       "  color: var(--sklearn-color-text);\n",
       "}\n",
       "\n",
       "/* Toggleable content - dropdown */\n",
       "\n",
       "#sk-container-id-5 div.sk-toggleable__content {\n",
       "  display: none;\n",
       "  text-align: left;\n",
       "  /* unfitted */\n",
       "  background-color: var(--sklearn-color-unfitted-level-0);\n",
       "}\n",
       "\n",
       "#sk-container-id-5 div.sk-toggleable__content.fitted {\n",
       "  /* fitted */\n",
       "  background-color: var(--sklearn-color-fitted-level-0);\n",
       "}\n",
       "\n",
       "#sk-container-id-5 div.sk-toggleable__content pre {\n",
       "  margin: 0.2em;\n",
       "  border-radius: 0.25em;\n",
       "  color: var(--sklearn-color-text);\n",
       "  /* unfitted */\n",
       "  background-color: var(--sklearn-color-unfitted-level-0);\n",
       "}\n",
       "\n",
       "#sk-container-id-5 div.sk-toggleable__content.fitted pre {\n",
       "  /* unfitted */\n",
       "  background-color: var(--sklearn-color-fitted-level-0);\n",
       "}\n",
       "\n",
       "#sk-container-id-5 input.sk-toggleable__control:checked~div.sk-toggleable__content {\n",
       "  /* Expand drop-down */\n",
       "  display: block;\n",
       "  width: 100%;\n",
       "  overflow: visible;\n",
       "}\n",
       "\n",
       "#sk-container-id-5 input.sk-toggleable__control:checked~label.sk-toggleable__label-arrow:before {\n",
       "  content: \"▾\";\n",
       "}\n",
       "\n",
       "/* Pipeline/ColumnTransformer-specific style */\n",
       "\n",
       "#sk-container-id-5 div.sk-label input.sk-toggleable__control:checked~label.sk-toggleable__label {\n",
       "  color: var(--sklearn-color-text);\n",
       "  background-color: var(--sklearn-color-unfitted-level-2);\n",
       "}\n",
       "\n",
       "#sk-container-id-5 div.sk-label.fitted input.sk-toggleable__control:checked~label.sk-toggleable__label {\n",
       "  background-color: var(--sklearn-color-fitted-level-2);\n",
       "}\n",
       "\n",
       "/* Estimator-specific style */\n",
       "\n",
       "/* Colorize estimator box */\n",
       "#sk-container-id-5 div.sk-estimator input.sk-toggleable__control:checked~label.sk-toggleable__label {\n",
       "  /* unfitted */\n",
       "  background-color: var(--sklearn-color-unfitted-level-2);\n",
       "}\n",
       "\n",
       "#sk-container-id-5 div.sk-estimator.fitted input.sk-toggleable__control:checked~label.sk-toggleable__label {\n",
       "  /* fitted */\n",
       "  background-color: var(--sklearn-color-fitted-level-2);\n",
       "}\n",
       "\n",
       "#sk-container-id-5 div.sk-label label.sk-toggleable__label,\n",
       "#sk-container-id-5 div.sk-label label {\n",
       "  /* The background is the default theme color */\n",
       "  color: var(--sklearn-color-text-on-default-background);\n",
       "}\n",
       "\n",
       "/* On hover, darken the color of the background */\n",
       "#sk-container-id-5 div.sk-label:hover label.sk-toggleable__label {\n",
       "  color: var(--sklearn-color-text);\n",
       "  background-color: var(--sklearn-color-unfitted-level-2);\n",
       "}\n",
       "\n",
       "/* Label box, darken color on hover, fitted */\n",
       "#sk-container-id-5 div.sk-label.fitted:hover label.sk-toggleable__label.fitted {\n",
       "  color: var(--sklearn-color-text);\n",
       "  background-color: var(--sklearn-color-fitted-level-2);\n",
       "}\n",
       "\n",
       "/* Estimator label */\n",
       "\n",
       "#sk-container-id-5 div.sk-label label {\n",
       "  font-family: monospace;\n",
       "  font-weight: bold;\n",
       "  display: inline-block;\n",
       "  line-height: 1.2em;\n",
       "}\n",
       "\n",
       "#sk-container-id-5 div.sk-label-container {\n",
       "  text-align: center;\n",
       "}\n",
       "\n",
       "/* Estimator-specific */\n",
       "#sk-container-id-5 div.sk-estimator {\n",
       "  font-family: monospace;\n",
       "  border: 1px dotted var(--sklearn-color-border-box);\n",
       "  border-radius: 0.25em;\n",
       "  box-sizing: border-box;\n",
       "  margin-bottom: 0.5em;\n",
       "  /* unfitted */\n",
       "  background-color: var(--sklearn-color-unfitted-level-0);\n",
       "}\n",
       "\n",
       "#sk-container-id-5 div.sk-estimator.fitted {\n",
       "  /* fitted */\n",
       "  background-color: var(--sklearn-color-fitted-level-0);\n",
       "}\n",
       "\n",
       "/* on hover */\n",
       "#sk-container-id-5 div.sk-estimator:hover {\n",
       "  /* unfitted */\n",
       "  background-color: var(--sklearn-color-unfitted-level-2);\n",
       "}\n",
       "\n",
       "#sk-container-id-5 div.sk-estimator.fitted:hover {\n",
       "  /* fitted */\n",
       "  background-color: var(--sklearn-color-fitted-level-2);\n",
       "}\n",
       "\n",
       "/* Specification for estimator info (e.g. \"i\" and \"?\") */\n",
       "\n",
       "/* Common style for \"i\" and \"?\" */\n",
       "\n",
       ".sk-estimator-doc-link,\n",
       "a:link.sk-estimator-doc-link,\n",
       "a:visited.sk-estimator-doc-link {\n",
       "  float: right;\n",
       "  font-size: smaller;\n",
       "  line-height: 1em;\n",
       "  font-family: monospace;\n",
       "  background-color: var(--sklearn-color-background);\n",
       "  border-radius: 1em;\n",
       "  height: 1em;\n",
       "  width: 1em;\n",
       "  text-decoration: none !important;\n",
       "  margin-left: 0.5em;\n",
       "  text-align: center;\n",
       "  /* unfitted */\n",
       "  border: var(--sklearn-color-unfitted-level-1) 1pt solid;\n",
       "  color: var(--sklearn-color-unfitted-level-1);\n",
       "}\n",
       "\n",
       ".sk-estimator-doc-link.fitted,\n",
       "a:link.sk-estimator-doc-link.fitted,\n",
       "a:visited.sk-estimator-doc-link.fitted {\n",
       "  /* fitted */\n",
       "  border: var(--sklearn-color-fitted-level-1) 1pt solid;\n",
       "  color: var(--sklearn-color-fitted-level-1);\n",
       "}\n",
       "\n",
       "/* On hover */\n",
       "div.sk-estimator:hover .sk-estimator-doc-link:hover,\n",
       ".sk-estimator-doc-link:hover,\n",
       "div.sk-label-container:hover .sk-estimator-doc-link:hover,\n",
       ".sk-estimator-doc-link:hover {\n",
       "  /* unfitted */\n",
       "  background-color: var(--sklearn-color-unfitted-level-3);\n",
       "  color: var(--sklearn-color-background);\n",
       "  text-decoration: none;\n",
       "}\n",
       "\n",
       "div.sk-estimator.fitted:hover .sk-estimator-doc-link.fitted:hover,\n",
       ".sk-estimator-doc-link.fitted:hover,\n",
       "div.sk-label-container:hover .sk-estimator-doc-link.fitted:hover,\n",
       ".sk-estimator-doc-link.fitted:hover {\n",
       "  /* fitted */\n",
       "  background-color: var(--sklearn-color-fitted-level-3);\n",
       "  color: var(--sklearn-color-background);\n",
       "  text-decoration: none;\n",
       "}\n",
       "\n",
       "/* Span, style for the box shown on hovering the info icon */\n",
       ".sk-estimator-doc-link span {\n",
       "  display: none;\n",
       "  z-index: 9999;\n",
       "  position: relative;\n",
       "  font-weight: normal;\n",
       "  right: .2ex;\n",
       "  padding: .5ex;\n",
       "  margin: .5ex;\n",
       "  width: min-content;\n",
       "  min-width: 20ex;\n",
       "  max-width: 50ex;\n",
       "  color: var(--sklearn-color-text);\n",
       "  box-shadow: 2pt 2pt 4pt #999;\n",
       "  /* unfitted */\n",
       "  background: var(--sklearn-color-unfitted-level-0);\n",
       "  border: .5pt solid var(--sklearn-color-unfitted-level-3);\n",
       "}\n",
       "\n",
       ".sk-estimator-doc-link.fitted span {\n",
       "  /* fitted */\n",
       "  background: var(--sklearn-color-fitted-level-0);\n",
       "  border: var(--sklearn-color-fitted-level-3);\n",
       "}\n",
       "\n",
       ".sk-estimator-doc-link:hover span {\n",
       "  display: block;\n",
       "}\n",
       "\n",
       "/* \"?\"-specific style due to the `<a>` HTML tag */\n",
       "\n",
       "#sk-container-id-5 a.estimator_doc_link {\n",
       "  float: right;\n",
       "  font-size: 1rem;\n",
       "  line-height: 1em;\n",
       "  font-family: monospace;\n",
       "  background-color: var(--sklearn-color-background);\n",
       "  border-radius: 1rem;\n",
       "  height: 1rem;\n",
       "  width: 1rem;\n",
       "  text-decoration: none;\n",
       "  /* unfitted */\n",
       "  color: var(--sklearn-color-unfitted-level-1);\n",
       "  border: var(--sklearn-color-unfitted-level-1) 1pt solid;\n",
       "}\n",
       "\n",
       "#sk-container-id-5 a.estimator_doc_link.fitted {\n",
       "  /* fitted */\n",
       "  border: var(--sklearn-color-fitted-level-1) 1pt solid;\n",
       "  color: var(--sklearn-color-fitted-level-1);\n",
       "}\n",
       "\n",
       "/* On hover */\n",
       "#sk-container-id-5 a.estimator_doc_link:hover {\n",
       "  /* unfitted */\n",
       "  background-color: var(--sklearn-color-unfitted-level-3);\n",
       "  color: var(--sklearn-color-background);\n",
       "  text-decoration: none;\n",
       "}\n",
       "\n",
       "#sk-container-id-5 a.estimator_doc_link.fitted:hover {\n",
       "  /* fitted */\n",
       "  background-color: var(--sklearn-color-fitted-level-3);\n",
       "}\n",
       "\n",
       ".estimator-table summary {\n",
       "    padding: .5rem;\n",
       "    font-family: monospace;\n",
       "    cursor: pointer;\n",
       "}\n",
       "\n",
       ".estimator-table details[open] {\n",
       "    padding-left: 0.1rem;\n",
       "    padding-right: 0.1rem;\n",
       "    padding-bottom: 0.3rem;\n",
       "}\n",
       "\n",
       ".estimator-table .parameters-table {\n",
       "    margin-left: auto !important;\n",
       "    margin-right: auto !important;\n",
       "}\n",
       "\n",
       ".estimator-table .parameters-table tr:nth-child(odd) {\n",
       "    background-color: #fff;\n",
       "}\n",
       "\n",
       ".estimator-table .parameters-table tr:nth-child(even) {\n",
       "    background-color: #f6f6f6;\n",
       "}\n",
       "\n",
       ".estimator-table .parameters-table tr:hover {\n",
       "    background-color: #e0e0e0;\n",
       "}\n",
       "\n",
       ".estimator-table table td {\n",
       "    border: 1px solid rgba(106, 105, 104, 0.232);\n",
       "}\n",
       "\n",
       ".user-set td {\n",
       "    color:rgb(255, 94, 0);\n",
       "    text-align: left;\n",
       "}\n",
       "\n",
       ".user-set td.value pre {\n",
       "    color:rgb(255, 94, 0) !important;\n",
       "    background-color: transparent !important;\n",
       "}\n",
       "\n",
       ".default td {\n",
       "    color: black;\n",
       "    text-align: left;\n",
       "}\n",
       "\n",
       ".user-set td i,\n",
       ".default td i {\n",
       "    color: black;\n",
       "}\n",
       "\n",
       ".copy-paste-icon {\n",
       "    background-image: url(data:image/svg+xml;base64,PHN2ZyB4bWxucz0iaHR0cDovL3d3dy53My5vcmcvMjAwMC9zdmciIHZpZXdCb3g9IjAgMCA0NDggNTEyIj48IS0tIUZvbnQgQXdlc29tZSBGcmVlIDYuNy4yIGJ5IEBmb250YXdlc29tZSAtIGh0dHBzOi8vZm9udGF3ZXNvbWUuY29tIExpY2Vuc2UgLSBodHRwczovL2ZvbnRhd2Vzb21lLmNvbS9saWNlbnNlL2ZyZWUgQ29weXJpZ2h0IDIwMjUgRm9udGljb25zLCBJbmMuLS0+PHBhdGggZD0iTTIwOCAwTDMzMi4xIDBjMTIuNyAwIDI0LjkgNS4xIDMzLjkgMTQuMWw2Ny45IDY3LjljOSA5IDE0LjEgMjEuMiAxNC4xIDMzLjlMNDQ4IDMzNmMwIDI2LjUtMjEuNSA0OC00OCA0OGwtMTkyIDBjLTI2LjUgMC00OC0yMS41LTQ4LTQ4bDAtMjg4YzAtMjYuNSAyMS41LTQ4IDQ4LTQ4ek00OCAxMjhsODAgMCAwIDY0LTY0IDAgMCAyNTYgMTkyIDAgMC0zMiA2NCAwIDAgNDhjMCAyNi41LTIxLjUgNDgtNDggNDhMNDggNTEyYy0yNi41IDAtNDgtMjEuNS00OC00OEwwIDE3NmMwLTI2LjUgMjEuNS00OCA0OC00OHoiLz48L3N2Zz4=);\n",
       "    background-repeat: no-repeat;\n",
       "    background-size: 14px 14px;\n",
       "    background-position: 0;\n",
       "    display: inline-block;\n",
       "    width: 14px;\n",
       "    height: 14px;\n",
       "    cursor: pointer;\n",
       "}\n",
       "</style><body><div id=\"sk-container-id-5\" class=\"sk-top-container\"><div class=\"sk-text-repr-fallback\"><pre>Pipeline(steps=[(&#x27;simpleimputer&#x27;, SimpleImputer()),\n",
       "                (&#x27;linearregression&#x27;, LinearRegression())])</pre><b>In a Jupyter environment, please rerun this cell to show the HTML representation or trust the notebook. <br />On GitHub, the HTML representation is unable to render, please try loading this page with nbviewer.org.</b></div><div class=\"sk-container\" hidden><div class=\"sk-item sk-dashed-wrapped\"><div class=\"sk-label-container\"><div class=\"sk-label fitted sk-toggleable\"><input class=\"sk-toggleable__control sk-hidden--visually\" id=\"sk-estimator-id-9\" type=\"checkbox\" ><label for=\"sk-estimator-id-9\" class=\"sk-toggleable__label fitted sk-toggleable__label-arrow\"><div><div>Pipeline</div></div><div><a class=\"sk-estimator-doc-link fitted\" rel=\"noreferrer\" target=\"_blank\" href=\"https://scikit-learn.org/1.7/modules/generated/sklearn.pipeline.Pipeline.html\">?<span>Documentation for Pipeline</span></a><span class=\"sk-estimator-doc-link fitted\">i<span>Fitted</span></span></div></label><div class=\"sk-toggleable__content fitted\" data-param-prefix=\"\">\n",
       "        <div class=\"estimator-table\">\n",
       "            <details>\n",
       "                <summary>Parameters</summary>\n",
       "                <table class=\"parameters-table\">\n",
       "                  <tbody>\n",
       "                    \n",
       "        <tr class=\"user-set\">\n",
       "            <td><i class=\"copy-paste-icon\"\n",
       "                 onclick=\"copyToClipboard('steps',\n",
       "                          this.parentElement.nextElementSibling)\"\n",
       "            ></i></td>\n",
       "            <td class=\"param\">steps&nbsp;</td>\n",
       "            <td class=\"value\">[(&#x27;simpleimputer&#x27;, ...), (&#x27;linearregression&#x27;, ...)]</td>\n",
       "        </tr>\n",
       "    \n",
       "\n",
       "        <tr class=\"default\">\n",
       "            <td><i class=\"copy-paste-icon\"\n",
       "                 onclick=\"copyToClipboard('transform_input',\n",
       "                          this.parentElement.nextElementSibling)\"\n",
       "            ></i></td>\n",
       "            <td class=\"param\">transform_input&nbsp;</td>\n",
       "            <td class=\"value\">None</td>\n",
       "        </tr>\n",
       "    \n",
       "\n",
       "        <tr class=\"default\">\n",
       "            <td><i class=\"copy-paste-icon\"\n",
       "                 onclick=\"copyToClipboard('memory',\n",
       "                          this.parentElement.nextElementSibling)\"\n",
       "            ></i></td>\n",
       "            <td class=\"param\">memory&nbsp;</td>\n",
       "            <td class=\"value\">None</td>\n",
       "        </tr>\n",
       "    \n",
       "\n",
       "        <tr class=\"default\">\n",
       "            <td><i class=\"copy-paste-icon\"\n",
       "                 onclick=\"copyToClipboard('verbose',\n",
       "                          this.parentElement.nextElementSibling)\"\n",
       "            ></i></td>\n",
       "            <td class=\"param\">verbose&nbsp;</td>\n",
       "            <td class=\"value\">False</td>\n",
       "        </tr>\n",
       "    \n",
       "                  </tbody>\n",
       "                </table>\n",
       "            </details>\n",
       "        </div>\n",
       "    </div></div></div><div class=\"sk-serial\"><div class=\"sk-item\"><div class=\"sk-estimator fitted sk-toggleable\"><input class=\"sk-toggleable__control sk-hidden--visually\" id=\"sk-estimator-id-10\" type=\"checkbox\" ><label for=\"sk-estimator-id-10\" class=\"sk-toggleable__label fitted sk-toggleable__label-arrow\"><div><div>SimpleImputer</div></div><div><a class=\"sk-estimator-doc-link fitted\" rel=\"noreferrer\" target=\"_blank\" href=\"https://scikit-learn.org/1.7/modules/generated/sklearn.impute.SimpleImputer.html\">?<span>Documentation for SimpleImputer</span></a></div></label><div class=\"sk-toggleable__content fitted\" data-param-prefix=\"simpleimputer__\">\n",
       "        <div class=\"estimator-table\">\n",
       "            <details>\n",
       "                <summary>Parameters</summary>\n",
       "                <table class=\"parameters-table\">\n",
       "                  <tbody>\n",
       "                    \n",
       "        <tr class=\"default\">\n",
       "            <td><i class=\"copy-paste-icon\"\n",
       "                 onclick=\"copyToClipboard('missing_values',\n",
       "                          this.parentElement.nextElementSibling)\"\n",
       "            ></i></td>\n",
       "            <td class=\"param\">missing_values&nbsp;</td>\n",
       "            <td class=\"value\">nan</td>\n",
       "        </tr>\n",
       "    \n",
       "\n",
       "        <tr class=\"default\">\n",
       "            <td><i class=\"copy-paste-icon\"\n",
       "                 onclick=\"copyToClipboard('strategy',\n",
       "                          this.parentElement.nextElementSibling)\"\n",
       "            ></i></td>\n",
       "            <td class=\"param\">strategy&nbsp;</td>\n",
       "            <td class=\"value\">&#x27;mean&#x27;</td>\n",
       "        </tr>\n",
       "    \n",
       "\n",
       "        <tr class=\"default\">\n",
       "            <td><i class=\"copy-paste-icon\"\n",
       "                 onclick=\"copyToClipboard('fill_value',\n",
       "                          this.parentElement.nextElementSibling)\"\n",
       "            ></i></td>\n",
       "            <td class=\"param\">fill_value&nbsp;</td>\n",
       "            <td class=\"value\">None</td>\n",
       "        </tr>\n",
       "    \n",
       "\n",
       "        <tr class=\"default\">\n",
       "            <td><i class=\"copy-paste-icon\"\n",
       "                 onclick=\"copyToClipboard('copy',\n",
       "                          this.parentElement.nextElementSibling)\"\n",
       "            ></i></td>\n",
       "            <td class=\"param\">copy&nbsp;</td>\n",
       "            <td class=\"value\">True</td>\n",
       "        </tr>\n",
       "    \n",
       "\n",
       "        <tr class=\"default\">\n",
       "            <td><i class=\"copy-paste-icon\"\n",
       "                 onclick=\"copyToClipboard('add_indicator',\n",
       "                          this.parentElement.nextElementSibling)\"\n",
       "            ></i></td>\n",
       "            <td class=\"param\">add_indicator&nbsp;</td>\n",
       "            <td class=\"value\">False</td>\n",
       "        </tr>\n",
       "    \n",
       "\n",
       "        <tr class=\"default\">\n",
       "            <td><i class=\"copy-paste-icon\"\n",
       "                 onclick=\"copyToClipboard('keep_empty_features',\n",
       "                          this.parentElement.nextElementSibling)\"\n",
       "            ></i></td>\n",
       "            <td class=\"param\">keep_empty_features&nbsp;</td>\n",
       "            <td class=\"value\">False</td>\n",
       "        </tr>\n",
       "    \n",
       "                  </tbody>\n",
       "                </table>\n",
       "            </details>\n",
       "        </div>\n",
       "    </div></div></div><div class=\"sk-item\"><div class=\"sk-estimator fitted sk-toggleable\"><input class=\"sk-toggleable__control sk-hidden--visually\" id=\"sk-estimator-id-11\" type=\"checkbox\" ><label for=\"sk-estimator-id-11\" class=\"sk-toggleable__label fitted sk-toggleable__label-arrow\"><div><div>LinearRegression</div></div><div><a class=\"sk-estimator-doc-link fitted\" rel=\"noreferrer\" target=\"_blank\" href=\"https://scikit-learn.org/1.7/modules/generated/sklearn.linear_model.LinearRegression.html\">?<span>Documentation for LinearRegression</span></a></div></label><div class=\"sk-toggleable__content fitted\" data-param-prefix=\"linearregression__\">\n",
       "        <div class=\"estimator-table\">\n",
       "            <details>\n",
       "                <summary>Parameters</summary>\n",
       "                <table class=\"parameters-table\">\n",
       "                  <tbody>\n",
       "                    \n",
       "        <tr class=\"default\">\n",
       "            <td><i class=\"copy-paste-icon\"\n",
       "                 onclick=\"copyToClipboard('fit_intercept',\n",
       "                          this.parentElement.nextElementSibling)\"\n",
       "            ></i></td>\n",
       "            <td class=\"param\">fit_intercept&nbsp;</td>\n",
       "            <td class=\"value\">True</td>\n",
       "        </tr>\n",
       "    \n",
       "\n",
       "        <tr class=\"default\">\n",
       "            <td><i class=\"copy-paste-icon\"\n",
       "                 onclick=\"copyToClipboard('copy_X',\n",
       "                          this.parentElement.nextElementSibling)\"\n",
       "            ></i></td>\n",
       "            <td class=\"param\">copy_X&nbsp;</td>\n",
       "            <td class=\"value\">True</td>\n",
       "        </tr>\n",
       "    \n",
       "\n",
       "        <tr class=\"default\">\n",
       "            <td><i class=\"copy-paste-icon\"\n",
       "                 onclick=\"copyToClipboard('tol',\n",
       "                          this.parentElement.nextElementSibling)\"\n",
       "            ></i></td>\n",
       "            <td class=\"param\">tol&nbsp;</td>\n",
       "            <td class=\"value\">1e-06</td>\n",
       "        </tr>\n",
       "    \n",
       "\n",
       "        <tr class=\"default\">\n",
       "            <td><i class=\"copy-paste-icon\"\n",
       "                 onclick=\"copyToClipboard('n_jobs',\n",
       "                          this.parentElement.nextElementSibling)\"\n",
       "            ></i></td>\n",
       "            <td class=\"param\">n_jobs&nbsp;</td>\n",
       "            <td class=\"value\">None</td>\n",
       "        </tr>\n",
       "    \n",
       "\n",
       "        <tr class=\"default\">\n",
       "            <td><i class=\"copy-paste-icon\"\n",
       "                 onclick=\"copyToClipboard('positive',\n",
       "                          this.parentElement.nextElementSibling)\"\n",
       "            ></i></td>\n",
       "            <td class=\"param\">positive&nbsp;</td>\n",
       "            <td class=\"value\">False</td>\n",
       "        </tr>\n",
       "    \n",
       "                  </tbody>\n",
       "                </table>\n",
       "            </details>\n",
       "        </div>\n",
       "    </div></div></div></div></div></div></div><script>function copyToClipboard(text, element) {\n",
       "    // Get the parameter prefix from the closest toggleable content\n",
       "    const toggleableContent = element.closest('.sk-toggleable__content');\n",
       "    const paramPrefix = toggleableContent ? toggleableContent.dataset.paramPrefix : '';\n",
       "    const fullParamName = paramPrefix ? `${paramPrefix}${text}` : text;\n",
       "\n",
       "    const originalStyle = element.style;\n",
       "    const computedStyle = window.getComputedStyle(element);\n",
       "    const originalWidth = computedStyle.width;\n",
       "    const originalHTML = element.innerHTML.replace('Copied!', '');\n",
       "\n",
       "    navigator.clipboard.writeText(fullParamName)\n",
       "        .then(() => {\n",
       "            element.style.width = originalWidth;\n",
       "            element.style.color = 'green';\n",
       "            element.innerHTML = \"Copied!\";\n",
       "\n",
       "            setTimeout(() => {\n",
       "                element.innerHTML = originalHTML;\n",
       "                element.style = originalStyle;\n",
       "            }, 2000);\n",
       "        })\n",
       "        .catch(err => {\n",
       "            console.error('Failed to copy:', err);\n",
       "            element.style.color = 'red';\n",
       "            element.innerHTML = \"Failed!\";\n",
       "            setTimeout(() => {\n",
       "                element.innerHTML = originalHTML;\n",
       "                element.style = originalStyle;\n",
       "            }, 2000);\n",
       "        });\n",
       "    return false;\n",
       "}\n",
       "\n",
       "document.querySelectorAll('.fa-regular.fa-copy').forEach(function(element) {\n",
       "    const toggleableContent = element.closest('.sk-toggleable__content');\n",
       "    const paramPrefix = toggleableContent ? toggleableContent.dataset.paramPrefix : '';\n",
       "    const paramName = element.parentElement.nextElementSibling.textContent.trim();\n",
       "    const fullParamName = paramPrefix ? `${paramPrefix}${paramName}` : paramName;\n",
       "\n",
       "    element.setAttribute('title', fullParamName);\n",
       "});\n",
       "</script></body>"
      ],
      "text/plain": [
       "Pipeline(steps=[('simpleimputer', SimpleImputer()),\n",
       "                ('linearregression', LinearRegression())])"
      ]
     },
     "execution_count": 140,
     "metadata": {},
     "output_type": "execute_result"
    }
   ],
   "source": [
    "model.fit(X_train,y_train)"
   ]
  },
  {
   "cell_type": "code",
   "execution_count": 141,
   "id": "d4a3191b",
   "metadata": {},
   "outputs": [
    {
     "name": "stdout",
     "output_type": "stream",
     "text": [
      "[128364.81131475 146064.97627383  91200.24980231 ... 182025.90763538\n",
      " 138129.39833243 154393.7867469 ]\n",
      "(2950,)\n"
     ]
    }
   ],
   "source": [
    "y_pred_training =  model.predict(X_train)\n",
    "print(y_pred_training)\n",
    "print(y_pred_training.shape)"
   ]
  },
  {
   "cell_type": "code",
   "execution_count": 142,
   "id": "51770ba9",
   "metadata": {},
   "outputs": [
    {
     "name": "stdout",
     "output_type": "stream",
     "text": [
      "48137.09\n"
     ]
    }
   ],
   "source": [
    "mae_prediction = mean_absolute_error(y_true=y_train,y_pred=y_pred_training)\n",
    "print(round(mae_prediction,2))"
   ]
  },
  {
   "cell_type": "code",
   "execution_count": 143,
   "id": "4d68fc47",
   "metadata": {},
   "outputs": [
    {
     "data": {
      "application/vnd.plotly.v1+json": {
       "config": {
        "plotlyServerURL": "https://plot.ly"
       },
       "data": [
        {
         "hovertemplate": "longitude=%{x}<br>latitude=%{y}<br>price=%{z}<extra></extra>",
         "legendgroup": "",
         "marker": {
          "color": "#636efa",
          "line": {
           "color": "DarkSlateGrey",
           "width": 2
          },
          "size": 4,
          "symbol": "circle"
         },
         "mode": "markers",
         "name": "",
         "scene": "scene",
         "showlegend": false,
         "type": "scatter3d",
         "x": {
          "bdata": "8c0zEbY6TcBZtodjMzpNwJmesMQDQE3AZqc1AjczTcB8SPje3zpNwH2Kp8u3L03ABwjm6PEwTcAC4I4mzTRNwJkvinmxNk3AZttpa0Q2TcAMY1ireTxNwJVDMLN0Ok3AwoU8ghtDTcDmeXB31jhNwIS3ByEgN03AN5+E40MyTcB1h16QPjVNwD5mVqXjMU3A8cBbe/o9TcDm2gakszNNwHjUmBBzOE3AiysraDo5TcC7RsuBHj9NwJ0xJ8NMNk3AbFz/rs84TcBcFyO3yzRNwFAAxciSL03A3Qw34PM7TcCVQzCzdDpNwGxjRz4KMk3AhpbQuMs2TcDhuIybGjZNwMjOJPjiMk3AWd5VD5g1TcDzI9l+jTtNwMJpwYu+Mk3ADDITVnQ6TcAeFf93RDVNwONw5ldzM03A/DcvTnw1TcAvsH23Lz9NwFiut81UOk3A/BHQjmU6TcDMojfqVjhNwHBenPhqNE3AL96P2y83TcDjxcIQOT1NwLoyA/CqO03AVhbgFocwTcCr8nfOGjNNwPlOzHoxOE3AiO3VZLk4TcAAAAAAAAD4f0YGXtK9M03AIBGu2/s6TcADzlKynDJNwAAAAAAAAPh//l1EgHg7TcBm0BrN2zFNwK8/ic+dOk3A51CGqpg8TcDyQc9m1TlNwETAIVSpQU3AzQzR1+I4TcABomDGFDpNwLD065gEQ03AsU8Axcg2TcDNc0S+SzlNwGBlI8YhOk3AGQt8arkzTcAbECGunDtNwNbbIehBPE3AQ8MHG0M1TcCQWayXlTxNwBpSoKqdMU3ApbvrbMg1TcCgHjbsUjpNwF95kJ4iO03AxLwzyHA0TcD3t7pShTdNwNpVSPlJN03ASlkrf2M8TcCZ/tsbMjpNwO3KeKV2PU3A9/8WCRIxTcAIHt/eNTdNwJ6Xio15O03Ac4zQvRo4TcDioqTRLkBNwLItA85SNk3ANknim1w7TcCf6SXGMjFNwM+11OakQE3AIeo+AKk7TcBv835PUC9NwNW2vM12Nk3AECGunL09TcAdSM0NPDlNwCcUIuAQOk3Aa1VcZiJATcDySu2gbTRNwC7UUFkDM03A1VsDWyU4TcAok78gjjBNwGXIsfUMN03AebEwRE49TcD5mR8ksD9NwEjeOZShNk3AMMfhgiI2TcDTF0LO+zVNwEgpMoStNk3A51CGqpg8TcATSIld2z9NwBNHHogsME3AafS0De00TcAotoKmJTZNwAAAAAAAAPh/3/637dYwTcAPC7WmeTlNwPb8HxYgO03AWmNaIMQyTcAtJ/yt+DFNwA576w0IO03ATkkxm1s5TcAvMZbpl0BNwN2WyAVnNk3A/DcvTnw1TcBxoxLoXTlNwLTjht9NNU3AqBso8E43TcCsKjJ9gTVNwH8TChFwNk3AHnBdMSM+TcDcdutGaTZNwPpL5rOXN03A8nIiC+I3TcBFkf8TbTZNwNhucUNCOE3ARkPGo1Q4TcAAAAAAAAD4f/8lqUwxN03Ae1RXmYQ+TcCkU1c+yzFNwInOMotQOk3AWhNmNbgzTcB80R4vpDRNwJijx+9tO03Al1nfG544TcCqZJ19JzdNwJo5yfvdNU3Adhppqbw0TcDQDriumD1NwMlJcgo8M03AnunKDMBATcC8vsV57jNNwPsgy4KJOU3AqLS0CeY6TcAWvymsVDRNwEox9hTvM03AxeQNMPM5TcBHNZE+Uj1NwN8WLNUFO03AHHhaIyc4TcDQTyePXTZNwMvZO6OtOE3AlIlbBTE8TcACy1u/qjtNwCwT2WISOU3ATtGRXP47TcBbkT3nEzpNwH5zf/W4PU3AGosBbQYxTcCB4hEm1jtNwDN6JBQRQE3ABygNNYo0TcCiE53AzzVNwHE3LR0YN03AW3ipkzY7TcBYHBJjRz1NwHfMivIWNU3AP8hHDv4wTcCE04IXfTJNwHe+nxovO03AFqzM7485TcCQxlfx/D5NwEdWfhmMOU3A5E7pYP07TcC7Cb5p+jJNwE6wpIHEPE3AiLJc24A3TcDTESsg5zNNwCIcs+xJNk3AIef9f5w+TcB7VFeZhD5NwMNv+f68M03ADqJxPHEyTcAAAAAAAAD4f/F8qxopMk3AKM6ApNcwTcBc5QmEnThNwPzFbMmqOk3A+kZ0z7o8TcAsSZ7r+zZNwBeel4qNNU3Aa5/pgH8yTcB1kUJZ+DZNwBZQqKePNU3AzRiLS/o7TcDAEZMmlDNNwOPCgZAsOE3AtoXnpWJBTcDe3ICUljZNwMDnylL5OU3AsTOFzms3TcB3Xlq4ez1NwDSBIhYxPk3A4l2Jm643TcDgSU7YbDZNwPF5D+GpN03AtGhLZ3E2TcD/z2G+vDpNwN9qnbgcMU3ApfeNrz0vTcAsgCkDBzhNwHzUX6+wPE3A8ztNZrwxTcCZL4p5sTZNwPb8HxYgO03AfUCgM2k3TcD68l2lFjlNwFFXLZ+bN03AAAAAAAAA+H+H8eTkjz5NwJyftEnEOk3Al8eakUE5TcCi8Nk6ODJNwCVsiab9M03AU6rpH+k4TcCVQzCzdDpNwPe3ulKFN03ADp4JTRI9TcAMQz+uaDVNwMC0qE9yM03A4PYEie00TcBCz2bV5zJNwKMh41EqN03Aa+l2m9w6TcB19t+UAzdNwE8lXvmHOE3AZtr+lZU2TcB1BHCzeD1NwAAAAAAAAPh/GIbNWWY7TcBm2v6VlTZNwNIoE219Ok3AhJ84gH4+TcAr+kMzTzJNwNP2r6w0NU3AC5/KtJg+TcAHByBa0DFNwMZUVcPZOU3AxJlfzQEwTcA+7fDXZC9NwHDdg8YCOU3A+I2vPbNATcD9WeK31zNNwJECVe3kMk3A/MVsyao6TcDLZy/aoD5NwCwT2WISOU3ARkPGo1Q4TcA/9sSE4jpNwDsdyHpqN03AKM6ApNcwTcDsdUEzPjpNwD7lPXN7QU3AB+hj42YxTcBIyQYtfzlNwDNQGf8+M03AodbZNcY5TcCJLC1+rjVNwFzTclb6L03ALaqP0Us6TcAAAAAAAAD4f7om7sIgN03A84ewK3dCTcAAAAAAAAD4f7PO+L64OE3Aj4tqEVE7TcCiH/sM0DhNwC/gZYaNPk3A/qpt1FQ4TcB646Qw7z1NwCjOgKTXME3AcvkP6bczTcA5Rx0dVzpNwE5FKowtPU3A9MMI4dE7TcAAAAAAAAD4f21X6INlQE3Ax1CpbR46TcBzE7U0tz5NwDNlTYsGNE3AyU0eYPc3TcBmg71i9TJNwC2q6oq+PE3Arvsi/OYxTcAPmIdM+TZNwPi1qrOePE3Acqa8JwUyTcCotLQJ5jpNwKUjyijgOk3AnWSryykvTcAYIHZLFz1NwDelvFZCPU3ADYdKyKwzTcAAAAAAAAD4f08+PbZlP03AusTswJQ0TcDaSY6FMjxNwOT8qOG2PU3AWvcRK0M9TcCZf/RNmjpNwNmNiHMeN03Ac5NikXA4TcCeimVEszdNwB5aWoBsOU3A8Q7wpIU1TcAlEGVe/TpNwBSvsrYpLk3A5lsf1hsxTcAozoCk1zBNwM6OVN/5Mk3APrDjv0A4TcDnGfuSjTlNwJPGaB1VMU3ArnDE+645TcBjYYicvjRNwJRnXg67OU3ASBYwgVs7TcCqZJ19JzdNwNURxT2dM03Af03WqIc6TcBx1MBF3TdNwIAykUwKOU3AxfEyebk6TcBMNEjBUzhNwFRhIpStNE3AeEw4T9AyTcA2c0hqoTJNwJ6Xio15O03AnKlrSDc3TcCc3VomwzFNwIyvh0A/M03AOc3VIig6TcCZL4p5sTZNwAAAAAAAAPh/Ot+ZGrI3TcBUc7nBUDtNwF5wvPGkPU3AA4qiUcs+TcBivVErTD1NwDx6DQv/QU3A/MVsyao6TcDWLr7ISjRNwFKbOLnfOU3ADlr+Ms48TcBFTrqISjtNwH+7kR4rNk3AxVDz+jg3TcB7UFr8STpNwKDGvfkNN03AxawXQzkxTcA2kC42rTRNwJcoCIiMOk3AZ0eq7/w2TcBLkXwlkDRNwAfoY+NmMU3A+0DyzqE4TcASaRt/ojhNwB6KAn0iL03A7Jo1HaY6TcB1AMRdvTtNwKa/TTVpL03AM3BAS1c4TcAyMhLrnjdNwN+6B40FOE3AExbL4x84TcACNWvfkj9NwPzFbMmqOk3AHsNjP4szTcDtlFhjGjdNwAj98QP8L03Aw1GoXQI0TcC7lRvItzBNwKMqXEU1NE3AnGuYofE6TcAAAAAAAAD4fxMteTwtN03Ax3zl5sA6TcA2PSgoRT1NwOpNID8POE3A/DiaIys7TcBR08XmHjVNwLul+w6cOk3ACeZE0JM8TcBPzeUGQztNwLCMDd3sMU3AIh7kUBo3TcCasP1kjD1NwMEBLV3BM03AenB31m43TcCzfF2G/zpNwNCujFdqP03AKM6ApNcwTcBb6iCvBzVNwOIQAIwGQU3AvGsaJfkxTcAAK3bqgDBNwNyg9ls7O03AW+z2WWU2TcBSjAMaMjdNwJAWZwxzNk3AMyd5vxs3TcDzEHzCyDVNwP5itmRVOk3AX0jiQKM3TcCt7w3PXDxNwPQ0YJD0O03A1Em2upxATcDAEZMmlDNNwBd190pqME3AAcaOIVs+TcDNP/omTTlNwHuSKkDKMU3AGNF2TN0xTcDy43m6BDJNwKi0tAnmOk3AyC9yBcpATcB7VFeZhD5NwE6AYfnzN03ATIaIQJo3TcAUP8bctTJNwPJY2HhVLk3AD5iHTPk2TcB7+gj84UBNwCaLRdRnQU3AXwmX44s6TcCH3XcMjztNwDONJhdjPE3AGLvYDww2TcBoxBbMqTdNwKVquwm+PU3A/MVsyao6TcDRdkzdlT9NwAMjL2tiL03Ah913DI87TcCbkUHuIjRNwFwqJbodOE3AUUaHyVU3TcDzEHzCyDVNwC2vXG+bPU3A3kFHBhQ9TcDxmCYRhjlNwFEi0+tgNU3AwmeQJ+4+TcDkXNQ45S9NwKUZqfztL03ABr03hgA8TcC2G5eOrS9NwAAAAAAAAPh/Ztr+lZU2TcCQxlfx/D5NwIre8w2WO03AtCH/zCA6TcDEeM2rOjRNwD9vKlJhNk3AfkQC/Ak6TcCWzLG8qzJNwA0Pq4lPRU3AgaCSKdUxTcD1p+ij5zJNwGBlI8YhOk3AoE4eu7A7TcA5LdOKyjtNwAAAAAAAAPh/4qKk0S5ATcCmv001aS9NwOnXMQlyPE3AQQ5KmGk9TcA7iQj/Ii5NwKoDansFOk3A2RiFbkA4TcCtkn6xrTVNwJ2ifnJvOU3AlE4kmGo+TcCAY8+eyz1NwDdtxmmILk3AuU1dnnM4TcCoE3WLZTZNwNF/xdCgNU3AyUlyCjwzTcClCQ0cRj1NwEuKAe4PO03APZzAdFo9TcDnx19a1DlNwKpknX0nN03ATGvT2F4vTcCZJhGGpjNNwHv9pDVhME3AN/KK8aswTcDMojfqVjhNwAAAAAAAAPh/SrN5HAY7TcBpa+l2mzJNwN/+t+3WME3A0/avrDQ1TcALtDukGDhNwHkb08fHMU3AlC79S1I1TcAcMP5smjBNwPt46LtbP03A/YCsTJ06TcAAAAAAAAD4f3r/HydMNk3A6DRmba41TcAAAAAAAAD4f/0zg/jANE3ADoelgR81TcACnx9GCD1NwBmveVVnL03AZtr+lZU2TcB0o37NKC9NwAAAAAAAAPh/926YDdc0TcDFVPoJZz1NwBP69DNQNE3AoG8LluovTcAhIcoXtDhNwKBaM+g6O03AAAAAAAAA+H/WLr7ISjRNwOZbH9YbMU3ABsE+lS42TcCEqoce5zpNwGA97lutM03A3/637dYwTcCwcf27PjVNwIPab+1EOU3AhQfNrns6TcASI5VzczVNwD2Zf/RNMk3AzhlR2hs4TcDLt+PyxDFNwA2reCPzNE3A/E55V+k0TcAKhQg4hDRNwDvcrXW5Ok3ATun/ZY45TcAwEATI0D1NwBJnRdRENk3AZK2ZrJU3TcAzTuiabjNNwGba/pWVNk3AYr1RK0w9TcDGdq1zwj5NwAcM7fcfN03ADEM/rmg1TcCjYCHOHjtNwL69a9CXOk3AUyRfCaQ2TcCQxlfx/D5NwEgXm1YKN03Ae1RXmYQ+TcDOENjmEDRNwFwoTw/ANE3A2su209Y2TcA8Jpwn6DJNwDHvzF98N03AYIuChTg0TcDmWx/WGzFNwM42N6YnQE3A8xB8wsg1TcDWDF8VXjpNwBKDwMqhNU3AnpeKjXk7TcBA9+XMdi9NwKMZALQqMU3AAAAAAAAA+H/DaRxFMT1NwIXF8vgHQU3AyNKHLqg3TcCOL5BWazdNwDm5611GL03A4XBaQEU3TcDTg4JStDhNwN97yRARMU3A3k8y3vs0TcAuAmN9AzdNwPfoDfeROU3AtVII5BI3TcCBe54/bUBNwDL8TGK1N03A5UEf0ak3TcCasP1kjD1NwN/+t+3WME3AVsc70b89TcCV+aKYFzlNwM96QsBrN03AmuK73kcyTcBpVrYPeTVNwJ6Xio15O03AG2g+5249TcAAAAAAAAD4f0ku/yH9Pk3ANR62PvY7TcBly00vjDpNwM3+cDvjOE3AbR/ylqs5TcBfeZCeIjtNwH3bXbHQMk3Acamuqhw1TcCeXFMgszRNwI6tZwjHM03A28NeKGA/TcCpEDQLWTZNwKcIcHoXNU3ArrJbcKs6TcA656c4DkBNwAAAAAAAAPh/4Zf6eVM3TcBdXw3PEDlNwIwerouRO03AkiQIV0AxTcDwRovYzDtNwKYF1ECYMU3AiLArd7A8TcATniulwj1NwC/gZYaNPk3AAAAAAAAA+H/oNGZtrjVNwD+/lCZKNU3AdKN+zSgvTcDBivjzEi5NwHC1TlyONU3A4Ao4beU4TcAIxyx7EjZNwIG7okqDOU3APmO6a4Q1TcBu57Ec1zJNwFCm0eRiOE3A1gaCW9I7TcCsGBAU1jtNwMEBLV3BM03A3QiLijgwTcCJvQYzXDxNwKyPh767O03AZvol4q05TcDb4QqDjT5NwO9pWmNhNE3A7rWg98ZCTcCGuChptDVNwOhoVUs6M03ARWgEG9c5TcBTr1sExjJNwJqw/WSMPU3Apr9NNWkvTcBkmwqnuzdNwDDFC9jEO03AZ0eq7/w2TcB7VFeZhD5NwGvpdpvcOk3ASEzU+9s4TcA7URRc0zhNwGsIMxJGPU3A5FzUOOUvTcDmDlE7sjJNwMA+OnXlPU3AFlCop481TcDQEyqTdTRNwKiPwB9+Nk3ALduAcCI4TcDL9EvEWzVNwAAAAAAAAPh/BTQRNjwxTcAnRdA9kDhNwJ7vp8ZLPU3AEgE9w4ovTcC4kh0bgTJNwPLjeboEMk3AW+uLhLY+TcCr6uV3mjhNwKmbUjmJP03A5s+3BUs3TcCEnWLVIDlNwNNNWuhOOk3AyluOTIkyTcBblxqhnz1NwGNSWgDVMk3AwmnBi74yTcAHY1rQoTtNwAAAAAAAAPh/e/oI/OFATcDTTzi7tTRNwFfMCG8PNE3AofKv5ZU9TcCfIRyz7DNNwL3D7dCwOE3AsmxBSkc4TcC6CnPMwzlNwGuUmuIWNU3Anu+nxks9TcAzwtuDEDRNwCnaC7veNU3A4NbdPNVBTcAAAAAAAAD4f5n1veGZM03AKa+V0F04TcDpk4GooDtNwASVTKmmNE3AlpaRek85TcDVzjC1pTVNwFe6Foj5NU3AHAqfrYMzTcBxBRTq6TdNwAAAAAAAAPh/PGnhsgo3TcDx4b0aLDVNwNvxCrP1PE3AOXzSiQQxTcCzUCENXThNwGba/pWVNk3Al813S80zTcACnx9GCD1NwCwtI/WeNE3A8ljYeFUuTcDO0gRAyz9NwLi3tkt2NU3AMLN0qiE8TcAN8O4S5i9NwIuVhzvNNU3A3XpNDwo0TcAkQ46tZzRNwJOoF3yaNU3AnHbnP1ozTcAAAAAAAAD4fwZsYtxoME3ADufQ2E06TcCBQdKnVTdNwNqoTgeyMU3ArdYuEn8yTcAajdcXZDZNwJ2ifnJvN03AKM6ApNcwTcBCm3f3WzRNwOAsJctJME3AIbKjzGE1TcBSaLSwAjdNwMhW4eAcMk3A7E53nnguTcAvNNdppDtNwC50JQLVM03AQogaO5c1TcCcTx2rlDhNwPsVfOQgOk3ArRl0naE1TcCr6uV3mjhNwEAMvnomOU3AfZI7bCI3TcBmpaTiWj5NwNL9nIL8Ok3AChLb3QM4TcABv0aSIDBNwOZbH9YbMU3AHqfoSC4zTcByfWmbLDJNwLJ5wUyAO03Am1lLAWk9TcDAPjp15T1NwAAAAAAAAPh/priq7Ls2TcCSYAVTKDdNwNRJtrqcQE3AlQ7W/zk+TcDkXNQ45S9NwBLCo40jOE3AnuUetwRCTcD+xJ1bPDJNwJPGaB1VMU3AJkkh2tg2TcD1E7pB5zhNwKc6ia1FMk3Ax5EYTuNATcBQAMXIki9NwBJKXwg5O03ArNbTWAw9TcB+xRoucjlNwIs08Q7wOk3A8KfGSzc3TcBolC79SzBNwP2j5wUcPU3AcjJxqyA0TcAAAAAAAAD4fw/vo927Q03AC9aTVAEvTcDAPjp15T1NwBISaRt/Lk3A5llJK74zTcBvK702GztNwJrMtJncL03AFFilmZMwTcDoZE48DDdNwFWgu8kUOE3ARPesa7RCTcAIWRZM/DtNwFdD4h5LO03AjJBwEGM4TcAeG4F4XUFNwDQyIxf3P03ACY4mchw3TcAl58Qe2i9NwI3V5v9VL03AZVJDG4A3TcAMAcCxZz9NwF/P1yyXOU3AHkO24tEyTcAZGYl1TzZNwD2D4bd8N03A8fCeA8svTcDrbwnAPz1NwMPmtA//Mk3AbVfog2VATcDgRJmyeC5NwJBHFWryLk3AP3PWpxwuTcDY17rUCDBNwES10rVAPk3AfOtowTA9TcDpiZ3f5jZNwOa1BrWOOE3ADBcDNcY5TcBAJmPGJTRNwAtUBbaROE3A1VqYhXY+TcCuU5vuKz1NwBhQudPnOU3A76ugkN47TcAE5Euo4EBNwNLGEWvxQk3Aw3XWuEg3TcDtZdtpazxNwB17URYZNU3AskHLX8Y6TcAPmIdM+TZNwE8eFmpNL03AAaJgxhQ6TcDQdYZOdDhNwAFTYcfaPU3Avqg4aXUuTcAvUFqIKjdNwAAAAAAAAPh/wmuXNhw4TcBClZo90DhNwF1Weas7NE3AJyDcUygyTcDx5t63yThNwC6pf7UPPE3AxR1v8ls8TcBnfF9cqjZNwIqpmVpbOU3AiT1Z1qI6TcAAAAAAAAD4f60ei8gLOk3Am4gjtIo6TcCtGK4OgDhNwEPaZi28M03AqC50N7w8TcB7HpIQmzhNwB4bgXhdQU3AnKrWHeY8TcB3gZICCzpNwKvq5XeaOE3AG5MPi2I/TcBt/8pKkzBNwCeFeY8zPE3A3T8WokM0TcCiRbbz/ThNwLe4ISElO03AYMyWrIpDTcCTojrCDjRNwPaE25A1Nk3AOPtenik6TcDz9ADMazdNwKIL6lvmOE3A3WqMjMQ0TcA5yaAkbj1NwNIzYgvmO03Am7Y12Io8TcASJZfDcjdNwAAAAAAAAPh/5kAPtW0wTcBQAMXIki9NwNjyyvW2PE3A3ryCfvA6TcCx1MRM7DZNwPtA8s6hOE3AAAAAAAAA+H+l942vPS9NwG1X6INlQE3APu3w12QvTcCGV5I81z1NwC/V1fCXPk3A6CxamXw8TcDghBsYdDNNwGL3HcNjOU3A9Vd+z/44TcA6l4eo4DtNwB/2/7/jL03AVtgMcEEwTcDLvFXXoTBNwA+AuKtXPU3Au6W0ORA7TcDnFB+BkTdNwL8SqSDPOU3ASGC9m7g0TcA6EQgplDpNwHxcwHBTMU3AhL2JITkwTcBqGLifNzxNwKoXMg15NU3Ack0mE1w/TcCHeNrQgzZNwMwu34yPM03AUHS4sTQ4TcBAIIYMmjZNwF0XfnA+QU3ATMOABjM3TcB1kxgEVkBNwAIUfgRZNU3AS8gHPZs9TcALrC2GvDJNwNB1hk50OE3AbHak+s41TcBt7wnITThNwO1Dg7mCO03AFMVQ8/o2TcCt2jUhrTVNwPn99tCZOE3Av0C1ZtAwTcB0zk9xHDRNwHjvqDEhO03ACoUIOIQ0TcAfk9YpoDhNwKvYTkr3N03At5LCYQ46TcAEHhhA+DZNwKkjkccdO03AMV2I1R83TcCOGOL9XThNwEyJJHoZMU3AzSI9kXMvTcA2DUBZ5zdNwCAksN5NNU3ApWtarLc6TcCZ1TvcDjdNwOo/vzRrO03AVObmG9EvTcB2Wm200jxNwLbGVoYnOU3A1fiWg+o0TcDtQ4O5gjtNwK6KJgY3Lk3AUDi7tUw4TcCr6uV3mjhNwC+JsyJqOk3AZLDiVGsvTcC3DaMgeDhNwAAAAAAAAPh/Cydp/pg+TcAaijve5DJNwA8pBkg0Nk3A+DjThO02TcC6h4Tv/S9NwKksrwG2Pk3AxTe5hOg8TcB41JgQczhNwDGQDN78Ok3AMOTHTi42TcA9HkR8cTVNwPbaIh+qOE3AQixRrAk3TcD6CPzh5z1NwHeBkgILOk3AZKw2/687TcBc8i7NYy5NwOUn1T4dOU3AjiCVYkc8TcA0T1oqAjZNwCB+v86tOk3AW3N+hKUzTcDCpPj4hDhNwKBTkJ+NMk3A3AmbpnQyTcCKPEm6ZjhNwOWXwRiRPk3Aa+l2m9w6TcCu3dFaLDhNwMH+69y0OE3AuibuwiA3TcCelbTiGzJNwAPMIU7MPE3ALzNslPU4TcDsnuFyYTZNwNATKpN1NE3AA5mdRe82TcDuJ2N8mDFNwHQSpRh7P03AzSGphZI1TcC37uapDjtNwJyftEnEOk3AUADFyJIvTcBkQFE0ajtNwGhTWqjhMk3AshK5uPs3TcCel4qNeTtNwAuQDUnSN03AVkTyOocxTcA7bvjddDdNwFxXzAhvMU3A5IHIIk1BTcCpKAOs+jJNwLeadcb3M03Ad095z9wyTcBa0CCqlT1NwH5z2q4rO03A34juWdc+TcBWyneY0jJNwKn4vyMqOk3A8x5nmrAzTcC1U3O5wThNwEpK1dHMM03AvOwyV2FATcAN+tLbnzFNwJ95lKUxO03AOQ8nMJ0+TcB/Vk+ckjpNwD/2xITiOk3A/14KD5o7TcD7QPLOoThNwGUdjq7SOU3AJ9wr81Y6TcBksOJUay9NwOJFuvoMNE3AOxhWlo09TcDyivGrgzpNwH7GhQMhM03ATGPFugI9TcA7SQT0DDhNwMohlzR1QU3ACGRl6mQ5TcCtE5fjFThNwLtCxHLwOk3A0HWGTnQ4TcCV7q6zITdNwE3pqoq6PE3A7BvzlZsxTcBhgyrawTVNwHzraMEwPU3AZ7XAHhM3TcCrJR3lYDBNwPGOQkjMLk3AsvM2Njs4TcCMWHojqTxNwMYB7Ir2OU3AWXp+Yi44TcAozoCk1zBNwKtZZ3xfME3A32+044Y6TcDjH8T6cD5NwAAAAAAAAPh/2akDans1TcC77UJznT5NwOHAmrl2OU3AiwC1ffk4TcBEQTqGETNNwItiAzPwNE3A8MSsF0M/TcBm4xzQLUBNwFDO2F8rMU3A9KRMamgyTcCSO2wiMzFNwE1v2ueMN03ALspskEkyTcBNamgDsDxNwDxy/+yiO03AzsR0IVY/TcDVtrzNdjZNwEox9hTvM03AM3okFBFATcBJnYAmwjhNwHT2hNuQOk3AJkkh2tg2TcDzpzIxAjpNwHxD4bN1Ok3AMyNysO0xTcD0TT9N0j5NwHE8nwH1NE3AKeUMgTcuTcDeHoSAfC9NwLiJWuM6Mk3AwD46deU9TcAgd7bstTRNwIOXKmIiOU3AA2A8g4Y2TcCKBb6iWzNNwPHAW3v6PU3AKM6ApNcwTcD2/B8WIDtNwBgMCXMWOk3AKlJhbCE2TcCVQzCzdDpNwMXkDTDzO03A8KfGSzc3TcDbc/RTdzxNwEkxm1t8O03AexqLAW0yTcAZC3xquTNNwHSxDuydPU3ATXBFvTs7TcBBuW3fozZNwAAAAAAAAPh/KkpTTsVDTcB033vJEDtNwIUThyKTOE3AQy6p/EE2TcBohG16BjZNwFB8UQt5Ok3AACPDhZc1TcDvjSEAODJNwOoHdZFCPU3AAAAAAAAA+H90ohP4eTdNwL9AtWbQME3AnOvqRDg3TcAGr6dnizlNwCpSYWwhNk3AnKlrSDc3TcCh2uBE9D1NwEpdMo6RO03Am1lLAWk9TcDWBoJb0jtNwGKdKt8zPE3AbVfog2VATcAbxL3o4S9NwEG5bd+jNk3A34V3wtU8TcCRyySPTC5NwFlMbD6uMU3AuJVem40vTcCNp9TbVT1NwP79GClKNU3A/7keO14+TcDHUKltHjpNwKHyr+WVN03AvDsyVps3TcDlQR/RqTdNwL6lnC/2OE3AVyWRfZA7TcB7JwsEpjhNwN/+t+3WME3AdM5PcRw0TcAAAAAAAAD4f4FDqFKzN03AKlJhbCE2TcBNofMauzhNwA/8XvniM03AStHKvcA8TcAXWcMp2TRNwKqN+6B4OE3APQytTs48TcDQvcWK7DNNwF0QNuEDPk3AUVSRZRwyTcCFJR5QNkFNwGSQuwhTOE3A2NXkKasvTcB1WUxsPjZNwPwaSYJwN03AaaDca0Y9TcCv16oThj1NwEMQ/+teOU3Adhn+0w06TcBkGORotjBNwPzFbMmqOk3ABORLqOBATcAWhJeFGzlNwFq9gKwZMk3AAyMva2IvTcAtWE9SBTRNwCpKU07FQ03Apl8i3lo8TcBiFASPbz1NwJZvG5xYN03AL00R4PQuTcBFhNrKpjxNwHbtwVprQU3AQOkjK8E7TcC+iSE5mThNwH10jxH1M03AqEk6FE82TcCcGJKTiTlNwPsgy4KJOU3ARzWRPlI9TcD2bFrIozJNwFf+xujKQU3AuvoMA/EzTcAc8b/wpTtNwCN2XENfOE3AFlCop481TcAPmIdM+TZNwLe4ISElO03AzF62nbZDTcBlg/F4/ztNwB1rkJPTOU3AzSN/MPA6TcBp9LQN7TRNwOIV0iuvL03APLzCHtU5TcDZQLrYtDhNwJUfAlguOE3AC2Lqr7ozTcD98JgmET9NwPGk4ISdOU3Am/63Vbo9TcCECUigZjZNwEaaeAd4Lk3A5FGFmnw5TcCoGyjwTjdNwI1+NJwyL03ARYcbS7MvTcAJ3SVxVkBNwGlRn+QON03ASjH2FO8zTcB4YADhQztNwFHB4QURPU3AYp0q3zM1TcCKRPweUDxNwDKFGPkGQE3AebEwRE49TcA/XmEkKDdNwLSu0XKgN03AkxipnJszTcDwnFILEUFNwDMyyF2EP03AaMQWzKk3TcCKxRRRmD1NwCPYuP5dPU3A5JTKJZ8zTcCuC+R+LDhNwH+HokCfNE3AGl5aHrU4TcAeG4F4XUFNwJ2ifnJvN03Anu+nxks9TcClCQ0cRj1NwJrPudv1Mk3A+6O5X087TcDP5by1Aj9NwMRq4tNSNU3AMSYm9EYwTcDZI6mMDDZNwPJY2HhVLk3AzdawlYY9TcDmkT8YeDBNwLx0kxgEP03AZtr+lZU2TcASI5VzczVNwAcmN4qsNU3AAAAAAAAA+H+E97BywzlNwKi0tAnmOk3Ay/Pg7qw0TcDwMO2b+ztNwB7Ost3zMk3Au8vqwrQyTcAl+VtMfTlNwOlhaHVyLk3AWCcdm9M7TcAmoNM9/DhNwLTjht9NN03A0eHbJFg+TcBVGLbB5DhNwPuSjQdbPk3AKkpTTsVDTcBJjFTOzTVNwOD2BIntNE3A0mLfBJUzTcClYZ3PJTlNwB/0bFZ9Lk3AGf8+48I1TcBm22lrRDhNwCpKU07FQ03Akiurn+02TcBT15BuOjZNwP2jvs8JN03AYCu/Eb8xTcBDwwcbQzVNwKa/TTVpL03Anu+nxks9TcAAAAAAAAD4f0cF42NdOk3AXJIDdjU5TcAE4nX9gkFNwKeRlsrbL03AaSc5Fso1TcBk5ZfBGDdNwC3qk9xhMU3AuSsF7oovTcA2DYl4XTxNwCAksN5NNU3AZacf1EU9TcDVwQts3zhNwN/+t+3WME3AflWYgf08TcAfkIoSezpNwMd7WijOL03A36eq0EA4TcDXmYx0UDZNwHVXdsHgMk3AuMg9Xd03TcD9CuO4nTdNwAAAAAAAAPh/1i6+yEo0TcB1uNuPwjJNwORVjKmqOk3AUwYOaOk6TcD2mEhpNjVNwB2o+GRqME3AAvu3LZs7TcDucUtQaDdNwFT+tbxyN03AQjNxKlc4TcAxKNNocjRNwDefhONDMk3A3hbRG5M4TcDg34j8vzhNwHTOT3EcNE3AQ5CDEmYxTcD8V7FTBzRNwC8A6IsYN03AKdoLu941TcAAAAAAAAD4fwAAAAAAAPh/MzMzMzMzTcCitDf4wjpNwIzuxbwzM03AiOmMORk+TcCTb7a5MTFNwGX+0TdpOE3AStuuhnowTcB4cwLklT1NwFG8ytqmPE3AZODKI8k1TcAz1qMVhDlNwCpKU07FQ03AqYjTSbY8TcBtV+iDZUBNwLzT+OAQME3Avut99JcxTcDeK6nJQkBNwAAAAAAAAPh/FlxiG6cyTcDwVBv3QThNwCjOgKTXME3AIQeAhScvTcD9hR4xei5NwAAAAAAAAPh/n8GNMWM7TcB57S1ANjhNwJVjsrj/Mk3AD5iHTPk2TcAix9YzhDtNwCEE5EuoM03A8Q9bejQ7TcBdv2A3bD1NwFAEzNfAP03AsD55s2EyTcCB6h9EMjRNwEfoZ+p1N03Ati41Qj83TcAI/lzZqjJNwFX8OsuHNE3AuK+ZuU04TcDbGDvhJThNwAgWUPfkO03AGMxfIXM5TcAqc/ON6DxNwBQF+kSeMU3AAbDw5Ik6TcDkXNQ45S9NwPES97OzOU3A3h6EgHwvTcCpUZ4yhD5NwK3vDc9cPE3A0vDfHMs6TcBQO1fvyzZNwNLQNQYzMU3A9XEjG/42TcAy6ITQQUBNwGmf2FQnO03AVmEzwAUvTcA2SeKbXDtNwGZrfZHQMk3ApmH4iJg6TcDaN/dXjztNwIhM+RBUM03ACVL+9dc7TcDKt4g5UjNNwKz/c5gvOU3AKM6ApNcwTcBivVErTD1NwD6w479AOE3AyFbh4BwyTcDyWNh4VS5NwFun2yPlNU3AMg9PZQc5TcCpOy8KhD1NwFKU8CmlME3AfSoC95cyTcCscqHyrztNwNds5SX/MU3AHHqLh/c4TcCM6VPYVi5NwEFl/PuMN03ARgvQtpo5TcB3T3nP3DJNwICaWrbWO03AhA1Pr5Q3TcADabV2kTNNwFH0wMdgOE3Al+SAXU1BTcAAAAAAAAD4f3WSrS6nOU3AEhocgGgvTcDxR1Fn7jNNwObhqexgNU3AfOJKh5g7TcDt+IrJdjFNwD6w479AOE3A9dkB1xUzTcAXYS+59jZNwCARrtv7Ok3ApcwXxbw2TcBodKz3wEBNwJnyIagaPU3AXZHzWfk4TcA61Qx39jVNwFa45SMpMU3AyFVPH+Y3TcBdXw3PEDlNwN/+t+3WME3AfuIA+n0/TcAFNBE2PDFNwJMqm4OxOk3AEx5+SAk1TcCXzXdLzTNNwLTAvXtXOE3A304iwr8uTcCYTus2qEFNwENsVbcfNE3ARBH3/UAxTcADIy9rYi9NwJe9tsiHNU3AoVkjzP4xTcAZyR6hZjBNwAAAAAAAAPh/H4iHizczTcBllB3R8zJNwAQsHP7fMk3Au2QcI9k5TcDp1zEJcjxNwB767laWQE3AOUSsY7QyTcB0cWWa+jVNwKSfugOGNk3AJ2ppboU2TcCo4PCCiDpNwAAAAAAAAPh/DXhP1Ig2TcDV7LdtVTJNwC+PkNz1M03AM3xVeOEzTcBUqG4u/jJNwOvy95wFM03AUKp9Oh4wTcAnRdA9kDhNwDw18tR+Pk3A6MByhAw8TcADIy9rYi9NwE2h8xq7OE3AD2JnCp08TcBHH/MBgTRNwAoRcAhVOk3AjDtHpBI0TcAEAwgfSjZNwCg3QB8bMk3AZOlDF9Q9TcAAAAAAAAD4fy5t3XKaNE3A+yDLgok5TcApCYm0jTlNwIm9BjNcPE3AnUHoRZIvTcB5W+m12T5NwHmjoCXZOU3AD5iHTPk2TcAAAAAAAAD4f9pVSPlJP03AyAxUxr8xTcCOR1/3DDBNwLt03aUeN03AzJh9fBQ+TcAAAAAAAAD4f63El+TbMk3AySB3EaY1TcBtV+iDZUBNwCjOgKTXME3Apr9NNWkvTcBIG+bL9C1NwI5s+CcCOk3Axjwgie0xTcCasP1kjD1NwFtTakDOOk3AATuSJjkyTcDbgd8rX0JNwE6Z/XSaNk3AIH2TpkE1TcCDlypiIjlNwE8+PbZlP03A9DXLZaM4TcB72XbaGjdNwAoI9xRKPE3AL6x2qAE2TcAvhhfp6jNNwDUlWYejM03A8cBbe/o9TcBm2v6VlTZNwDEWPDvPM03AZJNFqNUuTcB0o37NKC9NwPZcS21OM03AB+5AnfJETcCl2NE41DFNwGyH0FLDME3AK0dthysyTcCDGOjaFzpNwNjYJaq3Q03ANEqX/iU5TcC/+5kwUDxNwBJPdjOjNU3A4ZhlTwI3TcBxdJXurj9NwJBOXfksN03AgK1cuSg0TcDs2XOZmjxNwKpknX0nN03AMUPjiSA2TcBm0BrN2zFNwM/lvLUCP03ALql/tQ88TcAGirN9IzdNwAAAAAAAAPh/lScNB9s1TcADIy9rYi9NwPxTqkTZO03AY1JaANUyTcAAAAAAAAD4f0f6/hcZNE3A8ZgmEYY5TcBPGUnM/TdNwLMs87EWME3Acm9+w0Q5TcC67vfVZjZNwAU0ETY8MU3A9vwfFiA7TcCZf/RNmjpNwO/cIP9xNE3A78EQ3sM7TcAnbD8Z4zVNwHcey3FdOk3AtTUiGAcxTcCOPBBZpDFNwB4bgXhdQU3A8NUzKao3TcB+hRYjXD1NwOJ1/YLdO03AyHn/Hyc6TcAozoCk1zBNwAAAAAAAAPh/7GOqBZs+TcCVMZmF0TdNwEAMvnomOU3A+BbWjXc3TcADIy9rYi9NwAAAAAAAAPh/XB/WG7U+TcBfHRGdrzhNwORc1DjlL03AhnXj3ZE3TcA2SeKbXDtNwORc1DjlL03AAAAAAAAA+H/h6a6YTDhNwK69OgP2PE3AIOup1Vc7TcAiYSncPDNNwK9d2nBYLk3AMdP2r6w+TcBCW86luDpNwNATKpN1NE3Aotf6fVo5TcCP4bGfxTVNwILlCBnINE3AkNeDSfE9TcCGOqxwyy9NwGSSkbOwN03AkTpL2p4wTcAoExLE1DtNwNTM/1DVM03Adc6qKo84TcA0Spf+JTZNwN24ILZPPE3ABRR8KJA1TcBZ/0Lq0TRNwHcTfNP0N03Ac4HLY804TcDfb7TjhjpNwOGUXkDUN03A4ba28Lw4TcA5RUdy+TlNwMszikBQMk3AGf8+48I1TcBx9cS8rDBNwCiDkNwUM03A2OGencI1TcBmWwZTJjZNwI51cRsNMk3AFTqNfh00TcCwARHiyjlNwC2qj9FLOk3A341gPrQ4TcBnPcYmQzhNwAAAAAAAAPh/AAAAAAAA+H8Ddtq/VzdNwLxrGiX5MU3AfSB551AwTcCr6uV3mjhNwMNFkzB4M03AnUS1JkwxTcATfHg7ZzRNwN4ehIB8L03AOBMAUF8zTcBqbRrbaztNwFDk5qc6NU3AwhjZIoU9TcAsQWFwrzZNwG3vCchNOE3AhqUmZmI3TcCr6uV3mjhNwLI4Umy7MU3AwfHGk+49TcCybEFKRzhNwNf/lIUKN03AFeY9zjQ7TcBbXU4JiDFNwD4hO29jPU3AwD46deU9TcCHURA8vjNNwMJrlzYcPE3AsuEKW1w9TcAdXmtKDT9NwDoJAOn2LU3AYhTlyjA1TcAh9v92xD1NwALG6drNOE3AQLoU82UvTcB7VFeZhD5NwDFe86rOPU3A8ljYeFUuTcAxnwfSIDNNwF5N+WsNOk3AhpVl4xw3TcDIVuHgHDJNwL9AtWbQME3ABEgjVco1TcDOwdjn1i9NwAQ7/gsEMU3AcrSZ+cQ8TcDa08TxMj1NwMA38uWqPk3AOgX52cg3TcDD8XwG1DNNwNmUK7zLNU3AhwGmZ9VATcDaAkHGHDlNwKEKJM3EN03AcF6c+Go0TcAgAlguZT5NwKgY529CPU3AlVCwta06TcCjDoxzRDZNwJ2ifnJvN03AZtr+lZU2TcBRweEFET1NwAIUfgRZNU3AiNnLttMyTcCIFjSIajBNwP59xoUDPU3AgzqVZhQ8TcB26oDaXjFNwOSHSiNmPE3AkxipnJszTcATi0FjqzRNwAAAAAAAAPh/Ws7vRcU0TcDY9Qt2w0BNwER6m0h6NU3AJDxGHi0wTcDkZyPXTTVNwN5wxP/COE3AGCR9WkU5TcAu1FBZAzNNwDVue8xROE3AUVSRZRwyTcD4z4nzJjlNwHBEUmbeNU3ApZ9wdms7TcDFVPoJZz1NwGvwvioXNE3A0BMqk3U0TcBsEQe/wzhNwD1aQXhZOk3Az7uxoDAuTcCDnJxG/zdNwPxWRn5YPU3AHV5rSg0/TcA4FakwtjhNwEnI9hBDME3AvDX64pw6TcB6pGa0+i9NwFJVWmNNOU3Ab5R/IA48TcBZbf5fdTdNwH6G2UKuMk3APZgUH59ATcBkGBzK9TJNwIMY6NoXOk3AnJ4cqs45TcAH7kCd8kRNwIoD6Pf9N03AfmphuyAxTcDJU/sZgzBNwFBJWogONU3A1i6+yEo0TcBm2v6VlTZNwKE2YEZnO03AIqy0L/o2TcC0If/MIDpNwBtGQfD4Mk3A3T8WokM0TcDzEHzCyDVNwMLAc+/hPE3A2+EKg40+TcDurlhojDBNwGYFdYAWLk3A4R0q1yU3TcAYldQJaDhNwNtz9FN3PE3AAAAAAAAA+H8qSlNOxUNNwPMtYo7UOU3AmrD9ZIw9TcCVJw0H2zVNwGf3PxsUN03A2RyMfW4yTcA+VwD4TEBNwC/gZYaNPk3AGz3I/O0zTcDLDvEPWzxNwFtTakDOOk3AD5iHTPk2TcDb4QqDjT5NwACrI0c6M03AHiwIisQzTcCukAPAwjxNwMaCZ+fZPk3AIzjkVYwvTcCswaDx6TJNwPsgy4KJOU3Aoso+PQ42TcBAvRk1XzhNwAMjL2tiL03ARyP6EK8vTcBvDWyVYDVNwJsPvuYLNU3AilzLv/E9TcAxFjw7zzNNwKFNDp90Lk3AnSqEep8yTcC/1M+bikBNwLoKc8zDOU3AzVzg8lg2TcDWLr7ISjRNwFKbOLnfOU3AwE779yo6TcAkCcIVUDNNwPQnqQjiL03AAAAAAAAA+H8AAAAAAAD4fywtI/WeNE3AV7fVB+0+TcBm2v6VlTZNwHntLUA2OE3AdeeJ52wxTcAAAAAAAAD4f1RW0/VEL03AWcAEbt0tTcCx0Bj3MC9NwLgtgN91P03AXfxtT5A3TcA6c7RPbEBNwLElmvaDNE3A8UAnd002TcDpDqk8ljhNwHcrS3SWNU3AAAAAAAAA+H8RvP1YcThNwNfZkH9mMk3A8zrikA02TcClarsJvj1NwJ0MVQyzN03A9vDAW3s9TcCfu25bpTRNwD5plyXwMU3AKdoLu941TcC1OpT84zlNwPjXPFgQMU3AM23/yko1TcAozoCk1zBNwOhPG9XpPk3AeMSTJ1EuTcD7E3YATS5NwB6M2CeANk3Axqhr7X04TcBUqkTZWzhNwNFQ7R1/O03AEW4yqgw7TcDzQL9KmThNwAMjL2tiL03AAAAAAAAA+H8n+0IjMzRNwAKfH0YIPU3AM69+x0s7TcCFlnX/WDhNwJFigEQTNE3A3xYs1QU7TcDwiuB/KzFNwGWUHdHzLU3AYr1RK0w9TcBzk2KRcDhNwPjXPFgQMU3AvFtZorM0TcDMfXIUIDBNwGXUxiKXN03Acz6G2Ko9TcBUO8PUljdNwM5ZlwGkPk3AZtr+lZU2TcAArmTHRjBNwFJfO733N03AL1IoC184TcBvtyQH7D5NwFAGooIeNk3AZ8NQPYg7TcB8F2MegTtNwJQu/UtSNU3AXAAapUs8TcB9qD4deTZNwBQGZRpNLk3AbIfQUsMwTcCQxlfx/D5NwAfuQJ3yRE3A+gVgqGg8TcAhN2hUhTdNwDWr9YDkM03AHR7C+GlBTcBMa9PYXi9NwGIvFLAdOE3AhPewcsM5TcAmSSHa2D1NwHsy/+ibME3A/MVsyao6TcC+vWvQlzpNwJG0wMNZNk3Anu+nxks9TcD3PlWFBjxNwNYuvshKNE3AcvEBy1s4TcBjUloA1TJNwAGiYMYUOk3AIQTkS6gzTcBtgIjDiDVNwIOXKmIiOU3AG/kXnBw1TcBinwCKkTtNwAuYwK27OE3ACqG1sWE2TcDOpiOAmzFNwDkJpS+EL03AAAAAAAAA+H/A/F+/cTlNwLxo7vYXMk3Am9MbpJYxTcCfBmdLsTRNwBiV1AloOE3Af03WqIc6TcDkZyPXTTVNwBmveVVnL03Apr9NNWkvTcDJaC6BpTdNwJuPa0PFMk3Au/iREQYxTcAS3EjZIjdNwGwRB7/DOE3AC7Q7pBg4TcAqSlNOxUNNwDGenPxxOE3AmpmZmZk5TcAjzYD8CjxNwJhNgGH5PU3AWRMLfEUzTcAFGbj1NzFNwLywNVt5L03AgKQ0Db01TcB0v/nDhThNwJyTrkfnMk3AX2Is0y87TcCQMXctITdNwIoD6Pf9N03A/m4tl3U4TcA9aNGWzjhNwDp2UInrNk3AdAgcCTQuTcDZYcZ3LTNNwCYYzjXMME3AFDHZuoM9TcBw6gPJOzdNwIxYeiOpPE3AVha4BZo3TcDUEFX4MzpNwJ7vp8ZLPU3AgZICC2A4TcAozoCk1zBNwLIv2XiwO03A8KfGSzc3TcCkxRnDnDpNwAAAAAAAAPh/E54rpcI9TcAGMGXggDhNwDD+bJotNU3ApJ28R3syTcA/MVerGzxNwGQUFbvHL03AiNnLttMyTcDO0d71PTtNwEYq5+Z2PE3ABFd5AmE0TcCd9/9xwjxNwAAAAAAAAPh/q/5SUJs0TcBFB8mnbDVNwMNv+f68M03AfxMKEXA2TcDK3lLOFztNwIF0VrAyOE3AqmSdfSc3TcBqyZnc3jtNwOhkTjwMN03AAAAAAAAA+H93T3nP3DJNwB9k/nZ+N03AFqe1xCUvTcCMgAazOzNNwItTrYVZOU3AwhjZIoU9TcDyHUZSHDhNwAAAAAAAAPh/fQdwz3s2TcA360JicTRNwGuad5yiO03A++so1X04TcAc6ndha0BNwIfTk0PVOE3ALxJ/ubs5TcCp55TwejZNwLkU/NsKPU3AmQNOAA88TcB6pGa0+i9NwPMf0m9fM03AclEtIoo5TcCN49HXPTlNwPHVjuIcPU3Avt798V49TcBQAMXIki9NwMbCEDl9Mk3A3xYs1QU7TcBNAfGCfUJNwEQR9/1AMU3A28AdqFMuTcDtCbchazRNwJCg+DHmQE3AmSYRhqYzTcA6KXPDVDVNwK0sdqDzOU3A6J2ttOo7TcAAAAAAAAD4fyxlXCNwPk3AwQEtXcE9TcCg+geRDDVNwFO5P81/NU3AWhh9YCIyTcA+VpUinjRNwD1BBwIJPE3AAAAAAAAA+H/pJ5zdWjpNwIc2ABsQN03Ao8nFGFg9TcDEauLTUjVNwOvy95wFM03AuBG4NU41TcD7IMuCiTlNwMjPRq6bOk3A1hnfF5cxTcCDNGPRdDhNwDV/TGvTME3A6xuY3Cg4TcAYR0Dg3DtNwAAAAAAAAPh/m6/tSFA9TcCdR8X/HT1NwL75DRMNPk3AX2RayBA+TcCIKvwZ3jpNwAKfH0YIPU3AqaROQBM1TcAIrYcvEzNNwKLPRxlxOU3At41QfTE5TcCK3vMNljtNwFu8DosHPk3AKM6ApNcwTcAxoYFVhzdNwOEnDqDfOU3AUADFyJIvTcBksOJUay9NwIC6gQLvOk3A5aWQ5EgzTcB4exAC8jFNwD1FDhE3QU3AZtr+lZU2TcDk2eVbHzpNwFkfxe9cNE3AfWTOjq80TcA2DYl4XTxNwLrE7MCUNE3AZxoDoas6TcDKnxRSIzRNwG/zfk9QL03AbhlwlpI3TcAx8g3giEBNwCRNcnYhOk3ATr33uTY5TcAPmIdM+TZNwBYW3A94PE3AP+2mSko9TcCQFmcMczJNwJNWfEPhNU3AY3+8w6QyTcBwd9Zuuz5NwEMQ/+teOU3AzdawlYY9TcCh+vf32jdNwIT3sHLDOU3AXI3sSssuTcDJZZJHJi5NwKa4quy7Nk3AJ5R0g1c0TcABaf8DrC9NwLyvyoXKOU3AN+gfgf4yTcB/hjdr8DpNwJ6ZYDjXOE3AFkuRfCVATcAgJLDeTTVNwPtK1pdbNU3ABCwc/t8yTcC5xfzc0DZNwCdXZ2szNE3AzntS3Kc1TcAfuqC+ZThNwI3vi0tVLk3ASwCsvXA5TcD4shDEiT1NwJI/GHjuLU3AwD46deU9TcBTSr7IujpNwLKG5pVGOU3Als0cklowTcCyZmSQuzxNwHzliwelNU3ANTAOv/Y+TcCvHGuQkz1NwFJDG4ANOk3Aqio0EMsyTcAcx/E+rEBNwPXiesogPE3ALa6W4Hk4TcAYaC27FjZNwOF5qdiYNU3AdqbQeY03TcBbCHJQwjJNwODJhnAOPk3AEAaeew87TcD0HvBCjz5NwPm84qlHOE3Ad0O/W8U+TcBTqukf6TlNwLR0BduIN03AdGuI4G49TcDkXNQ45S9NwFDK/z+pNE3AT83lBkM7TcCVKeYg6DJNwFSf9TrzO03A0XZM3ZU/TcBx2+/uFzFNwF90HrpFPE3A2UC62LQ4TcBCLbyBuDlNwNYuvshKNE3ArIuAr407TcBR3Vz8bTlNwBmO5zOgPk3AaDwRxHk7TcAFTUusjC5NwGLGyh5XOk3A15BuOrg1TcB4GI8hazlNwCjOgKTXME3AEAypJIcyTcAaXloetThNwPlOzHoxOE3AKkpTTsVDTcAR4V8EjTNNwI5ibxi7Mk3ABqk+TZI4TcDA3g4etzVNwDbp/2OENk3A/k+0YQM5TcDfO3l3dT1NwOqkCLoHNE3ACV9Ov/ozTcBEX4snzDdNwJ9xhofVNU3AfvcGlxk+TcA8Jpwn6DJNwLqD2JlCMU3AameY2lIvTcDevIJ+8DpNwLMIxVbQOk3AwaikTkA9TcB0keefhTtNwDfyivGrME3Ah6dBU2IyTcDaLKi5JjdNwDxO0ZFcMk3Au24A7JI6TcCaahyg6jNNwNUkeEMaM03AAAAAAAAA+H+x4emVskJNwMROZ931Ok3AdLvytFc1TcBSwCyjRzFNwC19QzxtPE3AGJXUCWg4TcDAEZMmlDNNwKa/TTVpL03ABaInZVI1TcCusltwqzpNwEfJq3MMNE3Ab1o6MMo/TcCdgZGXNTdNwP0K47idN03AizIbZJI3TcBuhhvw+S9NwORc1DjlL03Asyjsoug7TcB7QalMYTBNwPk8qewAPE3ApDmy8ss2TcCmfAiqRj9NwBggdksXPU3A0O6QYoA+TcB7VFeZhD5NwPLjeboEMk3AzJh9fBQ+TcByTSYTXD9NwPs9sU6VN03AfxcRIJ40TcAyT/i2qjhNwCwtI/WeME3AEhocgGgvTcASGhyAaDpNwMxetp22Q03A5lsf1hsxTcB3T3nP3DJNwGba/pWVNk3AnkXvVMAzTcAfuqC+ZTlNwF9CBYcXNE3Aj26ERUU4TcAAAAAAAAD4f6OP+YBAN03AAAAAAAAA+H+larsJvj1NwIjZy7bTMk3AAAAAAAAA+H981F+vsDxNwBmNfF7xNk3AsYsbYGoxTcC0ImqizzdNwNmY1xGHOE3AScuSSsI4TcCBmrVvST9NwBEScGfiN03A+DQnLzIzTcAQBp57DztNwHjVA+YhN03Akf6olykxTcBU5BBxcy5NwJ0Mm7zZPk3AYmjJKFU1TcCUEbzG0z1NwLZJRWPtLk3AKpjnd1A2TcAML3cc9TpNwM01cRcGOU3AQl2kUBY8TcCH3XcMjztNwJDGV/H8Pk3ANnv7zoo4TcBNZVHYRTZNwLom7sIgN03AWXp+Yi44TcBZPoFmxjZNwBJpG3+iOU3AqC50N7w8TcCmv001aS9NwHc0aa4uMk3A6E1FKow7TcBYcD/ggTFNwBIrSNhcOk3ANSkF3V46TcBADL56JjlNwL69a9CXOk3AkZxM3Co+TcAAAAAAAAD4f2TnbWx2Ok3Acd4DpX05TcC8Wu7MBEFNwLJVODjHOU3AIQTkS6gzTcAAAAAAAAD4fxReglMfPk3A/GE6Y045TcA1S12NRzhNwEZDxqNUOE3A1fiWg+o0TcDVtrzNdjZNwGovou2YLk3Aq+rld5o4TcCMMQtIVjpNwDBRGO8iN03AVJM7x9s7TcBmWlE53DxNwCH0IsliNE3ApFNXPssxTcBlprT+ljhNwHSjfs0oL03AL4YX6eozTcAwSWWKOTxNwAAAAAAAAPh/5lsf1hsxTcBZR/pZ0TdNwGWD8Xj/O03Ax0j2CDU7TcDtlFhjGjdNwLcOaa+ZNE3ALzNslPU4TcAVkWEVbzBNwGx+VRXOOE3ALa9cb5s9TcASwqONIz5NwBqLP/WDOE3AN1DgnXw2TcAjJvJudjVNwCEE5EuoM03AVKcDWU87TcDNAYI5ejhNwDIBcW6CO03ANjLZidw/TcDcnbXbLkJNwC8xlumXQE3AlSpR9pYwTcA2aPnLODhNwHE3LR0YN03ADvOKTGVBTcB1BkZe1i9NwAAAAAAAAPh/X8/XLJc5TcDzEHzCyDVNwNoAbECEOE3AZtr+lZU2TcCh1jTvOD9NwJT1m4npPE3AQL0ZNV84TcAFtCVR5S9NwKiLFMrCOU3AQqpy638+TcDf/rft1jBNwMNaxpeaNU3AnKlrSDc3TcDTTzi7tTRNwKE/foD/OU3ATSVNzS87TcDyWNh4VS5NwJZUEn5OOk3AOMsbFlk3TcD8xWzJqjpNwC+wfbcvP03AqGBDJs86TcCTeZqC6zpNwEga3NYWLk3AkMZX8fw+TcBvYYK/BDdNwEiKyLCKN03AHqfoSC47TcClSpS9pTNNwHJRLSKKOU3A2qhOB7IxTcCvWwTG+jJNwLQh/8wgOk3AYv8r4b87TcAAAAAAAAD4fzfHuU24OU3AHQDTXAU7TcA7Yj5qXTRNwFkTC3xFM03ApkOn5904TcC6DKQwlDpNwCAqjZjZP03A3/637dYwTcBR8Lm4MjhNwPGeA8sRNk3AHtiWpq08TcCRGV7/ZDpNwHn/xG3ZLU3Aym/RyVIxTcDMojfqVjhNwNitr782Q03AA+s4fqg2TcDFKpQ7Ij5NwN+NYD60OE3AtmgB2lYuTcD2VJgIZTpNwLwi+N9KNE3ATrCkgcQ8TcCKHY1D/TJNwKd6PZahPE3AozrCDgg2TcAlnV8VajdNwP/l//qNQE3AvDydK0o/TcAMrU7OUDpNwEBtVKcDN03A8cBbe/o9TcBAcPDggjRNwNP4hVeSOE3Atqrbj8o/TcAkCi3r/jJNwOTXD7HBNE3AhgK2gxE1TcA91LZhFDBNwBdgxONHM03ADeAtkKAvTcCo4PCCiDpNwGwRB7/DOE3AGsHG9e88TcCOL5BWazdNwAFCNW/mMk3AAAAAAAAA+H/vdgrorzVNwAry7qoZQE3AIkN9gQ83TcAmFgf/Gj5NwIEg5cwbPk3AlPjcCfYvTcDfugeNBThNwJl/9E2aOk3A+s+aH386TcB8c8mC0zBNwGba/pWVNk3ALa6W4Hk4TcA6qGm8GT1NwHsimR/JNk3APbJesSsuTcA7CsZ3GDpNwFOe6iAwNU3A2+EKg40+TcBQptHkYjJNwEpFY+3vQk3AP/1nzY87TcDbpKKx9jtNwGoXLeHEPU3AcVevIqM1TcBwiALHrzNNwLxrGiX5MU3A1VNQ9jsxTcDLv5ZXrjxNwHAXqxeNNE3Agc6kTdU1TcDY17rUCDtNwNLijGFOLk3Ab57GE6M+TcAhBORLqDNNwEf3WUisNU3Ad9Zuu9A4TcBAETBfAzlNwOnvpfCgM03AahfTTPc0TcAAAAAAAAD4f4m71c6LO03Ae5IqQMoxTcDm4/jvKjRNwOIGfH4YOU3AH1H8cywzTcB3gZICCzpNwARXeQJhNE3AOd7Ti5AwTcAaWH1kKTdNwIpr5pz5MU3ABIGEFzM4TcDcSq/NxjpNwG1X6INlQE3AtHdGW5VATcCGseDZeTJNwAAAAAAAAPh/d8/LciMvTcCUQ9X5AThNwNvhCoONPk3AGJXUCWg4TcBHim33FzlNwG4pqUyfLk3AWpe/5yw9TcD7QPLOoThNwN9vtOOGOk3AE+i4vx8yTcAAAAAAAAD4f1F+qDYsNE3Atw5pr5k0TcA/q8yU1jdNwC3grxOoNU3AEjC6vDk4TcAvNNdppDtNwOT48M+9M03ABCwc/t8yTcDgERWqmzlNwCUvIdVmQU3ADopBu540TcBR3Vz8bTlNwPLjeboEMk3Ad095z9wyTcAeFf93RDVNwBNDF3n+Nk3AWP58W7AwTcDkXNQ45S9NwPPGSWHeN03Aieqtga08TcCHiQYpeEBNwBJ/KceRMk3AzL12HzY5TcDGPCCJ7TFNwGZaUTncMk3AutxgqMM2TcDD9u7qsDJNwAAAAAAAAPh/Dk+vlGUwTcC3yfK/pjtNwIiwK3ewPE3A5bUSuksuTcDNP/omTTlNwE4Dq48sQE3AiTQ7nApDTcAGK061FjZNwIj9VMuMPU3AZtr+lZU2TcDTTVroTjpNwMN/uoECNU3AyFbh4BwyTcC7/ag8cDNNwLraiv1lN03A0IB6M2o6TcDZwj3gyzZNwCqY53dQNk3A4HXsVoU5TcAuTA432jtNwHiazHhbN03AOYB+3789TcCUh4Va0zhNwMlzfR8OPk3AVJvuK8UzTcCr6uV3mjhNwP5PtGEDOU3A2Ne61AgzTcAAAAAAAAD4fwa+oluvL03Adgvf5Rs3TcBm2v6VlTZNwNDGW/gLOU3ARNvWu+Q4TcD4Lkp1pjhNwOZbH9YbMU3A5dAi2/k8TcAAAAAAAAD4f3afiOpSOE3AF56Xio01TcBMcbCS6jNNwCGyo8xhNU3ALBPZYhI5TcDxGNRtPzRNwPa2mQrxQU3AtIUxM309TcD8xWzJqjpNwHIVi98UNk3AAAAAAAAA+H/36A33kTlNwKafyy/eMU3AqLS0CeY6TcCRLpFmhy5NwInvxKwXPU3A+KAM+nc7TcDoaFVLOjNNwJvR6j/GPk3AYr1RK0w9TcCJ3Kd5ezlNwA+Yh0z5Nk3AKkpTTsVDTcBxm1+DdDhNwOECdW/qOE3A5lsf1hsxTcC+hAoOLzBNwJvj3CbcLU3APzbJj/g/TcDskbwpmzxNwAAAAAAAAPh/KlJhbCE2TcCoGOdvQj1NwNATKpN1NE3AXD0nvW86TcALdDeZAj1NwKgudDe8PE3AB+hj42YxTcDpxT8iXD5NwAAAAAAAAPh/xaY6ia03TcDa6szeDTJNwAfuQJ3yRE3AQfLOoQwzTcDZQSWuYzpNwCkzqdJrNk3AmlMTjmozTcCOzvkpjj1NwDfEeM2rPE3AcmJBuUM8TcB57S1ANjhNwLNLCuLyO03AlUMws3Q6TcAOXlodcC9NwMrL9RFTQE3A56WElmwxTcAawjHLnjBNwKmmA90nM03AW8aXmk47TcDMme0KfTRNwAAAAAAAAPh/nsmjwKc+TcAbTMPwETRNwARpWnSfP03AKjS1EfQ9TcADi7zfWjNNwERaGUPvPU3AuRT82wo9TcD7tQ1M2zVNwDxy/+yiO03AoyHjUSo3TcAM3bE/hUFNwC6pf7UPPE3AcFAM2vU6TcCVDtb/OT5NwFbNvdHYN03AMe4G0Vo7TcBYl6671ENNwAlS/vXXO03AAAAAAAAA+H/SGK2jqj1NwLzgHSrXM03AfqfJjLc6TcDf/rft1jBNwDDRxUvcNE3AllQSfk46TcDe9pYQOTpNwEDpIyvBO03ANpAuNq04TcCyKy0j9TNNwIv8+iE2NE3AAAAAAAAA+H/N1rCVhj1NwDVue8xRNk3ApkOn5902TcD11sBWCTtNwMkcy7vqO03AOQzmr5A7TcAs7wwNQi5NwF7ed2dIP03AGG2fn/M2TcAH8BZIUDRNwMp9vKE6N03ANs07TtE+TcDNP/omTTlNwJUfAlguOE3APl5Ih4c8TcAlIvyLoDlNwDwVD+9iN03ASMCNOXQ8TcAn0dxU7j9NwOTrfInCPU3AtCH/zCA6TcC4Wicuxy9NwJ9jWrigNk3A72peeqA4TcCeimVEszdNwFfgdUcQOU3Aw/F8BtQzTcBxPQrXozxNwJ7vp8ZLPU3AoyHjUSo3TcD8x0J0CDJNwIfWL31UNE3AY1JaANUyTcAozoCk1zBNwIN/W8GAL03A0TRyJyIwTcC+gW7UrzlNwNvEyf0OQU3Af6Dctu8xTcBPPdLgtjhNwJhRLLe0ME3A1+ZhEh44TcD2fM1y2TxNwLaoBeVsNE3AxGri01I1TcBlKnxy3zJNwCE3aFSFN03AETnK8Ok7TcAAAAAAAAD4f7vfKtHOOU3AzxJkBFQ8TcC7C5QUWC5NwFe8R+zJOU3ADvlnBvEvTcCasP1kjD1NwHe27LVFNE3A7/5tGGI3TcCRR3AjZTVNwN8WLNUFO03AAAAAAAAA+H+E+NgGeztNwHv6CPzhQE3AMxoAwIYyTcBxAP2+fz1NwN/+t+3WME3Af95UpMI4TcD7IMuCiTlNwPaYSGk2NU3AfmvMkM84TcDmOjL74TtNwLoyA/CqO03AdNgEJsUzTcBAVkuVgzxNwEvJchJKNU3A7N0f71U3TcAhBORLqDNNwJtXWibBL03AG8KMhBEwTcCgPzytbDxNwGkewCK/OE3A6h0TzhMzTcAwSPq0ikBNwBE10eejNE3ABmhbzTo5TcCDCIIRRTdNwMROZ931Ok3AigYpeAo3TcCvHGuQkz1NwCjOgKTXME3AYr1RK0w9TcAG8YEd/ztNwOdQhqqYPE3AW5caoZ85TcBg5dAi2zhNwJ/leXB3ME3AYqJBCp48TcB0o37NKC9NwM4PbRFiPU3A341gPrQ4TcAozoCk1zBNwNLn/kUrPU3ADI/9LJY+TcBbc36EpTNNwLQh/8wgOk3AAAAAAAAA+H/nIa73djxNwNLw3xzLOk3AhmdTvxw6TcBnZVZKKjpNwPyEWKJYPk3ATyymiMI+TcAFNBE2PDFNwI5/VeTGM03AKH0h5Lw/TcAozoCk1zBNwJTeN772Ok3As4mCz8UyTcB6ysVzETdNwNFbPLznLk3A8YKI1LQ3TcBivVErTD1NwN/+t+3WME3Apr9NNWkvTcC+o8aEmD1NwAETuHU3N03AZJsKp7s3TcAoVldP9zRNwCv6QzNPPU3APFkgMMUzTcDdtYR80DlNwGba/pWVNk3AXMzPDU0zTcCgtZGhGTBNwJ2ifnJvN03AyTuHMlQ7TcDzQL9KmThNwCl3n+OjMU3AdNgEJsUzTcBk4MojyTVNwGibdoyGLk3AVJM7x9s0TcAeG4F4XUFNwB6NQ/0uQE3A7uwrD9I9TcAAAAAAAAD4fwAAAAAAAPh/GCB2Sxc9TcDirfNvlzVNwHFzKhkAMk3AbdG4JpM6TcAy422l1z5NwBd3zfXHOE3A7L5jeOw3TcCOSTWiaj5NwNjYJaq3O03A5FzUOOUvTcBIGtzWFi5NwAAAAAAAAPh/EPrjB/g6TcC/3rNkRD1NwOg0Zm2uNU3A32+044Y6TcC80/jgEDBNwGyvBb03OE3AbVfog2VATcAaK9YV2EFNwHcsW5DSOE3ANpAuNq04TcAZ9zDFZjZNwAAlmTD1M03ApWq7Cb49TcAAAAAAAAD4f5s8ZTVdM03Aik11Els0TcAqheV0/jVNwDGAvIv6Mk3AB/UX/Ek2TcAiHuRQGjdNwFMkXwmkOk3A7oa8PygzTcAv98lRgDJNwFeVfVcEMU3A5uGp7GA1TcDnAMEcPTpNwBGKraBpOU3AOBMAUF8zTcB0YaQXtTdNwF1459K0OE3Arr06A/Y8TcDoBQAQ1TlNwAH9GTlmPE3ArrJbcKs6TcAAAAAAAAD4f/HhvRosNU3AzQEngAc6TcAh496vczxNwJ1BjYwfNU3ALgJjfQM3TcDzEHzCyDVNwAAAAAAAAPh/CTTY1Hk2TcAH7kCd8kRNwFvR5ji3Nk3AABsQIa40TcAfuwuUFDZNwINsWb4uP03A/eTesvk3TcA4eLxPCTNNwNPYXgt6M03A5fIf0m8xTcALpHoh0z5NwPCnxks3N03A926YDdc1TcD7IMuCiTlNwHeBkgILOk3AdRdytsoyTcAAAAAAAAD4fyH0IsliNE3AKT+p9uk8TcDnIa73djxNwIN/tnrzNU3ArrJbcKs6TcDkZyPXTTVNwKi0tAnmOk3Ac+xFWWQ9TcBuoJW7HDFNwFImNbQBNU3A7WMFvw07TcClrzH5sDxNwLePJiiPOk3Axnha6M0zTcAl+VtMfTlNwBor1hXYPU3AAAAAAAAA+H/X0YJhCi9NwKVquwm+PU3A+sS0ibA7TcAAAAAAAAD4fwbBPpUuNk3AahiZ2xhDTcBaImEp3DlNwAsxTcdSO03AgHFfvUA4TcClarsJvj1NwAAAAAAAAPh/Wtb9YyE0TcCLEwCgITBNwLB32nXKOU3ABTQRNjwxTcAD7KNTVz5NwBiV1AloOE3A9Mu7Rbs1TcCSY0bTNDZNwJ+WmTV8M03AwhIPKJs8TcCQMXctITdNwN0/FqJDNE3AdWCU+3gxTcBrehteWjdNwBzQ0hVsMU3A5lsf1hsxTcC5FPzbCj1NwC3SxDvAO03AtABtq1k7TcCel4qNeTtNwAAAAAAAAPh/vYqMDkg0TcCUu3Q4XzVNwG4pqUzfOU3A34juWdc+TcBG71TAPT9NwAAAAAAAAPh/V3BNL0kyTcB/yLZn8TtNwLGLogc+ME3Ah8H8FTIxTcDpRIKpZjZNwKyiicENM03Adx7LcV06TcDAEZMmlDNNwI/XzdYLPU3AlrGhm/09TcAAWkeaHj5NwBiV1AloOE3AAyMva2IvTcDskbwpmzxNwITVWMLaOE3AEBJY7yZBTcAdoEUAgThNwIBxX71AOE3AH2RZMPE6TcCl2qfjMTVNwGXSlb7GNE3AAAAAAAAA+H8eUaG6uTxNwK6zoH4XPE3AF363E2E6TcDVbgVedzhNwEqYaftXMk3AJzkWyng6TcD2R3O/njhNwA6eCU0SPU3AhPBo44g9TcB/TdaohzpNwCh0qPCxMU3AU7k/zX81TcDgZvFiYThNwEjm7PiKNU3Az6EMVTE1TcD9HHrmQDxNwOZ5cHfWOE3ALaqP0Us6TcA=",
          "dtype": "f8"
         },
         "y": {
          "bdata": "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",
          "dtype": "f8"
         },
         "z": {
          "bdata": "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",
          "dtype": "f8"
         }
        },
        {
         "type": "surface",
         "x": {
          "bdata": "DQ+riU9FTcDEKTwxtEJNwHpEzdgYQE3AMV9egH09TcDoee8n4jpNwJ6UgM9GOE3AVa8Rd6s1TcAMyqIeEDNNwMLkM8Z0ME3Aef/EbdktTcAND6uJT0VNwMQpPDG0Qk3AekTN2BhATcAxX16AfT1NwOh57yfiOk3AnpSAz0Y4TcBVrxF3qzVNwAzKoh4QM03AwuQzxnQwTcB5/8Rt2S1NwA0Pq4lPRU3AxCk8MbRCTcB6RM3YGEBNwDFfXoB9PU3A6HnvJ+I6TcCelIDPRjhNwFWvEXerNU3ADMqiHhAzTcDC5DPGdDBNwHn/xG3ZLU3ADQ+riU9FTcDEKTwxtEJNwHpEzdgYQE3AMV9egH09TcDoee8n4jpNwJ6UgM9GOE3AVa8Rd6s1TcAMyqIeEDNNwMLkM8Z0ME3Aef/EbdktTcAND6uJT0VNwMQpPDG0Qk3AekTN2BhATcAxX16AfT1NwOh57yfiOk3AnpSAz0Y4TcBVrxF3qzVNwAzKoh4QM03AwuQzxnQwTcB5/8Rt2S1NwA0Pq4lPRU3AxCk8MbRCTcB6RM3YGEBNwDFfXoB9PU3A6HnvJ+I6TcCelIDPRjhNwFWvEXerNU3ADMqiHhAzTcDC5DPGdDBNwHn/xG3ZLU3ADQ+riU9FTcDEKTwxtEJNwHpEzdgYQE3AMV9egH09TcDoee8n4jpNwJ6UgM9GOE3AVa8Rd6s1TcAMyqIeEDNNwMLkM8Z0ME3Aef/EbdktTcAND6uJT0VNwMQpPDG0Qk3AekTN2BhATcAxX16AfT1NwOh57yfiOk3AnpSAz0Y4TcBVrxF3qzVNwAzKoh4QM03AwuQzxnQwTcB5/8Rt2S1NwA0Pq4lPRU3AxCk8MbRCTcB6RM3YGEBNwDFfXoB9PU3A6HnvJ+I6TcCelIDPRjhNwFWvEXerNU3ADMqiHhAzTcDC5DPGdDBNwHn/xG3ZLU3ADQ+riU9FTcDEKTwxtEJNwHpEzdgYQE3AMV9egH09TcDoee8n4jpNwJ6UgM9GOE3AVa8Rd6s1TcAMyqIeEDNNwMLkM8Z0ME3Aef/EbdktTcA=",
          "dtype": "f8",
          "shape": "10, 10"
         },
         "y": {
          "bdata": "RprTwOpYQcBGmtPA6lhBwEaa08DqWEHARprTwOpYQcBGmtPA6lhBwEaa08DqWEHARprTwOpYQcBGmtPA6lhBwEaa08DqWEHARprTwOpYQcBGoLx3qVZBwEagvHepVkHARqC8d6lWQcBGoLx3qVZBwEagvHepVkHARqC8d6lWQcBGoLx3qVZBwEagvHepVkHARqC8d6lWQcBGoLx3qVZBwEempS5oVEHAR6alLmhUQcBHpqUuaFRBwEempS5oVEHAR6alLmhUQcBHpqUuaFRBwEempS5oVEHAR6alLmhUQcBHpqUuaFRBwEempS5oVEHAR6yO5SZSQcBHrI7lJlJBwEesjuUmUkHAR6yO5SZSQcBHrI7lJlJBwEesjuUmUkHAR6yO5SZSQcBHrI7lJlJBwEesjuUmUkHAR6yO5SZSQcBHsnec5U9BwEeyd5zlT0HAR7J3nOVPQcBHsnec5U9BwEeyd5zlT0HAR7J3nOVPQcBHsnec5U9BwEeyd5zlT0HAR7J3nOVPQcBHsnec5U9BwEi4YFOkTUHASLhgU6RNQcBIuGBTpE1BwEi4YFOkTUHASLhgU6RNQcBIuGBTpE1BwEi4YFOkTUHASLhgU6RNQcBIuGBTpE1BwEi4YFOkTUHASL5JCmNLQcBIvkkKY0tBwEi+SQpjS0HASL5JCmNLQcBIvkkKY0tBwEi+SQpjS0HASL5JCmNLQcBIvkkKY0tBwEi+SQpjS0HASL5JCmNLQcBIxDLBIUlBwEjEMsEhSUHASMQywSFJQcBIxDLBIUlBwEjEMsEhSUHASMQywSFJQcBIxDLBIUlBwEjEMsEhSUHASMQywSFJQcBIxDLBIUlBwEnKG3jgRkHAScobeOBGQcBJyht44EZBwEnKG3jgRkHAScobeOBGQcBJyht44EZBwEnKG3jgRkHAScobeOBGQcBJyht44EZBwEnKG3jgRkHASdAEL59EQcBJ0AQvn0RBwEnQBC+fREHASdAEL59EQcBJ0AQvn0RBwEnQBC+fREHASdAEL59EQcBJ0AQvn0RBwEnQBC+fREHASdAEL59EQcA=",
          "dtype": "f8",
          "shape": "10, 10"
         },
         "z": {
          "bdata": "ACCqyk2X4UAAkFcUkdfqQAB8Ai/qC/JAADTZ0wus9kAA6q94LUz7QACghh1P7P9AAKouYThGAkEABpozSZYEQQBgBQZa5gZBALxw2Go2CUEAIKrKTZfhQACQVxSR1+pAAHwCL+oL8kAANNnTC6z2QADqr3gtTPtAAKCGHU/s/0AAqi5hOEYCQQAGmjNJlgRBAGAFBlrmBkEAvHDYajYJQQAgqspNl+FAAJBXFJHX6kAAfAIv6gvyQAA02dMLrPZAAOqveC1M+0AAoIYdT+z/QACqLmE4RgJBAAaaM0mWBEEAYAUGWuYGQQC8cNhqNglBACCqyk2X4UAAkFcUkdfqQAB8Ai/qC/JAADTZ0wus9kAA6q94LUz7QACghh1P7P9AAKouYThGAkEABpozSZYEQQBgBQZa5gZBALxw2Go2CUEAIKrKTZfhQACQVxSR1+pAAHwCL+oL8kAANNnTC6z2QADqr3gtTPtAAKCGHU/s/0AAqi5hOEYCQQAGmjNJlgRBAGAFBlrmBkEAvHDYajYJQQAgqspNl+FAAJBXFJHX6kAAfAIv6gvyQAA02dMLrPZAAOqveC1M+0AAoIYdT+z/QACqLmE4RgJBAAaaM0mWBEEAYAUGWuYGQQC8cNhqNglBACCqyk2X4UAAkFcUkdfqQAB8Ai/qC/JAADTZ0wus9kAA6q94LUz7QACghh1P7P9AAKouYThGAkEABpozSZYEQQBgBQZa5gZBALxw2Go2CUEAIKrKTZfhQACQVxSR1+pAAHwCL+oL8kAANNnTC6z2QADqr3gtTPtAAKCGHU/s/0AAqi5hOEYCQQAGmjNJlgRBAGAFBlrmBkEAvHDYajYJQQAgqspNl+FAAJBXFJHX6kAAfAIv6gvyQAA02dMLrPZAAOqveC1M+0AAoIYdT+z/QACqLmE4RgJBAAaaM0mWBEEAYAUGWuYGQQC8cNhqNglBACCqyk2X4UAAkFcUkdfqQAB8Ai/qC/JAADTZ0wus9kAA6q94LUz7QACghh1P7P9AAKouYThGAkEABpozSZYEQQBgBQZa5gZBALxw2Go2CUE=",
          "dtype": "f8",
          "shape": "10, 10"
         }
        }
       ],
       "layout": {
        "height": 500,
        "legend": {
         "tracegroupgap": 0
        },
        "margin": {
         "t": 60
        },
        "scene": {
         "domain": {
          "x": [
           0,
           1
          ],
          "y": [
           0,
           1
          ]
         },
         "xaxis": {
          "title": {
           "text": "longitude"
          }
         },
         "yaxis": {
          "title": {
           "text": "latitude"
          }
         },
         "zaxis": {
          "title": {
           "text": "price"
          }
         }
        },
        "template": {
         "data": {
          "bar": [
           {
            "error_x": {
             "color": "#2a3f5f"
            },
            "error_y": {
             "color": "#2a3f5f"
            },
            "marker": {
             "line": {
              "color": "#E5ECF6",
              "width": 0.5
             },
             "pattern": {
              "fillmode": "overlay",
              "size": 10,
              "solidity": 0.2
             }
            },
            "type": "bar"
           }
          ],
          "barpolar": [
           {
            "marker": {
             "line": {
              "color": "#E5ECF6",
              "width": 0.5
             },
             "pattern": {
              "fillmode": "overlay",
              "size": 10,
              "solidity": 0.2
             }
            },
            "type": "barpolar"
           }
          ],
          "carpet": [
           {
            "aaxis": {
             "endlinecolor": "#2a3f5f",
             "gridcolor": "white",
             "linecolor": "white",
             "minorgridcolor": "white",
             "startlinecolor": "#2a3f5f"
            },
            "baxis": {
             "endlinecolor": "#2a3f5f",
             "gridcolor": "white",
             "linecolor": "white",
             "minorgridcolor": "white",
             "startlinecolor": "#2a3f5f"
            },
            "type": "carpet"
           }
          ],
          "choropleth": [
           {
            "colorbar": {
             "outlinewidth": 0,
             "ticks": ""
            },
            "type": "choropleth"
           }
          ],
          "contour": [
           {
            "colorbar": {
             "outlinewidth": 0,
             "ticks": ""
            },
            "colorscale": [
             [
              0,
              "#0d0887"
             ],
             [
              0.1111111111111111,
              "#46039f"
             ],
             [
              0.2222222222222222,
              "#7201a8"
             ],
             [
              0.3333333333333333,
              "#9c179e"
             ],
             [
              0.4444444444444444,
              "#bd3786"
             ],
             [
              0.5555555555555556,
              "#d8576b"
             ],
             [
              0.6666666666666666,
              "#ed7953"
             ],
             [
              0.7777777777777778,
              "#fb9f3a"
             ],
             [
              0.8888888888888888,
              "#fdca26"
             ],
             [
              1,
              "#f0f921"
             ]
            ],
            "type": "contour"
           }
          ],
          "contourcarpet": [
           {
            "colorbar": {
             "outlinewidth": 0,
             "ticks": ""
            },
            "type": "contourcarpet"
           }
          ],
          "heatmap": [
           {
            "colorbar": {
             "outlinewidth": 0,
             "ticks": ""
            },
            "colorscale": [
             [
              0,
              "#0d0887"
             ],
             [
              0.1111111111111111,
              "#46039f"
             ],
             [
              0.2222222222222222,
              "#7201a8"
             ],
             [
              0.3333333333333333,
              "#9c179e"
             ],
             [
              0.4444444444444444,
              "#bd3786"
             ],
             [
              0.5555555555555556,
              "#d8576b"
             ],
             [
              0.6666666666666666,
              "#ed7953"
             ],
             [
              0.7777777777777778,
              "#fb9f3a"
             ],
             [
              0.8888888888888888,
              "#fdca26"
             ],
             [
              1,
              "#f0f921"
             ]
            ],
            "type": "heatmap"
           }
          ],
          "histogram": [
           {
            "marker": {
             "pattern": {
              "fillmode": "overlay",
              "size": 10,
              "solidity": 0.2
             }
            },
            "type": "histogram"
           }
          ],
          "histogram2d": [
           {
            "colorbar": {
             "outlinewidth": 0,
             "ticks": ""
            },
            "colorscale": [
             [
              0,
              "#0d0887"
             ],
             [
              0.1111111111111111,
              "#46039f"
             ],
             [
              0.2222222222222222,
              "#7201a8"
             ],
             [
              0.3333333333333333,
              "#9c179e"
             ],
             [
              0.4444444444444444,
              "#bd3786"
             ],
             [
              0.5555555555555556,
              "#d8576b"
             ],
             [
              0.6666666666666666,
              "#ed7953"
             ],
             [
              0.7777777777777778,
              "#fb9f3a"
             ],
             [
              0.8888888888888888,
              "#fdca26"
             ],
             [
              1,
              "#f0f921"
             ]
            ],
            "type": "histogram2d"
           }
          ],
          "histogram2dcontour": [
           {
            "colorbar": {
             "outlinewidth": 0,
             "ticks": ""
            },
            "colorscale": [
             [
              0,
              "#0d0887"
             ],
             [
              0.1111111111111111,
              "#46039f"
             ],
             [
              0.2222222222222222,
              "#7201a8"
             ],
             [
              0.3333333333333333,
              "#9c179e"
             ],
             [
              0.4444444444444444,
              "#bd3786"
             ],
             [
              0.5555555555555556,
              "#d8576b"
             ],
             [
              0.6666666666666666,
              "#ed7953"
             ],
             [
              0.7777777777777778,
              "#fb9f3a"
             ],
             [
              0.8888888888888888,
              "#fdca26"
             ],
             [
              1,
              "#f0f921"
             ]
            ],
            "type": "histogram2dcontour"
           }
          ],
          "mesh3d": [
           {
            "colorbar": {
             "outlinewidth": 0,
             "ticks": ""
            },
            "type": "mesh3d"
           }
          ],
          "parcoords": [
           {
            "line": {
             "colorbar": {
              "outlinewidth": 0,
              "ticks": ""
             }
            },
            "type": "parcoords"
           }
          ],
          "pie": [
           {
            "automargin": true,
            "type": "pie"
           }
          ],
          "scatter": [
           {
            "fillpattern": {
             "fillmode": "overlay",
             "size": 10,
             "solidity": 0.2
            },
            "type": "scatter"
           }
          ],
          "scatter3d": [
           {
            "line": {
             "colorbar": {
              "outlinewidth": 0,
              "ticks": ""
             }
            },
            "marker": {
             "colorbar": {
              "outlinewidth": 0,
              "ticks": ""
             }
            },
            "type": "scatter3d"
           }
          ],
          "scattercarpet": [
           {
            "marker": {
             "colorbar": {
              "outlinewidth": 0,
              "ticks": ""
             }
            },
            "type": "scattercarpet"
           }
          ],
          "scattergeo": [
           {
            "marker": {
             "colorbar": {
              "outlinewidth": 0,
              "ticks": ""
             }
            },
            "type": "scattergeo"
           }
          ],
          "scattergl": [
           {
            "marker": {
             "colorbar": {
              "outlinewidth": 0,
              "ticks": ""
             }
            },
            "type": "scattergl"
           }
          ],
          "scattermap": [
           {
            "marker": {
             "colorbar": {
              "outlinewidth": 0,
              "ticks": ""
             }
            },
            "type": "scattermap"
           }
          ],
          "scattermapbox": [
           {
            "marker": {
             "colorbar": {
              "outlinewidth": 0,
              "ticks": ""
             }
            },
            "type": "scattermapbox"
           }
          ],
          "scatterpolar": [
           {
            "marker": {
             "colorbar": {
              "outlinewidth": 0,
              "ticks": ""
             }
            },
            "type": "scatterpolar"
           }
          ],
          "scatterpolargl": [
           {
            "marker": {
             "colorbar": {
              "outlinewidth": 0,
              "ticks": ""
             }
            },
            "type": "scatterpolargl"
           }
          ],
          "scatterternary": [
           {
            "marker": {
             "colorbar": {
              "outlinewidth": 0,
              "ticks": ""
             }
            },
            "type": "scatterternary"
           }
          ],
          "surface": [
           {
            "colorbar": {
             "outlinewidth": 0,
             "ticks": ""
            },
            "colorscale": [
             [
              0,
              "#0d0887"
             ],
             [
              0.1111111111111111,
              "#46039f"
             ],
             [
              0.2222222222222222,
              "#7201a8"
             ],
             [
              0.3333333333333333,
              "#9c179e"
             ],
             [
              0.4444444444444444,
              "#bd3786"
             ],
             [
              0.5555555555555556,
              "#d8576b"
             ],
             [
              0.6666666666666666,
              "#ed7953"
             ],
             [
              0.7777777777777778,
              "#fb9f3a"
             ],
             [
              0.8888888888888888,
              "#fdca26"
             ],
             [
              1,
              "#f0f921"
             ]
            ],
            "type": "surface"
           }
          ],
          "table": [
           {
            "cells": {
             "fill": {
              "color": "#EBF0F8"
             },
             "line": {
              "color": "white"
             }
            },
            "header": {
             "fill": {
              "color": "#C8D4E3"
             },
             "line": {
              "color": "white"
             }
            },
            "type": "table"
           }
          ]
         },
         "layout": {
          "annotationdefaults": {
           "arrowcolor": "#2a3f5f",
           "arrowhead": 0,
           "arrowwidth": 1
          },
          "autotypenumbers": "strict",
          "coloraxis": {
           "colorbar": {
            "outlinewidth": 0,
            "ticks": ""
           }
          },
          "colorscale": {
           "diverging": [
            [
             0,
             "#8e0152"
            ],
            [
             0.1,
             "#c51b7d"
            ],
            [
             0.2,
             "#de77ae"
            ],
            [
             0.3,
             "#f1b6da"
            ],
            [
             0.4,
             "#fde0ef"
            ],
            [
             0.5,
             "#f7f7f7"
            ],
            [
             0.6,
             "#e6f5d0"
            ],
            [
             0.7,
             "#b8e186"
            ],
            [
             0.8,
             "#7fbc41"
            ],
            [
             0.9,
             "#4d9221"
            ],
            [
             1,
             "#276419"
            ]
           ],
           "sequential": [
            [
             0,
             "#0d0887"
            ],
            [
             0.1111111111111111,
             "#46039f"
            ],
            [
             0.2222222222222222,
             "#7201a8"
            ],
            [
             0.3333333333333333,
             "#9c179e"
            ],
            [
             0.4444444444444444,
             "#bd3786"
            ],
            [
             0.5555555555555556,
             "#d8576b"
            ],
            [
             0.6666666666666666,
             "#ed7953"
            ],
            [
             0.7777777777777778,
             "#fb9f3a"
            ],
            [
             0.8888888888888888,
             "#fdca26"
            ],
            [
             1,
             "#f0f921"
            ]
           ],
           "sequentialminus": [
            [
             0,
             "#0d0887"
            ],
            [
             0.1111111111111111,
             "#46039f"
            ],
            [
             0.2222222222222222,
             "#7201a8"
            ],
            [
             0.3333333333333333,
             "#9c179e"
            ],
            [
             0.4444444444444444,
             "#bd3786"
            ],
            [
             0.5555555555555556,
             "#d8576b"
            ],
            [
             0.6666666666666666,
             "#ed7953"
            ],
            [
             0.7777777777777778,
             "#fb9f3a"
            ],
            [
             0.8888888888888888,
             "#fdca26"
            ],
            [
             1,
             "#f0f921"
            ]
           ]
          },
          "colorway": [
           "#636efa",
           "#EF553B",
           "#00cc96",
           "#ab63fa",
           "#FFA15A",
           "#19d3f3",
           "#FF6692",
           "#B6E880",
           "#FF97FF",
           "#FECB52"
          ],
          "font": {
           "color": "#2a3f5f"
          },
          "geo": {
           "bgcolor": "white",
           "lakecolor": "white",
           "landcolor": "#E5ECF6",
           "showlakes": true,
           "showland": true,
           "subunitcolor": "white"
          },
          "hoverlabel": {
           "align": "left"
          },
          "hovermode": "closest",
          "mapbox": {
           "style": "light"
          },
          "paper_bgcolor": "white",
          "plot_bgcolor": "#E5ECF6",
          "polar": {
           "angularaxis": {
            "gridcolor": "white",
            "linecolor": "white",
            "ticks": ""
           },
           "bgcolor": "#E5ECF6",
           "radialaxis": {
            "gridcolor": "white",
            "linecolor": "white",
            "ticks": ""
           }
          },
          "scene": {
           "xaxis": {
            "backgroundcolor": "#E5ECF6",
            "gridcolor": "white",
            "gridwidth": 2,
            "linecolor": "white",
            "showbackground": true,
            "ticks": "",
            "zerolinecolor": "white"
           },
           "yaxis": {
            "backgroundcolor": "#E5ECF6",
            "gridcolor": "white",
            "gridwidth": 2,
            "linecolor": "white",
            "showbackground": true,
            "ticks": "",
            "zerolinecolor": "white"
           },
           "zaxis": {
            "backgroundcolor": "#E5ECF6",
            "gridcolor": "white",
            "gridwidth": 2,
            "linecolor": "white",
            "showbackground": true,
            "ticks": "",
            "zerolinecolor": "white"
           }
          },
          "shapedefaults": {
           "line": {
            "color": "#2a3f5f"
           }
          },
          "ternary": {
           "aaxis": {
            "gridcolor": "white",
            "linecolor": "white",
            "ticks": ""
           },
           "baxis": {
            "gridcolor": "white",
            "linecolor": "white",
            "ticks": ""
           },
           "bgcolor": "#E5ECF6",
           "caxis": {
            "gridcolor": "white",
            "linecolor": "white",
            "ticks": ""
           }
          },
          "title": {
           "x": 0.05
          },
          "xaxis": {
           "automargin": true,
           "gridcolor": "white",
           "linecolor": "white",
           "ticks": "",
           "title": {
            "standoff": 15
           },
           "zerolinecolor": "white",
           "zerolinewidth": 2
          },
          "yaxis": {
           "automargin": true,
           "gridcolor": "white",
           "linecolor": "white",
           "ticks": "",
           "title": {
            "standoff": 15
           },
           "zerolinecolor": "white",
           "zerolinewidth": 2
          }
         }
        },
        "width": 600
       }
      }
     },
     "metadata": {},
     "output_type": "display_data"
    }
   ],
   "source": [
    "# Create 3D scatter plot\n",
    "fig = px.scatter_3d(\n",
    "    df,\n",
    "    x= \"lon\",\n",
    "    y= \"lat\",\n",
    "    z= \"price_aprox_usd\",\n",
    "    labels={\"lon\": \"longitude\", \"lat\": \"latitude\", \"price_aprox_usd\": \"price\"},\n",
    "    width=600,\n",
    "    height=500,\n",
    ")\n",
    "\n",
    "# Create x and y coordinates for model representation\n",
    "x_plane = np.linspace(df[\"lon\"].min(), df[\"lon\"].max(), 10)\n",
    "y_plane = np.linspace(df[\"lat\"].min(), df[\"lat\"].max(), 10)\n",
    "xx, yy = np.meshgrid(x_plane, y_plane)\n",
    "\n",
    "# Use model to predict z coordinates\n",
    "z_plane = model.predict(pd.DataFrame({\"lon\": x_plane, \"lat\": y_plane}))\n",
    "zz = np.tile(z_plane, (10, 1))\n",
    "\n",
    "# Add plane to figure\n",
    "fig.add_trace(go.Surface(x=xx, y=yy, z=zz))\n",
    "\n",
    "# Refine formatting\n",
    "fig.update_traces(\n",
    "    marker={\"size\": 4, \"line\": {\"width\": 2, \"color\": \"DarkSlateGrey\"}},\n",
    "    selector={\"mode\": \"markers\"},\n",
    ")\n",
    "\n",
    "# Display figure\n",
    "fig.show()"
   ]
  }
 ],
 "metadata": {
  "kernelspec": {
   "display_name": "applied_data_science_lab",
   "language": "python",
   "name": "python3"
  },
  "language_info": {
   "codemirror_mode": {
    "name": "ipython",
    "version": 3
   },
   "file_extension": ".py",
   "mimetype": "text/x-python",
   "name": "python",
   "nbconvert_exporter": "python",
   "pygments_lexer": "ipython3",
   "version": "3.13.2"
  }
 },
 "nbformat": 4,
 "nbformat_minor": 5
}
