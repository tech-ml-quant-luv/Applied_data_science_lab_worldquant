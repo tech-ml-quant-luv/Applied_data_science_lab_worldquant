{
 "cells": [
  {
   "cell_type": "markdown",
   "id": "83ddad2f",
   "metadata": {},
   "source": [
    "<h3> Goals </h3>\n",
    "\n",
    "- Prepare household dataset for binary classification\n",
    "- Create a logistic regression modle to predict severe damage.\n",
    "- Explain model predictions using odds ratio.\n",
    "- Interrogate important features based on caste\n",
    "- Group categorical features which are high cardinal\n",
    "- Investigate apparent role in caste in building damage.\n"
   ]
  },
  {
   "cell_type": "code",
   "execution_count": null,
   "id": "0416684c",
   "metadata": {},
   "outputs": [],
   "source": [
    "import sqlite3\n",
    "import matplotlib.pyplot as plt\n",
    "import numpy as np\n",
    "import pandas as pd\n",
    "import seaborn as sns\n",
    "from category_encoders import OneHotEncoder\n",
    "from sklearn.linear_model import LogisticRegression\n",
    "from sklearn.metrics import accuracy_score\n",
    "from sklearn.model_selection import train_test_split\n",
    "from sklearn.pipeline import Pipeline, make_pipeline\n",
    "from sklearn.utils.validation import check_is_fitted\n",
    "from sklearn.preprocessing import TargetEncoder"
   ]
  },
  {
   "cell_type": "code",
   "execution_count": null,
   "id": "003fea4e",
   "metadata": {},
   "outputs": [],
   "source": []
  }
 ],
 "metadata": {
  "language_info": {
   "name": "python"
  }
 },
 "nbformat": 4,
 "nbformat_minor": 5
}
