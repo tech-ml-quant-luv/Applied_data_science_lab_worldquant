{
 "cells": [
  {
   "cell_type": "code",
   "execution_count": 100,
   "id": "3e95040e",
   "metadata": {},
   "outputs": [],
   "source": [
    "import sqlite3\n",
    "import matplotlib.pyplot as plt\n",
    "import numpy as np\n",
    "import pandas as pd\n",
    "import seaborn as sns\n",
    "from category_encoders import OneHotEncoder\n",
    "from sklearn.linear_model import LogisticRegression\n",
    "from sklearn.metrics import accuracy_score\n",
    "from sklearn.model_selection import train_test_split\n",
    "from sklearn.pipeline import Pipeline, make_pipeline\n",
    "from sklearn.utils.validation import check_is_fitted\n",
    "from sklearn.preprocessing import TargetEncoder"
   ]
  },
  {
   "cell_type": "markdown",
   "id": "678345cf",
   "metadata": {},
   "source": [
    "#### Getting the data and Preparing Data\n"
   ]
  },
  {
   "cell_type": "code",
   "execution_count": 101,
   "id": "c5efc182",
   "metadata": {},
   "outputs": [],
   "source": [
    "def wrangle(db_path):\n",
    "    # connect to database\n",
    "    conn = sqlite3.connect(db_path)\n",
    "\n",
    "    # construct query\n",
    "    query = \"\"\"\n",
    "    SELECT DISTINCT i.building_id AS b_id, s.*, d.damage_grade\n",
    "    FROM id_map as i\n",
    "    JOIN building_structure as s ON i.building_id = s.building_id\n",
    "    JOIN building_damage as d ON i.building_id = d.building_id\n",
    "    WHERE district_id = 4\n",
    "    \"\"\"\n",
    "    # Read query results into a dataframe\n",
    "    df = pd.read_sql(query, conn, index_col=\"b_id\")\n",
    "\n",
    "    #Identify Leaky Features\n",
    "    drop_cols = [col for col in df.columns if \"post_eq\" in col]\n",
    "\n",
    "    #Create Binary Target\n",
    "    # df[\"damage_grade\"] = df[\"damage_grade\"].str[-1].astype(int)\n",
    "    df[\"damage_grade\"] = df[\"damage_grade\"].str.replace(\"Grade\", \"\").str.strip().astype(int)\n",
    "    df[\"severe_damage\"] = (df[\"damage_grade\"] > 3).astype(int)\n",
    "    drop_cols.append(\"damage_grade\")\n",
    "\n",
    "    #Drop multicollinearity column\n",
    "    drop_cols.append(\"count_floors_pre_eq\")\n",
    "\n",
    "    #Drop high-cardinality categorical column\n",
    "    drop_cols.append(\"building_id\")\n",
    "\n",
    "    #Drop Columns\n",
    "    df.drop(columns=drop_cols, inplace=True)\n",
    "\n",
    "    return df"
   ]
  },
  {
   "cell_type": "code",
   "execution_count": 102,
   "id": "f5925994",
   "metadata": {},
   "outputs": [
    {
     "data": {
      "application/vnd.microsoft.datawrangler.viewer.v0+json": {
       "columns": [
        {
         "name": "b_id",
         "rawType": "int64",
         "type": "integer"
        },
        {
         "name": "age_building",
         "rawType": "int64",
         "type": "integer"
        },
        {
         "name": "plinth_area_sq_ft",
         "rawType": "int64",
         "type": "integer"
        },
        {
         "name": "height_ft_pre_eq",
         "rawType": "int64",
         "type": "integer"
        },
        {
         "name": "land_surface_condition",
         "rawType": "object",
         "type": "string"
        },
        {
         "name": "foundation_type",
         "rawType": "object",
         "type": "string"
        },
        {
         "name": "roof_type",
         "rawType": "object",
         "type": "string"
        },
        {
         "name": "ground_floor_type",
         "rawType": "object",
         "type": "string"
        },
        {
         "name": "other_floor_type",
         "rawType": "object",
         "type": "string"
        },
        {
         "name": "position",
         "rawType": "object",
         "type": "string"
        },
        {
         "name": "plan_configuration",
         "rawType": "object",
         "type": "string"
        },
        {
         "name": "superstructure",
         "rawType": "object",
         "type": "string"
        },
        {
         "name": "severe_damage",
         "rawType": "int64",
         "type": "integer"
        }
       ],
       "ref": "c9635ad3-292e-47f2-9aa0-5f960fa52bf4",
       "rows": [
        [
         "164002",
         "20",
         "560",
         "18",
         "Flat",
         "Mud mortar-Stone/Brick",
         "Bamboo/Timber-Light roof",
         "Mud",
         "TImber/Bamboo-Mud",
         "Not attached",
         "Rectangular",
         "Stone, mud mortar",
         "0"
        ],
        [
         "164081",
         "21",
         "200",
         "12",
         "Flat",
         "Mud mortar-Stone/Brick",
         "Bamboo/Timber-Light roof",
         "Mud",
         "TImber/Bamboo-Mud",
         "Not attached",
         "Rectangular",
         "Stone, mud mortar",
         "0"
        ],
        [
         "164089",
         "18",
         "315",
         "20",
         "Flat",
         "Mud mortar-Stone/Brick",
         "Bamboo/Timber-Light roof",
         "Mud",
         "TImber/Bamboo-Mud",
         "Not attached",
         "Rectangular",
         "Stone, mud mortar",
         "0"
        ],
        [
         "164098",
         "45",
         "290",
         "13",
         "Flat",
         "Mud mortar-Stone/Brick",
         "Bamboo/Timber-Light roof",
         "Mud",
         "TImber/Bamboo-Mud",
         "Not attached",
         "Rectangular",
         "Stone, mud mortar",
         "0"
        ],
        [
         "164103",
         "21",
         "230",
         "13",
         "Flat",
         "Mud mortar-Stone/Brick",
         "Bamboo/Timber-Light roof",
         "Mud",
         "TImber/Bamboo-Mud",
         "Not attached",
         "Rectangular",
         "Stone, mud mortar",
         "0"
        ]
       ],
       "shape": {
        "columns": 12,
        "rows": 5
       }
      },
      "text/html": [
       "<div>\n",
       "<style scoped>\n",
       "    .dataframe tbody tr th:only-of-type {\n",
       "        vertical-align: middle;\n",
       "    }\n",
       "\n",
       "    .dataframe tbody tr th {\n",
       "        vertical-align: top;\n",
       "    }\n",
       "\n",
       "    .dataframe thead th {\n",
       "        text-align: right;\n",
       "    }\n",
       "</style>\n",
       "<table border=\"1\" class=\"dataframe\">\n",
       "  <thead>\n",
       "    <tr style=\"text-align: right;\">\n",
       "      <th></th>\n",
       "      <th>age_building</th>\n",
       "      <th>plinth_area_sq_ft</th>\n",
       "      <th>height_ft_pre_eq</th>\n",
       "      <th>land_surface_condition</th>\n",
       "      <th>foundation_type</th>\n",
       "      <th>roof_type</th>\n",
       "      <th>ground_floor_type</th>\n",
       "      <th>other_floor_type</th>\n",
       "      <th>position</th>\n",
       "      <th>plan_configuration</th>\n",
       "      <th>superstructure</th>\n",
       "      <th>severe_damage</th>\n",
       "    </tr>\n",
       "    <tr>\n",
       "      <th>b_id</th>\n",
       "      <th></th>\n",
       "      <th></th>\n",
       "      <th></th>\n",
       "      <th></th>\n",
       "      <th></th>\n",
       "      <th></th>\n",
       "      <th></th>\n",
       "      <th></th>\n",
       "      <th></th>\n",
       "      <th></th>\n",
       "      <th></th>\n",
       "      <th></th>\n",
       "    </tr>\n",
       "  </thead>\n",
       "  <tbody>\n",
       "    <tr>\n",
       "      <th>164002</th>\n",
       "      <td>20</td>\n",
       "      <td>560</td>\n",
       "      <td>18</td>\n",
       "      <td>Flat</td>\n",
       "      <td>Mud mortar-Stone/Brick</td>\n",
       "      <td>Bamboo/Timber-Light roof</td>\n",
       "      <td>Mud</td>\n",
       "      <td>TImber/Bamboo-Mud</td>\n",
       "      <td>Not attached</td>\n",
       "      <td>Rectangular</td>\n",
       "      <td>Stone, mud mortar</td>\n",
       "      <td>0</td>\n",
       "    </tr>\n",
       "    <tr>\n",
       "      <th>164081</th>\n",
       "      <td>21</td>\n",
       "      <td>200</td>\n",
       "      <td>12</td>\n",
       "      <td>Flat</td>\n",
       "      <td>Mud mortar-Stone/Brick</td>\n",
       "      <td>Bamboo/Timber-Light roof</td>\n",
       "      <td>Mud</td>\n",
       "      <td>TImber/Bamboo-Mud</td>\n",
       "      <td>Not attached</td>\n",
       "      <td>Rectangular</td>\n",
       "      <td>Stone, mud mortar</td>\n",
       "      <td>0</td>\n",
       "    </tr>\n",
       "    <tr>\n",
       "      <th>164089</th>\n",
       "      <td>18</td>\n",
       "      <td>315</td>\n",
       "      <td>20</td>\n",
       "      <td>Flat</td>\n",
       "      <td>Mud mortar-Stone/Brick</td>\n",
       "      <td>Bamboo/Timber-Light roof</td>\n",
       "      <td>Mud</td>\n",
       "      <td>TImber/Bamboo-Mud</td>\n",
       "      <td>Not attached</td>\n",
       "      <td>Rectangular</td>\n",
       "      <td>Stone, mud mortar</td>\n",
       "      <td>0</td>\n",
       "    </tr>\n",
       "    <tr>\n",
       "      <th>164098</th>\n",
       "      <td>45</td>\n",
       "      <td>290</td>\n",
       "      <td>13</td>\n",
       "      <td>Flat</td>\n",
       "      <td>Mud mortar-Stone/Brick</td>\n",
       "      <td>Bamboo/Timber-Light roof</td>\n",
       "      <td>Mud</td>\n",
       "      <td>TImber/Bamboo-Mud</td>\n",
       "      <td>Not attached</td>\n",
       "      <td>Rectangular</td>\n",
       "      <td>Stone, mud mortar</td>\n",
       "      <td>0</td>\n",
       "    </tr>\n",
       "    <tr>\n",
       "      <th>164103</th>\n",
       "      <td>21</td>\n",
       "      <td>230</td>\n",
       "      <td>13</td>\n",
       "      <td>Flat</td>\n",
       "      <td>Mud mortar-Stone/Brick</td>\n",
       "      <td>Bamboo/Timber-Light roof</td>\n",
       "      <td>Mud</td>\n",
       "      <td>TImber/Bamboo-Mud</td>\n",
       "      <td>Not attached</td>\n",
       "      <td>Rectangular</td>\n",
       "      <td>Stone, mud mortar</td>\n",
       "      <td>0</td>\n",
       "    </tr>\n",
       "  </tbody>\n",
       "</table>\n",
       "</div>"
      ],
      "text/plain": [
       "        age_building  plinth_area_sq_ft  height_ft_pre_eq  \\\n",
       "b_id                                                        \n",
       "164002            20                560                18   \n",
       "164081            21                200                12   \n",
       "164089            18                315                20   \n",
       "164098            45                290                13   \n",
       "164103            21                230                13   \n",
       "\n",
       "       land_surface_condition         foundation_type  \\\n",
       "b_id                                                    \n",
       "164002                   Flat  Mud mortar-Stone/Brick   \n",
       "164081                   Flat  Mud mortar-Stone/Brick   \n",
       "164089                   Flat  Mud mortar-Stone/Brick   \n",
       "164098                   Flat  Mud mortar-Stone/Brick   \n",
       "164103                   Flat  Mud mortar-Stone/Brick   \n",
       "\n",
       "                       roof_type ground_floor_type   other_floor_type  \\\n",
       "b_id                                                                    \n",
       "164002  Bamboo/Timber-Light roof               Mud  TImber/Bamboo-Mud   \n",
       "164081  Bamboo/Timber-Light roof               Mud  TImber/Bamboo-Mud   \n",
       "164089  Bamboo/Timber-Light roof               Mud  TImber/Bamboo-Mud   \n",
       "164098  Bamboo/Timber-Light roof               Mud  TImber/Bamboo-Mud   \n",
       "164103  Bamboo/Timber-Light roof               Mud  TImber/Bamboo-Mud   \n",
       "\n",
       "            position plan_configuration     superstructure  severe_damage  \n",
       "b_id                                                                       \n",
       "164002  Not attached        Rectangular  Stone, mud mortar              0  \n",
       "164081  Not attached        Rectangular  Stone, mud mortar              0  \n",
       "164089  Not attached        Rectangular  Stone, mud mortar              0  \n",
       "164098  Not attached        Rectangular  Stone, mud mortar              0  \n",
       "164103  Not attached        Rectangular  Stone, mud mortar              0  "
      ]
     },
     "execution_count": 102,
     "metadata": {},
     "output_type": "execute_result"
    }
   ],
   "source": [
    "df = wrangle(\"./data/nepal.sqlite\")\n",
    "df.head()"
   ]
  },
  {
   "cell_type": "code",
   "execution_count": 103,
   "id": "1ecbb956",
   "metadata": {},
   "outputs": [
    {
     "name": "stdout",
     "output_type": "stream",
     "text": [
      "<class 'pandas.core.frame.DataFrame'>\n",
      "Index: 70836 entries, 164002 to 234835\n",
      "Data columns (total 12 columns):\n",
      " #   Column                  Non-Null Count  Dtype \n",
      "---  ------                  --------------  ----- \n",
      " 0   age_building            70836 non-null  int64 \n",
      " 1   plinth_area_sq_ft       70836 non-null  int64 \n",
      " 2   height_ft_pre_eq        70836 non-null  int64 \n",
      " 3   land_surface_condition  70836 non-null  object\n",
      " 4   foundation_type         70836 non-null  object\n",
      " 5   roof_type               70836 non-null  object\n",
      " 6   ground_floor_type       70836 non-null  object\n",
      " 7   other_floor_type        70836 non-null  object\n",
      " 8   position                70836 non-null  object\n",
      " 9   plan_configuration      70836 non-null  object\n",
      " 10  superstructure          70836 non-null  object\n",
      " 11  severe_damage           70836 non-null  int64 \n",
      "dtypes: int64(4), object(8)\n",
      "memory usage: 7.0+ MB\n",
      "None\n"
     ]
    }
   ],
   "source": [
    "print(df.info())"
   ]
  },
  {
   "cell_type": "markdown",
   "id": "96d6196a",
   "metadata": {},
   "source": [
    "- Remove Leaky Features"
   ]
  },
  {
   "cell_type": "code",
   "execution_count": 104,
   "id": "25fb5cab",
   "metadata": {},
   "outputs": [],
   "source": [
    "# drop_cols = [col for col in df.columns if \"post_eq\" in col]"
   ]
  },
  {
   "cell_type": "markdown",
   "id": "092d0c62",
   "metadata": {},
   "source": [
    "- Creating Target Data"
   ]
  },
  {
   "cell_type": "code",
   "execution_count": 105,
   "id": "5bb21381",
   "metadata": {},
   "outputs": [],
   "source": [
    "# df[\"damage_grade\"].head()"
   ]
  },
  {
   "cell_type": "code",
   "execution_count": 106,
   "id": "47ab88cc",
   "metadata": {},
   "outputs": [],
   "source": [
    "# df[\"damage_grade\"].value_counts()"
   ]
  },
  {
   "cell_type": "markdown",
   "id": "57a8fd5f",
   "metadata": {},
   "source": [
    "- Getting just the number of grade from the damage_grade"
   ]
  },
  {
   "cell_type": "code",
   "execution_count": 107,
   "id": "605935a2",
   "metadata": {},
   "outputs": [],
   "source": [
    "# df[\"damage_grade\"].str.replace(\"Grade\", \"\").str.strip().astype(int)"
   ]
  },
  {
   "cell_type": "code",
   "execution_count": 108,
   "id": "cf572f6a",
   "metadata": {},
   "outputs": [],
   "source": [
    "# df[\"damage_grade\"] = df[\"damage_grade\"].str[-1].astype(int)\n",
    "# df[\"severe_damage\"] = (df[\"damage_grade\"] > 3).astype(int)\n"
   ]
  },
  {
   "cell_type": "code",
   "execution_count": 109,
   "id": "ea3a2b9e",
   "metadata": {},
   "outputs": [
    {
     "data": {
      "application/vnd.microsoft.datawrangler.viewer.v0+json": {
       "columns": [
        {
         "name": "b_id",
         "rawType": "int64",
         "type": "integer"
        },
        {
         "name": "age_building",
         "rawType": "int64",
         "type": "integer"
        },
        {
         "name": "plinth_area_sq_ft",
         "rawType": "int64",
         "type": "integer"
        },
        {
         "name": "height_ft_pre_eq",
         "rawType": "int64",
         "type": "integer"
        },
        {
         "name": "land_surface_condition",
         "rawType": "object",
         "type": "string"
        },
        {
         "name": "foundation_type",
         "rawType": "object",
         "type": "string"
        },
        {
         "name": "roof_type",
         "rawType": "object",
         "type": "string"
        },
        {
         "name": "ground_floor_type",
         "rawType": "object",
         "type": "string"
        },
        {
         "name": "other_floor_type",
         "rawType": "object",
         "type": "string"
        },
        {
         "name": "position",
         "rawType": "object",
         "type": "string"
        },
        {
         "name": "plan_configuration",
         "rawType": "object",
         "type": "string"
        },
        {
         "name": "superstructure",
         "rawType": "object",
         "type": "string"
        },
        {
         "name": "severe_damage",
         "rawType": "int64",
         "type": "integer"
        }
       ],
       "ref": "545ba81e-130b-440f-b09b-0561c3e8b2d3",
       "rows": [
        [
         "164002",
         "20",
         "560",
         "18",
         "Flat",
         "Mud mortar-Stone/Brick",
         "Bamboo/Timber-Light roof",
         "Mud",
         "TImber/Bamboo-Mud",
         "Not attached",
         "Rectangular",
         "Stone, mud mortar",
         "0"
        ],
        [
         "164081",
         "21",
         "200",
         "12",
         "Flat",
         "Mud mortar-Stone/Brick",
         "Bamboo/Timber-Light roof",
         "Mud",
         "TImber/Bamboo-Mud",
         "Not attached",
         "Rectangular",
         "Stone, mud mortar",
         "0"
        ],
        [
         "164089",
         "18",
         "315",
         "20",
         "Flat",
         "Mud mortar-Stone/Brick",
         "Bamboo/Timber-Light roof",
         "Mud",
         "TImber/Bamboo-Mud",
         "Not attached",
         "Rectangular",
         "Stone, mud mortar",
         "0"
        ],
        [
         "164098",
         "45",
         "290",
         "13",
         "Flat",
         "Mud mortar-Stone/Brick",
         "Bamboo/Timber-Light roof",
         "Mud",
         "TImber/Bamboo-Mud",
         "Not attached",
         "Rectangular",
         "Stone, mud mortar",
         "0"
        ],
        [
         "164103",
         "21",
         "230",
         "13",
         "Flat",
         "Mud mortar-Stone/Brick",
         "Bamboo/Timber-Light roof",
         "Mud",
         "TImber/Bamboo-Mud",
         "Not attached",
         "Rectangular",
         "Stone, mud mortar",
         "0"
        ],
        [
         "164186",
         "40",
         "250",
         "13",
         "Flat",
         "Mud mortar-Stone/Brick",
         "Bamboo/Timber-Light roof",
         "Mud",
         "TImber/Bamboo-Mud",
         "Not attached",
         "Rectangular",
         "Stone, mud mortar",
         "1"
        ],
        [
         "164204",
         "20",
         "350",
         "13",
         "Flat",
         "Mud mortar-Stone/Brick",
         "Bamboo/Timber-Light roof",
         "Mud",
         "TImber/Bamboo-Mud",
         "Not attached",
         "Rectangular",
         "Stone, mud mortar",
         "1"
        ],
        [
         "164205",
         "45",
         "400",
         "13",
         "Flat",
         "Mud mortar-Stone/Brick",
         "Bamboo/Timber-Heavy roof",
         "Mud",
         "TImber/Bamboo-Mud",
         "Not attached",
         "Rectangular",
         "Stone, mud mortar",
         "1"
        ],
        [
         "164211",
         "40",
         "250",
         "21",
         "Moderate slope",
         "Mud mortar-Stone/Brick",
         "Bamboo/Timber-Light roof",
         "Mud",
         "TImber/Bamboo-Mud",
         "Attached-2 side",
         "Rectangular",
         "Stone, mud mortar",
         "1"
        ],
        [
         "164220",
         "4",
         "300",
         "12",
         "Flat",
         "Mud mortar-Stone/Brick",
         "Bamboo/Timber-Light roof",
         "Mud",
         "TImber/Bamboo-Mud",
         "Not attached",
         "Rectangular",
         "Stone, mud mortar",
         "1"
        ],
        [
         "164238",
         "40",
         "320",
         "20",
         "Flat",
         "Mud mortar-Stone/Brick",
         "Bamboo/Timber-Heavy roof",
         "Mud",
         "TImber/Bamboo-Mud",
         "Not attached",
         "Rectangular",
         "Stone, mud mortar",
         "1"
        ],
        [
         "164291",
         "40",
         "360",
         "20",
         "Flat",
         "Mud mortar-Stone/Brick",
         "Bamboo/Timber-Light roof",
         "Mud",
         "TImber/Bamboo-Mud",
         "Not attached",
         "Rectangular",
         "Stone, mud mortar",
         "1"
        ],
        [
         "164298",
         "30",
         "280",
         "12",
         "Flat",
         "Mud mortar-Stone/Brick",
         "Bamboo/Timber-Light roof",
         "Mud",
         "TImber/Bamboo-Mud",
         "Not attached",
         "Rectangular",
         "Stone, mud mortar",
         "1"
        ],
        [
         "164305",
         "14",
         "280",
         "12",
         "Flat",
         "Mud mortar-Stone/Brick",
         "Bamboo/Timber-Light roof",
         "Mud",
         "TImber/Bamboo-Mud",
         "Not attached",
         "Rectangular",
         "Stone, mud mortar",
         "1"
        ],
        [
         "164355",
         "28",
         "260",
         "13",
         "Flat",
         "Mud mortar-Stone/Brick",
         "Bamboo/Timber-Light roof",
         "Mud",
         "TImber/Bamboo-Mud",
         "Not attached",
         "Rectangular",
         "Stone, mud mortar",
         "1"
        ],
        [
         "164375",
         "2",
         "891",
         "9",
         "Flat",
         "RC",
         "RCC/RB/RBC",
         "RC",
         "Not applicable",
         "Not attached",
         "Rectangular",
         "Brick, cement mortar",
         "0"
        ],
        [
         "164384",
         "12",
         "200",
         "18",
         "Flat",
         "Mud mortar-Stone/Brick",
         "Bamboo/Timber-Light roof",
         "Mud",
         "Timber-Planck",
         "Attached-1 side",
         "Rectangular",
         "Stone, mud mortar",
         "0"
        ],
        [
         "164397",
         "51",
         "350",
         "27",
         "Flat",
         "Mud mortar-Stone/Brick",
         "Bamboo/Timber-Heavy roof",
         "Mud",
         "TImber/Bamboo-Mud",
         "Not attached",
         "Multi-projected",
         "Stone, mud mortar",
         "0"
        ],
        [
         "164439",
         "14",
         "200",
         "16",
         "Flat",
         "Mud mortar-Stone/Brick",
         "Bamboo/Timber-Light roof",
         "Mud",
         "TImber/Bamboo-Mud",
         "Not attached",
         "Rectangular",
         "Stone, mud mortar",
         "1"
        ],
        [
         "164467",
         "80",
         "150",
         "12",
         "Flat",
         "Mud mortar-Stone/Brick",
         "Bamboo/Timber-Light roof",
         "Mud",
         "Not applicable",
         "Not attached",
         "Rectangular",
         "Stone, mud mortar",
         "0"
        ],
        [
         "164480",
         "16",
         "180",
         "14",
         "Flat",
         "Mud mortar-Stone/Brick",
         "Bamboo/Timber-Light roof",
         "Mud",
         "TImber/Bamboo-Mud",
         "Not attached",
         "L-shape",
         "Stone, mud mortar",
         "0"
        ],
        [
         "164513",
         "7",
         "200",
         "18",
         "Flat",
         "Mud mortar-Stone/Brick",
         "Bamboo/Timber-Light roof",
         "Mud",
         "TImber/Bamboo-Mud",
         "Not attached",
         "Multi-projected",
         "Stone, mud mortar",
         "1"
        ],
        [
         "164516",
         "16",
         "200",
         "18",
         "Flat",
         "Mud mortar-Stone/Brick",
         "Bamboo/Timber-Light roof",
         "Mud",
         "TImber/Bamboo-Mud",
         "Attached-1 side",
         "Multi-projected",
         "Stone, mud mortar",
         "0"
        ],
        [
         "164538",
         "32",
         "350",
         "20",
         "Flat",
         "Mud mortar-Stone/Brick",
         "Bamboo/Timber-Light roof",
         "Mud",
         "TImber/Bamboo-Mud",
         "Not attached",
         "Rectangular",
         "Stone, mud mortar",
         "0"
        ],
        [
         "164559",
         "100",
         "180",
         "12",
         "Flat",
         "Mud mortar-Stone/Brick",
         "Bamboo/Timber-Light roof",
         "Mud",
         "Not applicable",
         "Attached-1 side",
         "Rectangular",
         "Stone, mud mortar",
         "0"
        ],
        [
         "164590",
         "18",
         "250",
         "14",
         "Flat",
         "Mud mortar-Stone/Brick",
         "Bamboo/Timber-Light roof",
         "Mud",
         "Not applicable",
         "Attached-1 side",
         "Rectangular",
         "Stone, mud mortar",
         "0"
        ],
        [
         "164591",
         "0",
         "120",
         "8",
         "Flat",
         "Mud mortar-Stone/Brick",
         "Bamboo/Timber-Light roof",
         "Mud",
         "Not applicable",
         "Not attached",
         "Rectangular",
         "Stone, mud mortar",
         "1"
        ],
        [
         "164594",
         "6",
         "220",
         "18",
         "Flat",
         "Mud mortar-Stone/Brick",
         "Bamboo/Timber-Light roof",
         "Mud",
         "TImber/Bamboo-Mud",
         "Attached-1 side",
         "Multi-projected",
         "Stone, mud mortar",
         "0"
        ],
        [
         "164598",
         "15",
         "200",
         "18",
         "Flat",
         "Mud mortar-Stone/Brick",
         "Bamboo/Timber-Light roof",
         "Mud",
         "TImber/Bamboo-Mud",
         "Attached-1 side",
         "Rectangular",
         "Stone, mud mortar",
         "0"
        ],
        [
         "164605",
         "15",
         "180",
         "18",
         "Flat",
         "Mud mortar-Stone/Brick",
         "Bamboo/Timber-Light roof",
         "Mud",
         "TImber/Bamboo-Mud",
         "Not attached",
         "Multi-projected",
         "Stone, mud mortar",
         "0"
        ],
        [
         "164634",
         "24",
         "400",
         "18",
         "Flat",
         "Mud mortar-Stone/Brick",
         "Bamboo/Timber-Light roof",
         "Mud",
         "TImber/Bamboo-Mud",
         "Not attached",
         "Multi-projected",
         "Stone, mud mortar",
         "1"
        ],
        [
         "164647",
         "23",
         "350",
         "18",
         "Flat",
         "Mud mortar-Stone/Brick",
         "Bamboo/Timber-Light roof",
         "Mud",
         "TImber/Bamboo-Mud",
         "Not attached",
         "Rectangular",
         "Stone, mud mortar",
         "1"
        ],
        [
         "164652",
         "45",
         "180",
         "12",
         "Flat",
         "Mud mortar-Stone/Brick",
         "Bamboo/Timber-Light roof",
         "Mud",
         "Not applicable",
         "Attached-1 side",
         "Rectangular",
         "Stone, mud mortar",
         "0"
        ],
        [
         "164669",
         "23",
         "220",
         "18",
         "Flat",
         "Mud mortar-Stone/Brick",
         "Bamboo/Timber-Light roof",
         "Mud",
         "TImber/Bamboo-Mud",
         "Not attached",
         "Rectangular",
         "Stone, mud mortar",
         "1"
        ],
        [
         "164699",
         "18",
         "250",
         "18",
         "Flat",
         "Mud mortar-Stone/Brick",
         "Bamboo/Timber-Light roof",
         "Mud",
         "TImber/Bamboo-Mud",
         "Not attached",
         "Rectangular",
         "Stone, mud mortar",
         "1"
        ],
        [
         "164722",
         "14",
         "300",
         "18",
         "Flat",
         "Mud mortar-Stone/Brick",
         "Bamboo/Timber-Light roof",
         "Mud",
         "TImber/Bamboo-Mud",
         "Not attached",
         "Rectangular",
         "Stone, mud mortar",
         "0"
        ],
        [
         "164729",
         "20",
         "200",
         "18",
         "Flat",
         "Mud mortar-Stone/Brick",
         "Bamboo/Timber-Heavy roof",
         "Mud",
         "TImber/Bamboo-Mud",
         "Not attached",
         "Rectangular",
         "Stone, mud mortar",
         "1"
        ],
        [
         "164745",
         "28",
         "200",
         "18",
         "Flat",
         "Mud mortar-Stone/Brick",
         "Bamboo/Timber-Light roof",
         "Mud",
         "TImber/Bamboo-Mud",
         "Not attached",
         "Rectangular",
         "Stone, mud mortar",
         "1"
        ],
        [
         "164747",
         "9",
         "200",
         "14",
         "Flat",
         "Mud mortar-Stone/Brick",
         "Bamboo/Timber-Light roof",
         "Mud",
         "Not applicable",
         "Not attached",
         "Rectangular",
         "Stone, mud mortar",
         "1"
        ],
        [
         "164749",
         "12",
         "180",
         "18",
         "Flat",
         "Mud mortar-Stone/Brick",
         "Bamboo/Timber-Light roof",
         "Mud",
         "TImber/Bamboo-Mud",
         "Not attached",
         "Rectangular",
         "Stone, mud mortar",
         "1"
        ],
        [
         "164752",
         "29",
         "400",
         "18",
         "Flat",
         "Mud mortar-Stone/Brick",
         "Bamboo/Timber-Light roof",
         "Mud",
         "TImber/Bamboo-Mud",
         "Attached-1 side",
         "Rectangular",
         "Stone, mud mortar",
         "0"
        ],
        [
         "164778",
         "14",
         "390",
         "18",
         "Flat",
         "Mud mortar-Stone/Brick",
         "Bamboo/Timber-Light roof",
         "Mud",
         "TImber/Bamboo-Mud",
         "Not attached",
         "Rectangular",
         "Stone, mud mortar",
         "0"
        ],
        [
         "164832",
         "1",
         "350",
         "12",
         "Flat",
         "Mud mortar-Stone/Brick",
         "Bamboo/Timber-Light roof",
         "Brick/Stone",
         "TImber/Bamboo-Mud",
         "Not attached",
         "Rectangular",
         "Stone, mud mortar",
         "0"
        ],
        [
         "164844",
         "6",
         "250",
         "13",
         "Flat",
         "Mud mortar-Stone/Brick",
         "Bamboo/Timber-Light roof",
         "Mud",
         "TImber/Bamboo-Mud",
         "Not attached",
         "Rectangular",
         "Stone, mud mortar",
         "1"
        ],
        [
         "164865",
         "22",
         "290",
         "14",
         "Flat",
         "Mud mortar-Stone/Brick",
         "Bamboo/Timber-Light roof",
         "Mud",
         "TImber/Bamboo-Mud",
         "Not attached",
         "Rectangular",
         "Stone, mud mortar",
         "0"
        ],
        [
         "164889",
         "32",
         "280",
         "14",
         "Flat",
         "Mud mortar-Stone/Brick",
         "Bamboo/Timber-Light roof",
         "Mud",
         "TImber/Bamboo-Mud",
         "Not attached",
         "Rectangular",
         "Stone, mud mortar",
         "0"
        ],
        [
         "164902",
         "30",
         "280",
         "14",
         "Flat",
         "Mud mortar-Stone/Brick",
         "Bamboo/Timber-Heavy roof",
         "Mud",
         "TImber/Bamboo-Mud",
         "Attached-1 side",
         "Rectangular",
         "Stone, mud mortar",
         "0"
        ],
        [
         "164935",
         "30",
         "300",
         "14",
         "Flat",
         "Mud mortar-Stone/Brick",
         "Bamboo/Timber-Light roof",
         "Mud",
         "TImber/Bamboo-Mud",
         "Not attached",
         "Rectangular",
         "Stone, mud mortar",
         "0"
        ],
        [
         "164938",
         "16",
         "280",
         "14",
         "Flat",
         "Cement-Stone/Brick",
         "Bamboo/Timber-Light roof",
         "Mud",
         "TImber/Bamboo-Mud",
         "Attached-1 side",
         "Rectangular",
         "Stone, mud mortar",
         "0"
        ],
        [
         "164940",
         "30",
         "280",
         "14",
         "Flat",
         "Mud mortar-Stone/Brick",
         "Bamboo/Timber-Light roof",
         "Mud",
         "TImber/Bamboo-Mud",
         "Not attached",
         "Rectangular",
         "Stone, mud mortar",
         "0"
        ]
       ],
       "shape": {
        "columns": 12,
        "rows": 70836
       }
      },
      "text/html": [
       "<div>\n",
       "<style scoped>\n",
       "    .dataframe tbody tr th:only-of-type {\n",
       "        vertical-align: middle;\n",
       "    }\n",
       "\n",
       "    .dataframe tbody tr th {\n",
       "        vertical-align: top;\n",
       "    }\n",
       "\n",
       "    .dataframe thead th {\n",
       "        text-align: right;\n",
       "    }\n",
       "</style>\n",
       "<table border=\"1\" class=\"dataframe\">\n",
       "  <thead>\n",
       "    <tr style=\"text-align: right;\">\n",
       "      <th></th>\n",
       "      <th>age_building</th>\n",
       "      <th>plinth_area_sq_ft</th>\n",
       "      <th>height_ft_pre_eq</th>\n",
       "      <th>land_surface_condition</th>\n",
       "      <th>foundation_type</th>\n",
       "      <th>roof_type</th>\n",
       "      <th>ground_floor_type</th>\n",
       "      <th>other_floor_type</th>\n",
       "      <th>position</th>\n",
       "      <th>plan_configuration</th>\n",
       "      <th>superstructure</th>\n",
       "      <th>severe_damage</th>\n",
       "    </tr>\n",
       "    <tr>\n",
       "      <th>b_id</th>\n",
       "      <th></th>\n",
       "      <th></th>\n",
       "      <th></th>\n",
       "      <th></th>\n",
       "      <th></th>\n",
       "      <th></th>\n",
       "      <th></th>\n",
       "      <th></th>\n",
       "      <th></th>\n",
       "      <th></th>\n",
       "      <th></th>\n",
       "      <th></th>\n",
       "    </tr>\n",
       "  </thead>\n",
       "  <tbody>\n",
       "    <tr>\n",
       "      <th>164002</th>\n",
       "      <td>20</td>\n",
       "      <td>560</td>\n",
       "      <td>18</td>\n",
       "      <td>Flat</td>\n",
       "      <td>Mud mortar-Stone/Brick</td>\n",
       "      <td>Bamboo/Timber-Light roof</td>\n",
       "      <td>Mud</td>\n",
       "      <td>TImber/Bamboo-Mud</td>\n",
       "      <td>Not attached</td>\n",
       "      <td>Rectangular</td>\n",
       "      <td>Stone, mud mortar</td>\n",
       "      <td>0</td>\n",
       "    </tr>\n",
       "    <tr>\n",
       "      <th>164081</th>\n",
       "      <td>21</td>\n",
       "      <td>200</td>\n",
       "      <td>12</td>\n",
       "      <td>Flat</td>\n",
       "      <td>Mud mortar-Stone/Brick</td>\n",
       "      <td>Bamboo/Timber-Light roof</td>\n",
       "      <td>Mud</td>\n",
       "      <td>TImber/Bamboo-Mud</td>\n",
       "      <td>Not attached</td>\n",
       "      <td>Rectangular</td>\n",
       "      <td>Stone, mud mortar</td>\n",
       "      <td>0</td>\n",
       "    </tr>\n",
       "    <tr>\n",
       "      <th>164089</th>\n",
       "      <td>18</td>\n",
       "      <td>315</td>\n",
       "      <td>20</td>\n",
       "      <td>Flat</td>\n",
       "      <td>Mud mortar-Stone/Brick</td>\n",
       "      <td>Bamboo/Timber-Light roof</td>\n",
       "      <td>Mud</td>\n",
       "      <td>TImber/Bamboo-Mud</td>\n",
       "      <td>Not attached</td>\n",
       "      <td>Rectangular</td>\n",
       "      <td>Stone, mud mortar</td>\n",
       "      <td>0</td>\n",
       "    </tr>\n",
       "    <tr>\n",
       "      <th>164098</th>\n",
       "      <td>45</td>\n",
       "      <td>290</td>\n",
       "      <td>13</td>\n",
       "      <td>Flat</td>\n",
       "      <td>Mud mortar-Stone/Brick</td>\n",
       "      <td>Bamboo/Timber-Light roof</td>\n",
       "      <td>Mud</td>\n",
       "      <td>TImber/Bamboo-Mud</td>\n",
       "      <td>Not attached</td>\n",
       "      <td>Rectangular</td>\n",
       "      <td>Stone, mud mortar</td>\n",
       "      <td>0</td>\n",
       "    </tr>\n",
       "    <tr>\n",
       "      <th>164103</th>\n",
       "      <td>21</td>\n",
       "      <td>230</td>\n",
       "      <td>13</td>\n",
       "      <td>Flat</td>\n",
       "      <td>Mud mortar-Stone/Brick</td>\n",
       "      <td>Bamboo/Timber-Light roof</td>\n",
       "      <td>Mud</td>\n",
       "      <td>TImber/Bamboo-Mud</td>\n",
       "      <td>Not attached</td>\n",
       "      <td>Rectangular</td>\n",
       "      <td>Stone, mud mortar</td>\n",
       "      <td>0</td>\n",
       "    </tr>\n",
       "    <tr>\n",
       "      <th>...</th>\n",
       "      <td>...</td>\n",
       "      <td>...</td>\n",
       "      <td>...</td>\n",
       "      <td>...</td>\n",
       "      <td>...</td>\n",
       "      <td>...</td>\n",
       "      <td>...</td>\n",
       "      <td>...</td>\n",
       "      <td>...</td>\n",
       "      <td>...</td>\n",
       "      <td>...</td>\n",
       "      <td>...</td>\n",
       "    </tr>\n",
       "    <tr>\n",
       "      <th>234774</th>\n",
       "      <td>45</td>\n",
       "      <td>336</td>\n",
       "      <td>18</td>\n",
       "      <td>Flat</td>\n",
       "      <td>Mud mortar-Stone/Brick</td>\n",
       "      <td>Bamboo/Timber-Heavy roof</td>\n",
       "      <td>Mud</td>\n",
       "      <td>Timber-Planck</td>\n",
       "      <td>Attached-1 side</td>\n",
       "      <td>Rectangular</td>\n",
       "      <td>Stone, mud mortar</td>\n",
       "      <td>1</td>\n",
       "    </tr>\n",
       "    <tr>\n",
       "      <th>234808</th>\n",
       "      <td>70</td>\n",
       "      <td>255</td>\n",
       "      <td>18</td>\n",
       "      <td>Flat</td>\n",
       "      <td>Mud mortar-Stone/Brick</td>\n",
       "      <td>Bamboo/Timber-Light roof</td>\n",
       "      <td>Mud</td>\n",
       "      <td>Timber-Planck</td>\n",
       "      <td>Not attached</td>\n",
       "      <td>Rectangular</td>\n",
       "      <td>Stone, mud mortar</td>\n",
       "      <td>1</td>\n",
       "    </tr>\n",
       "    <tr>\n",
       "      <th>234821</th>\n",
       "      <td>11</td>\n",
       "      <td>552</td>\n",
       "      <td>18</td>\n",
       "      <td>Flat</td>\n",
       "      <td>Mud mortar-Stone/Brick</td>\n",
       "      <td>Bamboo/Timber-Heavy roof</td>\n",
       "      <td>Mud</td>\n",
       "      <td>Timber-Planck</td>\n",
       "      <td>Attached-1 side</td>\n",
       "      <td>Rectangular</td>\n",
       "      <td>Stone, mud mortar</td>\n",
       "      <td>1</td>\n",
       "    </tr>\n",
       "    <tr>\n",
       "      <th>234828</th>\n",
       "      <td>35</td>\n",
       "      <td>598</td>\n",
       "      <td>18</td>\n",
       "      <td>Flat</td>\n",
       "      <td>Mud mortar-Stone/Brick</td>\n",
       "      <td>Bamboo/Timber-Heavy roof</td>\n",
       "      <td>Mud</td>\n",
       "      <td>Timber-Planck</td>\n",
       "      <td>Not attached</td>\n",
       "      <td>Rectangular</td>\n",
       "      <td>Stone, mud mortar</td>\n",
       "      <td>1</td>\n",
       "    </tr>\n",
       "    <tr>\n",
       "      <th>234835</th>\n",
       "      <td>12</td>\n",
       "      <td>840</td>\n",
       "      <td>18</td>\n",
       "      <td>Flat</td>\n",
       "      <td>Mud mortar-Stone/Brick</td>\n",
       "      <td>Bamboo/Timber-Heavy roof</td>\n",
       "      <td>Mud</td>\n",
       "      <td>Timber-Planck</td>\n",
       "      <td>Not attached</td>\n",
       "      <td>Rectangular</td>\n",
       "      <td>Stone, mud mortar</td>\n",
       "      <td>1</td>\n",
       "    </tr>\n",
       "  </tbody>\n",
       "</table>\n",
       "<p>70836 rows × 12 columns</p>\n",
       "</div>"
      ],
      "text/plain": [
       "        age_building  plinth_area_sq_ft  height_ft_pre_eq  \\\n",
       "b_id                                                        \n",
       "164002            20                560                18   \n",
       "164081            21                200                12   \n",
       "164089            18                315                20   \n",
       "164098            45                290                13   \n",
       "164103            21                230                13   \n",
       "...              ...                ...               ...   \n",
       "234774            45                336                18   \n",
       "234808            70                255                18   \n",
       "234821            11                552                18   \n",
       "234828            35                598                18   \n",
       "234835            12                840                18   \n",
       "\n",
       "       land_surface_condition         foundation_type  \\\n",
       "b_id                                                    \n",
       "164002                   Flat  Mud mortar-Stone/Brick   \n",
       "164081                   Flat  Mud mortar-Stone/Brick   \n",
       "164089                   Flat  Mud mortar-Stone/Brick   \n",
       "164098                   Flat  Mud mortar-Stone/Brick   \n",
       "164103                   Flat  Mud mortar-Stone/Brick   \n",
       "...                       ...                     ...   \n",
       "234774                   Flat  Mud mortar-Stone/Brick   \n",
       "234808                   Flat  Mud mortar-Stone/Brick   \n",
       "234821                   Flat  Mud mortar-Stone/Brick   \n",
       "234828                   Flat  Mud mortar-Stone/Brick   \n",
       "234835                   Flat  Mud mortar-Stone/Brick   \n",
       "\n",
       "                       roof_type ground_floor_type   other_floor_type  \\\n",
       "b_id                                                                    \n",
       "164002  Bamboo/Timber-Light roof               Mud  TImber/Bamboo-Mud   \n",
       "164081  Bamboo/Timber-Light roof               Mud  TImber/Bamboo-Mud   \n",
       "164089  Bamboo/Timber-Light roof               Mud  TImber/Bamboo-Mud   \n",
       "164098  Bamboo/Timber-Light roof               Mud  TImber/Bamboo-Mud   \n",
       "164103  Bamboo/Timber-Light roof               Mud  TImber/Bamboo-Mud   \n",
       "...                          ...               ...                ...   \n",
       "234774  Bamboo/Timber-Heavy roof               Mud      Timber-Planck   \n",
       "234808  Bamboo/Timber-Light roof               Mud      Timber-Planck   \n",
       "234821  Bamboo/Timber-Heavy roof               Mud      Timber-Planck   \n",
       "234828  Bamboo/Timber-Heavy roof               Mud      Timber-Planck   \n",
       "234835  Bamboo/Timber-Heavy roof               Mud      Timber-Planck   \n",
       "\n",
       "               position plan_configuration     superstructure  severe_damage  \n",
       "b_id                                                                          \n",
       "164002     Not attached        Rectangular  Stone, mud mortar              0  \n",
       "164081     Not attached        Rectangular  Stone, mud mortar              0  \n",
       "164089     Not attached        Rectangular  Stone, mud mortar              0  \n",
       "164098     Not attached        Rectangular  Stone, mud mortar              0  \n",
       "164103     Not attached        Rectangular  Stone, mud mortar              0  \n",
       "...                 ...                ...                ...            ...  \n",
       "234774  Attached-1 side        Rectangular  Stone, mud mortar              1  \n",
       "234808     Not attached        Rectangular  Stone, mud mortar              1  \n",
       "234821  Attached-1 side        Rectangular  Stone, mud mortar              1  \n",
       "234828     Not attached        Rectangular  Stone, mud mortar              1  \n",
       "234835     Not attached        Rectangular  Stone, mud mortar              1  \n",
       "\n",
       "[70836 rows x 12 columns]"
      ]
     },
     "execution_count": 109,
     "metadata": {},
     "output_type": "execute_result"
    }
   ],
   "source": [
    "df"
   ]
  },
  {
   "cell_type": "markdown",
   "id": "7bb7444f",
   "metadata": {},
   "source": [
    "#### Feature Engineering\n"
   ]
  },
  {
   "cell_type": "code",
   "execution_count": 110,
   "id": "ec26bde9",
   "metadata": {},
   "outputs": [],
   "source": [
    "# df[\"severe_damage\"].corr(df[\"count_floors_pre_eq\"])"
   ]
  },
  {
   "cell_type": "code",
   "execution_count": 111,
   "id": "ea07b9bf",
   "metadata": {},
   "outputs": [],
   "source": [
    "# df[\"severe_damage\"].corr(df[\"height_ft_pre_eq\"])"
   ]
  },
  {
   "cell_type": "code",
   "execution_count": 112,
   "id": "e9f7bd18",
   "metadata": {},
   "outputs": [],
   "source": [
    "# correlation = df.select_dtypes(\"number\").drop(columns=[\"severe_damage\"]).corr()"
   ]
  },
  {
   "cell_type": "code",
   "execution_count": 113,
   "id": "ed0574e5",
   "metadata": {},
   "outputs": [],
   "source": [
    "# sns.heatmap(correlation)"
   ]
  },
  {
   "cell_type": "code",
   "execution_count": 114,
   "id": "61c5240b",
   "metadata": {},
   "outputs": [
    {
     "data": {
      "application/vnd.microsoft.datawrangler.viewer.v0+json": {
       "columns": [
        {
         "name": "b_id",
         "rawType": "int64",
         "type": "integer"
        },
        {
         "name": "age_building",
         "rawType": "int64",
         "type": "integer"
        },
        {
         "name": "plinth_area_sq_ft",
         "rawType": "int64",
         "type": "integer"
        },
        {
         "name": "height_ft_pre_eq",
         "rawType": "int64",
         "type": "integer"
        },
        {
         "name": "land_surface_condition",
         "rawType": "object",
         "type": "string"
        },
        {
         "name": "foundation_type",
         "rawType": "object",
         "type": "string"
        },
        {
         "name": "roof_type",
         "rawType": "object",
         "type": "string"
        },
        {
         "name": "ground_floor_type",
         "rawType": "object",
         "type": "string"
        },
        {
         "name": "other_floor_type",
         "rawType": "object",
         "type": "string"
        },
        {
         "name": "position",
         "rawType": "object",
         "type": "string"
        },
        {
         "name": "plan_configuration",
         "rawType": "object",
         "type": "string"
        },
        {
         "name": "superstructure",
         "rawType": "object",
         "type": "string"
        },
        {
         "name": "severe_damage",
         "rawType": "int64",
         "type": "integer"
        }
       ],
       "ref": "a7ef6c3c-3fac-4827-8440-fbca81118581",
       "rows": [
        [
         "164002",
         "20",
         "560",
         "18",
         "Flat",
         "Mud mortar-Stone/Brick",
         "Bamboo/Timber-Light roof",
         "Mud",
         "TImber/Bamboo-Mud",
         "Not attached",
         "Rectangular",
         "Stone, mud mortar",
         "0"
        ],
        [
         "164081",
         "21",
         "200",
         "12",
         "Flat",
         "Mud mortar-Stone/Brick",
         "Bamboo/Timber-Light roof",
         "Mud",
         "TImber/Bamboo-Mud",
         "Not attached",
         "Rectangular",
         "Stone, mud mortar",
         "0"
        ],
        [
         "164089",
         "18",
         "315",
         "20",
         "Flat",
         "Mud mortar-Stone/Brick",
         "Bamboo/Timber-Light roof",
         "Mud",
         "TImber/Bamboo-Mud",
         "Not attached",
         "Rectangular",
         "Stone, mud mortar",
         "0"
        ],
        [
         "164098",
         "45",
         "290",
         "13",
         "Flat",
         "Mud mortar-Stone/Brick",
         "Bamboo/Timber-Light roof",
         "Mud",
         "TImber/Bamboo-Mud",
         "Not attached",
         "Rectangular",
         "Stone, mud mortar",
         "0"
        ],
        [
         "164103",
         "21",
         "230",
         "13",
         "Flat",
         "Mud mortar-Stone/Brick",
         "Bamboo/Timber-Light roof",
         "Mud",
         "TImber/Bamboo-Mud",
         "Not attached",
         "Rectangular",
         "Stone, mud mortar",
         "0"
        ]
       ],
       "shape": {
        "columns": 12,
        "rows": 5
       }
      },
      "text/html": [
       "<div>\n",
       "<style scoped>\n",
       "    .dataframe tbody tr th:only-of-type {\n",
       "        vertical-align: middle;\n",
       "    }\n",
       "\n",
       "    .dataframe tbody tr th {\n",
       "        vertical-align: top;\n",
       "    }\n",
       "\n",
       "    .dataframe thead th {\n",
       "        text-align: right;\n",
       "    }\n",
       "</style>\n",
       "<table border=\"1\" class=\"dataframe\">\n",
       "  <thead>\n",
       "    <tr style=\"text-align: right;\">\n",
       "      <th></th>\n",
       "      <th>age_building</th>\n",
       "      <th>plinth_area_sq_ft</th>\n",
       "      <th>height_ft_pre_eq</th>\n",
       "      <th>land_surface_condition</th>\n",
       "      <th>foundation_type</th>\n",
       "      <th>roof_type</th>\n",
       "      <th>ground_floor_type</th>\n",
       "      <th>other_floor_type</th>\n",
       "      <th>position</th>\n",
       "      <th>plan_configuration</th>\n",
       "      <th>superstructure</th>\n",
       "      <th>severe_damage</th>\n",
       "    </tr>\n",
       "    <tr>\n",
       "      <th>b_id</th>\n",
       "      <th></th>\n",
       "      <th></th>\n",
       "      <th></th>\n",
       "      <th></th>\n",
       "      <th></th>\n",
       "      <th></th>\n",
       "      <th></th>\n",
       "      <th></th>\n",
       "      <th></th>\n",
       "      <th></th>\n",
       "      <th></th>\n",
       "      <th></th>\n",
       "    </tr>\n",
       "  </thead>\n",
       "  <tbody>\n",
       "    <tr>\n",
       "      <th>164002</th>\n",
       "      <td>20</td>\n",
       "      <td>560</td>\n",
       "      <td>18</td>\n",
       "      <td>Flat</td>\n",
       "      <td>Mud mortar-Stone/Brick</td>\n",
       "      <td>Bamboo/Timber-Light roof</td>\n",
       "      <td>Mud</td>\n",
       "      <td>TImber/Bamboo-Mud</td>\n",
       "      <td>Not attached</td>\n",
       "      <td>Rectangular</td>\n",
       "      <td>Stone, mud mortar</td>\n",
       "      <td>0</td>\n",
       "    </tr>\n",
       "    <tr>\n",
       "      <th>164081</th>\n",
       "      <td>21</td>\n",
       "      <td>200</td>\n",
       "      <td>12</td>\n",
       "      <td>Flat</td>\n",
       "      <td>Mud mortar-Stone/Brick</td>\n",
       "      <td>Bamboo/Timber-Light roof</td>\n",
       "      <td>Mud</td>\n",
       "      <td>TImber/Bamboo-Mud</td>\n",
       "      <td>Not attached</td>\n",
       "      <td>Rectangular</td>\n",
       "      <td>Stone, mud mortar</td>\n",
       "      <td>0</td>\n",
       "    </tr>\n",
       "    <tr>\n",
       "      <th>164089</th>\n",
       "      <td>18</td>\n",
       "      <td>315</td>\n",
       "      <td>20</td>\n",
       "      <td>Flat</td>\n",
       "      <td>Mud mortar-Stone/Brick</td>\n",
       "      <td>Bamboo/Timber-Light roof</td>\n",
       "      <td>Mud</td>\n",
       "      <td>TImber/Bamboo-Mud</td>\n",
       "      <td>Not attached</td>\n",
       "      <td>Rectangular</td>\n",
       "      <td>Stone, mud mortar</td>\n",
       "      <td>0</td>\n",
       "    </tr>\n",
       "    <tr>\n",
       "      <th>164098</th>\n",
       "      <td>45</td>\n",
       "      <td>290</td>\n",
       "      <td>13</td>\n",
       "      <td>Flat</td>\n",
       "      <td>Mud mortar-Stone/Brick</td>\n",
       "      <td>Bamboo/Timber-Light roof</td>\n",
       "      <td>Mud</td>\n",
       "      <td>TImber/Bamboo-Mud</td>\n",
       "      <td>Not attached</td>\n",
       "      <td>Rectangular</td>\n",
       "      <td>Stone, mud mortar</td>\n",
       "      <td>0</td>\n",
       "    </tr>\n",
       "    <tr>\n",
       "      <th>164103</th>\n",
       "      <td>21</td>\n",
       "      <td>230</td>\n",
       "      <td>13</td>\n",
       "      <td>Flat</td>\n",
       "      <td>Mud mortar-Stone/Brick</td>\n",
       "      <td>Bamboo/Timber-Light roof</td>\n",
       "      <td>Mud</td>\n",
       "      <td>TImber/Bamboo-Mud</td>\n",
       "      <td>Not attached</td>\n",
       "      <td>Rectangular</td>\n",
       "      <td>Stone, mud mortar</td>\n",
       "      <td>0</td>\n",
       "    </tr>\n",
       "  </tbody>\n",
       "</table>\n",
       "</div>"
      ],
      "text/plain": [
       "        age_building  plinth_area_sq_ft  height_ft_pre_eq  \\\n",
       "b_id                                                        \n",
       "164002            20                560                18   \n",
       "164081            21                200                12   \n",
       "164089            18                315                20   \n",
       "164098            45                290                13   \n",
       "164103            21                230                13   \n",
       "\n",
       "       land_surface_condition         foundation_type  \\\n",
       "b_id                                                    \n",
       "164002                   Flat  Mud mortar-Stone/Brick   \n",
       "164081                   Flat  Mud mortar-Stone/Brick   \n",
       "164089                   Flat  Mud mortar-Stone/Brick   \n",
       "164098                   Flat  Mud mortar-Stone/Brick   \n",
       "164103                   Flat  Mud mortar-Stone/Brick   \n",
       "\n",
       "                       roof_type ground_floor_type   other_floor_type  \\\n",
       "b_id                                                                    \n",
       "164002  Bamboo/Timber-Light roof               Mud  TImber/Bamboo-Mud   \n",
       "164081  Bamboo/Timber-Light roof               Mud  TImber/Bamboo-Mud   \n",
       "164089  Bamboo/Timber-Light roof               Mud  TImber/Bamboo-Mud   \n",
       "164098  Bamboo/Timber-Light roof               Mud  TImber/Bamboo-Mud   \n",
       "164103  Bamboo/Timber-Light roof               Mud  TImber/Bamboo-Mud   \n",
       "\n",
       "            position plan_configuration     superstructure  severe_damage  \n",
       "b_id                                                                       \n",
       "164002  Not attached        Rectangular  Stone, mud mortar              0  \n",
       "164081  Not attached        Rectangular  Stone, mud mortar              0  \n",
       "164089  Not attached        Rectangular  Stone, mud mortar              0  \n",
       "164098  Not attached        Rectangular  Stone, mud mortar              0  \n",
       "164103  Not attached        Rectangular  Stone, mud mortar              0  "
      ]
     },
     "execution_count": 114,
     "metadata": {},
     "output_type": "execute_result"
    }
   ],
   "source": [
    "df.head()"
   ]
  },
  {
   "cell_type": "markdown",
   "id": "b8af4adb",
   "metadata": {},
   "source": [
    "##### Visualization"
   ]
  },
  {
   "cell_type": "markdown",
   "id": "c04a65b7",
   "metadata": {},
   "source": [
    "- Boxplot for categorical vs continuous data"
   ]
  },
  {
   "cell_type": "code",
   "execution_count": 115,
   "id": "aa1881ff",
   "metadata": {},
   "outputs": [
    {
     "data": {
      "text/plain": [
       "Text(0.5, 1.0, 'Distribution of Building Heights by Class')"
      ]
     },
     "execution_count": 115,
     "metadata": {},
     "output_type": "execute_result"
    },
    {
     "data": {
      "image/png": "[encoded data removed]",
      "text/plain": [
       "<Figure size 640x480 with 1 Axes>"
      ]
     },
     "metadata": {},
     "output_type": "display_data"
    }
   ],
   "source": [
    "# Create boxplot\n",
    "sns.boxplot(x=\"severe_damage\", y=\"height_ft_pre_eq\", data=df, hue=\"severe_damage\")\n",
    "# Label axes\n",
    "plt.xlabel(\"Severe Damage\")\n",
    "plt.ylabel(\"Height Pre-earthquake [ft.]\")\n",
    "plt.title(\"Distribution of Building Heights by Class\")"
   ]
  },
  {
   "cell_type": "markdown",
   "id": "4698be9a",
   "metadata": {},
   "source": [
    "“Most buildings — whether damaged or not — had similar heights.\n",
    "Some buildings were much taller than the rest (the dots), but those didn’t dominate the dataset.\n",
    "Building height alone doesn’t seem to explain why some buildings had severe damage — we might need to look at other factors like material, age, or number of floors.”"
   ]
  },
  {
   "cell_type": "code",
   "execution_count": 116,
   "id": "323ffb07",
   "metadata": {},
   "outputs": [
    {
     "data": {
      "text/plain": [
       "<Axes: title={'center': 'Class Balance'}, xlabel='Class', ylabel='Relative Frequency'>"
      ]
     },
     "execution_count": 116,
     "metadata": {},
     "output_type": "execute_result"
    },
    {
     "data": {
      "image/png": "[encoded data removed]",
      "text/plain": [
       "<Figure size 640x480 with 1 Axes>"
      ]
     },
     "metadata": {},
     "output_type": "display_data"
    }
   ],
   "source": [
    "df[\"severe_damage\"].value_counts(normalize=True).plot(\n",
    "    kind=\"bar\", xlabel=\"Class\", ylabel=\"Relative Frequency\", title=\"Class Balance\"\n",
    ")"
   ]
  },
  {
   "cell_type": "markdown",
   "id": "7ba1df04",
   "metadata": {},
   "source": [
    "- Majority and Minority Classes\n",
    "\n",
    "In our case, 1 is the majority class(The building that are severly damaged) and 0 are the minority class( The buildings that are not severely damaged)"
   ]
  },
  {
   "cell_type": "code",
   "execution_count": 117,
   "id": "0b413a8c",
   "metadata": {},
   "outputs": [
    {
     "name": "stdout",
     "output_type": "stream",
     "text": [
      "0.6425969845841097 0.3574030154158902\n"
     ]
    }
   ],
   "source": [
    "majority_class_prop, minority_class_prop = df[\"severe_damage\"].value_counts(normalize=True)\n",
    "print(majority_class_prop, minority_class_prop)"
   ]
  },
  {
   "cell_type": "markdown",
   "id": "b7d621dc",
   "metadata": {},
   "source": [
    "<h4 style=\"color: yellow\"> Pivot Table </h4>"
   ]
  },
  {
   "cell_type": "code",
   "execution_count": 118,
   "id": "67a9cc58",
   "metadata": {},
   "outputs": [
    {
     "data": {
      "application/vnd.microsoft.datawrangler.viewer.v0+json": {
       "columns": [
        {
         "name": "foundation_type",
         "rawType": "object",
         "type": "string"
        },
        {
         "name": "severe_damage",
         "rawType": "float64",
         "type": "float"
        }
       ],
       "ref": "ffcbbafe-b451-4e95-b733-ffdbbdeeb62d",
       "rows": [
        [
         "RC",
         "0.026223776223776224"
        ],
        [
         "Bamboo/Timber",
         "0.32407407407407407"
        ],
        [
         "Cement-Stone/Brick",
         "0.42190842961061187"
        ],
        [
         "Mud mortar-Stone/Brick",
         "0.6877920191943427"
        ],
        [
         "Other",
         "0.8188976377952756"
        ]
       ],
       "shape": {
        "columns": 1,
        "rows": 5
       }
      },
      "text/html": [
       "<div>\n",
       "<style scoped>\n",
       "    .dataframe tbody tr th:only-of-type {\n",
       "        vertical-align: middle;\n",
       "    }\n",
       "\n",
       "    .dataframe tbody tr th {\n",
       "        vertical-align: top;\n",
       "    }\n",
       "\n",
       "    .dataframe thead th {\n",
       "        text-align: right;\n",
       "    }\n",
       "</style>\n",
       "<table border=\"1\" class=\"dataframe\">\n",
       "  <thead>\n",
       "    <tr style=\"text-align: right;\">\n",
       "      <th></th>\n",
       "      <th>severe_damage</th>\n",
       "    </tr>\n",
       "    <tr>\n",
       "      <th>foundation_type</th>\n",
       "      <th></th>\n",
       "    </tr>\n",
       "  </thead>\n",
       "  <tbody>\n",
       "    <tr>\n",
       "      <th>RC</th>\n",
       "      <td>0.026224</td>\n",
       "    </tr>\n",
       "    <tr>\n",
       "      <th>Bamboo/Timber</th>\n",
       "      <td>0.324074</td>\n",
       "    </tr>\n",
       "    <tr>\n",
       "      <th>Cement-Stone/Brick</th>\n",
       "      <td>0.421908</td>\n",
       "    </tr>\n",
       "    <tr>\n",
       "      <th>Mud mortar-Stone/Brick</th>\n",
       "      <td>0.687792</td>\n",
       "    </tr>\n",
       "    <tr>\n",
       "      <th>Other</th>\n",
       "      <td>0.818898</td>\n",
       "    </tr>\n",
       "  </tbody>\n",
       "</table>\n",
       "</div>"
      ],
      "text/plain": [
       "                        severe_damage\n",
       "foundation_type                      \n",
       "RC                           0.026224\n",
       "Bamboo/Timber                0.324074\n",
       "Cement-Stone/Brick           0.421908\n",
       "Mud mortar-Stone/Brick       0.687792\n",
       "Other                        0.818898"
      ]
     },
     "execution_count": 118,
     "metadata": {},
     "output_type": "execute_result"
    }
   ],
   "source": [
    "foundation_pivot = pd.pivot_table(\n",
    "    df, index=\"foundation_type\",values=\"severe_damage\",aggfunc=\"mean\"\n",
    ").sort_values(by=\"severe_damage\")\n",
    "foundation_pivot"
   ]
  },
  {
   "cell_type": "code",
   "execution_count": 119,
   "id": "896cbb49",
   "metadata": {},
   "outputs": [
    {
     "data": {
      "text/plain": [
       "<matplotlib.legend.Legend at 0x18003210320>"
      ]
     },
     "execution_count": 119,
     "metadata": {},
     "output_type": "execute_result"
    },
    {
     "data": {
      "image/png": "[encoded data removed]",
      "text/plain": [
       "<Figure size 640x480 with 1 Axes>"
      ]
     },
     "metadata": {},
     "output_type": "display_data"
    }
   ],
   "source": [
    "foundation_pivot.plot(kind=\"barh\", legend=None)\n",
    "plt.axvline(\n",
    "    majority_class_prop, linestyle=\"--\", color=\"red\", label=\"Majority Class\"\n",
    ")\n",
    "plt.axvline(\n",
    "    minority_class_prop, linestyle=\"--\", color=\"green\", label= \"Minority Class\"\n",
    ")\n",
    "plt.legend(loc=\"lower right\")"
   ]
  },
  {
   "cell_type": "markdown",
   "id": "b051f95f",
   "metadata": {},
   "source": [
    "- Check for high and low cardinality categorical features"
   ]
  },
  {
   "cell_type": "code",
   "execution_count": 120,
   "id": "196decb2",
   "metadata": {},
   "outputs": [
    {
     "data": {
      "application/vnd.microsoft.datawrangler.viewer.v0+json": {
       "columns": [
        {
         "name": "index",
         "rawType": "object",
         "type": "string"
        },
        {
         "name": "0",
         "rawType": "int64",
         "type": "integer"
        }
       ],
       "ref": "c7a74523-5fbe-4634-8b1e-61ca01bd98ae",
       "rows": [
        [
         "land_surface_condition",
         "3"
        ],
        [
         "foundation_type",
         "5"
        ],
        [
         "roof_type",
         "3"
        ],
        [
         "ground_floor_type",
         "5"
        ],
        [
         "other_floor_type",
         "4"
        ],
        [
         "position",
         "4"
        ],
        [
         "plan_configuration",
         "10"
        ],
        [
         "superstructure",
         "11"
        ]
       ],
       "shape": {
        "columns": 1,
        "rows": 8
       }
      },
      "text/plain": [
       "land_surface_condition     3\n",
       "foundation_type            5\n",
       "roof_type                  3\n",
       "ground_floor_type          5\n",
       "other_floor_type           4\n",
       "position                   4\n",
       "plan_configuration        10\n",
       "superstructure            11\n",
       "dtype: int64"
      ]
     },
     "execution_count": 120,
     "metadata": {},
     "output_type": "execute_result"
    }
   ],
   "source": [
    "df.select_dtypes(\"object\").nunique()"
   ]
  },
  {
   "cell_type": "code",
   "execution_count": 121,
   "id": "0161e940",
   "metadata": {},
   "outputs": [
    {
     "data": {
      "application/vnd.microsoft.datawrangler.viewer.v0+json": {
       "columns": [
        {
         "name": "b_id",
         "rawType": "int64",
         "type": "integer"
        },
        {
         "name": "age_building",
         "rawType": "int64",
         "type": "integer"
        },
        {
         "name": "plinth_area_sq_ft",
         "rawType": "int64",
         "type": "integer"
        },
        {
         "name": "height_ft_pre_eq",
         "rawType": "int64",
         "type": "integer"
        },
        {
         "name": "land_surface_condition",
         "rawType": "object",
         "type": "string"
        },
        {
         "name": "foundation_type",
         "rawType": "object",
         "type": "string"
        },
        {
         "name": "roof_type",
         "rawType": "object",
         "type": "string"
        },
        {
         "name": "ground_floor_type",
         "rawType": "object",
         "type": "string"
        },
        {
         "name": "other_floor_type",
         "rawType": "object",
         "type": "string"
        },
        {
         "name": "position",
         "rawType": "object",
         "type": "string"
        },
        {
         "name": "plan_configuration",
         "rawType": "object",
         "type": "string"
        },
        {
         "name": "superstructure",
         "rawType": "object",
         "type": "string"
        },
        {
         "name": "severe_damage",
         "rawType": "int64",
         "type": "integer"
        }
       ],
       "ref": "94c87c71-8175-476b-b9fc-0fb86b3bb304",
       "rows": [
        [
         "164002",
         "20",
         "560",
         "18",
         "Flat",
         "Mud mortar-Stone/Brick",
         "Bamboo/Timber-Light roof",
         "Mud",
         "TImber/Bamboo-Mud",
         "Not attached",
         "Rectangular",
         "Stone, mud mortar",
         "0"
        ],
        [
         "164081",
         "21",
         "200",
         "12",
         "Flat",
         "Mud mortar-Stone/Brick",
         "Bamboo/Timber-Light roof",
         "Mud",
         "TImber/Bamboo-Mud",
         "Not attached",
         "Rectangular",
         "Stone, mud mortar",
         "0"
        ],
        [
         "164089",
         "18",
         "315",
         "20",
         "Flat",
         "Mud mortar-Stone/Brick",
         "Bamboo/Timber-Light roof",
         "Mud",
         "TImber/Bamboo-Mud",
         "Not attached",
         "Rectangular",
         "Stone, mud mortar",
         "0"
        ],
        [
         "164098",
         "45",
         "290",
         "13",
         "Flat",
         "Mud mortar-Stone/Brick",
         "Bamboo/Timber-Light roof",
         "Mud",
         "TImber/Bamboo-Mud",
         "Not attached",
         "Rectangular",
         "Stone, mud mortar",
         "0"
        ],
        [
         "164103",
         "21",
         "230",
         "13",
         "Flat",
         "Mud mortar-Stone/Brick",
         "Bamboo/Timber-Light roof",
         "Mud",
         "TImber/Bamboo-Mud",
         "Not attached",
         "Rectangular",
         "Stone, mud mortar",
         "0"
        ]
       ],
       "shape": {
        "columns": 12,
        "rows": 5
       }
      },
      "text/html": [
       "<div>\n",
       "<style scoped>\n",
       "    .dataframe tbody tr th:only-of-type {\n",
       "        vertical-align: middle;\n",
       "    }\n",
       "\n",
       "    .dataframe tbody tr th {\n",
       "        vertical-align: top;\n",
       "    }\n",
       "\n",
       "    .dataframe thead th {\n",
       "        text-align: right;\n",
       "    }\n",
       "</style>\n",
       "<table border=\"1\" class=\"dataframe\">\n",
       "  <thead>\n",
       "    <tr style=\"text-align: right;\">\n",
       "      <th></th>\n",
       "      <th>age_building</th>\n",
       "      <th>plinth_area_sq_ft</th>\n",
       "      <th>height_ft_pre_eq</th>\n",
       "      <th>land_surface_condition</th>\n",
       "      <th>foundation_type</th>\n",
       "      <th>roof_type</th>\n",
       "      <th>ground_floor_type</th>\n",
       "      <th>other_floor_type</th>\n",
       "      <th>position</th>\n",
       "      <th>plan_configuration</th>\n",
       "      <th>superstructure</th>\n",
       "      <th>severe_damage</th>\n",
       "    </tr>\n",
       "    <tr>\n",
       "      <th>b_id</th>\n",
       "      <th></th>\n",
       "      <th></th>\n",
       "      <th></th>\n",
       "      <th></th>\n",
       "      <th></th>\n",
       "      <th></th>\n",
       "      <th></th>\n",
       "      <th></th>\n",
       "      <th></th>\n",
       "      <th></th>\n",
       "      <th></th>\n",
       "      <th></th>\n",
       "    </tr>\n",
       "  </thead>\n",
       "  <tbody>\n",
       "    <tr>\n",
       "      <th>164002</th>\n",
       "      <td>20</td>\n",
       "      <td>560</td>\n",
       "      <td>18</td>\n",
       "      <td>Flat</td>\n",
       "      <td>Mud mortar-Stone/Brick</td>\n",
       "      <td>Bamboo/Timber-Light roof</td>\n",
       "      <td>Mud</td>\n",
       "      <td>TImber/Bamboo-Mud</td>\n",
       "      <td>Not attached</td>\n",
       "      <td>Rectangular</td>\n",
       "      <td>Stone, mud mortar</td>\n",
       "      <td>0</td>\n",
       "    </tr>\n",
       "    <tr>\n",
       "      <th>164081</th>\n",
       "      <td>21</td>\n",
       "      <td>200</td>\n",
       "      <td>12</td>\n",
       "      <td>Flat</td>\n",
       "      <td>Mud mortar-Stone/Brick</td>\n",
       "      <td>Bamboo/Timber-Light roof</td>\n",
       "      <td>Mud</td>\n",
       "      <td>TImber/Bamboo-Mud</td>\n",
       "      <td>Not attached</td>\n",
       "      <td>Rectangular</td>\n",
       "      <td>Stone, mud mortar</td>\n",
       "      <td>0</td>\n",
       "    </tr>\n",
       "    <tr>\n",
       "      <th>164089</th>\n",
       "      <td>18</td>\n",
       "      <td>315</td>\n",
       "      <td>20</td>\n",
       "      <td>Flat</td>\n",
       "      <td>Mud mortar-Stone/Brick</td>\n",
       "      <td>Bamboo/Timber-Light roof</td>\n",
       "      <td>Mud</td>\n",
       "      <td>TImber/Bamboo-Mud</td>\n",
       "      <td>Not attached</td>\n",
       "      <td>Rectangular</td>\n",
       "      <td>Stone, mud mortar</td>\n",
       "      <td>0</td>\n",
       "    </tr>\n",
       "    <tr>\n",
       "      <th>164098</th>\n",
       "      <td>45</td>\n",
       "      <td>290</td>\n",
       "      <td>13</td>\n",
       "      <td>Flat</td>\n",
       "      <td>Mud mortar-Stone/Brick</td>\n",
       "      <td>Bamboo/Timber-Light roof</td>\n",
       "      <td>Mud</td>\n",
       "      <td>TImber/Bamboo-Mud</td>\n",
       "      <td>Not attached</td>\n",
       "      <td>Rectangular</td>\n",
       "      <td>Stone, mud mortar</td>\n",
       "      <td>0</td>\n",
       "    </tr>\n",
       "    <tr>\n",
       "      <th>164103</th>\n",
       "      <td>21</td>\n",
       "      <td>230</td>\n",
       "      <td>13</td>\n",
       "      <td>Flat</td>\n",
       "      <td>Mud mortar-Stone/Brick</td>\n",
       "      <td>Bamboo/Timber-Light roof</td>\n",
       "      <td>Mud</td>\n",
       "      <td>TImber/Bamboo-Mud</td>\n",
       "      <td>Not attached</td>\n",
       "      <td>Rectangular</td>\n",
       "      <td>Stone, mud mortar</td>\n",
       "      <td>0</td>\n",
       "    </tr>\n",
       "  </tbody>\n",
       "</table>\n",
       "</div>"
      ],
      "text/plain": [
       "        age_building  plinth_area_sq_ft  height_ft_pre_eq  \\\n",
       "b_id                                                        \n",
       "164002            20                560                18   \n",
       "164081            21                200                12   \n",
       "164089            18                315                20   \n",
       "164098            45                290                13   \n",
       "164103            21                230                13   \n",
       "\n",
       "       land_surface_condition         foundation_type  \\\n",
       "b_id                                                    \n",
       "164002                   Flat  Mud mortar-Stone/Brick   \n",
       "164081                   Flat  Mud mortar-Stone/Brick   \n",
       "164089                   Flat  Mud mortar-Stone/Brick   \n",
       "164098                   Flat  Mud mortar-Stone/Brick   \n",
       "164103                   Flat  Mud mortar-Stone/Brick   \n",
       "\n",
       "                       roof_type ground_floor_type   other_floor_type  \\\n",
       "b_id                                                                    \n",
       "164002  Bamboo/Timber-Light roof               Mud  TImber/Bamboo-Mud   \n",
       "164081  Bamboo/Timber-Light roof               Mud  TImber/Bamboo-Mud   \n",
       "164089  Bamboo/Timber-Light roof               Mud  TImber/Bamboo-Mud   \n",
       "164098  Bamboo/Timber-Light roof               Mud  TImber/Bamboo-Mud   \n",
       "164103  Bamboo/Timber-Light roof               Mud  TImber/Bamboo-Mud   \n",
       "\n",
       "            position plan_configuration     superstructure  severe_damage  \n",
       "b_id                                                                       \n",
       "164002  Not attached        Rectangular  Stone, mud mortar              0  \n",
       "164081  Not attached        Rectangular  Stone, mud mortar              0  \n",
       "164089  Not attached        Rectangular  Stone, mud mortar              0  \n",
       "164098  Not attached        Rectangular  Stone, mud mortar              0  \n",
       "164103  Not attached        Rectangular  Stone, mud mortar              0  "
      ]
     },
     "execution_count": 121,
     "metadata": {},
     "output_type": "execute_result"
    }
   ],
   "source": [
    "df.head()"
   ]
  }
 ],
 "metadata": {
  "kernelspec": {
   "display_name": "applied_data_science_labs",
   "language": "python",
   "name": "python3"
  },
  "language_info": {
   "codemirror_mode": {
    "name": "ipython",
    "version": 3
   },
   "file_extension": ".py",
   "mimetype": "text/x-python",
   "name": "python",
   "nbconvert_exporter": "python",
   "pygments_lexer": "ipython3",
   "version": "3.12.10"
  }
 },
 "nbformat": 4,
 "nbformat_minor": 5
}
