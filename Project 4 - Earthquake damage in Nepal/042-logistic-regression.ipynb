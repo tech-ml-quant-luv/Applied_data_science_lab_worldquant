{
 "cells": [
  {
   "cell_type": "code",
   "execution_count": 51,
   "id": "3e95040e",
   "metadata": {},
   "outputs": [],
   "source": [
    "import sqlite3\n",
    "import matplotlib.pyplot as plt\n",
    "import numpy as np\n",
    "import pandas as pd\n",
    "import seaborn as sns\n",
    "from category_encoders import OneHotEncoder\n",
    "from sklearn.linear_model import LogisticRegression\n",
    "from sklearn.metrics import accuracy_score\n",
    "from sklearn.model_selection import train_test_split\n",
    "from sklearn.pipeline import Pipeline, make_pipeline\n",
    "from sklearn.utils.validation import check_is_fitted"
   ]
  },
  {
   "cell_type": "markdown",
   "id": "678345cf",
   "metadata": {},
   "source": [
    "#### Getting the data\n"
   ]
  },
  {
   "cell_type": "code",
   "execution_count": 52,
   "id": "c5efc182",
   "metadata": {},
   "outputs": [],
   "source": [
    "def wrangle(db_path):\n",
    "    # connect to database\n",
    "    conn = sqlite3.connect(db_path)\n",
    "\n",
    "    # construct query\n",
    "    query = \"\"\"\n",
    "    SELECT DISTINCT i.building_id AS b_id, s.*, d.damage_grade\n",
    "    FROM id_map as i\n",
    "    JOIN building_structure as s ON i.building_id = s.building_id\n",
    "    JOIN building_damage as d ON i.building_id = d.building_id\n",
    "    WHERE district_id = 4\n",
    "    \"\"\"\n",
    "    # Read query results into a dataframe\n",
    "    df = pd.read_sql(query, conn, index_col=\"b_id\")\n",
    "    drop_cols = [col for col in df.columns if \"post_eq\" in col]\n",
    "\n",
    "    df.drop(columns=drop_cols, inplace=True)\n",
    "    return df"
   ]
  },
  {
   "cell_type": "code",
   "execution_count": 53,
   "id": "f5925994",
   "metadata": {},
   "outputs": [
    {
     "data": {
      "application/vnd.microsoft.datawrangler.viewer.v0+json": {
       "columns": [
        {
         "name": "b_id",
         "rawType": "int64",
         "type": "integer"
        },
        {
         "name": "building_id",
         "rawType": "int64",
         "type": "integer"
        },
        {
         "name": "count_floors_pre_eq",
         "rawType": "int64",
         "type": "integer"
        },
        {
         "name": "age_building",
         "rawType": "int64",
         "type": "integer"
        },
        {
         "name": "plinth_area_sq_ft",
         "rawType": "int64",
         "type": "integer"
        },
        {
         "name": "height_ft_pre_eq",
         "rawType": "int64",
         "type": "integer"
        },
        {
         "name": "land_surface_condition",
         "rawType": "object",
         "type": "string"
        },
        {
         "name": "foundation_type",
         "rawType": "object",
         "type": "string"
        },
        {
         "name": "roof_type",
         "rawType": "object",
         "type": "string"
        },
        {
         "name": "ground_floor_type",
         "rawType": "object",
         "type": "string"
        },
        {
         "name": "other_floor_type",
         "rawType": "object",
         "type": "string"
        },
        {
         "name": "position",
         "rawType": "object",
         "type": "string"
        },
        {
         "name": "plan_configuration",
         "rawType": "object",
         "type": "string"
        },
        {
         "name": "superstructure",
         "rawType": "object",
         "type": "string"
        },
        {
         "name": "damage_grade",
         "rawType": "object",
         "type": "string"
        }
       ],
       "ref": "607f6e1b-c118-4f5a-a03b-b7803832c32c",
       "rows": [
        [
         "164002",
         "164002",
         "3",
         "20",
         "560",
         "18",
         "Flat",
         "Mud mortar-Stone/Brick",
         "Bamboo/Timber-Light roof",
         "Mud",
         "TImber/Bamboo-Mud",
         "Not attached",
         "Rectangular",
         "Stone, mud mortar",
         "Grade 2"
        ],
        [
         "164081",
         "164081",
         "2",
         "21",
         "200",
         "12",
         "Flat",
         "Mud mortar-Stone/Brick",
         "Bamboo/Timber-Light roof",
         "Mud",
         "TImber/Bamboo-Mud",
         "Not attached",
         "Rectangular",
         "Stone, mud mortar",
         "Grade 2"
        ],
        [
         "164089",
         "164089",
         "3",
         "18",
         "315",
         "20",
         "Flat",
         "Mud mortar-Stone/Brick",
         "Bamboo/Timber-Light roof",
         "Mud",
         "TImber/Bamboo-Mud",
         "Not attached",
         "Rectangular",
         "Stone, mud mortar",
         "Grade 2"
        ],
        [
         "164098",
         "164098",
         "2",
         "45",
         "290",
         "13",
         "Flat",
         "Mud mortar-Stone/Brick",
         "Bamboo/Timber-Light roof",
         "Mud",
         "TImber/Bamboo-Mud",
         "Not attached",
         "Rectangular",
         "Stone, mud mortar",
         "Grade 3"
        ],
        [
         "164103",
         "164103",
         "2",
         "21",
         "230",
         "13",
         "Flat",
         "Mud mortar-Stone/Brick",
         "Bamboo/Timber-Light roof",
         "Mud",
         "TImber/Bamboo-Mud",
         "Not attached",
         "Rectangular",
         "Stone, mud mortar",
         "Grade 3"
        ]
       ],
       "shape": {
        "columns": 14,
        "rows": 5
       }
      },
      "text/html": [
       "<div>\n",
       "<style scoped>\n",
       "    .dataframe tbody tr th:only-of-type {\n",
       "        vertical-align: middle;\n",
       "    }\n",
       "\n",
       "    .dataframe tbody tr th {\n",
       "        vertical-align: top;\n",
       "    }\n",
       "\n",
       "    .dataframe thead th {\n",
       "        text-align: right;\n",
       "    }\n",
       "</style>\n",
       "<table border=\"1\" class=\"dataframe\">\n",
       "  <thead>\n",
       "    <tr style=\"text-align: right;\">\n",
       "      <th></th>\n",
       "      <th>building_id</th>\n",
       "      <th>count_floors_pre_eq</th>\n",
       "      <th>age_building</th>\n",
       "      <th>plinth_area_sq_ft</th>\n",
       "      <th>height_ft_pre_eq</th>\n",
       "      <th>land_surface_condition</th>\n",
       "      <th>foundation_type</th>\n",
       "      <th>roof_type</th>\n",
       "      <th>ground_floor_type</th>\n",
       "      <th>other_floor_type</th>\n",
       "      <th>position</th>\n",
       "      <th>plan_configuration</th>\n",
       "      <th>superstructure</th>\n",
       "      <th>damage_grade</th>\n",
       "    </tr>\n",
       "    <tr>\n",
       "      <th>b_id</th>\n",
       "      <th></th>\n",
       "      <th></th>\n",
       "      <th></th>\n",
       "      <th></th>\n",
       "      <th></th>\n",
       "      <th></th>\n",
       "      <th></th>\n",
       "      <th></th>\n",
       "      <th></th>\n",
       "      <th></th>\n",
       "      <th></th>\n",
       "      <th></th>\n",
       "      <th></th>\n",
       "      <th></th>\n",
       "    </tr>\n",
       "  </thead>\n",
       "  <tbody>\n",
       "    <tr>\n",
       "      <th>164002</th>\n",
       "      <td>164002</td>\n",
       "      <td>3</td>\n",
       "      <td>20</td>\n",
       "      <td>560</td>\n",
       "      <td>18</td>\n",
       "      <td>Flat</td>\n",
       "      <td>Mud mortar-Stone/Brick</td>\n",
       "      <td>Bamboo/Timber-Light roof</td>\n",
       "      <td>Mud</td>\n",
       "      <td>TImber/Bamboo-Mud</td>\n",
       "      <td>Not attached</td>\n",
       "      <td>Rectangular</td>\n",
       "      <td>Stone, mud mortar</td>\n",
       "      <td>Grade 2</td>\n",
       "    </tr>\n",
       "    <tr>\n",
       "      <th>164081</th>\n",
       "      <td>164081</td>\n",
       "      <td>2</td>\n",
       "      <td>21</td>\n",
       "      <td>200</td>\n",
       "      <td>12</td>\n",
       "      <td>Flat</td>\n",
       "      <td>Mud mortar-Stone/Brick</td>\n",
       "      <td>Bamboo/Timber-Light roof</td>\n",
       "      <td>Mud</td>\n",
       "      <td>TImber/Bamboo-Mud</td>\n",
       "      <td>Not attached</td>\n",
       "      <td>Rectangular</td>\n",
       "      <td>Stone, mud mortar</td>\n",
       "      <td>Grade 2</td>\n",
       "    </tr>\n",
       "    <tr>\n",
       "      <th>164089</th>\n",
       "      <td>164089</td>\n",
       "      <td>3</td>\n",
       "      <td>18</td>\n",
       "      <td>315</td>\n",
       "      <td>20</td>\n",
       "      <td>Flat</td>\n",
       "      <td>Mud mortar-Stone/Brick</td>\n",
       "      <td>Bamboo/Timber-Light roof</td>\n",
       "      <td>Mud</td>\n",
       "      <td>TImber/Bamboo-Mud</td>\n",
       "      <td>Not attached</td>\n",
       "      <td>Rectangular</td>\n",
       "      <td>Stone, mud mortar</td>\n",
       "      <td>Grade 2</td>\n",
       "    </tr>\n",
       "    <tr>\n",
       "      <th>164098</th>\n",
       "      <td>164098</td>\n",
       "      <td>2</td>\n",
       "      <td>45</td>\n",
       "      <td>290</td>\n",
       "      <td>13</td>\n",
       "      <td>Flat</td>\n",
       "      <td>Mud mortar-Stone/Brick</td>\n",
       "      <td>Bamboo/Timber-Light roof</td>\n",
       "      <td>Mud</td>\n",
       "      <td>TImber/Bamboo-Mud</td>\n",
       "      <td>Not attached</td>\n",
       "      <td>Rectangular</td>\n",
       "      <td>Stone, mud mortar</td>\n",
       "      <td>Grade 3</td>\n",
       "    </tr>\n",
       "    <tr>\n",
       "      <th>164103</th>\n",
       "      <td>164103</td>\n",
       "      <td>2</td>\n",
       "      <td>21</td>\n",
       "      <td>230</td>\n",
       "      <td>13</td>\n",
       "      <td>Flat</td>\n",
       "      <td>Mud mortar-Stone/Brick</td>\n",
       "      <td>Bamboo/Timber-Light roof</td>\n",
       "      <td>Mud</td>\n",
       "      <td>TImber/Bamboo-Mud</td>\n",
       "      <td>Not attached</td>\n",
       "      <td>Rectangular</td>\n",
       "      <td>Stone, mud mortar</td>\n",
       "      <td>Grade 3</td>\n",
       "    </tr>\n",
       "  </tbody>\n",
       "</table>\n",
       "</div>"
      ],
      "text/plain": [
       "        building_id  count_floors_pre_eq  ...     superstructure  damage_grade\n",
       "b_id                                      ...                                 \n",
       "164002       164002                    3  ...  Stone, mud mortar       Grade 2\n",
       "164081       164081                    2  ...  Stone, mud mortar       Grade 2\n",
       "164089       164089                    3  ...  Stone, mud mortar       Grade 2\n",
       "164098       164098                    2  ...  Stone, mud mortar       Grade 3\n",
       "164103       164103                    2  ...  Stone, mud mortar       Grade 3\n",
       "\n",
       "[5 rows x 14 columns]"
      ]
     },
     "execution_count": 53,
     "metadata": {},
     "output_type": "execute_result"
    }
   ],
   "source": [
    "df = wrangle(\"./data/nepal.sqlite\")\n",
    "df.head()"
   ]
  },
  {
   "cell_type": "code",
   "execution_count": 54,
   "id": "1ecbb956",
   "metadata": {},
   "outputs": [
    {
     "name": "stdout",
     "output_type": "stream",
     "text": [
      "<class 'pandas.core.frame.DataFrame'>\n",
      "Index: 70836 entries, 164002 to 234835\n",
      "Data columns (total 14 columns):\n",
      " #   Column                  Non-Null Count  Dtype \n",
      "---  ------                  --------------  ----- \n",
      " 0   building_id             70836 non-null  int64 \n",
      " 1   count_floors_pre_eq     70836 non-null  int64 \n",
      " 2   age_building            70836 non-null  int64 \n",
      " 3   plinth_area_sq_ft       70836 non-null  int64 \n",
      " 4   height_ft_pre_eq        70836 non-null  int64 \n",
      " 5   land_surface_condition  70836 non-null  object\n",
      " 6   foundation_type         70836 non-null  object\n",
      " 7   roof_type               70836 non-null  object\n",
      " 8   ground_floor_type       70836 non-null  object\n",
      " 9   other_floor_type        70836 non-null  object\n",
      " 10  position                70836 non-null  object\n",
      " 11  plan_configuration      70836 non-null  object\n",
      " 12  superstructure          70836 non-null  object\n",
      " 13  damage_grade            70836 non-null  object\n",
      "dtypes: int64(5), object(9)\n",
      "memory usage: 8.1+ MB\n",
      "None\n"
     ]
    }
   ],
   "source": [
    "print(df.info())"
   ]
  },
  {
   "cell_type": "markdown",
   "id": "96d6196a",
   "metadata": {},
   "source": [
    "- Remove Leaky Features"
   ]
  },
  {
   "cell_type": "code",
   "execution_count": null,
   "id": "25fb5cab",
   "metadata": {},
   "outputs": [],
   "source": [
    "# drop_cols = [col for col in df.columns if \"post_eq\" in col]"
   ]
  }
 ],
 "metadata": {
  "kernelspec": {
   "display_name": "applied_data_science_labs",
   "language": "python",
   "name": "python3"
  },
  "language_info": {
   "codemirror_mode": {
    "name": "ipython",
    "version": 3
   },
   "file_extension": ".py",
   "mimetype": "text/x-python",
   "name": "python",
   "nbconvert_exporter": "python",
   "pygments_lexer": "ipython3",
   "version": "3.12.10"
  }
 },
 "nbformat": 4,
 "nbformat_minor": 5
}
