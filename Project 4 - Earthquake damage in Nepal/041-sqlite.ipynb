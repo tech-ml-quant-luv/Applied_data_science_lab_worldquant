{
 "cells": [
  {
   "cell_type": "markdown",
   "id": "352f133e",
   "metadata": {},
   "source": [
    "- It is a convention to use SQL queries in all capital letters as it distinguishes it from other code, but it is not a necessary.\n",
    "- In the below query, we broke the clauses into multiple lines, it is also a conventions but not a requirement"
   ]
  },
  {
   "cell_type": "code",
   "execution_count": 10,
   "id": "cd17e757",
   "metadata": {},
   "outputs": [],
   "source": [
    "import sqlite3\n",
    "import pandas as pd"
   ]
  },
  {
   "cell_type": "code",
   "execution_count": 11,
   "id": "2008dbda",
   "metadata": {},
   "outputs": [
    {
     "name": "stdout",
     "output_type": "stream",
     "text": [
      "The sql extension is already loaded. To reload it, use:\n",
      "  %reload_ext sql\n"
     ]
    }
   ],
   "source": [
    "%load_ext sql\n",
    "%sql sqlite:///./data/nepal.sqlite"
   ]
  },
  {
   "cell_type": "markdown",
   "id": "de37e201",
   "metadata": {},
   "source": [
    "- Select clause usually says that these are the columns that you need to get data from\n",
    "- If we need the data from all the columns we put a * \n",
    "- Then we need to give the table from which where we need to get these columns from\n",
    "- It is a convention to keep all the letters of a query syntax capital. It is not required but it helps in distinguishing.\n",
    "- Another convention is to keep the clauses in different lines. Again this is a convention and not a requirement."
   ]
  },
  {
   "cell_type": "code",
   "execution_count": 27,
   "id": "820394fe",
   "metadata": {},
   "outputs": [
    {
     "name": "stdout",
     "output_type": "stream",
     "text": [
      " * sqlite:///./data/nepal.sqlite\n",
      "Done.\n"
     ]
    },
    {
     "data": {
      "text/html": [
       "<table>\n",
       "    <thead>\n",
       "        <tr>\n",
       "            <th>type</th>\n",
       "            <th>name</th>\n",
       "            <th>tbl_name</th>\n",
       "            <th>rootpage</th>\n",
       "            <th>sql</th>\n",
       "        </tr>\n",
       "    </thead>\n",
       "    <tbody>\n",
       "        <tr>\n",
       "            <td>table</td>\n",
       "            <td>id_map</td>\n",
       "            <td>id_map</td>\n",
       "            <td>2</td>\n",
       "            <td>CREATE TABLE &quot;id_map&quot; (<br>&quot;household_id&quot; INTEGER,<br>  &quot;building_id&quot; INTEGER,<br>  &quot;vdcmun_id&quot; INTEGER,<br>  &quot;district_id&quot; INTEGER<br>)</td>\n",
       "        </tr>\n",
       "        <tr>\n",
       "            <td>index</td>\n",
       "            <td>ix_id_map_household_id</td>\n",
       "            <td>id_map</td>\n",
       "            <td>3</td>\n",
       "            <td>CREATE INDEX &quot;ix_id_map_household_id&quot;ON &quot;id_map&quot; (&quot;household_id&quot;)</td>\n",
       "        </tr>\n",
       "    </tbody>\n",
       "</table>"
      ],
      "text/plain": [
       "[('table', 'id_map', 'id_map', 2, 'CREATE TABLE \"id_map\" (\\n\"household_id\" INTEGER,\\n  \"building_id\" INTEGER,\\n  \"vdcmun_id\" INTEGER,\\n  \"district_id\" INTEGER\\n)'),\n",
       " ('index', 'ix_id_map_household_id', 'id_map', 3, 'CREATE INDEX \"ix_id_map_household_id\"ON \"id_map\" (\"household_id\")')]"
      ]
     },
     "execution_count": 27,
     "metadata": {},
     "output_type": "execute_result"
    }
   ],
   "source": [
    "%%sql\n",
    "SELECT *\n",
    "FROM sqlite_schema\n",
    "LIMIT 2\n",
    "\n",
    "\n"
   ]
  },
  {
   "cell_type": "code",
   "execution_count": 19,
   "id": "ff8275b7",
   "metadata": {},
   "outputs": [
    {
     "data": {
      "application/vnd.microsoft.datawrangler.viewer.v0+json": {
       "columns": [
        {
         "name": "index",
         "rawType": "int64",
         "type": "integer"
        },
        {
         "name": "type",
         "rawType": "object",
         "type": "string"
        },
        {
         "name": "name",
         "rawType": "object",
         "type": "string"
        },
        {
         "name": "tbl_name",
         "rawType": "object",
         "type": "string"
        },
        {
         "name": "rootpage",
         "rawType": "int64",
         "type": "integer"
        },
        {
         "name": "sql",
         "rawType": "object",
         "type": "string"
        }
       ],
       "ref": "b105603a-4fbe-4c31-aaa4-522090b823ce",
       "rows": [
        [
         "0",
         "table",
         "id_map",
         "id_map",
         "2",
         "CREATE TABLE \"id_map\" (\n\"household_id\" INTEGER,\n  \"building_id\" INTEGER,\n  \"vdcmun_id\" INTEGER,\n  \"district_id\" INTEGER\n)"
        ],
        [
         "1",
         "index",
         "ix_id_map_household_id",
         "id_map",
         "3",
         "CREATE INDEX \"ix_id_map_household_id\"ON \"id_map\" (\"household_id\")"
        ],
        [
         "2",
         "table",
         "building_structure",
         "building_structure",
         "2032",
         "CREATE TABLE \"building_structure\" (\n\"building_id\" INTEGER,\n  \"count_floors_pre_eq\" INTEGER,\n  \"count_floors_post_eq\" INTEGER,\n  \"age_building\" INTEGER,\n  \"plinth_area_sq_ft\" INTEGER,\n  \"height_ft_pre_eq\" INTEGER,\n  \"height_ft_post_eq\" INTEGER,\n  \"land_surface_condition\" TEXT,\n  \"foundation_type\" TEXT,\n  \"roof_type\" TEXT,\n  \"ground_floor_type\" TEXT,\n  \"other_floor_type\" TEXT,\n  \"position\" TEXT,\n  \"plan_configuration\" TEXT,\n  \"condition_post_eq\" TEXT,\n  \"superstructure\" TEXT\n)"
        ],
        [
         "3",
         "index",
         "ix_building_structure_building_id",
         "building_structure",
         "2033",
         "CREATE INDEX \"ix_building_structure_building_id\"ON \"building_structure\" (\"building_id\")"
        ],
        [
         "4",
         "table",
         "building_damage",
         "building_damage",
         "12302",
         "CREATE TABLE \"building_damage\" (\n\"building_id\" INTEGER,\n  \"damage_overall_collapse\" TEXT,\n  \"damage_overall_leaning\" TEXT,\n  \"damage_overall_adjacent_building_risk\" TEXT,\n  \"damage_foundation_severe\" TEXT,\n  \"damage_foundation_moderate\" TEXT,\n  \"damage_foundation_insignificant\" TEXT,\n  \"damage_roof_severe\" TEXT,\n  \"damage_roof_moderate\" TEXT,\n  \"damage_roof_insignificant\" TEXT,\n  \"damage_corner_separation_severe\" TEXT,\n  \"damage_corner_separation_moderate\" TEXT,\n  \"damage_corner_separation_insignificant\" TEXT,\n  \"damage_diagonal_cracking_severe\" TEXT,\n  \"damage_diagonal_cracking_moderate\" TEXT,\n  \"damage_diagonal_cracking_insignificant\" TEXT,\n  \"damage_in_plane_failure_severe\" TEXT,\n  \"damage_in_plane_failure_moderate\" TEXT,\n  \"damage_in_plane_failure_insignificant\" TEXT,\n  \"damage_out_of_plane_failure_severe\" TEXT,\n  \"damage_out_of_plane_failure_moderate\" TEXT,\n  \"damage_out_of_plane_failure_insignificant\" TEXT,\n  \"damage_out_of_plane_failure_walls_ncfr_severe\" TEXT,\n  \"damage_out_of_plane_failure_walls_ncfr_moderate\" TEXT,\n  \"damage_out_of_plane_failure_walls_ncfr_insignificant\" TEXT,\n  \"damage_gable_failure_severe\" TEXT,\n  \"damage_gable_failure_moderate\" TEXT,\n  \"damage_gable_failure_insignificant\" TEXT,\n  \"damage_delamination_failure_severe\" TEXT,\n  \"damage_delamination_failure_moderate\" TEXT,\n  \"damage_delamination_failure_insignificant\" TEXT,\n  \"damage_column_failure_severe\" TEXT,\n  \"damage_column_failure_moderate\" TEXT,\n  \"damage_column_failure_insignificant\" TEXT,\n  \"damage_beam_failure_severe\" TEXT,\n  \"damage_beam_failure_moderate\" TEXT,\n  \"damage_beam_failure_insignificant\" TEXT,\n  \"damage_infill_partition_failure_severe\" TEXT,\n  \"damage_infill_partition_failure_moderate\" TEXT,\n  \"damage_infill_partition_failure_insignificant\" TEXT,\n  \"damage_staircase_severe\" TEXT,\n  \"damage_staircase_moderate\" TEXT,\n  \"damage_staircase_insignificant\" TEXT,\n  \"damage_parapet_severe\" TEXT,\n  \"damage_parapet_moderate\" TEXT,\n  \"damage_parapet_insignificant\" TEXT,\n  \"damage_cladding_glazing_severe\" TEXT,\n  \"damage_cladding_glazing_moderate\" TEXT,\n  \"damage_cladding_glazing_insignificant\" TEXT,\n  \"area_assesed\" TEXT,\n  \"damage_grade\" TEXT,\n  \"technical_solution_proposed\" TEXT,\n  \"has_repair_started\" REAL,\n  \"has_damage_foundation\" REAL,\n  \"has_damage_roof\" REAL,\n  \"has_damage_corner_separation\" REAL,\n  \"has_damage_diagonal_cracking\" REAL,\n  \"has_damage_in_plane_failure\" REAL,\n  \"has_damage_out_of_plane_failure\" REAL,\n  \"has_damage_out_of_plane_walls_ncfr_failure\" REAL,\n  \"has_damage_gable_failure\" REAL,\n  \"has_damage_delamination_failure\" REAL,\n  \"has_damage_column_failure\" REAL,\n  \"has_damage_beam_failure\" REAL,\n  \"has_damage_infill_partition_failure\" REAL,\n  \"has_damage_staircase\" REAL,\n  \"has_damage_parapet\" REAL,\n  \"has_damage_cladding_glazing\" REAL,\n  \"has_geotechnical_risk\" REAL,\n  \"has_geotechnical_risk_land_settlement\" INTEGER,\n  \"has_geotechnical_risk_fault_crack\" INTEGER,\n  \"has_geotechnical_risk_liquefaction\" INTEGER,\n  \"has_geotechnical_risk_landslide\" INTEGER,\n  \"has_geotechnical_risk_rock_fall\" INTEGER,\n  \"has_geotechnical_risk_flood\" INTEGER,\n  \"has_geotechnical_risk_other\" INTEGER\n)"
        ],
        [
         "5",
         "index",
         "ix_building_damage_building_id",
         "building_damage",
         "12305",
         "CREATE INDEX \"ix_building_damage_building_id\"ON \"building_damage\" (\"building_id\")"
        ],
        [
         "6",
         "table",
         "household_demographics",
         "household_demographics",
         "30763",
         "CREATE TABLE \"household_demographics\" (\n\"household_id\" INTEGER,\n  \"gender_household_head\" TEXT,\n  \"age_household_head\" REAL,\n  \"caste_household\" TEXT,\n  \"education_level_household_head\" TEXT,\n  \"income_level_household\" TEXT,\n  \"size_household\" REAL,\n  \"is_bank_account_present_in_household\" REAL\n)"
        ],
        [
         "7",
         "index",
         "ix_household_demographics_household_id",
         "household_demographics",
         "30764",
         "CREATE INDEX \"ix_household_demographics_household_id\"ON \"household_demographics\" (\"household_id\")"
        ]
       ],
       "shape": {
        "columns": 5,
        "rows": 8
       }
      },
      "text/html": [
       "<div>\n",
       "<style scoped>\n",
       "    .dataframe tbody tr th:only-of-type {\n",
       "        vertical-align: middle;\n",
       "    }\n",
       "\n",
       "    .dataframe tbody tr th {\n",
       "        vertical-align: top;\n",
       "    }\n",
       "\n",
       "    .dataframe thead th {\n",
       "        text-align: right;\n",
       "    }\n",
       "</style>\n",
       "<table border=\"1\" class=\"dataframe\">\n",
       "  <thead>\n",
       "    <tr style=\"text-align: right;\">\n",
       "      <th></th>\n",
       "      <th>type</th>\n",
       "      <th>name</th>\n",
       "      <th>tbl_name</th>\n",
       "      <th>rootpage</th>\n",
       "      <th>sql</th>\n",
       "    </tr>\n",
       "  </thead>\n",
       "  <tbody>\n",
       "    <tr>\n",
       "      <th>0</th>\n",
       "      <td>table</td>\n",
       "      <td>id_map</td>\n",
       "      <td>id_map</td>\n",
       "      <td>2</td>\n",
       "      <td>CREATE TABLE \"id_map\" (\\n\"household_id\" INTEGE...</td>\n",
       "    </tr>\n",
       "    <tr>\n",
       "      <th>1</th>\n",
       "      <td>index</td>\n",
       "      <td>ix_id_map_household_id</td>\n",
       "      <td>id_map</td>\n",
       "      <td>3</td>\n",
       "      <td>CREATE INDEX \"ix_id_map_household_id\"ON \"id_ma...</td>\n",
       "    </tr>\n",
       "    <tr>\n",
       "      <th>2</th>\n",
       "      <td>table</td>\n",
       "      <td>building_structure</td>\n",
       "      <td>building_structure</td>\n",
       "      <td>2032</td>\n",
       "      <td>CREATE TABLE \"building_structure\" (\\n\"building...</td>\n",
       "    </tr>\n",
       "    <tr>\n",
       "      <th>3</th>\n",
       "      <td>index</td>\n",
       "      <td>ix_building_structure_building_id</td>\n",
       "      <td>building_structure</td>\n",
       "      <td>2033</td>\n",
       "      <td>CREATE INDEX \"ix_building_structure_building_i...</td>\n",
       "    </tr>\n",
       "    <tr>\n",
       "      <th>4</th>\n",
       "      <td>table</td>\n",
       "      <td>building_damage</td>\n",
       "      <td>building_damage</td>\n",
       "      <td>12302</td>\n",
       "      <td>CREATE TABLE \"building_damage\" (\\n\"building_id...</td>\n",
       "    </tr>\n",
       "    <tr>\n",
       "      <th>5</th>\n",
       "      <td>index</td>\n",
       "      <td>ix_building_damage_building_id</td>\n",
       "      <td>building_damage</td>\n",
       "      <td>12305</td>\n",
       "      <td>CREATE INDEX \"ix_building_damage_building_id\"O...</td>\n",
       "    </tr>\n",
       "    <tr>\n",
       "      <th>6</th>\n",
       "      <td>table</td>\n",
       "      <td>household_demographics</td>\n",
       "      <td>household_demographics</td>\n",
       "      <td>30763</td>\n",
       "      <td>CREATE TABLE \"household_demographics\" (\\n\"hous...</td>\n",
       "    </tr>\n",
       "    <tr>\n",
       "      <th>7</th>\n",
       "      <td>index</td>\n",
       "      <td>ix_household_demographics_household_id</td>\n",
       "      <td>household_demographics</td>\n",
       "      <td>30764</td>\n",
       "      <td>CREATE INDEX \"ix_household_demographics_househ...</td>\n",
       "    </tr>\n",
       "  </tbody>\n",
       "</table>\n",
       "</div>"
      ],
      "text/plain": [
       "    type                                    name                tbl_name  \\\n",
       "0  table                                  id_map                  id_map   \n",
       "1  index                  ix_id_map_household_id                  id_map   \n",
       "2  table                      building_structure      building_structure   \n",
       "3  index       ix_building_structure_building_id      building_structure   \n",
       "4  table                         building_damage         building_damage   \n",
       "5  index          ix_building_damage_building_id         building_damage   \n",
       "6  table                  household_demographics  household_demographics   \n",
       "7  index  ix_household_demographics_household_id  household_demographics   \n",
       "\n",
       "   rootpage                                                sql  \n",
       "0         2  CREATE TABLE \"id_map\" (\\n\"household_id\" INTEGE...  \n",
       "1         3  CREATE INDEX \"ix_id_map_household_id\"ON \"id_ma...  \n",
       "2      2032  CREATE TABLE \"building_structure\" (\\n\"building...  \n",
       "3      2033  CREATE INDEX \"ix_building_structure_building_i...  \n",
       "4     12302  CREATE TABLE \"building_damage\" (\\n\"building_id...  \n",
       "5     12305  CREATE INDEX \"ix_building_damage_building_id\"O...  \n",
       "6     30763  CREATE TABLE \"household_demographics\" (\\n\"hous...  \n",
       "7     30764  CREATE INDEX \"ix_household_demographics_househ...  "
      ]
     },
     "execution_count": 19,
     "metadata": {},
     "output_type": "execute_result"
    }
   ],
   "source": [
    "df"
   ]
  },
  {
   "cell_type": "code",
   "execution_count": null,
   "id": "f73f96c2",
   "metadata": {},
   "outputs": [
    {
     "name": "stdout",
     "output_type": "stream",
     "text": [
      " * sqlite:///./data/nepal.sqlite\n",
      "Done.\n"
     ]
    },
    {
     "data": {
      "text/html": [
       "<table>\n",
       "    <thead>\n",
       "        <tr>\n",
       "            <th>name</th>\n",
       "        </tr>\n",
       "    </thead>\n",
       "    <tbody>\n",
       "        <tr>\n",
       "            <td>id_map</td>\n",
       "        </tr>\n",
       "        <tr>\n",
       "            <td>building_structure</td>\n",
       "        </tr>\n",
       "        <tr>\n",
       "            <td>building_damage</td>\n",
       "        </tr>\n",
       "        <tr>\n",
       "            <td>household_demographics</td>\n",
       "        </tr>\n",
       "    </tbody>\n",
       "</table>"
      ],
      "text/plain": [
       "[('id_map',),\n",
       " ('building_structure',),\n",
       " ('building_damage',),\n",
       " ('household_demographics',)]"
      ]
     },
     "execution_count": 7,
     "metadata": {},
     "output_type": "execute_result"
    }
   ],
   "source": [
    "%%sql\n",
    "SELECT name \n",
    "FROM sqlite_schema\n",
    "WHERE type = \"table\""
   ]
  },
  {
   "cell_type": "code",
   "execution_count": null,
   "id": "e788039c",
   "metadata": {},
   "outputs": [
    {
     "name": "stdout",
     "output_type": "stream",
     "text": [
      " * sqlite:///./data/nepal.sqlite\n",
      "Done.\n"
     ]
    },
    {
     "data": {
      "text/html": [
       "<table>\n",
       "    <thead>\n",
       "        <tr>\n",
       "            <th>household_id</th>\n",
       "            <th>building_id</th>\n",
       "            <th>vdcmun_id</th>\n",
       "            <th>district_id</th>\n",
       "        </tr>\n",
       "    </thead>\n",
       "    <tbody>\n",
       "        <tr>\n",
       "            <td>5601</td>\n",
       "            <td>56</td>\n",
       "            <td>7</td>\n",
       "            <td>1</td>\n",
       "        </tr>\n",
       "        <tr>\n",
       "            <td>6301</td>\n",
       "            <td>63</td>\n",
       "            <td>7</td>\n",
       "            <td>1</td>\n",
       "        </tr>\n",
       "        <tr>\n",
       "            <td>9701</td>\n",
       "            <td>97</td>\n",
       "            <td>7</td>\n",
       "            <td>1</td>\n",
       "        </tr>\n",
       "        <tr>\n",
       "            <td>9901</td>\n",
       "            <td>99</td>\n",
       "            <td>7</td>\n",
       "            <td>1</td>\n",
       "        </tr>\n",
       "        <tr>\n",
       "            <td>11501</td>\n",
       "            <td>115</td>\n",
       "            <td>7</td>\n",
       "            <td>1</td>\n",
       "        </tr>\n",
       "    </tbody>\n",
       "</table>"
      ],
      "text/plain": [
       "[(5601, 56, 7, 1),\n",
       " (6301, 63, 7, 1),\n",
       " (9701, 97, 7, 1),\n",
       " (9901, 99, 7, 1),\n",
       " (11501, 115, 7, 1)]"
      ]
     },
     "execution_count": 5,
     "metadata": {},
     "output_type": "execute_result"
    }
   ],
   "source": [
    "%%sql\n",
    "SELECT *\n",
    "FROM id_map\n",
    "LIMIT 5"
   ]
  }
 ],
 "metadata": {
  "kernelspec": {
   "display_name": "applied_data_science_labs",
   "language": "python",
   "name": "python3"
  },
  "language_info": {
   "codemirror_mode": {
    "name": "ipython",
    "version": 3
   },
   "file_extension": ".py",
   "mimetype": "text/x-python",
   "name": "python",
   "nbconvert_exporter": "python",
   "pygments_lexer": "ipython3",
   "version": "3.12.10"
  }
 },
 "nbformat": 4,
 "nbformat_minor": 5
}
