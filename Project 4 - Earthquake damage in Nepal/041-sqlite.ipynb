{
 "cells": [
  {
   "cell_type": "markdown",
   "id": "352f133e",
   "metadata": {},
   "source": [
    "- It is a convention to use SQL queries in all capital letters as it distinguishes it from other code, but it is not a necessary.\n",
    "- In the below query, we broke the clauses into multiple lines, it is also a conventions but not a requirement"
   ]
  },
  {
   "cell_type": "code",
   "execution_count": 60,
   "id": "cd17e757",
   "metadata": {},
   "outputs": [],
   "source": [
    "import sqlite3\n",
    "import pandas as pd"
   ]
  },
  {
   "cell_type": "code",
   "execution_count": 61,
   "id": "2008dbda",
   "metadata": {},
   "outputs": [
    {
     "name": "stdout",
     "output_type": "stream",
     "text": [
      "The sql extension is already loaded. To reload it, use:\n",
      "  %reload_ext sql\n"
     ]
    }
   ],
   "source": [
    "%load_ext sql\n",
    "%sql sqlite:///./data/nepal.sqlite"
   ]
  },
  {
   "cell_type": "markdown",
   "id": "de37e201",
   "metadata": {},
   "source": [
    "- Select clause usually says that these are the columns that you need to get data from\n",
    "- If we need the data from all the columns we put a * \n",
    "- Then we need to give the table from which where we need to get these columns from\n",
    "- It is a convention to keep all the letters of a query syntax capital. It is not required but it helps in distinguishing.\n",
    "- Another convention is to keep the clauses in different lines. Again this is a convention and not a requirement."
   ]
  },
  {
   "cell_type": "code",
   "execution_count": 62,
   "id": "820394fe",
   "metadata": {},
   "outputs": [
    {
     "name": "stdout",
     "output_type": "stream",
     "text": [
      " * sqlite:///./data/nepal.sqlite\n",
      "Done.\n"
     ]
    },
    {
     "data": {
      "text/html": [
       "<table>\n",
       "    <thead>\n",
       "        <tr>\n",
       "            <th>type</th>\n",
       "            <th>name</th>\n",
       "            <th>tbl_name</th>\n",
       "            <th>rootpage</th>\n",
       "            <th>sql</th>\n",
       "        </tr>\n",
       "    </thead>\n",
       "    <tbody>\n",
       "        <tr>\n",
       "            <td>table</td>\n",
       "            <td>id_map</td>\n",
       "            <td>id_map</td>\n",
       "            <td>2</td>\n",
       "            <td>CREATE TABLE &quot;id_map&quot; (<br>&quot;household_id&quot; INTEGER,<br>  &quot;building_id&quot; INTEGER,<br>  &quot;vdcmun_id&quot; INTEGER,<br>  &quot;district_id&quot; INTEGER<br>)</td>\n",
       "        </tr>\n",
       "        <tr>\n",
       "            <td>index</td>\n",
       "            <td>ix_id_map_household_id</td>\n",
       "            <td>id_map</td>\n",
       "            <td>3</td>\n",
       "            <td>CREATE INDEX &quot;ix_id_map_household_id&quot;ON &quot;id_map&quot; (&quot;household_id&quot;)</td>\n",
       "        </tr>\n",
       "        <tr>\n",
       "            <td>table</td>\n",
       "            <td>building_structure</td>\n",
       "            <td>building_structure</td>\n",
       "            <td>2032</td>\n",
       "            <td>CREATE TABLE &quot;building_structure&quot; (<br>&quot;building_id&quot; INTEGER,<br>  &quot;count_floors_pre_eq&quot; INTEGER,<br>  &quot;count_floors_post_eq&quot; INTEGER,<br>  &quot;age_building&quot; INTEGER,<br>  &quot;plinth_area_sq_ft&quot; INTEGER,<br>  &quot;height_ft_pre_eq&quot; INTEGER,<br>  &quot;height_ft_post_eq&quot; INTEGER,<br>  &quot;land_surface_condition&quot; TEXT,<br>  &quot;foundation_type&quot; TEXT,<br>  &quot;roof_type&quot; TEXT,<br>  &quot;ground_floor_type&quot; TEXT,<br>  &quot;other_floor_type&quot; TEXT,<br>  &quot;position&quot; TEXT,<br>  &quot;plan_configuration&quot; TEXT,<br>  &quot;condition_post_eq&quot; TEXT,<br>  &quot;superstructure&quot; TEXT<br>)</td>\n",
       "        </tr>\n",
       "        <tr>\n",
       "            <td>index</td>\n",
       "            <td>ix_building_structure_building_id</td>\n",
       "            <td>building_structure</td>\n",
       "            <td>2033</td>\n",
       "            <td>CREATE INDEX &quot;ix_building_structure_building_id&quot;ON &quot;building_structure&quot; (&quot;building_id&quot;)</td>\n",
       "        </tr>\n",
       "        <tr>\n",
       "            <td>table</td>\n",
       "            <td>building_damage</td>\n",
       "            <td>building_damage</td>\n",
       "            <td>12302</td>\n",
       "            <td>CREATE TABLE &quot;building_damage&quot; (<br>&quot;building_id&quot; INTEGER,<br>  &quot;damage_overall_collapse&quot; TEXT,<br>  &quot;damage_overall_leaning&quot; TEXT,<br>  &quot;damage_overall_adjacent_building_risk&quot; TEXT,<br>  &quot;damage_foundation_severe&quot; TEXT,<br>  &quot;damage_foundation_moderate&quot; TEXT,<br>  &quot;damage_foundation_insignificant&quot; TEXT,<br>  &quot;damage_roof_severe&quot; TEXT,<br>  &quot;damage_roof_moderate&quot; TEXT,<br>  &quot;damage_roof_insignificant&quot; TEXT,<br>  &quot;damage_corner_separation_severe&quot; TEXT,<br>  &quot;damage_corner_separation_moderate&quot; TEXT,<br>  &quot;damage_corner_separation_insignificant&quot; TEXT,<br>  &quot;damage_diagonal_cracking_severe&quot; TEXT,<br>  &quot;damage_diagonal_cracking_moderate&quot; TEXT,<br>  &quot;damage_diagonal_cracking_insignificant&quot; TEXT,<br>  &quot;damage_in_plane_failure_severe&quot; TEXT,<br>  &quot;damage_in_plane_failure_moderate&quot; TEXT,<br>  &quot;damage_in_plane_failure_insignificant&quot; TEXT,<br>  &quot;damage_out_of_plane_failure_severe&quot; TEXT,<br>  &quot;damage_out_of_plane_failure_moderate&quot; TEXT,<br>  &quot;damage_out_of_plane_failure_insignificant&quot; TEXT,<br>  &quot;damage_out_of_plane_failure_walls_ncfr_severe&quot; TEXT,<br>  &quot;damage_out_of_plane_failure_walls_ncfr_moderate&quot; TEXT,<br>  &quot;damage_out_of_plane_failure_walls_ncfr_insignificant&quot; TEXT,<br>  &quot;damage_gable_failure_severe&quot; TEXT,<br>  &quot;damage_gable_failure_moderate&quot; TEXT,<br>  &quot;damage_gable_failure_insignificant&quot; TEXT,<br>  &quot;damage_delamination_failure_severe&quot; TEXT,<br>  &quot;damage_delamination_failure_moderate&quot; TEXT,<br>  &quot;damage_delamination_failure_insignificant&quot; TEXT,<br>  &quot;damage_column_failure_severe&quot; TEXT,<br>  &quot;damage_column_failure_moderate&quot; TEXT,<br>  &quot;damage_column_failure_insignificant&quot; TEXT,<br>  &quot;damage_beam_failure_severe&quot; TEXT,<br>  &quot;damage_beam_failure_moderate&quot; TEXT,<br>  &quot;damage_beam_failure_insignificant&quot; TEXT,<br>  &quot;damage_infill_partition_failure_severe&quot; TEXT,<br>  &quot;damage_infill_partition_failure_moderate&quot; TEXT,<br>  &quot;damage_infill_partition_failure_insignificant&quot; TEXT,<br>  &quot;damage_staircase_severe&quot; TEXT,<br>  &quot;damage_staircase_moderate&quot; TEXT,<br>  &quot;damage_staircase_insignificant&quot; TEXT,<br>  &quot;damage_parapet_severe&quot; TEXT,<br>  &quot;damage_parapet_moderate&quot; TEXT,<br>  &quot;damage_parapet_insignificant&quot; TEXT,<br>  &quot;damage_cladding_glazing_severe&quot; TEXT,<br>  &quot;damage_cladding_glazing_moderate&quot; TEXT,<br>  &quot;damage_cladding_glazing_insignificant&quot; TEXT,<br>  &quot;area_assesed&quot; TEXT,<br>  &quot;damage_grade&quot; TEXT,<br>  &quot;technical_solution_proposed&quot; TEXT,<br>  &quot;has_repair_started&quot; REAL,<br>  &quot;has_damage_foundation&quot; REAL,<br>  &quot;has_damage_roof&quot; REAL,<br>  &quot;has_damage_corner_separation&quot; REAL,<br>  &quot;has_damage_diagonal_cracking&quot; REAL,<br>  &quot;has_damage_in_plane_failure&quot; REAL,<br>  &quot;has_damage_out_of_plane_failure&quot; REAL,<br>  &quot;has_damage_out_of_plane_walls_ncfr_failure&quot; REAL,<br>  &quot;has_damage_gable_failure&quot; REAL,<br>  &quot;has_damage_delamination_failure&quot; REAL,<br>  &quot;has_damage_column_failure&quot; REAL,<br>  &quot;has_damage_beam_failure&quot; REAL,<br>  &quot;has_damage_infill_partition_failure&quot; REAL,<br>  &quot;has_damage_staircase&quot; REAL,<br>  &quot;has_damage_parapet&quot; REAL,<br>  &quot;has_damage_cladding_glazing&quot; REAL,<br>  &quot;has_geotechnical_risk&quot; REAL,<br>  &quot;has_geotechnical_risk_land_settlement&quot; INTEGER,<br>  &quot;has_geotechnical_risk_fault_crack&quot; INTEGER,<br>  &quot;has_geotechnical_risk_liquefaction&quot; INTEGER,<br>  &quot;has_geotechnical_risk_landslide&quot; INTEGER,<br>  &quot;has_geotechnical_risk_rock_fall&quot; INTEGER,<br>  &quot;has_geotechnical_risk_flood&quot; INTEGER,<br>  &quot;has_geotechnical_risk_other&quot; INTEGER<br>)</td>\n",
       "        </tr>\n",
       "        <tr>\n",
       "            <td>index</td>\n",
       "            <td>ix_building_damage_building_id</td>\n",
       "            <td>building_damage</td>\n",
       "            <td>12305</td>\n",
       "            <td>CREATE INDEX &quot;ix_building_damage_building_id&quot;ON &quot;building_damage&quot; (&quot;building_id&quot;)</td>\n",
       "        </tr>\n",
       "        <tr>\n",
       "            <td>table</td>\n",
       "            <td>household_demographics</td>\n",
       "            <td>household_demographics</td>\n",
       "            <td>30763</td>\n",
       "            <td>CREATE TABLE &quot;household_demographics&quot; (<br>&quot;household_id&quot; INTEGER,<br>  &quot;gender_household_head&quot; TEXT,<br>  &quot;age_household_head&quot; REAL,<br>  &quot;caste_household&quot; TEXT,<br>  &quot;education_level_household_head&quot; TEXT,<br>  &quot;income_level_household&quot; TEXT,<br>  &quot;size_household&quot; REAL,<br>  &quot;is_bank_account_present_in_household&quot; REAL<br>)</td>\n",
       "        </tr>\n",
       "        <tr>\n",
       "            <td>index</td>\n",
       "            <td>ix_household_demographics_household_id</td>\n",
       "            <td>household_demographics</td>\n",
       "            <td>30764</td>\n",
       "            <td>CREATE INDEX &quot;ix_household_demographics_household_id&quot;ON &quot;household_demographics&quot; (&quot;household_id&quot;)</td>\n",
       "        </tr>\n",
       "    </tbody>\n",
       "</table>"
      ],
      "text/plain": [
       "[('table', 'id_map', 'id_map', 2, 'CREATE TABLE \"id_map\" (\\n\"household_id\" INTEGER,\\n  \"building_id\" INTEGER,\\n  \"vdcmun_id\" INTEGER,\\n  \"district_id\" INTEGER\\n)'),\n",
       " ('index', 'ix_id_map_household_id', 'id_map', 3, 'CREATE INDEX \"ix_id_map_household_id\"ON \"id_map\" (\"household_id\")'),\n",
       " ('table', 'building_structure', 'building_structure', 2032, 'CREATE TABLE \"building_structure\" (\\n\"building_id\" INTEGER,\\n  \"count_floors_pre_eq\" INTEGER,\\n  \"count_floors_post_eq\" INTEGER,\\n  \"age_building\" IN ... (198 characters truncated) ... or_type\" TEXT,\\n  \"other_floor_type\" TEXT,\\n  \"position\" TEXT,\\n  \"plan_configuration\" TEXT,\\n  \"condition_post_eq\" TEXT,\\n  \"superstructure\" TEXT\\n)'),\n",
       " ('index', 'ix_building_structure_building_id', 'building_structure', 2033, 'CREATE INDEX \"ix_building_structure_building_id\"ON \"building_structure\" (\"building_id\")'),\n",
       " ('table', 'building_damage', 'building_damage', 12302, 'CREATE TABLE \"building_damage\" (\\n\"building_id\" INTEGER,\\n  \"damage_overall_collapse\" TEXT,\\n  \"damage_overall_leaning\" TEXT,\\n  \"damage_overall_adja ... (2923 characters truncated) ... ndslide\" INTEGER,\\n  \"has_geotechnical_risk_rock_fall\" INTEGER,\\n  \"has_geotechnical_risk_flood\" INTEGER,\\n  \"has_geotechnical_risk_other\" INTEGER\\n)'),\n",
       " ('index', 'ix_building_damage_building_id', 'building_damage', 12305, 'CREATE INDEX \"ix_building_damage_building_id\"ON \"building_damage\" (\"building_id\")'),\n",
       " ('table', 'household_demographics', 'household_demographics', 30763, 'CREATE TABLE \"household_demographics\" (\\n\"household_id\" INTEGER,\\n  \"gender_household_head\" TEXT,\\n  \"age_household_head\" REAL,\\n  \"caste_household\"  ... (8 characters truncated) ...  \"education_level_household_head\" TEXT,\\n  \"income_level_household\" TEXT,\\n  \"size_household\" REAL,\\n  \"is_bank_account_present_in_household\" REAL\\n)'),\n",
       " ('index', 'ix_household_demographics_household_id', 'household_demographics', 30764, 'CREATE INDEX \"ix_household_demographics_household_id\"ON \"household_demographics\" (\"household_id\")')]"
      ]
     },
     "execution_count": 62,
     "metadata": {},
     "output_type": "execute_result"
    }
   ],
   "source": [
    "%%sql\n",
    "SELECT *\n",
    "FROM sqlite_schema"
   ]
  },
  {
   "cell_type": "code",
   "execution_count": 63,
   "id": "f73f96c2",
   "metadata": {},
   "outputs": [
    {
     "name": "stdout",
     "output_type": "stream",
     "text": [
      " * sqlite:///./data/nepal.sqlite\n",
      "Done.\n"
     ]
    },
    {
     "data": {
      "text/html": [
       "<table>\n",
       "    <thead>\n",
       "        <tr>\n",
       "            <th>name</th>\n",
       "        </tr>\n",
       "    </thead>\n",
       "    <tbody>\n",
       "        <tr>\n",
       "            <td>id_map</td>\n",
       "        </tr>\n",
       "        <tr>\n",
       "            <td>building_structure</td>\n",
       "        </tr>\n",
       "        <tr>\n",
       "            <td>building_damage</td>\n",
       "        </tr>\n",
       "        <tr>\n",
       "            <td>household_demographics</td>\n",
       "        </tr>\n",
       "    </tbody>\n",
       "</table>"
      ],
      "text/plain": [
       "[('id_map',),\n",
       " ('building_structure',),\n",
       " ('building_damage',),\n",
       " ('household_demographics',)]"
      ]
     },
     "execution_count": 63,
     "metadata": {},
     "output_type": "execute_result"
    }
   ],
   "source": [
    "%%sql\n",
    "SELECT name\n",
    "FROM sqlite_schema\n",
    "WHERE type=\"table\""
   ]
  },
  {
   "cell_type": "markdown",
   "id": "6d211de8",
   "metadata": {},
   "source": [
    "- LIMIT clause will help us get a peak in the data without loading all the data into memory"
   ]
  },
  {
   "cell_type": "code",
   "execution_count": 64,
   "id": "e788039c",
   "metadata": {},
   "outputs": [
    {
     "name": "stdout",
     "output_type": "stream",
     "text": [
      " * sqlite:///./data/nepal.sqlite\n",
      "Done.\n"
     ]
    },
    {
     "data": {
      "text/html": [
       "<table>\n",
       "    <thead>\n",
       "        <tr>\n",
       "            <th>household_id</th>\n",
       "            <th>building_id</th>\n",
       "            <th>vdcmun_id</th>\n",
       "            <th>district_id</th>\n",
       "        </tr>\n",
       "    </thead>\n",
       "    <tbody>\n",
       "        <tr>\n",
       "            <td>5601</td>\n",
       "            <td>56</td>\n",
       "            <td>7</td>\n",
       "            <td>1</td>\n",
       "        </tr>\n",
       "        <tr>\n",
       "            <td>6301</td>\n",
       "            <td>63</td>\n",
       "            <td>7</td>\n",
       "            <td>1</td>\n",
       "        </tr>\n",
       "        <tr>\n",
       "            <td>9701</td>\n",
       "            <td>97</td>\n",
       "            <td>7</td>\n",
       "            <td>1</td>\n",
       "        </tr>\n",
       "        <tr>\n",
       "            <td>9901</td>\n",
       "            <td>99</td>\n",
       "            <td>7</td>\n",
       "            <td>1</td>\n",
       "        </tr>\n",
       "        <tr>\n",
       "            <td>11501</td>\n",
       "            <td>115</td>\n",
       "            <td>7</td>\n",
       "            <td>1</td>\n",
       "        </tr>\n",
       "    </tbody>\n",
       "</table>"
      ],
      "text/plain": [
       "[(5601, 56, 7, 1),\n",
       " (6301, 63, 7, 1),\n",
       " (9701, 97, 7, 1),\n",
       " (9901, 99, 7, 1),\n",
       " (11501, 115, 7, 1)]"
      ]
     },
     "execution_count": 64,
     "metadata": {},
     "output_type": "execute_result"
    }
   ],
   "source": [
    "%%sql\n",
    "SELECT *\n",
    "FROM id_map\n",
    "LIMIT 5"
   ]
  },
  {
   "cell_type": "markdown",
   "id": "d27ae296",
   "metadata": {},
   "source": [
    "- How to find the number of observations/examples/rows in our dataset/table"
   ]
  },
  {
   "cell_type": "code",
   "execution_count": 65,
   "id": "81836c8a",
   "metadata": {},
   "outputs": [
    {
     "name": "stdout",
     "output_type": "stream",
     "text": [
      " * sqlite:///./data/nepal.sqlite\n",
      "Done.\n"
     ]
    },
    {
     "data": {
      "text/html": [
       "<table>\n",
       "    <thead>\n",
       "        <tr>\n",
       "            <th>count(*)</th>\n",
       "        </tr>\n",
       "    </thead>\n",
       "    <tbody>\n",
       "        <tr>\n",
       "            <td>249932</td>\n",
       "        </tr>\n",
       "    </tbody>\n",
       "</table>"
      ],
      "text/plain": [
       "[(249932,)]"
      ]
     },
     "execution_count": 65,
     "metadata": {},
     "output_type": "execute_result"
    }
   ],
   "source": [
    "%%sql\n",
    "SELECT count(*)\n",
    "FROM id_map\n"
   ]
  },
  {
   "cell_type": "markdown",
   "id": "53b5f77f",
   "metadata": {},
   "source": [
    "- Get a list of unique objects in each column"
   ]
  },
  {
   "cell_type": "code",
   "execution_count": 66,
   "id": "b0169919",
   "metadata": {},
   "outputs": [
    {
     "name": "stdout",
     "output_type": "stream",
     "text": [
      " * sqlite:///./data/nepal.sqlite\n",
      "Done.\n"
     ]
    },
    {
     "data": {
      "text/html": [
       "<table>\n",
       "    <thead>\n",
       "        <tr>\n",
       "            <th>district_id</th>\n",
       "        </tr>\n",
       "    </thead>\n",
       "    <tbody>\n",
       "        <tr>\n",
       "            <td>1</td>\n",
       "        </tr>\n",
       "        <tr>\n",
       "            <td>2</td>\n",
       "        </tr>\n",
       "        <tr>\n",
       "            <td>3</td>\n",
       "        </tr>\n",
       "        <tr>\n",
       "            <td>4</td>\n",
       "        </tr>\n",
       "    </tbody>\n",
       "</table>"
      ],
      "text/plain": [
       "[(1,), (2,), (3,), (4,)]"
      ]
     },
     "execution_count": 66,
     "metadata": {},
     "output_type": "execute_result"
    }
   ],
   "source": [
    "%%sql\n",
    "SELECT distinct(district_id)\n",
    "FROM id_map"
   ]
  },
  {
   "cell_type": "markdown",
   "id": "c6d7dd6b",
   "metadata": {},
   "source": [
    "- Count the actual number of unique values in each column"
   ]
  },
  {
   "cell_type": "code",
   "execution_count": 67,
   "id": "499ce588",
   "metadata": {},
   "outputs": [
    {
     "name": "stdout",
     "output_type": "stream",
     "text": [
      " * sqlite:///./data/nepal.sqlite\n",
      "Done.\n"
     ]
    },
    {
     "data": {
      "text/html": [
       "<table>\n",
       "    <thead>\n",
       "        <tr>\n",
       "            <th>count(distinct(building_id))</th>\n",
       "        </tr>\n",
       "    </thead>\n",
       "    <tbody>\n",
       "        <tr>\n",
       "            <td>234835</td>\n",
       "        </tr>\n",
       "    </tbody>\n",
       "</table>"
      ],
      "text/plain": [
       "[(234835,)]"
      ]
     },
     "execution_count": 67,
     "metadata": {},
     "output_type": "execute_result"
    }
   ],
   "source": [
    "%%sql\n",
    "SELECT count(distinct(building_id))\n",
    "FROM id_map"
   ]
  },
  {
   "cell_type": "markdown",
   "id": "8f148e87",
   "metadata": {},
   "source": [
    "- Filtering contents based on row data"
   ]
  },
  {
   "cell_type": "code",
   "execution_count": 68,
   "id": "e161f6a1",
   "metadata": {},
   "outputs": [
    {
     "name": "stdout",
     "output_type": "stream",
     "text": [
      " * sqlite:///./data/nepal.sqlite\n",
      "Done.\n"
     ]
    },
    {
     "data": {
      "text/html": [
       "<table>\n",
       "    <thead>\n",
       "        <tr>\n",
       "            <th>household_id</th>\n",
       "            <th>building_id</th>\n",
       "            <th>vdcmun_id</th>\n",
       "            <th>district_id</th>\n",
       "        </tr>\n",
       "    </thead>\n",
       "    <tbody>\n",
       "        <tr>\n",
       "            <td>16400201</td>\n",
       "            <td>164002</td>\n",
       "            <td>38</td>\n",
       "            <td>4</td>\n",
       "        </tr>\n",
       "        <tr>\n",
       "            <td>16408101</td>\n",
       "            <td>164081</td>\n",
       "            <td>38</td>\n",
       "            <td>4</td>\n",
       "        </tr>\n",
       "        <tr>\n",
       "            <td>16408901</td>\n",
       "            <td>164089</td>\n",
       "            <td>38</td>\n",
       "            <td>4</td>\n",
       "        </tr>\n",
       "        <tr>\n",
       "            <td>16409801</td>\n",
       "            <td>164098</td>\n",
       "            <td>38</td>\n",
       "            <td>4</td>\n",
       "        </tr>\n",
       "        <tr>\n",
       "            <td>16410301</td>\n",
       "            <td>164103</td>\n",
       "            <td>38</td>\n",
       "            <td>4</td>\n",
       "        </tr>\n",
       "    </tbody>\n",
       "</table>"
      ],
      "text/plain": [
       "[(16400201, 164002, 38, 4),\n",
       " (16408101, 164081, 38, 4),\n",
       " (16408901, 164089, 38, 4),\n",
       " (16409801, 164098, 38, 4),\n",
       " (16410301, 164103, 38, 4)]"
      ]
     },
     "execution_count": 68,
     "metadata": {},
     "output_type": "execute_result"
    }
   ],
   "source": [
    "%%sql\n",
    "SELECT *\n",
    "FROM id_map\n",
    "WHERE district_id = 4\n",
    "LIMIT 5"
   ]
  },
  {
   "cell_type": "markdown",
   "id": "795d3ba8",
   "metadata": {},
   "source": [
    "- Counting the number of rows after filtering"
   ]
  },
  {
   "cell_type": "code",
   "execution_count": 69,
   "id": "1c59033a",
   "metadata": {},
   "outputs": [
    {
     "name": "stdout",
     "output_type": "stream",
     "text": [
      " * sqlite:///./data/nepal.sqlite\n",
      "Done.\n"
     ]
    },
    {
     "data": {
      "text/html": [
       "<table>\n",
       "    <thead>\n",
       "        <tr>\n",
       "            <th>count(*)</th>\n",
       "        </tr>\n",
       "    </thead>\n",
       "    <tbody>\n",
       "        <tr>\n",
       "            <td>75883</td>\n",
       "        </tr>\n",
       "    </tbody>\n",
       "</table>"
      ],
      "text/plain": [
       "[(75883,)]"
      ]
     },
     "execution_count": 69,
     "metadata": {},
     "output_type": "execute_result"
    }
   ],
   "source": [
    "%%sql\n",
    "SELECT count(*)\n",
    "FROM id_map\n",
    "WHERE district_id = 4"
   ]
  },
  {
   "cell_type": "markdown",
   "id": "48583a33",
   "metadata": {},
   "source": [
    "- Finding the number of unique buildings after adding filter in one specific column\n",
    "- Giving the output column an alias"
   ]
  },
  {
   "cell_type": "code",
   "execution_count": 70,
   "id": "0687d7c2",
   "metadata": {},
   "outputs": [
    {
     "name": "stdout",
     "output_type": "stream",
     "text": [
      " * sqlite:///./data/nepal.sqlite\n",
      "Done.\n"
     ]
    },
    {
     "data": {
      "text/html": [
       "<table>\n",
       "    <thead>\n",
       "        <tr>\n",
       "            <th>unique_buildings_gorkha</th>\n",
       "        </tr>\n",
       "    </thead>\n",
       "    <tbody>\n",
       "        <tr>\n",
       "            <td>70836</td>\n",
       "        </tr>\n",
       "    </tbody>\n",
       "</table>"
      ],
      "text/plain": [
       "[(70836,)]"
      ]
     },
     "execution_count": 70,
     "metadata": {},
     "output_type": "execute_result"
    }
   ],
   "source": [
    "%%sql\n",
    "SELECT count(distinct(building_id)) AS unique_buildings_gorkha\n",
    "FROM id_map\n",
    "WHERE district_id =4"
   ]
  },
  {
   "cell_type": "markdown",
   "id": "fdf36bda",
   "metadata": {},
   "source": [
    "#### Starting with the actual table that will give us the Features for the Predictive Model"
   ]
  },
  {
   "cell_type": "code",
   "execution_count": 71,
   "id": "8f9c48e4",
   "metadata": {},
   "outputs": [
    {
     "name": "stdout",
     "output_type": "stream",
     "text": [
      " * sqlite:///./data/nepal.sqlite\n",
      "Done.\n"
     ]
    },
    {
     "data": {
      "text/html": [
       "<table>\n",
       "    <thead>\n",
       "        <tr>\n",
       "            <th>building_id</th>\n",
       "            <th>count_floors_pre_eq</th>\n",
       "            <th>count_floors_post_eq</th>\n",
       "            <th>age_building</th>\n",
       "            <th>plinth_area_sq_ft</th>\n",
       "            <th>height_ft_pre_eq</th>\n",
       "            <th>height_ft_post_eq</th>\n",
       "            <th>land_surface_condition</th>\n",
       "            <th>foundation_type</th>\n",
       "            <th>roof_type</th>\n",
       "            <th>ground_floor_type</th>\n",
       "            <th>other_floor_type</th>\n",
       "            <th>position</th>\n",
       "            <th>plan_configuration</th>\n",
       "            <th>condition_post_eq</th>\n",
       "            <th>superstructure</th>\n",
       "        </tr>\n",
       "    </thead>\n",
       "    <tbody>\n",
       "        <tr>\n",
       "            <td>1</td>\n",
       "            <td>1</td>\n",
       "            <td>1</td>\n",
       "            <td>9</td>\n",
       "            <td>288</td>\n",
       "            <td>9</td>\n",
       "            <td>9</td>\n",
       "            <td>Flat</td>\n",
       "            <td>Other</td>\n",
       "            <td>Bamboo/Timber-Light roof</td>\n",
       "            <td>Mud</td>\n",
       "            <td>Not applicable</td>\n",
       "            <td>Not attached</td>\n",
       "            <td>Rectangular</td>\n",
       "            <td>Damaged-Used in risk</td>\n",
       "            <td>Stone, mud mortar</td>\n",
       "        </tr>\n",
       "        <tr>\n",
       "            <td>2</td>\n",
       "            <td>1</td>\n",
       "            <td>1</td>\n",
       "            <td>15</td>\n",
       "            <td>364</td>\n",
       "            <td>9</td>\n",
       "            <td>9</td>\n",
       "            <td>Flat</td>\n",
       "            <td>Other</td>\n",
       "            <td>Bamboo/Timber-Light roof</td>\n",
       "            <td>Mud</td>\n",
       "            <td>Not applicable</td>\n",
       "            <td>Not attached</td>\n",
       "            <td>Rectangular</td>\n",
       "            <td>Damaged-Repaired and used</td>\n",
       "            <td>Stone, mud mortar</td>\n",
       "        </tr>\n",
       "        <tr>\n",
       "            <td>3</td>\n",
       "            <td>1</td>\n",
       "            <td>1</td>\n",
       "            <td>20</td>\n",
       "            <td>384</td>\n",
       "            <td>9</td>\n",
       "            <td>9</td>\n",
       "            <td>Flat</td>\n",
       "            <td>Other</td>\n",
       "            <td>Bamboo/Timber-Light roof</td>\n",
       "            <td>Mud</td>\n",
       "            <td>Not applicable</td>\n",
       "            <td>Not attached</td>\n",
       "            <td>Rectangular</td>\n",
       "            <td>Damaged-Repaired and used</td>\n",
       "            <td>Stone, mud mortar</td>\n",
       "        </tr>\n",
       "        <tr>\n",
       "            <td>4</td>\n",
       "            <td>1</td>\n",
       "            <td>1</td>\n",
       "            <td>20</td>\n",
       "            <td>312</td>\n",
       "            <td>9</td>\n",
       "            <td>9</td>\n",
       "            <td>Flat</td>\n",
       "            <td>Other</td>\n",
       "            <td>Bamboo/Timber-Light roof</td>\n",
       "            <td>Mud</td>\n",
       "            <td>Not applicable</td>\n",
       "            <td>Not attached</td>\n",
       "            <td>Rectangular</td>\n",
       "            <td>Damaged-Repaired and used</td>\n",
       "            <td>Stone, mud mortar</td>\n",
       "        </tr>\n",
       "        <tr>\n",
       "            <td>5</td>\n",
       "            <td>1</td>\n",
       "            <td>1</td>\n",
       "            <td>30</td>\n",
       "            <td>308</td>\n",
       "            <td>9</td>\n",
       "            <td>9</td>\n",
       "            <td>Flat</td>\n",
       "            <td>Other</td>\n",
       "            <td>Bamboo/Timber-Light roof</td>\n",
       "            <td>Mud</td>\n",
       "            <td>Not applicable</td>\n",
       "            <td>Not attached</td>\n",
       "            <td>Rectangular</td>\n",
       "            <td>Damaged-Repaired and used</td>\n",
       "            <td>Stone, mud mortar</td>\n",
       "        </tr>\n",
       "    </tbody>\n",
       "</table>"
      ],
      "text/plain": [
       "[(1, 1, 1, 9, 288, 9, 9, 'Flat', 'Other', 'Bamboo/Timber-Light roof', 'Mud', 'Not applicable', 'Not attached', 'Rectangular', 'Damaged-Used in risk', 'Stone, mud mortar'),\n",
       " (2, 1, 1, 15, 364, 9, 9, 'Flat', 'Other', 'Bamboo/Timber-Light roof', 'Mud', 'Not applicable', 'Not attached', 'Rectangular', 'Damaged-Repaired and used', 'Stone, mud mortar'),\n",
       " (3, 1, 1, 20, 384, 9, 9, 'Flat', 'Other', 'Bamboo/Timber-Light roof', 'Mud', 'Not applicable', 'Not attached', 'Rectangular', 'Damaged-Repaired and used', 'Stone, mud mortar'),\n",
       " (4, 1, 1, 20, 312, 9, 9, 'Flat', 'Other', 'Bamboo/Timber-Light roof', 'Mud', 'Not applicable', 'Not attached', 'Rectangular', 'Damaged-Repaired and used', 'Stone, mud mortar'),\n",
       " (5, 1, 1, 30, 308, 9, 9, 'Flat', 'Other', 'Bamboo/Timber-Light roof', 'Mud', 'Not applicable', 'Not attached', 'Rectangular', 'Damaged-Repaired and used', 'Stone, mud mortar')]"
      ]
     },
     "execution_count": 71,
     "metadata": {},
     "output_type": "execute_result"
    }
   ],
   "source": [
    "%%sql\n",
    "SELECT *\n",
    "FROM building_structure\n",
    "LIMIT 5"
   ]
  },
  {
   "cell_type": "code",
   "execution_count": 72,
   "id": "c9f1800d",
   "metadata": {},
   "outputs": [
    {
     "name": "stdout",
     "output_type": "stream",
     "text": [
      " * sqlite:///./data/nepal.sqlite\n",
      "Done.\n"
     ]
    },
    {
     "data": {
      "text/html": [
       "<table>\n",
       "    <thead>\n",
       "        <tr>\n",
       "            <th>count(*)</th>\n",
       "        </tr>\n",
       "    </thead>\n",
       "    <tbody>\n",
       "        <tr>\n",
       "            <td>234835</td>\n",
       "        </tr>\n",
       "    </tbody>\n",
       "</table>"
      ],
      "text/plain": [
       "[(234835,)]"
      ]
     },
     "execution_count": 72,
     "metadata": {},
     "output_type": "execute_result"
    }
   ],
   "source": [
    "%%sql\n",
    "SELECT count(*)\n",
    "FROM building_structure"
   ]
  },
  {
   "cell_type": "markdown",
   "id": "51041618",
   "metadata": {},
   "source": [
    "- Joining two tables\n",
    "- Whenever we do a join between tables, we look for a column that is common in both the tables.\n",
    "- Handling the different number of rows in two tables by using LEFT join\n",
    "- Using tables as Alias names"
   ]
  },
  {
   "cell_type": "code",
   "execution_count": 73,
   "id": "173eaf38",
   "metadata": {},
   "outputs": [
    {
     "name": "stdout",
     "output_type": "stream",
     "text": [
      " * sqlite:///./data/nepal.sqlite\n",
      "Done.\n"
     ]
    },
    {
     "data": {
      "text/html": [
       "<table>\n",
       "    <thead>\n",
       "        <tr>\n",
       "            <th>household_id</th>\n",
       "            <th>building_id</th>\n",
       "            <th>vdcmun_id</th>\n",
       "            <th>district_id</th>\n",
       "            <th>building_id_1</th>\n",
       "            <th>count_floors_pre_eq</th>\n",
       "            <th>count_floors_post_eq</th>\n",
       "            <th>age_building</th>\n",
       "            <th>plinth_area_sq_ft</th>\n",
       "            <th>height_ft_pre_eq</th>\n",
       "            <th>height_ft_post_eq</th>\n",
       "            <th>land_surface_condition</th>\n",
       "            <th>foundation_type</th>\n",
       "            <th>roof_type</th>\n",
       "            <th>ground_floor_type</th>\n",
       "            <th>other_floor_type</th>\n",
       "            <th>position</th>\n",
       "            <th>plan_configuration</th>\n",
       "            <th>condition_post_eq</th>\n",
       "            <th>superstructure</th>\n",
       "        </tr>\n",
       "    </thead>\n",
       "    <tbody>\n",
       "        <tr>\n",
       "            <td>16400201</td>\n",
       "            <td>164002</td>\n",
       "            <td>38</td>\n",
       "            <td>4</td>\n",
       "            <td>164002</td>\n",
       "            <td>3</td>\n",
       "            <td>3</td>\n",
       "            <td>20</td>\n",
       "            <td>560</td>\n",
       "            <td>18</td>\n",
       "            <td>18</td>\n",
       "            <td>Flat</td>\n",
       "            <td>Mud mortar-Stone/Brick</td>\n",
       "            <td>Bamboo/Timber-Light roof</td>\n",
       "            <td>Mud</td>\n",
       "            <td>TImber/Bamboo-Mud</td>\n",
       "            <td>Not attached</td>\n",
       "            <td>Rectangular</td>\n",
       "            <td>Damaged-Repaired and used</td>\n",
       "            <td>Stone, mud mortar</td>\n",
       "        </tr>\n",
       "        <tr>\n",
       "            <td>16408101</td>\n",
       "            <td>164081</td>\n",
       "            <td>38</td>\n",
       "            <td>4</td>\n",
       "            <td>164081</td>\n",
       "            <td>2</td>\n",
       "            <td>2</td>\n",
       "            <td>21</td>\n",
       "            <td>200</td>\n",
       "            <td>12</td>\n",
       "            <td>12</td>\n",
       "            <td>Flat</td>\n",
       "            <td>Mud mortar-Stone/Brick</td>\n",
       "            <td>Bamboo/Timber-Light roof</td>\n",
       "            <td>Mud</td>\n",
       "            <td>TImber/Bamboo-Mud</td>\n",
       "            <td>Not attached</td>\n",
       "            <td>Rectangular</td>\n",
       "            <td>Damaged-Used in risk</td>\n",
       "            <td>Stone, mud mortar</td>\n",
       "        </tr>\n",
       "        <tr>\n",
       "            <td>16408901</td>\n",
       "            <td>164089</td>\n",
       "            <td>38</td>\n",
       "            <td>4</td>\n",
       "            <td>164089</td>\n",
       "            <td>3</td>\n",
       "            <td>3</td>\n",
       "            <td>18</td>\n",
       "            <td>315</td>\n",
       "            <td>20</td>\n",
       "            <td>20</td>\n",
       "            <td>Flat</td>\n",
       "            <td>Mud mortar-Stone/Brick</td>\n",
       "            <td>Bamboo/Timber-Light roof</td>\n",
       "            <td>Mud</td>\n",
       "            <td>TImber/Bamboo-Mud</td>\n",
       "            <td>Not attached</td>\n",
       "            <td>Rectangular</td>\n",
       "            <td>Damaged-Used in risk</td>\n",
       "            <td>Stone, mud mortar</td>\n",
       "        </tr>\n",
       "        <tr>\n",
       "            <td>16409801</td>\n",
       "            <td>164098</td>\n",
       "            <td>38</td>\n",
       "            <td>4</td>\n",
       "            <td>164098</td>\n",
       "            <td>2</td>\n",
       "            <td>2</td>\n",
       "            <td>45</td>\n",
       "            <td>290</td>\n",
       "            <td>13</td>\n",
       "            <td>13</td>\n",
       "            <td>Flat</td>\n",
       "            <td>Mud mortar-Stone/Brick</td>\n",
       "            <td>Bamboo/Timber-Light roof</td>\n",
       "            <td>Mud</td>\n",
       "            <td>TImber/Bamboo-Mud</td>\n",
       "            <td>Not attached</td>\n",
       "            <td>Rectangular</td>\n",
       "            <td>Damaged-Used in risk</td>\n",
       "            <td>Stone, mud mortar</td>\n",
       "        </tr>\n",
       "        <tr>\n",
       "            <td>16410301</td>\n",
       "            <td>164103</td>\n",
       "            <td>38</td>\n",
       "            <td>4</td>\n",
       "            <td>164103</td>\n",
       "            <td>2</td>\n",
       "            <td>2</td>\n",
       "            <td>21</td>\n",
       "            <td>230</td>\n",
       "            <td>13</td>\n",
       "            <td>13</td>\n",
       "            <td>Flat</td>\n",
       "            <td>Mud mortar-Stone/Brick</td>\n",
       "            <td>Bamboo/Timber-Light roof</td>\n",
       "            <td>Mud</td>\n",
       "            <td>TImber/Bamboo-Mud</td>\n",
       "            <td>Not attached</td>\n",
       "            <td>Rectangular</td>\n",
       "            <td>Damaged-Used in risk</td>\n",
       "            <td>Stone, mud mortar</td>\n",
       "        </tr>\n",
       "    </tbody>\n",
       "</table>"
      ],
      "text/plain": [
       "[(16400201, 164002, 38, 4, 164002, 3, 3, 20, 560, 18, 18, 'Flat', 'Mud mortar-Stone/Brick', 'Bamboo/Timber-Light roof', 'Mud', 'TImber/Bamboo-Mud', 'Not attached', 'Rectangular', 'Damaged-Repaired and used', 'Stone, mud mortar'),\n",
       " (16408101, 164081, 38, 4, 164081, 2, 2, 21, 200, 12, 12, 'Flat', 'Mud mortar-Stone/Brick', 'Bamboo/Timber-Light roof', 'Mud', 'TImber/Bamboo-Mud', 'Not attached', 'Rectangular', 'Damaged-Used in risk', 'Stone, mud mortar'),\n",
       " (16408901, 164089, 38, 4, 164089, 3, 3, 18, 315, 20, 20, 'Flat', 'Mud mortar-Stone/Brick', 'Bamboo/Timber-Light roof', 'Mud', 'TImber/Bamboo-Mud', 'Not attached', 'Rectangular', 'Damaged-Used in risk', 'Stone, mud mortar'),\n",
       " (16409801, 164098, 38, 4, 164098, 2, 2, 45, 290, 13, 13, 'Flat', 'Mud mortar-Stone/Brick', 'Bamboo/Timber-Light roof', 'Mud', 'TImber/Bamboo-Mud', 'Not attached', 'Rectangular', 'Damaged-Used in risk', 'Stone, mud mortar'),\n",
       " (16410301, 164103, 38, 4, 164103, 2, 2, 21, 230, 13, 13, 'Flat', 'Mud mortar-Stone/Brick', 'Bamboo/Timber-Light roof', 'Mud', 'TImber/Bamboo-Mud', 'Not attached', 'Rectangular', 'Damaged-Used in risk', 'Stone, mud mortar')]"
      ]
     },
     "execution_count": 73,
     "metadata": {},
     "output_type": "execute_result"
    }
   ],
   "source": [
    "%%sql\n",
    "SELECT *\n",
    "FROM id_map AS i \n",
    "JOIN building_structure AS s ON i.building_id = s.building_id\n",
    "WHERE district_id = 4\n",
    "LIMIT 5"
   ]
  },
  {
   "cell_type": "code",
   "execution_count": 75,
   "id": "e0d0f7be",
   "metadata": {},
   "outputs": [
    {
     "name": "stdout",
     "output_type": "stream",
     "text": [
      " * sqlite:///./data/nepal.sqlite\n",
      "Done.\n"
     ]
    },
    {
     "data": {
      "text/html": [
       "<table>\n",
       "    <thead>\n",
       "        <tr>\n",
       "            <th>building_id</th>\n",
       "            <th>building_id_1</th>\n",
       "            <th>count_floors_pre_eq</th>\n",
       "            <th>count_floors_post_eq</th>\n",
       "            <th>age_building</th>\n",
       "            <th>plinth_area_sq_ft</th>\n",
       "            <th>height_ft_pre_eq</th>\n",
       "            <th>height_ft_post_eq</th>\n",
       "            <th>land_surface_condition</th>\n",
       "            <th>foundation_type</th>\n",
       "            <th>roof_type</th>\n",
       "            <th>ground_floor_type</th>\n",
       "            <th>other_floor_type</th>\n",
       "            <th>position</th>\n",
       "            <th>plan_configuration</th>\n",
       "            <th>condition_post_eq</th>\n",
       "            <th>superstructure</th>\n",
       "        </tr>\n",
       "    </thead>\n",
       "    <tbody>\n",
       "        <tr>\n",
       "            <td>164002</td>\n",
       "            <td>164002</td>\n",
       "            <td>3</td>\n",
       "            <td>3</td>\n",
       "            <td>20</td>\n",
       "            <td>560</td>\n",
       "            <td>18</td>\n",
       "            <td>18</td>\n",
       "            <td>Flat</td>\n",
       "            <td>Mud mortar-Stone/Brick</td>\n",
       "            <td>Bamboo/Timber-Light roof</td>\n",
       "            <td>Mud</td>\n",
       "            <td>TImber/Bamboo-Mud</td>\n",
       "            <td>Not attached</td>\n",
       "            <td>Rectangular</td>\n",
       "            <td>Damaged-Repaired and used</td>\n",
       "            <td>Stone, mud mortar</td>\n",
       "        </tr>\n",
       "        <tr>\n",
       "            <td>164081</td>\n",
       "            <td>164081</td>\n",
       "            <td>2</td>\n",
       "            <td>2</td>\n",
       "            <td>21</td>\n",
       "            <td>200</td>\n",
       "            <td>12</td>\n",
       "            <td>12</td>\n",
       "            <td>Flat</td>\n",
       "            <td>Mud mortar-Stone/Brick</td>\n",
       "            <td>Bamboo/Timber-Light roof</td>\n",
       "            <td>Mud</td>\n",
       "            <td>TImber/Bamboo-Mud</td>\n",
       "            <td>Not attached</td>\n",
       "            <td>Rectangular</td>\n",
       "            <td>Damaged-Used in risk</td>\n",
       "            <td>Stone, mud mortar</td>\n",
       "        </tr>\n",
       "        <tr>\n",
       "            <td>164089</td>\n",
       "            <td>164089</td>\n",
       "            <td>3</td>\n",
       "            <td>3</td>\n",
       "            <td>18</td>\n",
       "            <td>315</td>\n",
       "            <td>20</td>\n",
       "            <td>20</td>\n",
       "            <td>Flat</td>\n",
       "            <td>Mud mortar-Stone/Brick</td>\n",
       "            <td>Bamboo/Timber-Light roof</td>\n",
       "            <td>Mud</td>\n",
       "            <td>TImber/Bamboo-Mud</td>\n",
       "            <td>Not attached</td>\n",
       "            <td>Rectangular</td>\n",
       "            <td>Damaged-Used in risk</td>\n",
       "            <td>Stone, mud mortar</td>\n",
       "        </tr>\n",
       "        <tr>\n",
       "            <td>164098</td>\n",
       "            <td>164098</td>\n",
       "            <td>2</td>\n",
       "            <td>2</td>\n",
       "            <td>45</td>\n",
       "            <td>290</td>\n",
       "            <td>13</td>\n",
       "            <td>13</td>\n",
       "            <td>Flat</td>\n",
       "            <td>Mud mortar-Stone/Brick</td>\n",
       "            <td>Bamboo/Timber-Light roof</td>\n",
       "            <td>Mud</td>\n",
       "            <td>TImber/Bamboo-Mud</td>\n",
       "            <td>Not attached</td>\n",
       "            <td>Rectangular</td>\n",
       "            <td>Damaged-Used in risk</td>\n",
       "            <td>Stone, mud mortar</td>\n",
       "        </tr>\n",
       "        <tr>\n",
       "            <td>164103</td>\n",
       "            <td>164103</td>\n",
       "            <td>2</td>\n",
       "            <td>2</td>\n",
       "            <td>21</td>\n",
       "            <td>230</td>\n",
       "            <td>13</td>\n",
       "            <td>13</td>\n",
       "            <td>Flat</td>\n",
       "            <td>Mud mortar-Stone/Brick</td>\n",
       "            <td>Bamboo/Timber-Light roof</td>\n",
       "            <td>Mud</td>\n",
       "            <td>TImber/Bamboo-Mud</td>\n",
       "            <td>Not attached</td>\n",
       "            <td>Rectangular</td>\n",
       "            <td>Damaged-Used in risk</td>\n",
       "            <td>Stone, mud mortar</td>\n",
       "        </tr>\n",
       "    </tbody>\n",
       "</table>"
      ],
      "text/plain": [
       "[(164002, 164002, 3, 3, 20, 560, 18, 18, 'Flat', 'Mud mortar-Stone/Brick', 'Bamboo/Timber-Light roof', 'Mud', 'TImber/Bamboo-Mud', 'Not attached', 'Rectangular', 'Damaged-Repaired and used', 'Stone, mud mortar'),\n",
       " (164081, 164081, 2, 2, 21, 200, 12, 12, 'Flat', 'Mud mortar-Stone/Brick', 'Bamboo/Timber-Light roof', 'Mud', 'TImber/Bamboo-Mud', 'Not attached', 'Rectangular', 'Damaged-Used in risk', 'Stone, mud mortar'),\n",
       " (164089, 164089, 3, 3, 18, 315, 20, 20, 'Flat', 'Mud mortar-Stone/Brick', 'Bamboo/Timber-Light roof', 'Mud', 'TImber/Bamboo-Mud', 'Not attached', 'Rectangular', 'Damaged-Used in risk', 'Stone, mud mortar'),\n",
       " (164098, 164098, 2, 2, 45, 290, 13, 13, 'Flat', 'Mud mortar-Stone/Brick', 'Bamboo/Timber-Light roof', 'Mud', 'TImber/Bamboo-Mud', 'Not attached', 'Rectangular', 'Damaged-Used in risk', 'Stone, mud mortar'),\n",
       " (164103, 164103, 2, 2, 21, 230, 13, 13, 'Flat', 'Mud mortar-Stone/Brick', 'Bamboo/Timber-Light roof', 'Mud', 'TImber/Bamboo-Mud', 'Not attached', 'Rectangular', 'Damaged-Used in risk', 'Stone, mud mortar')]"
      ]
     },
     "execution_count": 75,
     "metadata": {},
     "output_type": "execute_result"
    }
   ],
   "source": [
    "%%sql\n",
    "SELECT distinct(i.building_id), \n",
    "    s.*\n",
    "FROM id_map AS i\n",
    "JOIN building_structure AS s ON i.building_id = s.building_id\n",
    "WHERE district_id = 4\n",
    "LIMIT 5"
   ]
  }
 ],
 "metadata": {
  "kernelspec": {
   "display_name": "applied_data_science_labs",
   "language": "python",
   "name": "python3"
  },
  "language_info": {
   "codemirror_mode": {
    "name": "ipython",
    "version": 3
   },
   "file_extension": ".py",
   "mimetype": "text/x-python",
   "name": "python",
   "nbconvert_exporter": "python",
   "pygments_lexer": "ipython3",
   "version": "3.12.10"
  }
 },
 "nbformat": 4,
 "nbformat_minor": 5
}
