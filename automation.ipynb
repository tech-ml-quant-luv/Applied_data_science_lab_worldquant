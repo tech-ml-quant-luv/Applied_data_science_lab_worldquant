{
 "cells": [
  {
   "cell_type": "code",
   "execution_count": 1,
   "id": "2a664325",
   "metadata": {},
   "outputs": [],
   "source": [
    "required_url = \"https://player.vimeo.com/video/656354357?h=8d99bdbfcd\"\n",
    "parameters = [\"656354357\",\"8d99bdbfcd\"]"
   ]
  },
  {
   "cell_type": "code",
   "execution_count": 2,
   "id": "af44f05f",
   "metadata": {},
   "outputs": [],
   "source": [
    "def create_parameters(value):\n",
    "    parameters = value.replace(\"VimeoVideo(\", \"\").replace(\", width=600)\",\"\").replace(\", h=\", \",\").split(\",\")\n",
    "    parameters = [newvalue.strip('\"\"') for newvalue in parameters]\n",
    "    print(parameters)\n",
    "    return parameters\n"
   ]
  },
  {
   "cell_type": "code",
   "execution_count": 3,
   "id": "de5af462",
   "metadata": {},
   "outputs": [
    {
     "name": "stdout",
     "output_type": "stream",
     "text": [
      "['656378731', '8daa35d1e8']\n",
      "['656378731', '8daa35d1e8']\n",
      "['656378435', 'b3765f3339']\n",
      "['656378435', 'b3765f3339']\n",
      "['656378342', '2f4da7f7b4']\n",
      "['656378342', '2f4da7f7b4']\n",
      "['656377991', 'c7319b0458']\n",
      "['656377991', 'c7319b0458']\n",
      "['656377758', '62546c7b86']\n",
      "['656377758', '62546c7b86']\n",
      "['656377616', '8d3b060e71']\n",
      "['656377616', '8d3b060e71']\n",
      "['656377515', 'd2478d38df']\n",
      "['656377515', 'd2478d38df']\n",
      "['656377395', 'bd93b05ff9']\n",
      "['656377395', 'bd93b05ff9']\n",
      "['656377340', '664cb44291']\n",
      "['656377340', '664cb44291']\n",
      "['656376911', '19666a4c87']\n",
      "['656376911', '19666a4c87']\n",
      "['done']\n",
      "['done']\n"
     ]
    },
    {
     "data": {
      "text/plain": [
       "[{'url': 'https://player.vimeo.com/video/656378731?h=8daa35d1e8',\n",
       "  'title': 'Groupby Method'},\n",
       " {'url': 'https://player.vimeo.com/video/656378435?h=b3765f3339',\n",
       "  'title': 'Bar Chart'},\n",
       " {'url': 'https://player.vimeo.com/video/656378342?h=2f4da7f7b4',\n",
       "  'title': 'Column per metre square'},\n",
       " {'url': 'https://player.vimeo.com/video/656377991?h=c7319b0458',\n",
       "  'title': 'Bar chart with price per meter square'},\n",
       " {'url': 'https://player.vimeo.com/video/656377758?h=62546c7b86',\n",
       "  'title': 'research question 2'},\n",
       " {'url': 'https://player.vimeo.com/video/656377616?h=8d3b060e71',\n",
       "  'title': 'Research question 2 solution 1'},\n",
       " {'url': 'https://player.vimeo.com/video/656377515?h=d2478d38df',\n",
       "  'title': 'Research question 2 solution 2'},\n",
       " {'url': 'https://player.vimeo.com/video/656377395?h=bd93b05ff9',\n",
       "  'title': 'Rsearch question 2 solution 3'},\n",
       " {'url': 'https://player.vimeo.com/video/656377340?h=664cb44291',\n",
       "  'title': 'Research question 2 solution 4'},\n",
       " {'url': 'https://player.vimeo.com/video/656376911?h=19666a4c87',\n",
       "  'title': 'Research question 2 solution 5'}]"
      ]
     },
     "execution_count": 3,
     "metadata": {},
     "output_type": "execute_result"
    }
   ],
   "source": [
    "done= True\n",
    "list_of_url_with_parameters =[]\n",
    "while done:\n",
    "    parameters = create_parameters(input(\"Enter Your string: \"))\n",
    "    print(parameters)\n",
    "    title = input(\"Enter you title: \")\n",
    "    if title == \"done\":\n",
    "        done=False\n",
    "    else:            \n",
    "        required_url = f\"https://player.vimeo.com/video/{parameters[0]}?h={parameters[1]}\"\n",
    "        list_of_url_with_parameters.append({\n",
    "            \"url\": required_url,\n",
    "            \"title\": title\n",
    "        })\n",
    "list_of_url_with_parameters "
   ]
  },
  {
   "cell_type": "code",
   "execution_count": 4,
   "id": "bce57a67",
   "metadata": {},
   "outputs": [
    {
     "data": {
      "text/html": [
       "<table border=\"1\" class=\"dataframe\">\n",
       "  <thead>\n",
       "    <tr style=\"text-align: right;\">\n",
       "      <th></th>\n",
       "      <th>url</th>\n",
       "      <th>title</th>\n",
       "    </tr>\n",
       "  </thead>\n",
       "  <tbody>\n",
       "    <tr>\n",
       "      <th>0</th>\n",
       "      <td><a href=\"https://player.vimeo.com/video/656378731?h=8daa35d1e8\">https://player.vimeo.com/video/656378731?h=8daa35d1e8</a></td>\n",
       "      <td>Groupby Method</td>\n",
       "    </tr>\n",
       "    <tr>\n",
       "      <th>1</th>\n",
       "      <td><a href=\"https://player.vimeo.com/video/656378435?h=b3765f3339\">https://player.vimeo.com/video/656378435?h=b3765f3339</a></td>\n",
       "      <td>Bar Chart</td>\n",
       "    </tr>\n",
       "    <tr>\n",
       "      <th>2</th>\n",
       "      <td><a href=\"https://player.vimeo.com/video/656378342?h=2f4da7f7b4\">https://player.vimeo.com/video/656378342?h=2f4da7f7b4</a></td>\n",
       "      <td>Column per metre square</td>\n",
       "    </tr>\n",
       "    <tr>\n",
       "      <th>3</th>\n",
       "      <td><a href=\"https://player.vimeo.com/video/656377991?h=c7319b0458\">https://player.vimeo.com/video/656377991?h=c7319b0458</a></td>\n",
       "      <td>Bar chart with price per meter square</td>\n",
       "    </tr>\n",
       "    <tr>\n",
       "      <th>4</th>\n",
       "      <td><a href=\"https://player.vimeo.com/video/656377758?h=62546c7b86\">https://player.vimeo.com/video/656377758?h=62546c7b86</a></td>\n",
       "      <td>research question 2</td>\n",
       "    </tr>\n",
       "    <tr>\n",
       "      <th>5</th>\n",
       "      <td><a href=\"https://player.vimeo.com/video/656377616?h=8d3b060e71\">https://player.vimeo.com/video/656377616?h=8d3b060e71</a></td>\n",
       "      <td>Research question 2 solution 1</td>\n",
       "    </tr>\n",
       "    <tr>\n",
       "      <th>6</th>\n",
       "      <td><a href=\"https://player.vimeo.com/video/656377515?h=d2478d38df\">https://player.vimeo.com/video/656377515?h=d2478d38df</a></td>\n",
       "      <td>Research question 2 solution 2</td>\n",
       "    </tr>\n",
       "    <tr>\n",
       "      <th>7</th>\n",
       "      <td><a href=\"https://player.vimeo.com/video/656377395?h=bd93b05ff9\">https://player.vimeo.com/video/656377395?h=bd93b05ff9</a></td>\n",
       "      <td>Rsearch question 2 solution 3</td>\n",
       "    </tr>\n",
       "    <tr>\n",
       "      <th>8</th>\n",
       "      <td><a href=\"https://player.vimeo.com/video/656377340?h=664cb44291\">https://player.vimeo.com/video/656377340?h=664cb44291</a></td>\n",
       "      <td>Research question 2 solution 4</td>\n",
       "    </tr>\n",
       "    <tr>\n",
       "      <th>9</th>\n",
       "      <td><a href=\"https://player.vimeo.com/video/656376911?h=19666a4c87\">https://player.vimeo.com/video/656376911?h=19666a4c87</a></td>\n",
       "      <td>Research question 2 solution 5</td>\n",
       "    </tr>\n",
       "  </tbody>\n",
       "</table>"
      ],
      "text/plain": [
       "<IPython.core.display.HTML object>"
      ]
     },
     "metadata": {},
     "output_type": "display_data"
    }
   ],
   "source": [
    "import pandas as pd\n",
    "\n",
    "converted_list = []\n",
    "for items in list_of_url_with_parameters:\n",
    "    converted_list.append({\n",
    "        \"url\": f'<a href=\"{items[\"url\"]}\">{items[\"url\"]}</a>',\n",
    "        \"title\": items[\"title\"]\n",
    "    })\n",
    "\n",
    "df = pd.DataFrame(converted_list)\n",
    "\n",
    "# If you're in Jupyter/Notebook, display clickable links\n",
    "from IPython.display import display, HTML\n",
    "display(HTML(df.to_html(escape=False)))\n"
   ]
  }
 ],
 "metadata": {
  "kernelspec": {
   "display_name": "applied_data_science_lab",
   "language": "python",
   "name": "python3"
  },
  "language_info": {
   "codemirror_mode": {
    "name": "ipython",
    "version": 3
   },
   "file_extension": ".py",
   "mimetype": "text/x-python",
   "name": "python",
   "nbconvert_exporter": "python",
   "pygments_lexer": "ipython3",
   "version": "3.13.2"
  }
 },
 "nbformat": 4,
 "nbformat_minor": 5
}
