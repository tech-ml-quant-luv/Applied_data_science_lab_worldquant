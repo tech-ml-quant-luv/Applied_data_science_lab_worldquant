{
 "cells": [
  {
   "cell_type": "markdown",
   "id": "f908d447",
   "metadata": {},
   "source": [
    "### Start with understanding the data"
   ]
  },
  {
   "cell_type": "code",
   "execution_count": 30,
   "id": "99ef0e8a",
   "metadata": {},
   "outputs": [],
   "source": [
    "import pandas as pd"
   ]
  },
  {
   "cell_type": "code",
   "execution_count": 31,
   "id": "fe12584e",
   "metadata": {},
   "outputs": [],
   "source": [
    "df1 = pd.read_excel(\"./mexico-real-estate.xlsx\")\n",
    "df2 = pd.read_excel(\"./mexico-real-estate2.xlsx\")\n",
    "df3 = pd.read_excel(\"./mexico-real-estate3.xlsx\")"
   ]
  },
  {
   "cell_type": "code",
   "execution_count": 32,
   "id": "76eb847b",
   "metadata": {},
   "outputs": [
    {
     "data": {
      "text/plain": [
       "(700, 6)"
      ]
     },
     "execution_count": 32,
     "metadata": {},
     "output_type": "execute_result"
    }
   ],
   "source": [
    "df1.shape"
   ]
  },
  {
   "cell_type": "code",
   "execution_count": 33,
   "id": "fefef77d",
   "metadata": {},
   "outputs": [
    {
     "name": "stdout",
     "output_type": "stream",
     "text": [
      "<class 'pandas.core.frame.DataFrame'>\n",
      "RangeIndex: 700 entries, 0 to 699\n",
      "Data columns (total 6 columns):\n",
      " #   Column         Non-Null Count  Dtype  \n",
      "---  ------         --------------  -----  \n",
      " 0   property_type  700 non-null    object \n",
      " 1   state          700 non-null    object \n",
      " 2   lat            583 non-null    float64\n",
      " 3   lon            583 non-null    float64\n",
      " 4   area_m2        700 non-null    int64  \n",
      " 5   price_usd      700 non-null    object \n",
      "dtypes: float64(2), int64(1), object(3)\n",
      "memory usage: 32.9+ KB\n"
     ]
    }
   ],
   "source": [
    "df1.info()"
   ]
  },
  {
   "cell_type": "code",
   "execution_count": 34,
   "id": "66cd187c",
   "metadata": {},
   "outputs": [
    {
     "data": {
      "text/html": [
       "<div>\n",
       "<style scoped>\n",
       "    .dataframe tbody tr th:only-of-type {\n",
       "        vertical-align: middle;\n",
       "    }\n",
       "\n",
       "    .dataframe tbody tr th {\n",
       "        vertical-align: top;\n",
       "    }\n",
       "\n",
       "    .dataframe thead th {\n",
       "        text-align: right;\n",
       "    }\n",
       "</style>\n",
       "<table border=\"1\" class=\"dataframe\">\n",
       "  <thead>\n",
       "    <tr style=\"text-align: right;\">\n",
       "      <th></th>\n",
       "      <th>property_type</th>\n",
       "      <th>state</th>\n",
       "      <th>lat</th>\n",
       "      <th>lon</th>\n",
       "      <th>area_m2</th>\n",
       "      <th>price_usd</th>\n",
       "    </tr>\n",
       "  </thead>\n",
       "  <tbody>\n",
       "    <tr>\n",
       "      <th>0</th>\n",
       "      <td>house</td>\n",
       "      <td>Estado de México</td>\n",
       "      <td>19.560181</td>\n",
       "      <td>-99.233528</td>\n",
       "      <td>150</td>\n",
       "      <td>$67,965.56</td>\n",
       "    </tr>\n",
       "    <tr>\n",
       "      <th>1</th>\n",
       "      <td>house</td>\n",
       "      <td>Nuevo León</td>\n",
       "      <td>25.688436</td>\n",
       "      <td>-100.198807</td>\n",
       "      <td>186</td>\n",
       "      <td>$63,223.78</td>\n",
       "    </tr>\n",
       "    <tr>\n",
       "      <th>2</th>\n",
       "      <td>apartment</td>\n",
       "      <td>Guerrero</td>\n",
       "      <td>16.767704</td>\n",
       "      <td>-99.764383</td>\n",
       "      <td>82</td>\n",
       "      <td>$84,298.37</td>\n",
       "    </tr>\n",
       "    <tr>\n",
       "      <th>3</th>\n",
       "      <td>apartment</td>\n",
       "      <td>Guerrero</td>\n",
       "      <td>16.829782</td>\n",
       "      <td>-99.911012</td>\n",
       "      <td>150</td>\n",
       "      <td>$94,308.80</td>\n",
       "    </tr>\n",
       "    <tr>\n",
       "      <th>4</th>\n",
       "      <td>house</td>\n",
       "      <td>Veracruz de Ignacio de la Llave</td>\n",
       "      <td>NaN</td>\n",
       "      <td>NaN</td>\n",
       "      <td>175</td>\n",
       "      <td>$94,835.67</td>\n",
       "    </tr>\n",
       "  </tbody>\n",
       "</table>\n",
       "</div>"
      ],
      "text/plain": [
       "  property_type                            state        lat         lon  \\\n",
       "0         house                 Estado de México  19.560181  -99.233528   \n",
       "1         house                       Nuevo León  25.688436 -100.198807   \n",
       "2     apartment                         Guerrero  16.767704  -99.764383   \n",
       "3     apartment                         Guerrero  16.829782  -99.911012   \n",
       "4         house  Veracruz de Ignacio de la Llave        NaN         NaN   \n",
       "\n",
       "   area_m2   price_usd  \n",
       "0      150  $67,965.56  \n",
       "1      186  $63,223.78  \n",
       "2       82  $84,298.37  \n",
       "3      150  $94,308.80  \n",
       "4      175  $94,835.67  "
      ]
     },
     "execution_count": 34,
     "metadata": {},
     "output_type": "execute_result"
    }
   ],
   "source": [
    "df1.head()"
   ]
  },
  {
   "cell_type": "markdown",
   "id": "e6965bc4",
   "metadata": {},
   "source": [
    "#### Dealing with df1"
   ]
  },
  {
   "cell_type": "code",
   "execution_count": 35,
   "id": "b6b985fa",
   "metadata": {},
   "outputs": [],
   "source": [
    "# Remove \"Nan\" values\n",
    "df1.dropna(inplace=True)\n",
    "# df1 = df1.dropna() #This creates a new dataFrame"
   ]
  },
  {
   "cell_type": "code",
   "execution_count": 36,
   "id": "eede0a40",
   "metadata": {},
   "outputs": [
    {
     "name": "stdout",
     "output_type": "stream",
     "text": [
      "<class 'pandas.core.frame.DataFrame'>\n",
      "Index: 583 entries, 0 to 699\n",
      "Data columns (total 6 columns):\n",
      " #   Column         Non-Null Count  Dtype  \n",
      "---  ------         --------------  -----  \n",
      " 0   property_type  583 non-null    object \n",
      " 1   state          583 non-null    object \n",
      " 2   lat            583 non-null    float64\n",
      " 3   lon            583 non-null    float64\n",
      " 4   area_m2        583 non-null    int64  \n",
      " 5   price_usd      583 non-null    object \n",
      "dtypes: float64(2), int64(1), object(3)\n",
      "memory usage: 31.9+ KB\n"
     ]
    }
   ],
   "source": [
    "df1.info()"
   ]
  },
  {
   "cell_type": "code",
   "execution_count": 37,
   "id": "2b2dc2ae",
   "metadata": {},
   "outputs": [
    {
     "data": {
      "text/plain": [
       "0     $67,965.56\n",
       "1     $63,223.78\n",
       "2     $84,298.37\n",
       "3     $94,308.80\n",
       "5    $105,191.37\n",
       "Name: price_usd, dtype: object"
      ]
     },
     "execution_count": 37,
     "metadata": {},
     "output_type": "execute_result"
    }
   ],
   "source": [
    "# Remove String values (if mixed with numeric values) from a column\n",
    "df1[\"price_usd\"].head()"
   ]
  },
  {
   "cell_type": "code",
   "execution_count": 38,
   "id": "566befb1",
   "metadata": {},
   "outputs": [
    {
     "data": {
      "text/html": [
       "<div>\n",
       "<style scoped>\n",
       "    .dataframe tbody tr th:only-of-type {\n",
       "        vertical-align: middle;\n",
       "    }\n",
       "\n",
       "    .dataframe tbody tr th {\n",
       "        vertical-align: top;\n",
       "    }\n",
       "\n",
       "    .dataframe thead th {\n",
       "        text-align: right;\n",
       "    }\n",
       "</style>\n",
       "<table border=\"1\" class=\"dataframe\">\n",
       "  <thead>\n",
       "    <tr style=\"text-align: right;\">\n",
       "      <th></th>\n",
       "      <th>property_type</th>\n",
       "      <th>state</th>\n",
       "      <th>lat</th>\n",
       "      <th>lon</th>\n",
       "      <th>area_m2</th>\n",
       "      <th>price_usd</th>\n",
       "    </tr>\n",
       "  </thead>\n",
       "  <tbody>\n",
       "    <tr>\n",
       "      <th>0</th>\n",
       "      <td>house</td>\n",
       "      <td>Estado de México</td>\n",
       "      <td>19.560181</td>\n",
       "      <td>-99.233528</td>\n",
       "      <td>150</td>\n",
       "      <td>67965.56</td>\n",
       "    </tr>\n",
       "    <tr>\n",
       "      <th>1</th>\n",
       "      <td>house</td>\n",
       "      <td>Nuevo León</td>\n",
       "      <td>25.688436</td>\n",
       "      <td>-100.198807</td>\n",
       "      <td>186</td>\n",
       "      <td>63223.78</td>\n",
       "    </tr>\n",
       "    <tr>\n",
       "      <th>2</th>\n",
       "      <td>apartment</td>\n",
       "      <td>Guerrero</td>\n",
       "      <td>16.767704</td>\n",
       "      <td>-99.764383</td>\n",
       "      <td>82</td>\n",
       "      <td>84298.37</td>\n",
       "    </tr>\n",
       "    <tr>\n",
       "      <th>3</th>\n",
       "      <td>apartment</td>\n",
       "      <td>Guerrero</td>\n",
       "      <td>16.829782</td>\n",
       "      <td>-99.911012</td>\n",
       "      <td>150</td>\n",
       "      <td>94308.80</td>\n",
       "    </tr>\n",
       "    <tr>\n",
       "      <th>5</th>\n",
       "      <td>house</td>\n",
       "      <td>Yucatán</td>\n",
       "      <td>21.052583</td>\n",
       "      <td>-89.538639</td>\n",
       "      <td>205</td>\n",
       "      <td>105191.37</td>\n",
       "    </tr>\n",
       "  </tbody>\n",
       "</table>\n",
       "</div>"
      ],
      "text/plain": [
       "  property_type             state        lat         lon  area_m2  price_usd\n",
       "0         house  Estado de México  19.560181  -99.233528      150   67965.56\n",
       "1         house        Nuevo León  25.688436 -100.198807      186   63223.78\n",
       "2     apartment          Guerrero  16.767704  -99.764383       82   84298.37\n",
       "3     apartment          Guerrero  16.829782  -99.911012      150   94308.80\n",
       "5         house           Yucatán  21.052583  -89.538639      205  105191.37"
      ]
     },
     "execution_count": 38,
     "metadata": {},
     "output_type": "execute_result"
    }
   ],
   "source": [
    "df1[\"price_usd\"]=(df1[\"price_usd\"]\n",
    "                  .str  #This is pandas inbuilt function to allow string methods to the elements of a pandas series\n",
    "                  .replace(\"$\",\"\"). # Replace is simply a string operation\n",
    "                  str.replace(\",\",\"\").\n",
    "                  astype(float))    # astype is also an pandas inbuilt function to convert type of the complete dataframe or a series\n",
    "df1.head()"
   ]
  },
  {
   "cell_type": "code",
   "execution_count": 39,
   "id": "67d66c5c",
   "metadata": {},
   "outputs": [
    {
     "name": "stdout",
     "output_type": "stream",
     "text": [
      "<class 'pandas.core.frame.DataFrame'>\n",
      "Index: 583 entries, 0 to 699\n",
      "Data columns (total 6 columns):\n",
      " #   Column         Non-Null Count  Dtype  \n",
      "---  ------         --------------  -----  \n",
      " 0   property_type  583 non-null    object \n",
      " 1   state          583 non-null    object \n",
      " 2   lat            583 non-null    float64\n",
      " 3   lon            583 non-null    float64\n",
      " 4   area_m2        583 non-null    int64  \n",
      " 5   price_usd      583 non-null    float64\n",
      "dtypes: float64(3), int64(1), object(2)\n",
      "memory usage: 31.9+ KB\n"
     ]
    }
   ],
   "source": [
    "df1.info()"
   ]
  },
  {
   "cell_type": "markdown",
   "id": "594133ac",
   "metadata": {},
   "source": [
    "#### Dealing with df2"
   ]
  },
  {
   "cell_type": "code",
   "execution_count": 40,
   "id": "f44b2a03",
   "metadata": {},
   "outputs": [
    {
     "name": "stdout",
     "output_type": "stream",
     "text": [
      "<class 'pandas.core.frame.DataFrame'>\n",
      "RangeIndex: 700 entries, 0 to 699\n",
      "Data columns (total 6 columns):\n",
      " #   Column         Non-Null Count  Dtype  \n",
      "---  ------         --------------  -----  \n",
      " 0   property_type  700 non-null    object \n",
      " 1   state          700 non-null    object \n",
      " 2   lat            571 non-null    float64\n",
      " 3   lon            571 non-null    float64\n",
      " 4   area_m2        700 non-null    int64  \n",
      " 5   price_mxn      700 non-null    int64  \n",
      "dtypes: float64(2), int64(2), object(2)\n",
      "memory usage: 32.9+ KB\n"
     ]
    }
   ],
   "source": [
    "df2.info()"
   ]
  },
  {
   "cell_type": "code",
   "execution_count": 41,
   "id": "659517ed",
   "metadata": {},
   "outputs": [
    {
     "data": {
      "text/html": [
       "<div>\n",
       "<style scoped>\n",
       "    .dataframe tbody tr th:only-of-type {\n",
       "        vertical-align: middle;\n",
       "    }\n",
       "\n",
       "    .dataframe tbody tr th {\n",
       "        vertical-align: top;\n",
       "    }\n",
       "\n",
       "    .dataframe thead th {\n",
       "        text-align: right;\n",
       "    }\n",
       "</style>\n",
       "<table border=\"1\" class=\"dataframe\">\n",
       "  <thead>\n",
       "    <tr style=\"text-align: right;\">\n",
       "      <th></th>\n",
       "      <th>property_type</th>\n",
       "      <th>state</th>\n",
       "      <th>lat</th>\n",
       "      <th>lon</th>\n",
       "      <th>area_m2</th>\n",
       "      <th>price_mxn</th>\n",
       "    </tr>\n",
       "  </thead>\n",
       "  <tbody>\n",
       "    <tr>\n",
       "      <th>0</th>\n",
       "      <td>apartment</td>\n",
       "      <td>Nuevo León</td>\n",
       "      <td>25.721081</td>\n",
       "      <td>-100.345581</td>\n",
       "      <td>72</td>\n",
       "      <td>1300000</td>\n",
       "    </tr>\n",
       "    <tr>\n",
       "      <th>1</th>\n",
       "      <td>apartment</td>\n",
       "      <td>Puebla</td>\n",
       "      <td>NaN</td>\n",
       "      <td>NaN</td>\n",
       "      <td>190</td>\n",
       "      <td>2500000</td>\n",
       "    </tr>\n",
       "    <tr>\n",
       "      <th>2</th>\n",
       "      <td>house</td>\n",
       "      <td>Morelos</td>\n",
       "      <td>23.634501</td>\n",
       "      <td>-102.552788</td>\n",
       "      <td>360</td>\n",
       "      <td>5300000</td>\n",
       "    </tr>\n",
       "    <tr>\n",
       "      <th>3</th>\n",
       "      <td>house</td>\n",
       "      <td>Morelos</td>\n",
       "      <td>NaN</td>\n",
       "      <td>NaN</td>\n",
       "      <td>76</td>\n",
       "      <td>820000</td>\n",
       "    </tr>\n",
       "    <tr>\n",
       "      <th>4</th>\n",
       "      <td>house</td>\n",
       "      <td>Puebla</td>\n",
       "      <td>NaN</td>\n",
       "      <td>NaN</td>\n",
       "      <td>200</td>\n",
       "      <td>1100000</td>\n",
       "    </tr>\n",
       "  </tbody>\n",
       "</table>\n",
       "</div>"
      ],
      "text/plain": [
       "  property_type       state        lat         lon  area_m2  price_mxn\n",
       "0     apartment  Nuevo León  25.721081 -100.345581       72    1300000\n",
       "1     apartment      Puebla        NaN         NaN      190    2500000\n",
       "2         house     Morelos  23.634501 -102.552788      360    5300000\n",
       "3         house     Morelos        NaN         NaN       76     820000\n",
       "4         house      Puebla        NaN         NaN      200    1100000"
      ]
     },
     "execution_count": 41,
     "metadata": {},
     "output_type": "execute_result"
    }
   ],
   "source": [
    "df2.head()"
   ]
  },
  {
   "cell_type": "code",
   "execution_count": 42,
   "id": "808799fb",
   "metadata": {},
   "outputs": [
    {
     "name": "stdout",
     "output_type": "stream",
     "text": [
      "<class 'pandas.core.frame.DataFrame'>\n",
      "Index: 571 entries, 0 to 699\n",
      "Data columns (total 6 columns):\n",
      " #   Column         Non-Null Count  Dtype  \n",
      "---  ------         --------------  -----  \n",
      " 0   property_type  571 non-null    object \n",
      " 1   state          571 non-null    object \n",
      " 2   lat            571 non-null    float64\n",
      " 3   lon            571 non-null    float64\n",
      " 4   area_m2        571 non-null    int64  \n",
      " 5   price_mxn      571 non-null    int64  \n",
      "dtypes: float64(2), int64(2), object(2)\n",
      "memory usage: 31.2+ KB\n"
     ]
    }
   ],
   "source": [
    "df2.dropna(inplace=True)\n",
    "df2.info()"
   ]
  },
  {
   "cell_type": "code",
   "execution_count": 43,
   "id": "556a6faf",
   "metadata": {},
   "outputs": [
    {
     "data": {
      "text/html": [
       "<div>\n",
       "<style scoped>\n",
       "    .dataframe tbody tr th:only-of-type {\n",
       "        vertical-align: middle;\n",
       "    }\n",
       "\n",
       "    .dataframe tbody tr th {\n",
       "        vertical-align: top;\n",
       "    }\n",
       "\n",
       "    .dataframe thead th {\n",
       "        text-align: right;\n",
       "    }\n",
       "</style>\n",
       "<table border=\"1\" class=\"dataframe\">\n",
       "  <thead>\n",
       "    <tr style=\"text-align: right;\">\n",
       "      <th></th>\n",
       "      <th>property_type</th>\n",
       "      <th>state</th>\n",
       "      <th>lat</th>\n",
       "      <th>lon</th>\n",
       "      <th>area_m2</th>\n",
       "      <th>price_mxn</th>\n",
       "      <th>price_usd</th>\n",
       "    </tr>\n",
       "  </thead>\n",
       "  <tbody>\n",
       "    <tr>\n",
       "      <th>0</th>\n",
       "      <td>apartment</td>\n",
       "      <td>Nuevo León</td>\n",
       "      <td>25.721081</td>\n",
       "      <td>-100.345581</td>\n",
       "      <td>72</td>\n",
       "      <td>1300000</td>\n",
       "      <td>68421.05</td>\n",
       "    </tr>\n",
       "    <tr>\n",
       "      <th>2</th>\n",
       "      <td>house</td>\n",
       "      <td>Morelos</td>\n",
       "      <td>23.634501</td>\n",
       "      <td>-102.552788</td>\n",
       "      <td>360</td>\n",
       "      <td>5300000</td>\n",
       "      <td>278947.37</td>\n",
       "    </tr>\n",
       "    <tr>\n",
       "      <th>6</th>\n",
       "      <td>apartment</td>\n",
       "      <td>Estado de México</td>\n",
       "      <td>19.272040</td>\n",
       "      <td>-99.572013</td>\n",
       "      <td>85</td>\n",
       "      <td>1250000</td>\n",
       "      <td>65789.47</td>\n",
       "    </tr>\n",
       "    <tr>\n",
       "      <th>7</th>\n",
       "      <td>house</td>\n",
       "      <td>San Luis Potosí</td>\n",
       "      <td>22.138882</td>\n",
       "      <td>-100.996510</td>\n",
       "      <td>158</td>\n",
       "      <td>2120000</td>\n",
       "      <td>111578.95</td>\n",
       "    </tr>\n",
       "    <tr>\n",
       "      <th>8</th>\n",
       "      <td>apartment</td>\n",
       "      <td>Distrito Federal</td>\n",
       "      <td>19.394558</td>\n",
       "      <td>-99.129707</td>\n",
       "      <td>65</td>\n",
       "      <td>758190</td>\n",
       "      <td>39904.74</td>\n",
       "    </tr>\n",
       "  </tbody>\n",
       "</table>\n",
       "</div>"
      ],
      "text/plain": [
       "  property_type             state        lat         lon  area_m2  price_mxn  \\\n",
       "0     apartment        Nuevo León  25.721081 -100.345581       72    1300000   \n",
       "2         house           Morelos  23.634501 -102.552788      360    5300000   \n",
       "6     apartment  Estado de México  19.272040  -99.572013       85    1250000   \n",
       "7         house   San Luis Potosí  22.138882 -100.996510      158    2120000   \n",
       "8     apartment  Distrito Federal  19.394558  -99.129707       65     758190   \n",
       "\n",
       "   price_usd  \n",
       "0   68421.05  \n",
       "2  278947.37  \n",
       "6   65789.47  \n",
       "7  111578.95  \n",
       "8   39904.74  "
      ]
     },
     "execution_count": 43,
     "metadata": {},
     "output_type": "execute_result"
    }
   ],
   "source": [
    "# Operations on a column in pandas\n",
    "\n",
    "df2[\"price_usd\"] = (df2[\"price_mxn\"]/19).round(2)\n",
    "df2.head()"
   ]
  },
  {
   "cell_type": "code",
   "execution_count": 44,
   "id": "6d54b226",
   "metadata": {},
   "outputs": [],
   "source": [
    "# Remove column from pandas (drop)\n",
    "df2.drop(columns=[\"price_mxn\"], inplace=True)"
   ]
  },
  {
   "cell_type": "code",
   "execution_count": 45,
   "id": "0ed99c97",
   "metadata": {},
   "outputs": [
    {
     "data": {
      "text/html": [
       "<div>\n",
       "<style scoped>\n",
       "    .dataframe tbody tr th:only-of-type {\n",
       "        vertical-align: middle;\n",
       "    }\n",
       "\n",
       "    .dataframe tbody tr th {\n",
       "        vertical-align: top;\n",
       "    }\n",
       "\n",
       "    .dataframe thead th {\n",
       "        text-align: right;\n",
       "    }\n",
       "</style>\n",
       "<table border=\"1\" class=\"dataframe\">\n",
       "  <thead>\n",
       "    <tr style=\"text-align: right;\">\n",
       "      <th></th>\n",
       "      <th>property_type</th>\n",
       "      <th>state</th>\n",
       "      <th>lat</th>\n",
       "      <th>lon</th>\n",
       "      <th>area_m2</th>\n",
       "      <th>price_usd</th>\n",
       "    </tr>\n",
       "  </thead>\n",
       "  <tbody>\n",
       "    <tr>\n",
       "      <th>0</th>\n",
       "      <td>apartment</td>\n",
       "      <td>Nuevo León</td>\n",
       "      <td>25.721081</td>\n",
       "      <td>-100.345581</td>\n",
       "      <td>72</td>\n",
       "      <td>68421.05</td>\n",
       "    </tr>\n",
       "    <tr>\n",
       "      <th>2</th>\n",
       "      <td>house</td>\n",
       "      <td>Morelos</td>\n",
       "      <td>23.634501</td>\n",
       "      <td>-102.552788</td>\n",
       "      <td>360</td>\n",
       "      <td>278947.37</td>\n",
       "    </tr>\n",
       "    <tr>\n",
       "      <th>6</th>\n",
       "      <td>apartment</td>\n",
       "      <td>Estado de México</td>\n",
       "      <td>19.272040</td>\n",
       "      <td>-99.572013</td>\n",
       "      <td>85</td>\n",
       "      <td>65789.47</td>\n",
       "    </tr>\n",
       "    <tr>\n",
       "      <th>7</th>\n",
       "      <td>house</td>\n",
       "      <td>San Luis Potosí</td>\n",
       "      <td>22.138882</td>\n",
       "      <td>-100.996510</td>\n",
       "      <td>158</td>\n",
       "      <td>111578.95</td>\n",
       "    </tr>\n",
       "    <tr>\n",
       "      <th>8</th>\n",
       "      <td>apartment</td>\n",
       "      <td>Distrito Federal</td>\n",
       "      <td>19.394558</td>\n",
       "      <td>-99.129707</td>\n",
       "      <td>65</td>\n",
       "      <td>39904.74</td>\n",
       "    </tr>\n",
       "    <tr>\n",
       "      <th>...</th>\n",
       "      <td>...</td>\n",
       "      <td>...</td>\n",
       "      <td>...</td>\n",
       "      <td>...</td>\n",
       "      <td>...</td>\n",
       "      <td>...</td>\n",
       "    </tr>\n",
       "    <tr>\n",
       "      <th>695</th>\n",
       "      <td>house</td>\n",
       "      <td>Morelos</td>\n",
       "      <td>18.917542</td>\n",
       "      <td>-98.963181</td>\n",
       "      <td>140</td>\n",
       "      <td>76315.79</td>\n",
       "    </tr>\n",
       "    <tr>\n",
       "      <th>696</th>\n",
       "      <td>house</td>\n",
       "      <td>Distrito Federal</td>\n",
       "      <td>19.472128</td>\n",
       "      <td>-99.146697</td>\n",
       "      <td>190</td>\n",
       "      <td>102263.16</td>\n",
       "    </tr>\n",
       "    <tr>\n",
       "      <th>697</th>\n",
       "      <td>house</td>\n",
       "      <td>Estado de México</td>\n",
       "      <td>19.234984</td>\n",
       "      <td>-99.558175</td>\n",
       "      <td>115</td>\n",
       "      <td>110526.32</td>\n",
       "    </tr>\n",
       "    <tr>\n",
       "      <th>698</th>\n",
       "      <td>house</td>\n",
       "      <td>Puebla</td>\n",
       "      <td>18.918714</td>\n",
       "      <td>-98.426639</td>\n",
       "      <td>90</td>\n",
       "      <td>46842.11</td>\n",
       "    </tr>\n",
       "    <tr>\n",
       "      <th>699</th>\n",
       "      <td>house</td>\n",
       "      <td>Yucatán</td>\n",
       "      <td>21.075163</td>\n",
       "      <td>-89.516731</td>\n",
       "      <td>185</td>\n",
       "      <td>89210.53</td>\n",
       "    </tr>\n",
       "  </tbody>\n",
       "</table>\n",
       "<p>571 rows × 6 columns</p>\n",
       "</div>"
      ],
      "text/plain": [
       "    property_type             state        lat         lon  area_m2  price_usd\n",
       "0       apartment        Nuevo León  25.721081 -100.345581       72   68421.05\n",
       "2           house           Morelos  23.634501 -102.552788      360  278947.37\n",
       "6       apartment  Estado de México  19.272040  -99.572013       85   65789.47\n",
       "7           house   San Luis Potosí  22.138882 -100.996510      158  111578.95\n",
       "8       apartment  Distrito Federal  19.394558  -99.129707       65   39904.74\n",
       "..            ...               ...        ...         ...      ...        ...\n",
       "695         house           Morelos  18.917542  -98.963181      140   76315.79\n",
       "696         house  Distrito Federal  19.472128  -99.146697      190  102263.16\n",
       "697         house  Estado de México  19.234984  -99.558175      115  110526.32\n",
       "698         house            Puebla  18.918714  -98.426639       90   46842.11\n",
       "699         house           Yucatán  21.075163  -89.516731      185   89210.53\n",
       "\n",
       "[571 rows x 6 columns]"
      ]
     },
     "execution_count": 45,
     "metadata": {},
     "output_type": "execute_result"
    }
   ],
   "source": [
    "df2"
   ]
  },
  {
   "cell_type": "markdown",
   "id": "b82f11f3",
   "metadata": {},
   "source": [
    "#### Dealing with df3"
   ]
  },
  {
   "cell_type": "code",
   "execution_count": 46,
   "id": "69bff49c",
   "metadata": {},
   "outputs": [
    {
     "name": "stdout",
     "output_type": "stream",
     "text": [
      "<class 'pandas.core.frame.DataFrame'>\n",
      "RangeIndex: 700 entries, 0 to 699\n",
      "Data columns (total 5 columns):\n",
      " #   Column                   Non-Null Count  Dtype  \n",
      "---  ------                   --------------  -----  \n",
      " 0   property_type            700 non-null    object \n",
      " 1   place_with_parent_names  700 non-null    object \n",
      " 2   lat-lon                  582 non-null    object \n",
      " 3   area_m2                  700 non-null    int64  \n",
      " 4   price_usd                700 non-null    float64\n",
      "dtypes: float64(1), int64(1), object(3)\n",
      "memory usage: 27.5+ KB\n"
     ]
    }
   ],
   "source": [
    "df3.info()"
   ]
  },
  {
   "cell_type": "code",
   "execution_count": 47,
   "id": "8f8e627a",
   "metadata": {},
   "outputs": [
    {
     "data": {
      "text/html": [
       "<div>\n",
       "<style scoped>\n",
       "    .dataframe tbody tr th:only-of-type {\n",
       "        vertical-align: middle;\n",
       "    }\n",
       "\n",
       "    .dataframe tbody tr th {\n",
       "        vertical-align: top;\n",
       "    }\n",
       "\n",
       "    .dataframe thead th {\n",
       "        text-align: right;\n",
       "    }\n",
       "</style>\n",
       "<table border=\"1\" class=\"dataframe\">\n",
       "  <thead>\n",
       "    <tr style=\"text-align: right;\">\n",
       "      <th></th>\n",
       "      <th>property_type</th>\n",
       "      <th>place_with_parent_names</th>\n",
       "      <th>lat-lon</th>\n",
       "      <th>area_m2</th>\n",
       "      <th>price_usd</th>\n",
       "    </tr>\n",
       "  </thead>\n",
       "  <tbody>\n",
       "    <tr>\n",
       "      <th>0</th>\n",
       "      <td>apartment</td>\n",
       "      <td>|México|Distrito Federal|Gustavo A. Madero|Acu...</td>\n",
       "      <td>19.52589,-99.151703</td>\n",
       "      <td>71</td>\n",
       "      <td>48550.59</td>\n",
       "    </tr>\n",
       "    <tr>\n",
       "      <th>1</th>\n",
       "      <td>house</td>\n",
       "      <td>|México|Estado de México|Toluca|Metepec|</td>\n",
       "      <td>19.2640539,-99.5727534</td>\n",
       "      <td>233</td>\n",
       "      <td>168636.73</td>\n",
       "    </tr>\n",
       "    <tr>\n",
       "      <th>2</th>\n",
       "      <td>house</td>\n",
       "      <td>|México|Estado de México|Toluca|Toluca de Lerd...</td>\n",
       "      <td>19.268629,-99.671722</td>\n",
       "      <td>300</td>\n",
       "      <td>86932.69</td>\n",
       "    </tr>\n",
       "    <tr>\n",
       "      <th>3</th>\n",
       "      <td>house</td>\n",
       "      <td>|México|Morelos|Temixco|Burgos Bugambilias|</td>\n",
       "      <td>NaN</td>\n",
       "      <td>275</td>\n",
       "      <td>263432.41</td>\n",
       "    </tr>\n",
       "    <tr>\n",
       "      <th>4</th>\n",
       "      <td>apartment</td>\n",
       "      <td>|México|Veracruz de Ignacio de la Llave|Veracruz|</td>\n",
       "      <td>19.511938,-96.871956</td>\n",
       "      <td>84</td>\n",
       "      <td>68508.67</td>\n",
       "    </tr>\n",
       "  </tbody>\n",
       "</table>\n",
       "</div>"
      ],
      "text/plain": [
       "  property_type                            place_with_parent_names  \\\n",
       "0     apartment  |México|Distrito Federal|Gustavo A. Madero|Acu...   \n",
       "1         house           |México|Estado de México|Toluca|Metepec|   \n",
       "2         house  |México|Estado de México|Toluca|Toluca de Lerd...   \n",
       "3         house        |México|Morelos|Temixco|Burgos Bugambilias|   \n",
       "4     apartment  |México|Veracruz de Ignacio de la Llave|Veracruz|   \n",
       "\n",
       "                  lat-lon  area_m2  price_usd  \n",
       "0     19.52589,-99.151703       71   48550.59  \n",
       "1  19.2640539,-99.5727534      233  168636.73  \n",
       "2    19.268629,-99.671722      300   86932.69  \n",
       "3                     NaN      275  263432.41  \n",
       "4    19.511938,-96.871956       84   68508.67  "
      ]
     },
     "execution_count": 47,
     "metadata": {},
     "output_type": "execute_result"
    }
   ],
   "source": [
    "df3.head()"
   ]
  },
  {
   "cell_type": "code",
   "execution_count": 48,
   "id": "92cd616d",
   "metadata": {},
   "outputs": [],
   "source": [
    "df3.dropna(inplace=True)"
   ]
  },
  {
   "cell_type": "code",
   "execution_count": 49,
   "id": "ecc81b40",
   "metadata": {},
   "outputs": [
    {
     "data": {
      "text/plain": [
       "0       19.52589,-99.151703\n",
       "1    19.2640539,-99.5727534\n",
       "Name: lat-lon, dtype: object"
      ]
     },
     "execution_count": 49,
     "metadata": {},
     "output_type": "execute_result"
    }
   ],
   "source": [
    "df3[\"lat-lon\"].head(2)"
   ]
  },
  {
   "cell_type": "code",
   "execution_count": 50,
   "id": "360a8756",
   "metadata": {},
   "outputs": [
    {
     "data": {
      "text/plain": [
       "0       [19.52589, -99.151703]\n",
       "1    [19.2640539, -99.5727534]\n",
       "Name: lat-lon, dtype: object"
      ]
     },
     "execution_count": 50,
     "metadata": {},
     "output_type": "execute_result"
    }
   ],
   "source": [
    "df3[\"lat-lon\"].str.split(\",\").head(2)"
   ]
  },
  {
   "cell_type": "code",
   "execution_count": 51,
   "id": "77d1780e",
   "metadata": {},
   "outputs": [
    {
     "data": {
      "text/html": [
       "<div>\n",
       "<style scoped>\n",
       "    .dataframe tbody tr th:only-of-type {\n",
       "        vertical-align: middle;\n",
       "    }\n",
       "\n",
       "    .dataframe tbody tr th {\n",
       "        vertical-align: top;\n",
       "    }\n",
       "\n",
       "    .dataframe thead th {\n",
       "        text-align: right;\n",
       "    }\n",
       "</style>\n",
       "<table border=\"1\" class=\"dataframe\">\n",
       "  <thead>\n",
       "    <tr style=\"text-align: right;\">\n",
       "      <th></th>\n",
       "      <th>0</th>\n",
       "      <th>1</th>\n",
       "    </tr>\n",
       "  </thead>\n",
       "  <tbody>\n",
       "    <tr>\n",
       "      <th>0</th>\n",
       "      <td>19.52589</td>\n",
       "      <td>-99.151703</td>\n",
       "    </tr>\n",
       "    <tr>\n",
       "      <th>1</th>\n",
       "      <td>19.2640539</td>\n",
       "      <td>-99.5727534</td>\n",
       "    </tr>\n",
       "  </tbody>\n",
       "</table>\n",
       "</div>"
      ],
      "text/plain": [
       "            0            1\n",
       "0    19.52589   -99.151703\n",
       "1  19.2640539  -99.5727534"
      ]
     },
     "execution_count": 51,
     "metadata": {},
     "output_type": "execute_result"
    }
   ],
   "source": [
    "df3[\"lat-lon\"].str.split(\",\",expand=True).head(2)"
   ]
  },
  {
   "cell_type": "code",
   "execution_count": 52,
   "id": "1bf99442",
   "metadata": {},
   "outputs": [
    {
     "data": {
      "text/html": [
       "<div>\n",
       "<style scoped>\n",
       "    .dataframe tbody tr th:only-of-type {\n",
       "        vertical-align: middle;\n",
       "    }\n",
       "\n",
       "    .dataframe tbody tr th {\n",
       "        vertical-align: top;\n",
       "    }\n",
       "\n",
       "    .dataframe thead th {\n",
       "        text-align: right;\n",
       "    }\n",
       "</style>\n",
       "<table border=\"1\" class=\"dataframe\">\n",
       "  <thead>\n",
       "    <tr style=\"text-align: right;\">\n",
       "      <th></th>\n",
       "      <th>property_type</th>\n",
       "      <th>place_with_parent_names</th>\n",
       "      <th>lat-lon</th>\n",
       "      <th>area_m2</th>\n",
       "      <th>price_usd</th>\n",
       "      <th>lat</th>\n",
       "      <th>lon</th>\n",
       "    </tr>\n",
       "  </thead>\n",
       "  <tbody>\n",
       "    <tr>\n",
       "      <th>0</th>\n",
       "      <td>apartment</td>\n",
       "      <td>|México|Distrito Federal|Gustavo A. Madero|Acu...</td>\n",
       "      <td>19.52589,-99.151703</td>\n",
       "      <td>71</td>\n",
       "      <td>48550.59</td>\n",
       "      <td>19.52589</td>\n",
       "      <td>-99.151703</td>\n",
       "    </tr>\n",
       "    <tr>\n",
       "      <th>1</th>\n",
       "      <td>house</td>\n",
       "      <td>|México|Estado de México|Toluca|Metepec|</td>\n",
       "      <td>19.2640539,-99.5727534</td>\n",
       "      <td>233</td>\n",
       "      <td>168636.73</td>\n",
       "      <td>19.2640539</td>\n",
       "      <td>-99.5727534</td>\n",
       "    </tr>\n",
       "  </tbody>\n",
       "</table>\n",
       "</div>"
      ],
      "text/plain": [
       "  property_type                            place_with_parent_names  \\\n",
       "0     apartment  |México|Distrito Federal|Gustavo A. Madero|Acu...   \n",
       "1         house           |México|Estado de México|Toluca|Metepec|   \n",
       "\n",
       "                  lat-lon  area_m2  price_usd         lat          lon  \n",
       "0     19.52589,-99.151703       71   48550.59    19.52589   -99.151703  \n",
       "1  19.2640539,-99.5727534      233  168636.73  19.2640539  -99.5727534  "
      ]
     },
     "execution_count": 52,
     "metadata": {},
     "output_type": "execute_result"
    }
   ],
   "source": [
    "df3[[\"lat\",\"lon\"]] = df3[\"lat-lon\"].str.split(\",\",expand=True)\n",
    "df3.head(2)"
   ]
  },
  {
   "cell_type": "code",
   "execution_count": 53,
   "id": "03ff05de",
   "metadata": {},
   "outputs": [
    {
     "data": {
      "text/html": [
       "<div>\n",
       "<style scoped>\n",
       "    .dataframe tbody tr th:only-of-type {\n",
       "        vertical-align: middle;\n",
       "    }\n",
       "\n",
       "    .dataframe tbody tr th {\n",
       "        vertical-align: top;\n",
       "    }\n",
       "\n",
       "    .dataframe thead th {\n",
       "        text-align: right;\n",
       "    }\n",
       "</style>\n",
       "<table border=\"1\" class=\"dataframe\">\n",
       "  <thead>\n",
       "    <tr style=\"text-align: right;\">\n",
       "      <th></th>\n",
       "      <th>0</th>\n",
       "      <th>1</th>\n",
       "      <th>2</th>\n",
       "      <th>3</th>\n",
       "      <th>4</th>\n",
       "      <th>5</th>\n",
       "      <th>6</th>\n",
       "    </tr>\n",
       "  </thead>\n",
       "  <tbody>\n",
       "    <tr>\n",
       "      <th>0</th>\n",
       "      <td></td>\n",
       "      <td>México</td>\n",
       "      <td>Distrito Federal</td>\n",
       "      <td>Gustavo A. Madero</td>\n",
       "      <td>Acueducto de Guadalupe</td>\n",
       "      <td></td>\n",
       "      <td>None</td>\n",
       "    </tr>\n",
       "    <tr>\n",
       "      <th>1</th>\n",
       "      <td></td>\n",
       "      <td>México</td>\n",
       "      <td>Estado de México</td>\n",
       "      <td>Toluca</td>\n",
       "      <td>Metepec</td>\n",
       "      <td></td>\n",
       "      <td>None</td>\n",
       "    </tr>\n",
       "  </tbody>\n",
       "</table>\n",
       "</div>"
      ],
      "text/plain": [
       "  0       1                 2                  3                       4 5  \\\n",
       "0    México  Distrito Federal  Gustavo A. Madero  Acueducto de Guadalupe     \n",
       "1    México  Estado de México             Toluca                 Metepec     \n",
       "\n",
       "      6  \n",
       "0  None  \n",
       "1  None  "
      ]
     },
     "execution_count": 53,
     "metadata": {},
     "output_type": "execute_result"
    }
   ],
   "source": [
    "temp_df = df3[\"place_with_parent_names\"].str.split(\"|\",expand=True)\n",
    "temp_df.head(2)"
   ]
  },
  {
   "cell_type": "code",
   "execution_count": 54,
   "id": "bcc68c34",
   "metadata": {},
   "outputs": [
    {
     "data": {
      "text/plain": [
       "0    Distrito Federal\n",
       "1    Estado de México\n",
       "Name: 2, dtype: object"
      ]
     },
     "execution_count": 54,
     "metadata": {},
     "output_type": "execute_result"
    }
   ],
   "source": [
    "temp_df[2].head(2)"
   ]
  },
  {
   "cell_type": "code",
   "execution_count": 55,
   "id": "949140ce",
   "metadata": {},
   "outputs": [
    {
     "data": {
      "text/html": [
       "<div>\n",
       "<style scoped>\n",
       "    .dataframe tbody tr th:only-of-type {\n",
       "        vertical-align: middle;\n",
       "    }\n",
       "\n",
       "    .dataframe tbody tr th {\n",
       "        vertical-align: top;\n",
       "    }\n",
       "\n",
       "    .dataframe thead th {\n",
       "        text-align: right;\n",
       "    }\n",
       "</style>\n",
       "<table border=\"1\" class=\"dataframe\">\n",
       "  <thead>\n",
       "    <tr style=\"text-align: right;\">\n",
       "      <th></th>\n",
       "      <th>property_type</th>\n",
       "      <th>area_m2</th>\n",
       "      <th>price_usd</th>\n",
       "      <th>lat</th>\n",
       "      <th>lon</th>\n",
       "      <th>state</th>\n",
       "    </tr>\n",
       "  </thead>\n",
       "  <tbody>\n",
       "    <tr>\n",
       "      <th>0</th>\n",
       "      <td>apartment</td>\n",
       "      <td>71</td>\n",
       "      <td>48550.59</td>\n",
       "      <td>19.52589</td>\n",
       "      <td>-99.151703</td>\n",
       "      <td>Distrito Federal</td>\n",
       "    </tr>\n",
       "    <tr>\n",
       "      <th>1</th>\n",
       "      <td>house</td>\n",
       "      <td>233</td>\n",
       "      <td>168636.73</td>\n",
       "      <td>19.2640539</td>\n",
       "      <td>-99.5727534</td>\n",
       "      <td>Estado de México</td>\n",
       "    </tr>\n",
       "    <tr>\n",
       "      <th>2</th>\n",
       "      <td>house</td>\n",
       "      <td>300</td>\n",
       "      <td>86932.69</td>\n",
       "      <td>19.268629</td>\n",
       "      <td>-99.671722</td>\n",
       "      <td>Estado de México</td>\n",
       "    </tr>\n",
       "    <tr>\n",
       "      <th>4</th>\n",
       "      <td>apartment</td>\n",
       "      <td>84</td>\n",
       "      <td>68508.67</td>\n",
       "      <td>19.511938</td>\n",
       "      <td>-96.871956</td>\n",
       "      <td>Veracruz de Ignacio de la Llave</td>\n",
       "    </tr>\n",
       "    <tr>\n",
       "      <th>5</th>\n",
       "      <td>house</td>\n",
       "      <td>175</td>\n",
       "      <td>102763.00</td>\n",
       "      <td>20.689157</td>\n",
       "      <td>-103.366728</td>\n",
       "      <td>Jalisco</td>\n",
       "    </tr>\n",
       "  </tbody>\n",
       "</table>\n",
       "</div>"
      ],
      "text/plain": [
       "  property_type  area_m2  price_usd         lat          lon  \\\n",
       "0     apartment       71   48550.59    19.52589   -99.151703   \n",
       "1         house      233  168636.73  19.2640539  -99.5727534   \n",
       "2         house      300   86932.69   19.268629   -99.671722   \n",
       "4     apartment       84   68508.67   19.511938   -96.871956   \n",
       "5         house      175  102763.00   20.689157  -103.366728   \n",
       "\n",
       "                             state  \n",
       "0                 Distrito Federal  \n",
       "1                 Estado de México  \n",
       "2                 Estado de México  \n",
       "4  Veracruz de Ignacio de la Llave  \n",
       "5                          Jalisco  "
      ]
     },
     "execution_count": 55,
     "metadata": {},
     "output_type": "execute_result"
    }
   ],
   "source": [
    "df3[\"state\"] = temp_df[2]\n",
    "df3.drop(columns=[\"place_with_parent_names\",\"lat-lon\"], inplace=True)\n",
    "df3.head()"
   ]
  },
  {
   "cell_type": "markdown",
   "id": "f17a0148",
   "metadata": {},
   "source": [
    "#### Concatenating the DataFrames"
   ]
  },
  {
   "cell_type": "code",
   "execution_count": 56,
   "id": "760f876c",
   "metadata": {},
   "outputs": [],
   "source": [
    "# When we are concatenating DataFrames side by side, it is called axis 1. \n",
    "# If we are appending them one below the other, then it is called axis 0. "
   ]
  },
  {
   "cell_type": "code",
   "execution_count": 57,
   "id": "0e1e1593",
   "metadata": {},
   "outputs": [
    {
     "name": "stdout",
     "output_type": "stream",
     "text": [
      "(1736, 6)\n"
     ]
    }
   ],
   "source": [
    "df = pd.concat([df1,df2,df3], ignore_index=True)\n",
    "print(df.shape)"
   ]
  },
  {
   "cell_type": "markdown",
   "id": "3ae807b5",
   "metadata": {},
   "source": [
    "#### Saving the DataFrame into a csv"
   ]
  },
  {
   "cell_type": "code",
   "execution_count": 58,
   "id": "c15364ee",
   "metadata": {},
   "outputs": [],
   "source": [
    "df.to_csv(\"mexico-real-estate-clean.csv\", index=None)"
   ]
  }
 ],
 "metadata": {
  "kernelspec": {
   "display_name": "applied_data_science_lab",
   "language": "python",
   "name": "python3"
  },
  "language_info": {
   "codemirror_mode": {
    "name": "ipython",
    "version": 3
   },
   "file_extension": ".py",
   "mimetype": "text/x-python",
   "name": "python",
   "nbconvert_exporter": "python",
   "pygments_lexer": "ipython3",
   "version": "3.13.2"
  }
 },
 "nbformat": 4,
 "nbformat_minor": 5
}
