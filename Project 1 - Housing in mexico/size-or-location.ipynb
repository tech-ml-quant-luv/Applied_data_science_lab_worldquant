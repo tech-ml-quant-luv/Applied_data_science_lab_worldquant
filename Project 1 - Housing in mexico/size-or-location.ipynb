{
 "cells": [
  {
   "cell_type": "markdown",
   "id": "be7d8999",
   "metadata": {},
   "source": [
    "<table border=\"1\" class=\"dataframe\">\n",
    "  <thead>\n",
    "    <tr style=\"text-align: right;\">\n",
    "      <th></th>\n",
    "      <th>url</th>\n",
    "      <th>title</th>\n",
    "    </tr>\n",
    "  </thead>\n",
    "  <tbody>\n",
    "    <tr>\n",
    "      <th>0</th>\n",
    "      <td><a href=\"https://player.vimeo.com/video/656378731?h=8daa35d1e8\">https://player.vimeo.com/video/656378731?h=8daa35d1e8</a></td>\n",
    "      <td>Groupby Method</td>\n",
    "    </tr>\n",
    "    <tr>\n",
    "      <th>1</th>\n",
    "      <td><a href=\"https://player.vimeo.com/video/656378435?h=b3765f3339\">https://player.vimeo.com/video/656378435?h=b3765f3339</a></td>\n",
    "      <td>Bar Chart</td>\n",
    "    </tr>\n",
    "    <tr>\n",
    "      <th>2</th>\n",
    "      <td><a href=\"https://player.vimeo.com/video/656378342?h=2f4da7f7b4\">https://player.vimeo.com/video/656378342?h=2f4da7f7b4</a></td>\n",
    "      <td>Column per metre square</td>\n",
    "    </tr>\n",
    "    <tr>\n",
    "      <th>3</th>\n",
    "      <td><a href=\"https://player.vimeo.com/video/656377991?h=c7319b0458\">https://player.vimeo.com/video/656377991?h=c7319b0458</a></td>\n",
    "      <td>Bar chart with price per meter square</td>\n",
    "    </tr>\n",
    "    <tr>\n",
    "      <th>4</th>\n",
    "      <td><a href=\"https://player.vimeo.com/video/656377758?h=62546c7b86\">https://player.vimeo.com/video/656377758?h=62546c7b86</a></td>\n",
    "      <td>Research question 2</td>\n",
    "    </tr>\n",
    "    <tr>\n",
    "      <th>5</th>\n",
    "      <td><a href=\"https://player.vimeo.com/video/656377616?h=8d3b060e71\">https://player.vimeo.com/video/656377616?h=8d3b060e71</a></td>\n",
    "      <td>Research question 2 solution 1</td>\n",
    "    </tr>\n",
    "    <tr>\n",
    "      <th>6</th>\n",
    "      <td><a href=\"https://player.vimeo.com/video/656377515?h=d2478d38df\">https://player.vimeo.com/video/656377515?h=d2478d38df</a></td>\n",
    "      <td>Research question 2 solution 2</td>\n",
    "    </tr>\n",
    "    <tr>\n",
    "      <th>7</th>\n",
    "      <td><a href=\"https://player.vimeo.com/video/656377395?h=bd93b05ff9\">https://player.vimeo.com/video/656377395?h=bd93b05ff9</a></td>\n",
    "      <td>Research question 2 solution 3</td>\n",
    "    </tr>\n",
    "    <tr>\n",
    "      <th>8</th>\n",
    "      <td><a href=\"https://player.vimeo.com/video/656377340?h=664cb44291\">https://player.vimeo.com/video/656377340?h=664cb44291</a></td>\n",
    "      <td>Research question 2 solution 4</td>\n",
    "    </tr>\n",
    "    <tr>\n",
    "      <th>9</th>\n",
    "      <td><a href=\"https://player.vimeo.com/video/656376911?h=19666a4c87\">https://player.vimeo.com/video/656376911?h=19666a4c87</a></td>\n",
    "      <td>Research question 2 solution 5</td>\n",
    "    </tr>\n",
    "  </tbody>\n",
    "</table>"
   ]
  },
  {
   "cell_type": "code",
   "execution_count": 2,
   "id": "34a19798",
   "metadata": {},
   "outputs": [],
   "source": [
    "import pandas as pd\n",
    "df = pd.read_csv(\"mexico-real-estate-clean.csv\")"
   ]
  },
  {
   "cell_type": "markdown",
   "id": "2aa3249a",
   "metadata": {},
   "source": [
    "#### Research Question 1\n",
    "- Which state has the most expensive real estate market?"
   ]
  },
  {
   "cell_type": "code",
   "execution_count": 5,
   "id": "6491ae2a",
   "metadata": {},
   "outputs": [
    {
     "data": {
      "text/plain": [
       "state\n",
       "Aguascalientes                     110543.888000\n",
       "Baja California                     63152.431724\n",
       "Baja California Sur                109069.339333\n",
       "Campeche                           121734.633333\n",
       "Chiapas                            104342.313273\n",
       "Chihuahua                          127073.852000\n",
       "Colima                              65786.646000\n",
       "Distrito Federal                   128347.267426\n",
       "Durango                             78034.511429\n",
       "Estado de México                   122723.490503\n",
       "Guanajuato                         133277.965833\n",
       "Guerrero                           119854.276122\n",
       "Hidalgo                             94012.326471\n",
       "Jalisco                            123386.472167\n",
       "Morelos                            112697.295625\n",
       "Nayarit                             87378.605556\n",
       "Nuevo León                         129221.985663\n",
       "Oaxaca                              59681.585000\n",
       "Puebla                             121732.974000\n",
       "Querétaro                          133955.913281\n",
       "Quintana Roo                       128065.416053\n",
       "San Luis Potosí                     92435.540364\n",
       "Sinaloa                             93922.152308\n",
       "Sonora                             114547.883333\n",
       "Tabasco                             82763.587000\n",
       "Tamaulipas                          93713.385833\n",
       "Tlaxcala                            72921.818333\n",
       "Veracruz de Ignacio de la Llave     96928.125128\n",
       "Yucatán                            108580.388596\n",
       "Zacatecas                           76395.400000\n",
       "Name: price_usd, dtype: float64"
      ]
     },
     "execution_count": 5,
     "metadata": {},
     "output_type": "execute_result"
    }
   ],
   "source": [
    "# We will use the method chaining for this\n",
    "\n",
    "mean_price_by_state = df.groupby(\"state\")[\"price_usd\"].mean()\n",
    "mean_price_by_state"
   ]
  },
  {
   "cell_type": "code",
   "execution_count": null,
   "id": "8251bafb",
   "metadata": {},
   "outputs": [
    {
     "ename": "IndexError",
     "evalue": "tuple index out of range",
     "output_type": "error",
     "traceback": [
      "\u001b[31m---------------------------------------------------------------------------\u001b[39m",
      "\u001b[31mIndexError\u001b[39m                                Traceback (most recent call last)",
      "\u001b[36mCell\u001b[39m\u001b[36m \u001b[39m\u001b[32mIn[13]\u001b[39m\u001b[32m, line 4\u001b[39m\n\u001b[32m      2\u001b[39m \u001b[38;5;28;01mfor\u001b[39;00m items \u001b[38;5;129;01min\u001b[39;00m mean_price_by_state:\n\u001b[32m      3\u001b[39m     item1= items\n\u001b[32m----> \u001b[39m\u001b[32m4\u001b[39m \u001b[43mitem1\u001b[49m\u001b[43m[\u001b[49m\u001b[32;43m2\u001b[39;49m\u001b[43m]\u001b[49m\n",
      "\u001b[31mIndexError\u001b[39m: tuple index out of range"
     ]
    }
   ],
   "source": [
    "mean_price_by_state= df.groupby(\"state\")\n",
    "for items in mean_price_by_state:\n",
    "    item1= items\n",
    "print(item1)"
   ]
  }
 ],
 "metadata": {
  "kernelspec": {
   "display_name": "applied_data_science_lab",
   "language": "python",
   "name": "python3"
  },
  "language_info": {
   "codemirror_mode": {
    "name": "ipython",
    "version": 3
   },
   "file_extension": ".py",
   "mimetype": "text/x-python",
   "name": "python",
   "nbconvert_exporter": "python",
   "pygments_lexer": "ipython3",
   "version": "3.13.2"
  }
 },
 "nbformat": 4,
 "nbformat_minor": 5
}
