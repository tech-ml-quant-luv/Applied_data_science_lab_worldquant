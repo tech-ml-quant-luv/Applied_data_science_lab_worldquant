{
 "cells": [
  {
   "cell_type": "markdown",
   "id": "be7d8999",
   "metadata": {},
   "source": [
    "<table border=\"1\" class=\"dataframe\">\n",
    "  <thead>\n",
    "    <tr style=\"text-align: right;\">\n",
    "      <th></th>\n",
    "      <th>url</th>\n",
    "      <th>title</th>\n",
    "    </tr>\n",
    "  </thead>\n",
    "  <tbody>\n",
    "    <tr>\n",
    "      <th>0</th>\n",
    "      <td><a href=\"https://player.vimeo.com/video/656378731?h=8daa35d1e8\">https://player.vimeo.com/video/656378731?h=8daa35d1e8</a></td>\n",
    "      <td>Groupby Method</td>\n",
    "    </tr>\n",
    "    <tr>\n",
    "      <th>1</th>\n",
    "      <td><a href=\"https://player.vimeo.com/video/656378435?h=b3765f3339\">https://player.vimeo.com/video/656378435?h=b3765f3339</a></td>\n",
    "      <td>Bar Chart</td>\n",
    "    </tr>\n",
    "    <tr>\n",
    "      <th>2</th>\n",
    "      <td><a href=\"https://player.vimeo.com/video/656378342?h=2f4da7f7b4\">https://player.vimeo.com/video/656378342?h=2f4da7f7b4</a></td>\n",
    "      <td>Column per metre square</td>\n",
    "    </tr>\n",
    "    <tr>\n",
    "      <th>3</th>\n",
    "      <td><a href=\"https://player.vimeo.com/video/656377991?h=c7319b0458\">https://player.vimeo.com/video/656377991?h=c7319b0458</a></td>\n",
    "      <td>Bar chart with price per meter square</td>\n",
    "    </tr>\n",
    "    <tr>\n",
    "      <th>4</th>\n",
    "      <td><a href=\"https://player.vimeo.com/video/656377758?h=62546c7b86\">https://player.vimeo.com/video/656377758?h=62546c7b86</a></td>\n",
    "      <td>Research question 2</td>\n",
    "    </tr>\n",
    "    <tr>\n",
    "      <th>5</th>\n",
    "      <td><a href=\"https://player.vimeo.com/video/656377616?h=8d3b060e71\">https://player.vimeo.com/video/656377616?h=8d3b060e71</a></td>\n",
    "      <td>Research question 2 solution 1</td>\n",
    "    </tr>\n",
    "    <tr>\n",
    "      <th>6</th>\n",
    "      <td><a href=\"https://player.vimeo.com/video/656377515?h=d2478d38df\">https://player.vimeo.com/video/656377515?h=d2478d38df</a></td>\n",
    "      <td>Research question 2 solution 2</td>\n",
    "    </tr>\n",
    "    <tr>\n",
    "      <th>7</th>\n",
    "      <td><a href=\"https://player.vimeo.com/video/656377395?h=bd93b05ff9\">https://player.vimeo.com/video/656377395?h=bd93b05ff9</a></td>\n",
    "      <td>Research question 2 solution 3</td>\n",
    "    </tr>\n",
    "    <tr>\n",
    "      <th>8</th>\n",
    "      <td><a href=\"https://player.vimeo.com/video/656377340?h=664cb44291\">https://player.vimeo.com/video/656377340?h=664cb44291</a></td>\n",
    "      <td>Research question 2 solution 4</td>\n",
    "    </tr>\n",
    "    <tr>\n",
    "      <th>9</th>\n",
    "      <td><a href=\"https://player.vimeo.com/video/656376911?h=19666a4c87\">https://player.vimeo.com/video/656376911?h=19666a4c87</a></td>\n",
    "      <td>Research question 2 solution 5</td>\n",
    "    </tr>\n",
    "  </tbody>\n",
    "</table>"
   ]
  },
  {
   "cell_type": "code",
   "execution_count": 62,
   "id": "34a19798",
   "metadata": {},
   "outputs": [],
   "source": [
    "import pandas as pd\n",
    "import matplotlib.pyplot as plt\n",
    "df = pd.read_csv(\"mexico-real-estate-clean.csv\")"
   ]
  },
  {
   "cell_type": "markdown",
   "id": "2aa3249a",
   "metadata": {},
   "source": [
    "### Research Question 1\n",
    "- Which state has the most expensive real estate market?\n",
    "- Or the question can also be framed in this way - are the prices of the house someway related or correlated to the location(location)\n"
   ]
  },
  {
   "cell_type": "markdown",
   "id": "7c4b2c2f",
   "metadata": {},
   "source": [
    "##### Using the groupby function"
   ]
  },
  {
   "cell_type": "code",
   "execution_count": 63,
   "id": "6491ae2a",
   "metadata": {},
   "outputs": [
    {
     "data": {
      "application/vnd.microsoft.datawrangler.viewer.v0+json": {
       "columns": [
        {
         "name": "state",
         "rawType": "object",
         "type": "string"
        },
        {
         "name": "price_usd",
         "rawType": "float64",
         "type": "float"
        }
       ],
       "ref": "981d9516-577e-45b6-b8ed-7d1b108f667d",
       "rows": [
        [
         "Querétaro",
         "133955.91328125"
        ],
        [
         "Guanajuato",
         "133277.96583333335"
        ],
        [
         "Nuevo León",
         "129221.98566265061"
        ],
        [
         "Distrito Federal",
         "128347.26742574258"
        ],
        [
         "Quintana Roo",
         "128065.4160526316"
        ],
        [
         "Chihuahua",
         "127073.852"
        ],
        [
         "Jalisco",
         "123386.47216666667"
        ],
        [
         "Estado de México",
         "122723.4905027933"
        ],
        [
         "Campeche",
         "121734.63333333335"
        ],
        [
         "Puebla",
         "121732.97399999999"
        ],
        [
         "Guerrero",
         "119854.27612244898"
        ],
        [
         "Sonora",
         "114547.88333333335"
        ],
        [
         "Morelos",
         "112697.295625"
        ],
        [
         "Aguascalientes",
         "110543.88799999999"
        ],
        [
         "Baja California Sur",
         "109069.33933333334"
        ],
        [
         "Yucatán",
         "108580.38859649122"
        ],
        [
         "Chiapas",
         "104342.31327272728"
        ],
        [
         "Veracruz de Ignacio de la Llave",
         "96928.12512820514"
        ],
        [
         "Hidalgo",
         "94012.32647058823"
        ],
        [
         "Sinaloa",
         "93922.1523076923"
        ],
        [
         "Tamaulipas",
         "93713.38583333332"
        ],
        [
         "San Luis Potosí",
         "92435.54036363636"
        ],
        [
         "Nayarit",
         "87378.60555555555"
        ],
        [
         "Tabasco",
         "82763.587"
        ],
        [
         "Durango",
         "78034.51142857142"
        ],
        [
         "Zacatecas",
         "76395.4"
        ],
        [
         "Tlaxcala",
         "72921.81833333333"
        ],
        [
         "Colima",
         "65786.646"
        ],
        [
         "Baja California",
         "63152.43172413793"
        ],
        [
         "Oaxaca",
         "59681.585"
        ]
       ],
       "shape": {
        "columns": 1,
        "rows": 30
       }
      },
      "text/plain": [
       "state\n",
       "Querétaro                          133955.913281\n",
       "Guanajuato                         133277.965833\n",
       "Nuevo León                         129221.985663\n",
       "Distrito Federal                   128347.267426\n",
       "Quintana Roo                       128065.416053\n",
       "Chihuahua                          127073.852000\n",
       "Jalisco                            123386.472167\n",
       "Estado de México                   122723.490503\n",
       "Campeche                           121734.633333\n",
       "Puebla                             121732.974000\n",
       "Guerrero                           119854.276122\n",
       "Sonora                             114547.883333\n",
       "Morelos                            112697.295625\n",
       "Aguascalientes                     110543.888000\n",
       "Baja California Sur                109069.339333\n",
       "Yucatán                            108580.388596\n",
       "Chiapas                            104342.313273\n",
       "Veracruz de Ignacio de la Llave     96928.125128\n",
       "Hidalgo                             94012.326471\n",
       "Sinaloa                             93922.152308\n",
       "Tamaulipas                          93713.385833\n",
       "San Luis Potosí                     92435.540364\n",
       "Nayarit                             87378.605556\n",
       "Tabasco                             82763.587000\n",
       "Durango                             78034.511429\n",
       "Zacatecas                           76395.400000\n",
       "Tlaxcala                            72921.818333\n",
       "Colima                              65786.646000\n",
       "Baja California                     63152.431724\n",
       "Oaxaca                              59681.585000\n",
       "Name: price_usd, dtype: float64"
      ]
     },
     "execution_count": 63,
     "metadata": {},
     "output_type": "execute_result"
    }
   ],
   "source": [
    "# We will use the method chaining for this\n",
    "\n",
    "mean_price_by_state = df.groupby(\"state\")[\"price_usd\"].mean().sort_values(ascending=False)\n",
    "mean_price_by_state"
   ]
  },
  {
   "cell_type": "markdown",
   "id": "72e5888a",
   "metadata": {},
   "source": [
    "##### Using bar chart to visualise the chart\n",
    "\n",
    "- This chart will tell us what are the most expensive and least expensive states in mexico"
   ]
  },
  {
   "cell_type": "code",
   "execution_count": 64,
   "id": "bdf801da",
   "metadata": {},
   "outputs": [
    {
     "data": {
      "image/png": "[encoded data removed]",
      "text/plain": [
       "<Figure size 640x480 with 1 Axes>"
      ]
     },
     "metadata": {},
     "output_type": "display_data"
    }
   ],
   "source": [
    "mean_price_by_state.plot(   \n",
    "    kind=\"bar\",\n",
    "    xlabel=\"States\",\n",
    "    ylabel=\"Mean Prices [USD]\",\n",
    "    title=\"Mean house prices by state\"\n",
    ");"
   ]
  },
  {
   "cell_type": "markdown",
   "id": "3da0b48b",
   "metadata": {},
   "source": [
    "##### Making calculations based on domain expertise\n",
    "- Now, prices of the houses can vary a lot based on the area. The above table tells the house price, but we know that these prices can be misleading because we have not taken it's area into account. It is very much possible that in some states, the area availability is too much and houses are big mostly. Also, not necessarily the size of the house can be the only factor, because the surroundings, connectivity and other factors also contribute to the price of the house.. And in some states the houses are small and compact due to low area availability. \n",
    "- Therefore, We will use the mean price per square meter, which will give us the exact price by area and then we can find the mean."
   ]
  },
  {
   "cell_type": "markdown",
   "id": "9a2397e7",
   "metadata": {},
   "source": [
    "The mean(average or on an average) price per meter square (for each state) signifies -\n",
    "-   The typical cost per square meter in that state.\n",
    "-   Market rate for housing space in that region\n",
    "-   Allows direct comparison between states \n",
    "\n"
   ]
  },
  {
   "cell_type": "code",
   "execution_count": 65,
   "id": "8897aa6e",
   "metadata": {},
   "outputs": [
    {
     "data": {
      "application/vnd.microsoft.datawrangler.viewer.v0+json": {
       "columns": [
        {
         "name": "index",
         "rawType": "int64",
         "type": "integer"
        },
        {
         "name": "property_type",
         "rawType": "object",
         "type": "string"
        },
        {
         "name": "state",
         "rawType": "object",
         "type": "string"
        },
        {
         "name": "lat",
         "rawType": "float64",
         "type": "float"
        },
        {
         "name": "lon",
         "rawType": "float64",
         "type": "float"
        },
        {
         "name": "area_m2",
         "rawType": "int64",
         "type": "integer"
        },
        {
         "name": "price_usd",
         "rawType": "float64",
         "type": "float"
        },
        {
         "name": "price_per_m2",
         "rawType": "float64",
         "type": "float"
        }
       ],
       "ref": "56833226-cb3f-481d-92c0-12b39850e10e",
       "rows": [
        [
         "0",
         "house",
         "Estado de México",
         "19.560181",
         "-99.233528",
         "150",
         "67965.56",
         "453.1037333333333"
        ],
        [
         "1",
         "house",
         "Nuevo León",
         "25.6884355",
         "-100.1988071",
         "186",
         "63223.78",
         "339.9127956989247"
        ],
        [
         "2",
         "apartment",
         "Guerrero",
         "16.767704",
         "-99.764383",
         "82",
         "84298.37",
         "1028.0289024390243"
        ],
        [
         "3",
         "apartment",
         "Guerrero",
         "16.829782",
         "-99.911012",
         "150",
         "94308.8",
         "628.7253333333333"
        ],
        [
         "4",
         "house",
         "Yucatán",
         "21.0525830247",
         "-89.5386385918",
         "205",
         "105191.37",
         "513.1286341463415"
        ]
       ],
       "shape": {
        "columns": 7,
        "rows": 5
       }
      },
      "text/html": [
       "<div>\n",
       "<style scoped>\n",
       "    .dataframe tbody tr th:only-of-type {\n",
       "        vertical-align: middle;\n",
       "    }\n",
       "\n",
       "    .dataframe tbody tr th {\n",
       "        vertical-align: top;\n",
       "    }\n",
       "\n",
       "    .dataframe thead th {\n",
       "        text-align: right;\n",
       "    }\n",
       "</style>\n",
       "<table border=\"1\" class=\"dataframe\">\n",
       "  <thead>\n",
       "    <tr style=\"text-align: right;\">\n",
       "      <th></th>\n",
       "      <th>property_type</th>\n",
       "      <th>state</th>\n",
       "      <th>lat</th>\n",
       "      <th>lon</th>\n",
       "      <th>area_m2</th>\n",
       "      <th>price_usd</th>\n",
       "      <th>price_per_m2</th>\n",
       "    </tr>\n",
       "  </thead>\n",
       "  <tbody>\n",
       "    <tr>\n",
       "      <th>0</th>\n",
       "      <td>house</td>\n",
       "      <td>Estado de México</td>\n",
       "      <td>19.560181</td>\n",
       "      <td>-99.233528</td>\n",
       "      <td>150</td>\n",
       "      <td>67965.56</td>\n",
       "      <td>453.103733</td>\n",
       "    </tr>\n",
       "    <tr>\n",
       "      <th>1</th>\n",
       "      <td>house</td>\n",
       "      <td>Nuevo León</td>\n",
       "      <td>25.688436</td>\n",
       "      <td>-100.198807</td>\n",
       "      <td>186</td>\n",
       "      <td>63223.78</td>\n",
       "      <td>339.912796</td>\n",
       "    </tr>\n",
       "    <tr>\n",
       "      <th>2</th>\n",
       "      <td>apartment</td>\n",
       "      <td>Guerrero</td>\n",
       "      <td>16.767704</td>\n",
       "      <td>-99.764383</td>\n",
       "      <td>82</td>\n",
       "      <td>84298.37</td>\n",
       "      <td>1028.028902</td>\n",
       "    </tr>\n",
       "    <tr>\n",
       "      <th>3</th>\n",
       "      <td>apartment</td>\n",
       "      <td>Guerrero</td>\n",
       "      <td>16.829782</td>\n",
       "      <td>-99.911012</td>\n",
       "      <td>150</td>\n",
       "      <td>94308.80</td>\n",
       "      <td>628.725333</td>\n",
       "    </tr>\n",
       "    <tr>\n",
       "      <th>4</th>\n",
       "      <td>house</td>\n",
       "      <td>Yucatán</td>\n",
       "      <td>21.052583</td>\n",
       "      <td>-89.538639</td>\n",
       "      <td>205</td>\n",
       "      <td>105191.37</td>\n",
       "      <td>513.128634</td>\n",
       "    </tr>\n",
       "  </tbody>\n",
       "</table>\n",
       "</div>"
      ],
      "text/plain": [
       "  property_type             state        lat         lon  area_m2  price_usd  \\\n",
       "0         house  Estado de México  19.560181  -99.233528      150   67965.56   \n",
       "1         house        Nuevo León  25.688436 -100.198807      186   63223.78   \n",
       "2     apartment          Guerrero  16.767704  -99.764383       82   84298.37   \n",
       "3     apartment          Guerrero  16.829782  -99.911012      150   94308.80   \n",
       "4         house           Yucatán  21.052583  -89.538639      205  105191.37   \n",
       "\n",
       "   price_per_m2  \n",
       "0    453.103733  \n",
       "1    339.912796  \n",
       "2   1028.028902  \n",
       "3    628.725333  \n",
       "4    513.128634  "
      ]
     },
     "execution_count": 65,
     "metadata": {},
     "output_type": "execute_result"
    }
   ],
   "source": [
    "df[\"price_per_m2\"] = df[\"price_usd\"]/df[\"area_m2\"]\n",
    "df.head()"
   ]
  },
  {
   "cell_type": "code",
   "execution_count": 66,
   "id": "76cd4c86",
   "metadata": {},
   "outputs": [
    {
     "data": {
      "text/plain": [
       "<Axes: title={'center': 'Mean House Price per m2 by state'}, xlabel='state', ylabel='Mean Price per square meter'>"
      ]
     },
     "execution_count": 66,
     "metadata": {},
     "output_type": "execute_result"
    },
    {
     "data": {
      "image/png": "[encoded data removed]",
      "text/plain": [
       "<Figure size 640x480 with 1 Axes>"
      ]
     },
     "metadata": {},
     "output_type": "display_data"
    }
   ],
   "source": [
    "(df\n",
    " .groupby(\"state\")\n",
    " [\"price_per_m2\"]\n",
    " .mean()\n",
    " .sort_values(ascending=False)\n",
    " .plot(\n",
    "     kind=\"bar\",\n",
    "     xlabel=\"state\",\n",
    "     ylabel=\"Mean Price per square meter\",\n",
    "     title=\"Mean House Price per m2 by state\"\n",
    " )\n",
    " )"
   ]
  },
  {
   "cell_type": "markdown",
   "id": "57428af0",
   "metadata": {},
   "source": [
    "Answer : <p style=\"color:orange\"> Capital Mexico City (Distrito Federal) is by far the most expensive market. Additionally, many of the top 10 states by GDP are also in the top 10 most expensive real estate markets. So it looks like this bar chart is a more accurate reflection of state real estate markets."
   ]
  },
  {
   "cell_type": "markdown",
   "id": "1eca413d",
   "metadata": {},
   "source": [
    "### Research Question 2\n",
    "- Is there a relationship between home size and price?\n",
    "- From our previous question, we know that the location of a home affects its price (especially if it's in Mexico City), but what about home size? Does the size of a house influence price?\n",
    "\n",
    "A scatter plot can be helpful when evaluating the relationship between two columns because it lets you see if two variables are correlated — in this case, if an increase in home size is associated with an increase in price."
   ]
  },
  {
   "cell_type": "code",
   "execution_count": 67,
   "id": "f0074398",
   "metadata": {},
   "outputs": [
    {
     "data": {
      "image/png": "[encoded data removed]",
      "text/plain": [
       "<Figure size 640x480 with 1 Axes>"
      ]
     },
     "metadata": {},
     "output_type": "display_data"
    }
   ],
   "source": [
    "plt.scatter(df[\"area_m2\"],df[\"price_usd\"])\n",
    "plt.xlabel(\"Area of the House\")\n",
    "plt.ylabel(\"Price [USD]\")\n",
    "plt.title(\"Prices vs Area\"); # What we have in Y axis comes first and X axis later"
   ]
  },
  {
   "cell_type": "markdown",
   "id": "3c443d7c",
   "metadata": {},
   "source": [
    "<p style=\"color:yellow\"> Price vs Area correlation </p>\n",
    "- To establish a relation between two variables, we use a correlation coefficient or pearson correlation coefficient </p>\n",
    "- The value of coefficient is between -1 and 1 where 1 means strong correlation, -1 means negative strong correlation(inversely proportional) and 0 means no correlation at all."
   ]
  },
  {
   "cell_type": "code",
   "execution_count": 68,
   "id": "176591e8",
   "metadata": {},
   "outputs": [
    {
     "name": "stdout",
     "output_type": "stream",
     "text": [
      "0.59\n"
     ]
    }
   ],
   "source": [
    "p_correlation = df[\"area_m2\"].corr(df[\"price_usd\"])\n",
    "print(p_correlation.round(2))"
   ]
  },
  {
   "cell_type": "code",
   "execution_count": 69,
   "id": "fa818ce4",
   "metadata": {},
   "outputs": [
    {
     "data": {
      "application/vnd.microsoft.datawrangler.viewer.v0+json": {
       "columns": [
        {
         "name": "index",
         "rawType": "int64",
         "type": "integer"
        },
        {
         "name": "property_type",
         "rawType": "object",
         "type": "string"
        },
        {
         "name": "state",
         "rawType": "object",
         "type": "string"
        },
        {
         "name": "lat",
         "rawType": "float64",
         "type": "float"
        },
        {
         "name": "lon",
         "rawType": "float64",
         "type": "float"
        },
        {
         "name": "area_m2",
         "rawType": "int64",
         "type": "integer"
        },
        {
         "name": "price_usd",
         "rawType": "float64",
         "type": "float"
        },
        {
         "name": "price_per_m2",
         "rawType": "float64",
         "type": "float"
        }
       ],
       "ref": "9c60a28a-8357-4476-913d-740f5c76b6ea",
       "rows": [
        [
         "6",
         "house",
         "Morelos",
         "18.8126047",
         "-98.9548261",
         "281",
         "151509.56",
         "539.1799288256228"
        ],
        [
         "9",
         "house",
         "Morelos",
         "18.804197",
         "-98.932816",
         "117",
         "63223.78",
         "540.374188034188"
        ],
        [
         "18",
         "house",
         "Morelos",
         "18.855343",
         "-99.241142",
         "73",
         "36775.16",
         "503.7693150684932"
        ],
        [
         "49",
         "house",
         "Morelos",
         "18.804197",
         "-98.932816",
         "130",
         "65858.1",
         "506.6007692307693"
        ],
        [
         "55",
         "house",
         "Morelos",
         "18.960244",
         "-99.212962",
         "305",
         "227351.46",
         "745.4146229508196"
        ],
        [
         "89",
         "house",
         "Morelos",
         "18.942068",
         "-99.242531",
         "290",
         "242415.29",
         "835.9147931034483"
        ],
        [
         "93",
         "house",
         "Morelos",
         "18.917542",
         "-98.963181",
         "220",
         "110641.61",
         "502.9164090909091"
        ],
        [
         "107",
         "house",
         "Morelos",
         "18.918608",
         "-98.941094",
         "247",
         "142287.24",
         "576.0617004048582"
        ],
        [
         "132",
         "house",
         "Morelos",
         "18.903454",
         "-99.056687",
         "145",
         "89567.02",
         "617.7035862068966"
        ],
        [
         "134",
         "house",
         "Morelos",
         "18.8917916491",
         "-99.2227220535",
         "183",
         "147557.13",
         "806.3231147540984"
        ],
        [
         "152",
         "house",
         "Morelos",
         "18.93409",
         "-99.254997",
         "218",
         "143530.93",
         "658.3987614678899"
        ],
        [
         "188",
         "house",
         "Morelos",
         "18.795519",
         "-99.231445",
         "150",
         "67438.69",
         "449.5912666666667"
        ],
        [
         "221",
         "house",
         "Morelos",
         "18.8493694",
         "-98.9479805",
         "250",
         "84298.37",
         "337.19347999999997"
        ],
        [
         "223",
         "house",
         "Morelos",
         "18.942068",
         "-99.242531",
         "320",
         "289844.37",
         "905.7636562499999"
        ],
        [
         "228",
         "house",
         "Morelos",
         "18.882006",
         "-99.148384",
         "240",
         "100104.31",
         "417.10129166666667"
        ],
        [
         "231",
         "house",
         "Morelos",
         "18.8736789",
         "-99.1922665",
         "257",
         "188398.84",
         "733.0694163424124"
        ],
        [
         "236",
         "apartment",
         "Morelos",
         "18.917393",
         "-99.221062",
         "127",
         "57955.13",
         "456.33960629921256"
        ],
        [
         "252",
         "house",
         "Morelos",
         "18.917542",
         "-98.963181",
         "200",
         "131747.44",
         "658.7372"
        ],
        [
         "258",
         "house",
         "Morelos",
         "18.900945",
         "-99.232574",
         "279",
         "142253.5",
         "509.86917562724017"
        ],
        [
         "273",
         "house",
         "Morelos",
         "18.814863",
         "-99.211439",
         "97",
         "68492.42",
         "706.1074226804124"
        ],
        [
         "283",
         "apartment",
         "Morelos",
         "18.957352",
         "-99.260544",
         "76",
         "52698.97",
         "693.4075"
        ],
        [
         "284",
         "house",
         "Morelos",
         "18.845494",
         "-99.20547",
         "136",
         "71765.83",
         "527.6899264705883"
        ],
        [
         "297",
         "house",
         "Morelos",
         "18.920158",
         "-99.180214",
         "85",
         "48734.99",
         "573.3528235294117"
        ],
        [
         "298",
         "house",
         "Morelos",
         "18.916586",
         "-99.214371",
         "272",
         "262967.9",
         "966.79375"
        ],
        [
         "321",
         "house",
         "Morelos",
         "18.804197",
         "-98.932816",
         "117",
         "65858.1",
         "562.8897435897436"
        ],
        [
         "342",
         "house",
         "Morelos",
         "18.954132",
         "-99.266083",
         "210",
         "86932.69",
         "413.9651904761905"
        ],
        [
         "344",
         "house",
         "Morelos",
         "18.882725",
         "-99.163605",
         "112",
         "86953.31",
         "776.3688392857142"
        ],
        [
         "355",
         "house",
         "Morelos",
         "18.862602",
         "-99.213448",
         "320",
         "173906.62",
         "543.4581875"
        ],
        [
         "368",
         "house",
         "Morelos",
         "18.905066",
         "-99.224869",
         "120",
         "121178.91",
         "1009.82425"
        ],
        [
         "404",
         "house",
         "Morelos",
         "18.813505",
         "-98.953514",
         "66",
         "34246.21",
         "518.8819696969697"
        ],
        [
         "410",
         "house",
         "Morelos",
         "18.948109",
         "-99.26886",
         "200",
         "155461.98",
         "777.3099000000001"
        ],
        [
         "425",
         "house",
         "Morelos",
         "18.970675",
         "-99.288261",
         "333",
         "156742.28",
         "470.6975375375375"
        ],
        [
         "426",
         "house",
         "Morelos",
         "18.813505",
         "-98.953514",
         "90",
         "52686.48",
         "585.4053333333334"
        ],
        [
         "435",
         "house",
         "Morelos",
         "18.927336",
         "-99.213448",
         "145",
         "121178.91",
         "835.7166206896552"
        ],
        [
         "442",
         "house",
         "Morelos",
         "18.879347",
         "-99.179871",
         "184",
         "136984.85",
         "744.4828804347826"
        ],
        [
         "444",
         "house",
         "Morelos",
         "23.634501",
         "-102.552788",
         "338",
         "147522.15",
         "436.4560650887574"
        ],
        [
         "447",
         "house",
         "Morelos",
         "18.858107",
         "-99.200287",
         "78",
         "34246.21",
         "439.05397435897436"
        ],
        [
         "448",
         "house",
         "Morelos",
         "18.945309",
         "-99.22372",
         "380",
         "263432.41",
         "693.2431842105262"
        ],
        [
         "463",
         "house",
         "Morelos",
         "18.811808",
         "-98.94649",
         "100",
         "47417.83",
         "474.17830000000004"
        ],
        [
         "479",
         "house",
         "Morelos",
         "18.9212022",
         "-99.1739857",
         "125",
         "62184.79",
         "497.47832"
        ],
        [
         "485",
         "house",
         "Morelos",
         "18.891859",
         "-99.187134",
         "320",
         "210795.91",
         "658.73721875"
        ],
        [
         "517",
         "apartment",
         "Morelos",
         "18.9701939816",
         "-99.2423853278",
         "117",
         "123813.23",
         "1058.232735042735"
        ],
        [
         "525",
         "house",
         "Morelos",
         "18.942068",
         "-99.242531",
         "200",
         "184446.42",
         "922.2321000000001"
        ],
        [
         "533",
         "house",
         "Morelos",
         "18.936026",
         "-99.216217",
         "286",
         "209692.2",
         "733.1895104895106"
        ],
        [
         "538",
         "house",
         "Morelos",
         "18.866121",
         "-99.231445",
         "180",
         "147522.15",
         "819.5675"
        ],
        [
         "560",
         "house",
         "Morelos",
         "18.864874",
         "-98.925911",
         "60",
         "34246.21",
         "570.7701666666667"
        ],
        [
         "573",
         "house",
         "Morelos",
         "18.897581",
         "-99.07093",
         "306",
         "208160.96",
         "680.2645751633987"
        ],
        [
         "575",
         "house",
         "Morelos",
         "18.917542",
         "-98.963181",
         "182",
         "97469.99",
         "535.5493956043956"
        ],
        [
         "584",
         "house",
         "Morelos",
         "23.634501",
         "-102.552788",
         "360",
         "278947.37",
         "774.8538055555556"
        ],
        [
         "604",
         "house",
         "Morelos",
         "18.813908",
         "-99.201675",
         "86",
         "52631.58",
         "611.9951162790697"
        ]
       ],
       "shape": {
        "columns": 7,
        "rows": 160
       }
      },
      "text/html": [
       "<div>\n",
       "<style scoped>\n",
       "    .dataframe tbody tr th:only-of-type {\n",
       "        vertical-align: middle;\n",
       "    }\n",
       "\n",
       "    .dataframe tbody tr th {\n",
       "        vertical-align: top;\n",
       "    }\n",
       "\n",
       "    .dataframe thead th {\n",
       "        text-align: right;\n",
       "    }\n",
       "</style>\n",
       "<table border=\"1\" class=\"dataframe\">\n",
       "  <thead>\n",
       "    <tr style=\"text-align: right;\">\n",
       "      <th></th>\n",
       "      <th>property_type</th>\n",
       "      <th>state</th>\n",
       "      <th>lat</th>\n",
       "      <th>lon</th>\n",
       "      <th>area_m2</th>\n",
       "      <th>price_usd</th>\n",
       "      <th>price_per_m2</th>\n",
       "    </tr>\n",
       "  </thead>\n",
       "  <tbody>\n",
       "    <tr>\n",
       "      <th>6</th>\n",
       "      <td>house</td>\n",
       "      <td>Morelos</td>\n",
       "      <td>18.812605</td>\n",
       "      <td>-98.954826</td>\n",
       "      <td>281</td>\n",
       "      <td>151509.56</td>\n",
       "      <td>539.179929</td>\n",
       "    </tr>\n",
       "    <tr>\n",
       "      <th>9</th>\n",
       "      <td>house</td>\n",
       "      <td>Morelos</td>\n",
       "      <td>18.804197</td>\n",
       "      <td>-98.932816</td>\n",
       "      <td>117</td>\n",
       "      <td>63223.78</td>\n",
       "      <td>540.374188</td>\n",
       "    </tr>\n",
       "    <tr>\n",
       "      <th>18</th>\n",
       "      <td>house</td>\n",
       "      <td>Morelos</td>\n",
       "      <td>18.855343</td>\n",
       "      <td>-99.241142</td>\n",
       "      <td>73</td>\n",
       "      <td>36775.16</td>\n",
       "      <td>503.769315</td>\n",
       "    </tr>\n",
       "    <tr>\n",
       "      <th>49</th>\n",
       "      <td>house</td>\n",
       "      <td>Morelos</td>\n",
       "      <td>18.804197</td>\n",
       "      <td>-98.932816</td>\n",
       "      <td>130</td>\n",
       "      <td>65858.10</td>\n",
       "      <td>506.600769</td>\n",
       "    </tr>\n",
       "    <tr>\n",
       "      <th>55</th>\n",
       "      <td>house</td>\n",
       "      <td>Morelos</td>\n",
       "      <td>18.960244</td>\n",
       "      <td>-99.212962</td>\n",
       "      <td>305</td>\n",
       "      <td>227351.46</td>\n",
       "      <td>745.414623</td>\n",
       "    </tr>\n",
       "    <tr>\n",
       "      <th>...</th>\n",
       "      <td>...</td>\n",
       "      <td>...</td>\n",
       "      <td>...</td>\n",
       "      <td>...</td>\n",
       "      <td>...</td>\n",
       "      <td>...</td>\n",
       "      <td>...</td>\n",
       "    </tr>\n",
       "    <tr>\n",
       "      <th>1708</th>\n",
       "      <td>house</td>\n",
       "      <td>Morelos</td>\n",
       "      <td>18.835637</td>\n",
       "      <td>-99.252857</td>\n",
       "      <td>200</td>\n",
       "      <td>63223.78</td>\n",
       "      <td>316.118900</td>\n",
       "    </tr>\n",
       "    <tr>\n",
       "      <th>1713</th>\n",
       "      <td>apartment</td>\n",
       "      <td>Morelos</td>\n",
       "      <td>18.963312</td>\n",
       "      <td>-99.214456</td>\n",
       "      <td>76</td>\n",
       "      <td>43729.78</td>\n",
       "      <td>575.391842</td>\n",
       "    </tr>\n",
       "    <tr>\n",
       "      <th>1725</th>\n",
       "      <td>house</td>\n",
       "      <td>Morelos</td>\n",
       "      <td>23.634501</td>\n",
       "      <td>-102.552788</td>\n",
       "      <td>180</td>\n",
       "      <td>63223.78</td>\n",
       "      <td>351.243222</td>\n",
       "    </tr>\n",
       "    <tr>\n",
       "      <th>1729</th>\n",
       "      <td>house</td>\n",
       "      <td>Morelos</td>\n",
       "      <td>18.842861</td>\n",
       "      <td>-99.225906</td>\n",
       "      <td>120</td>\n",
       "      <td>105372.96</td>\n",
       "      <td>878.108000</td>\n",
       "    </tr>\n",
       "    <tr>\n",
       "      <th>1732</th>\n",
       "      <td>house</td>\n",
       "      <td>Morelos</td>\n",
       "      <td>18.928986</td>\n",
       "      <td>-99.180215</td>\n",
       "      <td>100</td>\n",
       "      <td>47417.83</td>\n",
       "      <td>474.178300</td>\n",
       "    </tr>\n",
       "  </tbody>\n",
       "</table>\n",
       "<p>160 rows × 7 columns</p>\n",
       "</div>"
      ],
      "text/plain": [
       "     property_type    state        lat         lon  area_m2  price_usd  \\\n",
       "6            house  Morelos  18.812605  -98.954826      281  151509.56   \n",
       "9            house  Morelos  18.804197  -98.932816      117   63223.78   \n",
       "18           house  Morelos  18.855343  -99.241142       73   36775.16   \n",
       "49           house  Morelos  18.804197  -98.932816      130   65858.10   \n",
       "55           house  Morelos  18.960244  -99.212962      305  227351.46   \n",
       "...            ...      ...        ...         ...      ...        ...   \n",
       "1708         house  Morelos  18.835637  -99.252857      200   63223.78   \n",
       "1713     apartment  Morelos  18.963312  -99.214456       76   43729.78   \n",
       "1725         house  Morelos  23.634501 -102.552788      180   63223.78   \n",
       "1729         house  Morelos  18.842861  -99.225906      120  105372.96   \n",
       "1732         house  Morelos  18.928986  -99.180215      100   47417.83   \n",
       "\n",
       "      price_per_m2  \n",
       "6       539.179929  \n",
       "9       540.374188  \n",
       "18      503.769315  \n",
       "49      506.600769  \n",
       "55      745.414623  \n",
       "...            ...  \n",
       "1708    316.118900  \n",
       "1713    575.391842  \n",
       "1725    351.243222  \n",
       "1729    878.108000  \n",
       "1732    474.178300  \n",
       "\n",
       "[160 rows x 7 columns]"
      ]
     },
     "execution_count": 69,
     "metadata": {},
     "output_type": "execute_result"
    }
   ],
   "source": [
    "# Subset to Morelos\n",
    "df_morelos = df[df[\"state\"]== \"Morelos\"]\n",
    "df_morelos"
   ]
  },
  {
   "cell_type": "code",
   "execution_count": 70,
   "id": "df61c6e4",
   "metadata": {},
   "outputs": [
    {
     "data": {
      "image/png": "[encoded data removed]",
      "text/plain": [
       "<Figure size 640x480 with 1 Axes>"
      ]
     },
     "metadata": {},
     "output_type": "display_data"
    }
   ],
   "source": [
    "plt.scatter(df_morelos[\"area_m2\"], df_morelos[\"price_usd\"])\n",
    "plt.xlabel(\"Area m2\")\n",
    "plt.ylabel(\"Price USD\")\n",
    "plt.title(\"Morelo Price vs Area\");"
   ]
  },
  {
   "cell_type": "code",
   "execution_count": 71,
   "id": "f12748b3",
   "metadata": {},
   "outputs": [
    {
     "name": "stdout",
     "output_type": "stream",
     "text": [
      "0.8498077608713712\n"
     ]
    }
   ],
   "source": [
    "p_correlation = df_morelos[\"area_m2\"].corr(df_morelos[\"price_usd\"])\n",
    "print(p_correlation)"
   ]
  },
  {
   "cell_type": "code",
   "execution_count": 72,
   "id": "4e13b15f",
   "metadata": {},
   "outputs": [
    {
     "data": {
      "application/vnd.microsoft.datawrangler.viewer.v0+json": {
       "columns": [
        {
         "name": "index",
         "rawType": "int64",
         "type": "integer"
        },
        {
         "name": "property_type",
         "rawType": "object",
         "type": "string"
        },
        {
         "name": "state",
         "rawType": "object",
         "type": "string"
        },
        {
         "name": "lat",
         "rawType": "float64",
         "type": "float"
        },
        {
         "name": "lon",
         "rawType": "float64",
         "type": "float"
        },
        {
         "name": "area_m2",
         "rawType": "int64",
         "type": "integer"
        },
        {
         "name": "price_usd",
         "rawType": "float64",
         "type": "float"
        },
        {
         "name": "price_per_m2",
         "rawType": "float64",
         "type": "float"
        }
       ],
       "ref": "a7a2a448-7a53-4422-8878-a6d7fef33fe4",
       "rows": [
        [
         "14",
         "apartment",
         "Distrito Federal",
         "19.390748",
         "-99.158695",
         "127",
         "131716.2",
         "1037.1354330708662"
        ],
        [
         "16",
         "house",
         "Distrito Federal",
         "19.337652",
         "-99.2233268",
         "297",
         "264390.77",
         "890.2046127946129"
        ],
        [
         "20",
         "apartment",
         "Distrito Federal",
         "19.403334",
         "-99.157755",
         "129",
         "131716.2",
         "1021.0558139534885"
        ],
        [
         "21",
         "apartment",
         "Distrito Federal",
         "19.428152",
         "-99.106194",
         "68",
         "67175.26",
         "987.8714705882352"
        ],
        [
         "26",
         "apartment",
         "Distrito Federal",
         "19.430141",
         "-99.172536",
         "97",
         "104846.1",
         "1080.8876288659794"
        ]
       ],
       "shape": {
        "columns": 7,
        "rows": 5
       }
      },
      "text/html": [
       "<div>\n",
       "<style scoped>\n",
       "    .dataframe tbody tr th:only-of-type {\n",
       "        vertical-align: middle;\n",
       "    }\n",
       "\n",
       "    .dataframe tbody tr th {\n",
       "        vertical-align: top;\n",
       "    }\n",
       "\n",
       "    .dataframe thead th {\n",
       "        text-align: right;\n",
       "    }\n",
       "</style>\n",
       "<table border=\"1\" class=\"dataframe\">\n",
       "  <thead>\n",
       "    <tr style=\"text-align: right;\">\n",
       "      <th></th>\n",
       "      <th>property_type</th>\n",
       "      <th>state</th>\n",
       "      <th>lat</th>\n",
       "      <th>lon</th>\n",
       "      <th>area_m2</th>\n",
       "      <th>price_usd</th>\n",
       "      <th>price_per_m2</th>\n",
       "    </tr>\n",
       "  </thead>\n",
       "  <tbody>\n",
       "    <tr>\n",
       "      <th>14</th>\n",
       "      <td>apartment</td>\n",
       "      <td>Distrito Federal</td>\n",
       "      <td>19.390748</td>\n",
       "      <td>-99.158695</td>\n",
       "      <td>127</td>\n",
       "      <td>131716.20</td>\n",
       "      <td>1037.135433</td>\n",
       "    </tr>\n",
       "    <tr>\n",
       "      <th>16</th>\n",
       "      <td>house</td>\n",
       "      <td>Distrito Federal</td>\n",
       "      <td>19.337652</td>\n",
       "      <td>-99.223327</td>\n",
       "      <td>297</td>\n",
       "      <td>264390.77</td>\n",
       "      <td>890.204613</td>\n",
       "    </tr>\n",
       "    <tr>\n",
       "      <th>20</th>\n",
       "      <td>apartment</td>\n",
       "      <td>Distrito Federal</td>\n",
       "      <td>19.403334</td>\n",
       "      <td>-99.157755</td>\n",
       "      <td>129</td>\n",
       "      <td>131716.20</td>\n",
       "      <td>1021.055814</td>\n",
       "    </tr>\n",
       "    <tr>\n",
       "      <th>21</th>\n",
       "      <td>apartment</td>\n",
       "      <td>Distrito Federal</td>\n",
       "      <td>19.428152</td>\n",
       "      <td>-99.106194</td>\n",
       "      <td>68</td>\n",
       "      <td>67175.26</td>\n",
       "      <td>987.871471</td>\n",
       "    </tr>\n",
       "    <tr>\n",
       "      <th>26</th>\n",
       "      <td>apartment</td>\n",
       "      <td>Distrito Federal</td>\n",
       "      <td>19.430141</td>\n",
       "      <td>-99.172536</td>\n",
       "      <td>97</td>\n",
       "      <td>104846.10</td>\n",
       "      <td>1080.887629</td>\n",
       "    </tr>\n",
       "  </tbody>\n",
       "</table>\n",
       "</div>"
      ],
      "text/plain": [
       "   property_type             state        lat        lon  area_m2  price_usd  \\\n",
       "14     apartment  Distrito Federal  19.390748 -99.158695      127  131716.20   \n",
       "16         house  Distrito Federal  19.337652 -99.223327      297  264390.77   \n",
       "20     apartment  Distrito Federal  19.403334 -99.157755      129  131716.20   \n",
       "21     apartment  Distrito Federal  19.428152 -99.106194       68   67175.26   \n",
       "26     apartment  Distrito Federal  19.430141 -99.172536       97  104846.10   \n",
       "\n",
       "    price_per_m2  \n",
       "14   1037.135433  \n",
       "16    890.204613  \n",
       "20   1021.055814  \n",
       "21    987.871471  \n",
       "26   1080.887629  "
      ]
     },
     "execution_count": 72,
     "metadata": {},
     "output_type": "execute_result"
    }
   ],
   "source": [
    "df_mexico_city = df[df[\"state\"]==\"Distrito Federal\"]\n",
    "df_mexico_city.head()"
   ]
  },
  {
   "cell_type": "code",
   "execution_count": 73,
   "id": "6ed4c29f",
   "metadata": {},
   "outputs": [
    {
     "data": {
      "image/png": "[encoded data removed]",
      "text/plain": [
       "<Figure size 640x480 with 1 Axes>"
      ]
     },
     "metadata": {},
     "output_type": "display_data"
    }
   ],
   "source": [
    "plt.scatter(df_mexico_city[\"area_m2\"], df_mexico_city[\"price_usd\"])\n",
    "plt.xlabel(\"Area of Houses in meter square\")\n",
    "plt.ylabel(\"Price [USD]\")\n",
    "plt.title(\"Price vs Area of Mexico City\")\n",
    "plt.show()"
   ]
  },
  {
   "cell_type": "code",
   "execution_count": 74,
   "id": "99cd9e49",
   "metadata": {},
   "outputs": [
    {
     "name": "stdout",
     "output_type": "stream",
     "text": [
      "0.41070392130717864\n"
     ]
    }
   ],
   "source": [
    "p_correlation = df_mexico_city[\"area_m2\"].corr(df_mexico_city[\"price_usd\"])\n",
    "print(p_correlation)"
   ]
  },
  {
   "cell_type": "markdown",
   "id": "56c5439f",
   "metadata": {},
   "source": [
    "Answer - <p style=\"color:yellow\"> Looking at the scatter plot and correlation coefficient, there's see a weak relationship between size and price. How should we interpret this?\n",
    "\n",
    "One interpretation is that the relationship we see between size and price in many states doesn't hold true in the country's biggest and most economically powerful urban center because there are other factors that have a larger influence on price. In fact, in the next project, we're going to look at another important Latin American city — Buenos Aires, Argentina — and build a model that predicts housing price by taking much more than size into account. </p>"
   ]
  }
 ],
 "metadata": {
  "kernelspec": {
   "display_name": "applied_data_science_lab",
   "language": "python",
   "name": "python3"
  },
  "language_info": {
   "codemirror_mode": {
    "name": "ipython",
    "version": 3
   },
   "file_extension": ".py",
   "mimetype": "text/x-python",
   "name": "python",
   "nbconvert_exporter": "python",
   "pygments_lexer": "ipython3",
   "version": "3.13.2"
  }
 },
 "nbformat": 4,
 "nbformat_minor": 5
}
