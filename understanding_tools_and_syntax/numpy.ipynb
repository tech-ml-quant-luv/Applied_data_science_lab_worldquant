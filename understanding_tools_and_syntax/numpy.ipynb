{
 "cells": [
  {
   "cell_type": "code",
   "execution_count": 24,
   "id": "adc023f2",
   "metadata": {},
   "outputs": [],
   "source": [
    "import numpy as np"
   ]
  },
  {
   "cell_type": "code",
   "execution_count": 25,
   "id": "b4440316",
   "metadata": {},
   "outputs": [
    {
     "data": {
      "text/plain": [
       "[2, 3, 4, True, False, 'item', 12.34]"
      ]
     },
     "execution_count": 25,
     "metadata": {},
     "output_type": "execute_result"
    }
   ],
   "source": [
    "lst = [2,3,4,True,False,\"item\", 12.34]\n",
    "nested_lst = [[2],[3],[4],[True],[False],[\"item\"], [12.34]]\n",
    "lst"
   ]
  },
  {
   "cell_type": "code",
   "execution_count": 26,
   "id": "9324490c",
   "metadata": {},
   "outputs": [
    {
     "data": {
      "text/plain": [
       "[[2], [3], [4], [True], [False], ['item'], [12.34]]"
      ]
     },
     "execution_count": 26,
     "metadata": {},
     "output_type": "execute_result"
    }
   ],
   "source": [
    "nested_lst"
   ]
  },
  {
   "cell_type": "code",
   "execution_count": 27,
   "id": "51ba9ffd",
   "metadata": {},
   "outputs": [
    {
     "name": "stdout",
     "output_type": "stream",
     "text": [
      "(7,)\n"
     ]
    },
    {
     "data": {
      "text/plain": [
       "array(['2', '3', '4', 'True', 'False', 'item', '12.34'], dtype='<U32')"
      ]
     },
     "execution_count": 27,
     "metadata": {},
     "output_type": "execute_result"
    }
   ],
   "source": [
    "list_array = np.array(lst)\n",
    "print(list_array.shape)\n",
    "list_array"
   ]
  },
  {
   "cell_type": "code",
   "execution_count": 28,
   "id": "12cae1b1",
   "metadata": {},
   "outputs": [
    {
     "name": "stdout",
     "output_type": "stream",
     "text": [
      "(7, 1)\n"
     ]
    },
    {
     "data": {
      "text/plain": [
       "array([['2'],\n",
       "       ['3'],\n",
       "       ['4'],\n",
       "       ['True'],\n",
       "       ['False'],\n",
       "       ['item'],\n",
       "       ['12.34']], dtype='<U32')"
      ]
     },
     "execution_count": 28,
     "metadata": {},
     "output_type": "execute_result"
    }
   ],
   "source": [
    "list_array = np.array(lst)\n",
    "list_array = list_array.reshape(-1,1)\n",
    "print(list_array.shape)\n",
    "list_array"
   ]
  },
  {
   "cell_type": "code",
   "execution_count": 29,
   "id": "234de4d8",
   "metadata": {},
   "outputs": [
    {
     "name": "stdout",
     "output_type": "stream",
     "text": [
      "(7, 1)\n"
     ]
    },
    {
     "data": {
      "text/plain": [
       "array([['2'],\n",
       "       ['3'],\n",
       "       ['4'],\n",
       "       ['True'],\n",
       "       ['False'],\n",
       "       ['item'],\n",
       "       ['12.34']], dtype='<U32')"
      ]
     },
     "execution_count": 29,
     "metadata": {},
     "output_type": "execute_result"
    }
   ],
   "source": [
    "\n",
    "list_array = np.array(nested_lst)\n",
    "print(list_array.shape)\n",
    "list_array\n"
   ]
  },
  {
   "cell_type": "code",
   "execution_count": 32,
   "id": "23fe9882",
   "metadata": {},
   "outputs": [
    {
     "name": "stdout",
     "output_type": "stream",
     "text": [
      "(7, 1)\n"
     ]
    },
    {
     "data": {
      "text/plain": [
       "array([['2'],\n",
       "       ['3'],\n",
       "       ['4'],\n",
       "       ['True'],\n",
       "       ['False'],\n",
       "       ['item'],\n",
       "       ['12.34']], dtype='<U32')"
      ]
     },
     "execution_count": 32,
     "metadata": {},
     "output_type": "execute_result"
    }
   ],
   "source": [
    "\n",
    "list_array = np.array(nested_lst)\n",
    "list_array = list_array.reshape(-1,1)\n",
    "print(list_array.shape)\n",
    "list_array\n"
   ]
  }
 ],
 "metadata": {
  "kernelspec": {
   "display_name": "applied_data_science_lab",
   "language": "python",
   "name": "python3"
  },
  "language_info": {
   "codemirror_mode": {
    "name": "ipython",
    "version": 3
   },
   "file_extension": ".py",
   "mimetype": "text/x-python",
   "name": "python",
   "nbconvert_exporter": "python",
   "pygments_lexer": "ipython3",
   "version": "3.13.2"
  }
 },
 "nbformat": 4,
 "nbformat_minor": 5
}
