{
 "cells": [
  {
   "cell_type": "code",
   "execution_count": null,
   "id": "5006be37",
   "metadata": {},
   "outputs": [],
   "source": [
    "from statsmodels.graphics.tsaplots import plot_acf, plot_pacf\n",
    "from statsmodels.tsa.ar_model import AutoReg"
   ]
  },
  {
   "cell_type": "code",
   "execution_count": null,
   "id": "071e017c",
   "metadata": {},
   "outputs": [],
   "source": [
    "from statsmodels.tsa.tsatools import lagmat\n",
    "import numpy as np\n",
    "\n",
    "close = np.array(y)\n",
    "lagged = lagmat(close, maxlag=10, trim=\"both\")  # drops first rows with NaN\n"
   ]
  }
 ],
 "metadata": {
  "language_info": {
   "name": "python"
  }
 },
 "nbformat": 4,
 "nbformat_minor": 5
}
