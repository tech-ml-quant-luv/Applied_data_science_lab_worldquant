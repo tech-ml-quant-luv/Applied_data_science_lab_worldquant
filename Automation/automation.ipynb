{
 "cells": [
  {
   "cell_type": "markdown",
   "id": "fdece8c4",
   "metadata": {},
   "source": [
    "#### Old Code"
   ]
  },
  {
   "cell_type": "code",
   "execution_count": 241,
   "id": "2a664325",
   "metadata": {},
   "outputs": [],
   "source": [
    "required_url = \"https://player.vimeo.com/video/656354357?h=8d99bdbfcd\"\n",
    "parameters = [\"656354357\",\"8d99bdbfcd\"]"
   ]
  },
  {
   "cell_type": "code",
   "execution_count": 242,
   "id": "af44f05f",
   "metadata": {},
   "outputs": [],
   "source": [
    "def create_parameters(value):\n",
    "    parameters = value.replace(\"VimeoVideo(\", \"\").replace(\", width=600)\",\"\").replace(\", h=\", \",\").split(\",\")\n",
    "    parameters = [newvalue.strip('\"\"') for newvalue in parameters]\n",
    "    print(parameters)\n",
    "    return parameters\n"
   ]
  },
  {
   "cell_type": "code",
   "execution_count": 243,
   "id": "de5af462",
   "metadata": {},
   "outputs": [],
   "source": [
    "# done= True\n",
    "# list_of_url_with_parameters =[]\n",
    "# while done:\n",
    "#     parameters = create_parameters(input(\"Enter Your string: \"))\n",
    "#     print(parameters)\n",
    "#     title = input(\"Enter you title: \")\n",
    "#     if title == \"done\":\n",
    "#         done=False\n",
    "#     else:            \n",
    "#         required_url = f\"https://player.vimeo.com/video/{parameters[0]}?h={parameters[1]}\"\n",
    "#         list_of_url_with_parameters.append({\n",
    "#             \"url\": required_url,\n",
    "#             \"title\": title\n",
    "#         })\n",
    "# list_of_url_with_parameters "
   ]
  },
  {
   "cell_type": "code",
   "execution_count": 244,
   "id": "bce57a67",
   "metadata": {},
   "outputs": [
    {
     "data": {
      "text/html": [
       "<table border=\"1\" class=\"dataframe\">\n",
       "  <thead>\n",
       "    <tr style=\"text-align: right;\">\n",
       "      <th></th>\n",
       "    </tr>\n",
       "  </thead>\n",
       "  <tbody>\n",
       "  </tbody>\n",
       "</table>"
      ],
      "text/plain": [
       "<IPython.core.display.HTML object>"
      ]
     },
     "metadata": {},
     "output_type": "display_data"
    }
   ],
   "source": [
    "import pandas as pd\n",
    "\n",
    "converted_list = []\n",
    "for items in list_of_url_with_parameters:\n",
    "    converted_list.append({\n",
    "        \"url\": f'<a href=\"{items[\"url\"]}\">{items[\"url\"]}</a>',\n",
    "        \"title\": items[\"title\"]\n",
    "    })\n",
    "\n",
    "df = pd.DataFrame(converted_list)\n",
    "\n",
    "# If you're in Jupyter/Notebook, display clickable links\n",
    "from IPython.display import display, HTML\n",
    "display(HTML(df.to_html(escape=False)))\n"
   ]
  },
  {
   "cell_type": "markdown",
   "id": "ff2619a5",
   "metadata": {},
   "source": [
    "#### Create Vimeo list\n"
   ]
  },
  {
   "cell_type": "code",
   "execution_count": 245,
   "id": "1fa31b33",
   "metadata": {},
   "outputs": [],
   "source": [
    "required_url = \"https://player.vimeo.com/video/656354357?h=8d99bdbfcd\"\n",
    "parameters = [\"656354357\",\"8d99bdbfcd\"]"
   ]
  },
  {
   "cell_type": "markdown",
   "id": "71b12914",
   "metadata": {},
   "source": [
    "<tr>\n",
    "  <th>0</th>\n",
    "  <td><a href=\"https://player.vimeo.com/video/656378731?h=8daa35d1e8\">https://player.vimeo.com/video/656378731?h=8daa35d1e8</a></td>\n",
    "  <td># Heading for videos</td>\n",
    "</tr>"
   ]
  },
  {
   "cell_type": "code",
   "execution_count": 246,
   "id": "b64ae9b9",
   "metadata": {},
   "outputs": [],
   "source": [
    "with open(\"test.json\", encoding=\"utf-8\") as f:\n",
    "    data = f.read()"
   ]
  },
  {
   "cell_type": "code",
   "execution_count": 247,
   "id": "89ee7e60",
   "metadata": {},
   "outputs": [],
   "source": [
    "def replace_function(x,y):\n",
    "    x=x.replace(\"VimeoVideo(\", \"\")\n",
    "    x=x.replace('\"', \"\")\n",
    "    y=y.replace(\" h=\", \"\")\n",
    "    y=y.replace('\"', \"\")\n",
    "    return f\"https://player.vimeo.com/video/{x}?h={y}\"\n"
   ]
  },
  {
   "cell_type": "code",
   "execution_count": 248,
   "id": "acd00540",
   "metadata": {},
   "outputs": [
    {
     "data": {
      "text/html": [
       "<table border=\"1\" class=\"dataframe\">\n",
       "  <thead>\n",
       "    <tr style=\"text-align: right;\">\n",
       "      <th></th>\n",
       "      <th>url</th>\n",
       "      <th>title</th>\n",
       "    </tr>\n",
       "  </thead>\n",
       "  <tbody>\n",
       "    <tr>\n",
       "      <th>0</th>\n",
       "      <td><a href=\"https://player.vimeo.com/video/656704385?h=abf81d298d\">https://player.vimeo.com/video/656704385?h=abf81d298d</a></td>\n",
       "      <td>4</td>\n",
       "    </tr>\n",
       "    <tr>\n",
       "      <th>1</th>\n",
       "      <td><a href=\"https://player.vimeo.com/video/656703362?h=bae256298f\">https://player.vimeo.com/video/656703362?h=bae256298f</a></td>\n",
       "      <td>8</td>\n",
       "    </tr>\n",
       "    <tr>\n",
       "      <th>2</th>\n",
       "      <td><a href=\"https://player.vimeo.com/video/656701336?h=c3a3e9bc16\">https://player.vimeo.com/video/656701336?h=c3a3e9bc16</a></td>\n",
       "      <td>12</td>\n",
       "    </tr>\n",
       "    <tr>\n",
       "      <th>3</th>\n",
       "      <td><a href=\"https://player.vimeo.com/video/656697884?h=95081c955c\">https://player.vimeo.com/video/656697884?h=95081c955c</a></td>\n",
       "      <td>18</td>\n",
       "    </tr>\n",
       "    <tr>\n",
       "      <th>4</th>\n",
       "      <td><a href=\"https://player.vimeo.com/video/656697539?h=9e0a4673f0\">https://player.vimeo.com/video/656697539?h=9e0a4673f0</a></td>\n",
       "      <td>23</td>\n",
       "    </tr>\n",
       "    <tr>\n",
       "      <th>5</th>\n",
       "      <td><a href=\"https://player.vimeo.com/video/656697049?h=649a69e5a2\">https://player.vimeo.com/video/656697049?h=649a69e5a2</a></td>\n",
       "      <td>27</td>\n",
       "    </tr>\n",
       "    <tr>\n",
       "      <th>6</th>\n",
       "      <td><a href=\"https://player.vimeo.com/video/656696370?h=a809e66bb8\">https://player.vimeo.com/video/656696370?h=a809e66bb8</a></td>\n",
       "      <td>31</td>\n",
       "    </tr>\n",
       "    <tr>\n",
       "      <th>7</th>\n",
       "      <td><a href=\"https://player.vimeo.com/video/656696079?h=80b4e6ce8e\">https://player.vimeo.com/video/656696079?h=80b4e6ce8e</a></td>\n",
       "      <td>36</td>\n",
       "    </tr>\n",
       "    <tr>\n",
       "      <th>8</th>\n",
       "      <td><a href=\"https://player.vimeo.com/video/656749759?h=095ad450ac\">https://player.vimeo.com/video/656749759?h=095ad450ac</a></td>\n",
       "      <td>40</td>\n",
       "    </tr>\n",
       "    <tr>\n",
       "      <th>9</th>\n",
       "      <td><a href=\"https://player.vimeo.com/video/656688282?h=84ef8e90b3\">https://player.vimeo.com/video/656688282?h=84ef8e90b3</a></td>\n",
       "      <td>43</td>\n",
       "    </tr>\n",
       "    <tr>\n",
       "      <th>10</th>\n",
       "      <td><a href=\"https://player.vimeo.com/video/656688065?h=c391dae2e6\">https://player.vimeo.com/video/656688065?h=c391dae2e6</a></td>\n",
       "      <td>48</td>\n",
       "    </tr>\n",
       "    <tr>\n",
       "      <th>11</th>\n",
       "      <td><a href=\"https://player.vimeo.com/video/656687537?h=67df9f3bd7\">https://player.vimeo.com/video/656687537?h=67df9f3bd7</a></td>\n",
       "      <td>55</td>\n",
       "    </tr>\n",
       "    <tr>\n",
       "      <th>12</th>\n",
       "      <td><a href=\"https://player.vimeo.com/video/656687259?h=684b40ef32\">https://player.vimeo.com/video/656687259?h=684b40ef32</a></td>\n",
       "      <td>59</td>\n",
       "    </tr>\n",
       "    <tr>\n",
       "      <th>13</th>\n",
       "      <td><a href=\"https://player.vimeo.com/video/656686948?h=2dbbdccfa4\">https://player.vimeo.com/video/656686948?h=2dbbdccfa4</a></td>\n",
       "      <td>63</td>\n",
       "    </tr>\n",
       "    <tr>\n",
       "      <th>14</th>\n",
       "      <td><a href=\"https://player.vimeo.com/video/656686010?h=214406a99f\">https://player.vimeo.com/video/656686010?h=214406a99f</a></td>\n",
       "      <td>67</td>\n",
       "    </tr>\n",
       "    <tr>\n",
       "      <th>15</th>\n",
       "      <td><a href=\"https://player.vimeo.com/video/656685822?h=6b6bce7f3c\">https://player.vimeo.com/video/656685822?h=6b6bce7f3c</a></td>\n",
       "      <td>73</td>\n",
       "    </tr>\n",
       "    <tr>\n",
       "      <th>16</th>\n",
       "      <td><a href=\"https://player.vimeo.com/video/656685645?h=444e6e49e7\">https://player.vimeo.com/video/656685645?h=444e6e49e7</a></td>\n",
       "      <td>78</td>\n",
       "    </tr>\n",
       "    <tr>\n",
       "      <th>17</th>\n",
       "      <td><a href=\"https://player.vimeo.com/video/656685380?h=3b79fe2cdb\">https://player.vimeo.com/video/656685380?h=3b79fe2cdb</a></td>\n",
       "      <td>84</td>\n",
       "    </tr>\n",
       "    <tr>\n",
       "      <th>18</th>\n",
       "      <td><a href=\"https://player.vimeo.com/video/656685229?h=b668f12bc1\">https://player.vimeo.com/video/656685229?h=b668f12bc1</a></td>\n",
       "      <td>89</td>\n",
       "    </tr>\n",
       "    <tr>\n",
       "      <th>19</th>\n",
       "      <td><a href=\"https://player.vimeo.com/video/656684478?h=87d29a2ba6\">https://player.vimeo.com/video/656684478?h=87d29a2ba6</a></td>\n",
       "      <td>98</td>\n",
       "    </tr>\n",
       "    <tr>\n",
       "      <th>20</th>\n",
       "      <td><a href=\"https://player.vimeo.com/video/656684245?h=f96cf91211\">https://player.vimeo.com/video/656684245?h=f96cf91211</a></td>\n",
       "      <td>102</td>\n",
       "    </tr>\n",
       "    <tr>\n",
       "      <th>21</th>\n",
       "      <td><a href=\"https://player.vimeo.com/video/656684037?h=f30c2b4dfc\">https://player.vimeo.com/video/656684037?h=f30c2b4dfc</a></td>\n",
       "      <td>106</td>\n",
       "    </tr>\n",
       "    <tr>\n",
       "      <th>22</th>\n",
       "      <td><a href=\"https://player.vimeo.com/video/656683862?h=886904448d\">https://player.vimeo.com/video/656683862?h=886904448d</a></td>\n",
       "      <td>110</td>\n",
       "    </tr>\n",
       "  </tbody>\n",
       "</table>"
      ],
      "text/plain": [
       "<IPython.core.display.HTML object>"
      ]
     },
     "metadata": {},
     "output_type": "display_data"
    }
   ],
   "source": [
    "import json\n",
    "json_data = json.loads(data)\n",
    "json_data[\"cells\"][3]\n",
    "list_of_urls = []\n",
    "count = 0\n",
    "\n",
    "for items in json_data[\"cells\"]:\n",
    "    count+=1\n",
    "    if \"Vimeo\" in items[\"source\"][0]:\n",
    "        url = replace_function(items[\"source\"][0].split(\",\")[0],items[\"source\"][0].split(\",\")[1])\n",
    "        list_of_urls.append({\n",
    "        \"url\": f'<a href=\"{url}\">{url}</a>',\n",
    "        \"title\":count\n",
    "    })\n",
    "\n",
    "df =pd.DataFrame(list_of_urls)\n",
    "from IPython.display import display, HTML\n",
    "display(HTML(df.to_html(escape=False)))\n",
    "    "
   ]
  }
 ],
 "metadata": {
  "kernelspec": {
   "display_name": "applied_data_science_lab",
   "language": "python",
   "name": "python3"
  },
  "language_info": {
   "codemirror_mode": {
    "name": "ipython",
    "version": 3
   },
   "file_extension": ".py",
   "mimetype": "text/x-python",
   "name": "python",
   "nbconvert_exporter": "python",
   "pygments_lexer": "ipython3",
   "version": "3.13.2"
  }
 },
 "nbformat": 4,
 "nbformat_minor": 5
}
