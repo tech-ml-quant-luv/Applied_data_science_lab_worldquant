{
 "cells": [
  {
   "cell_type": "markdown",
   "id": "ff2619a5",
   "metadata": {},
   "source": [
    "#### Create Vimeo list\n"
   ]
  },
  {
   "cell_type": "code",
   "execution_count": 1,
   "id": "1fa31b33",
   "metadata": {},
   "outputs": [],
   "source": [
    "required_url = \"https://player.vimeo.com/video/656354357?h=8d99bdbfcd\"\n",
    "parameters = [\"656354357\",\"8d99bdbfcd\"]"
   ]
  },
  {
   "cell_type": "markdown",
   "id": "71b12914",
   "metadata": {},
   "source": [
    "<tr>\n",
    "  <th>0</th>\n",
    "  <td><a href=\"https://player.vimeo.com/video/656378731?h=8daa35d1e8\">https://player.vimeo.com/video/656378731?h=8daa35d1e8</a></td>\n",
    "  <td># Heading for videos</td>\n",
    "</tr>"
   ]
  },
  {
   "cell_type": "code",
   "execution_count": 2,
   "id": "b64ae9b9",
   "metadata": {},
   "outputs": [],
   "source": [
    "with open(\"test.json\", encoding=\"utf-8\") as f:\n",
    "    data = f.read()"
   ]
  },
  {
   "cell_type": "code",
   "execution_count": 3,
   "id": "89ee7e60",
   "metadata": {},
   "outputs": [],
   "source": [
    "def replace_function(x,y):\n",
    "    x=x.replace(\"VimeoVideo(\", \"\")\n",
    "    x=x.replace('\"', \"\")\n",
    "    y=y.replace(\" h=\", \"\")\n",
    "    y=y.replace('\"', \"\")\n",
    "    return f\"https://player.vimeo.com/video/{x}?h={y}\"\n"
   ]
  },
  {
   "cell_type": "code",
   "execution_count": 4,
   "id": "acd00540",
   "metadata": {},
   "outputs": [
    {
     "data": {
      "text/html": [
       "<table border=\"1\" class=\"dataframe\">\n",
       "  <thead>\n",
       "    <tr style=\"text-align: right;\">\n",
       "      <th></th>\n",
       "      <th>url</th>\n",
       "      <th>checkbox</th>\n",
       "    </tr>\n",
       "  </thead>\n",
       "  <tbody>\n",
       "    <tr>\n",
       "      <th>0</th>\n",
       "      <td><a href=\"https://player.vimeo.com/video/656752925?h=701f3f4081\">https://player.vimeo.com/video/656752925?h=701f3f4081</a></td>\n",
       "      <td><input type=\"checkbox\"></td>\n",
       "    </tr>\n",
       "    <tr>\n",
       "      <th>1</th>\n",
       "      <td><a href=\"https://player.vimeo.com/video/656752771?h=3a42896eb6\">https://player.vimeo.com/video/656752771?h=3a42896eb6</a></td>\n",
       "      <td><input type=\"checkbox\"></td>\n",
       "    </tr>\n",
       "    <tr>\n",
       "      <th>2</th>\n",
       "      <td><a href=\"https://player.vimeo.com/video/656751955?h=e47002428d\">https://player.vimeo.com/video/656751955?h=e47002428d</a></td>\n",
       "      <td><input type=\"checkbox\"></td>\n",
       "    </tr>\n",
       "    <tr>\n",
       "      <th>3</th>\n",
       "      <td><a href=\"https://player.vimeo.com/video/656751853?h=da40b0a474\">https://player.vimeo.com/video/656751853?h=da40b0a474</a></td>\n",
       "      <td><input type=\"checkbox\"></td>\n",
       "    </tr>\n",
       "    <tr>\n",
       "      <th>4</th>\n",
       "      <td><a href=\"https://player.vimeo.com/video/656751405?h=d1f95ab108\">https://player.vimeo.com/video/656751405?h=d1f95ab108</a></td>\n",
       "      <td><input type=\"checkbox\"></td>\n",
       "    </tr>\n",
       "    <tr>\n",
       "      <th>5</th>\n",
       "      <td><a href=\"https://player.vimeo.com/video/656751031?h=367be02e14\">https://player.vimeo.com/video/656751031?h=367be02e14</a></td>\n",
       "      <td><input type=\"checkbox\"></td>\n",
       "    </tr>\n",
       "    <tr>\n",
       "      <th>6</th>\n",
       "      <td><a href=\"https://player.vimeo.com/video/656750669?h=574287f687\">https://player.vimeo.com/video/656750669?h=574287f687</a></td>\n",
       "      <td><input type=\"checkbox\"></td>\n",
       "    </tr>\n",
       "    <tr>\n",
       "      <th>7</th>\n",
       "      <td><a href=\"https://player.vimeo.com/video/656750457?h=09f5fe3962\">https://player.vimeo.com/video/656750457?h=09f5fe3962</a></td>\n",
       "      <td><input type=\"checkbox\"></td>\n",
       "    </tr>\n",
       "    <tr>\n",
       "      <th>8</th>\n",
       "      <td><a href=\"https://player.vimeo.com/video/656750323?h=1a82090b9b\">https://player.vimeo.com/video/656750323?h=1a82090b9b</a></td>\n",
       "      <td><input type=\"checkbox\"></td>\n",
       "    </tr>\n",
       "    <tr>\n",
       "      <th>9</th>\n",
       "      <td><a href=\"https://player.vimeo.com/video/656750112?h=1ef669fe2b\">https://player.vimeo.com/video/656750112?h=1ef669fe2b</a></td>\n",
       "      <td><input type=\"checkbox\"></td>\n",
       "    </tr>\n",
       "    <tr>\n",
       "      <th>10</th>\n",
       "      <td><a href=\"https://player.vimeo.com/video/656749994?h=50c71bf4e5\">https://player.vimeo.com/video/656749994?h=50c71bf4e5</a></td>\n",
       "      <td><input type=\"checkbox\"></td>\n",
       "    </tr>\n",
       "    <tr>\n",
       "      <th>11</th>\n",
       "      <td><a href=\"https://player.vimeo.com/video/656748776?h=014f943c46\">https://player.vimeo.com/video/656748776?h=014f943c46</a></td>\n",
       "      <td><input type=\"checkbox\"></td>\n",
       "    </tr>\n",
       "    <tr>\n",
       "      <th>12</th>\n",
       "      <td><a href=\"https://player.vimeo.com/video/656748659?h=fdaa8d0329\">https://player.vimeo.com/video/656748659?h=fdaa8d0329</a></td>\n",
       "      <td><input type=\"checkbox\"></td>\n",
       "    </tr>\n",
       "    <tr>\n",
       "      <th>13</th>\n",
       "      <td><a href=\"https://player.vimeo.com/video/656748527?h=d76e63760c\">https://player.vimeo.com/video/656748527?h=d76e63760c</a></td>\n",
       "      <td><input type=\"checkbox\"></td>\n",
       "    </tr>\n",
       "    <tr>\n",
       "      <th>14</th>\n",
       "      <td><a href=\"https://player.vimeo.com/video/656748360?h=50b4643a26\">https://player.vimeo.com/video/656748360?h=50b4643a26</a></td>\n",
       "      <td><input type=\"checkbox\"></td>\n",
       "    </tr>\n",
       "    <tr>\n",
       "      <th>15</th>\n",
       "      <td><a href=\"https://player.vimeo.com/video/656748234?h=59ba7958d5\">https://player.vimeo.com/video/656748234?h=59ba7958d5</a></td>\n",
       "      <td><input type=\"checkbox\"></td>\n",
       "    </tr>\n",
       "    <tr>\n",
       "      <th>16</th>\n",
       "      <td><a href=\"https://player.vimeo.com/video/656748155?h=5672ef44cb\">https://player.vimeo.com/video/656748155?h=5672ef44cb</a></td>\n",
       "      <td><input type=\"checkbox\"></td>\n",
       "    </tr>\n",
       "    <tr>\n",
       "      <th>17</th>\n",
       "      <td><a href=\"https://player.vimeo.com/video/656748205?h=13144556a6\">https://player.vimeo.com/video/656748205?h=13144556a6</a></td>\n",
       "      <td><input type=\"checkbox\"></td>\n",
       "    </tr>\n",
       "    <tr>\n",
       "      <th>18</th>\n",
       "      <td><a href=\"https://player.vimeo.com/video/656747630?h=b90db6b373\">https://player.vimeo.com/video/656747630?h=b90db6b373</a></td>\n",
       "      <td><input type=\"checkbox\"></td>\n",
       "    </tr>\n",
       "    <tr>\n",
       "      <th>19</th>\n",
       "      <td><a href=\"https://player.vimeo.com/video/656746928?h=71bfe94764\">https://player.vimeo.com/video/656746928?h=71bfe94764</a></td>\n",
       "      <td><input type=\"checkbox\"></td>\n",
       "    </tr>\n",
       "  </tbody>\n",
       "</table>"
      ],
      "text/plain": [
       "<IPython.core.display.HTML object>"
      ]
     },
     "metadata": {},
     "output_type": "display_data"
    }
   ],
   "source": [
    "import json\n",
    "import pandas as pd\n",
    "from IPython.display import display, HTML\n",
    "\n",
    "# Assuming data is already loaded\n",
    "json_data = json.loads(data)\n",
    "\n",
    "list_of_urls = []\n",
    "count = 0\n",
    "\n",
    "for items in json_data[\"cells\"]:\n",
    "    if \"Vimeo\" in items[\"source\"][0]:\n",
    "        url = replace_function(\n",
    "            items[\"source\"][0].split(\",\")[0],\n",
    "            items[\"source\"][0].split(\",\")[1]\n",
    "        )\n",
    "        list_of_urls.append({\n",
    "            \"url\": f'<a href=\"{url}\">{url}</a>',\n",
    "            \"checkbox\": '<input type=\"checkbox\">'\n",
    "        })\n",
    "\n",
    "df = pd.DataFrame(list_of_urls)\n",
    "\n",
    "# Render with HTML checkboxes\n",
    "display(HTML(df.to_html(escape=False)))\n"
   ]
  }
 ],
 "metadata": {
  "kernelspec": {
   "display_name": "applied_data_science_lab",
   "language": "python",
   "name": "python3"
  },
  "language_info": {
   "codemirror_mode": {
    "name": "ipython",
    "version": 3
   },
   "file_extension": ".py",
   "mimetype": "text/x-python",
   "name": "python",
   "nbconvert_exporter": "python",
   "pygments_lexer": "ipython3",
   "version": "3.13.2"
  }
 },
 "nbformat": 4,
 "nbformat_minor": 5
}
