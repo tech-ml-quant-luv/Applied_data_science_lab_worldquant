{
 "cells": [
  {
   "cell_type": "markdown",
   "id": "ff2619a5",
   "metadata": {},
   "source": [
    "#### Create Vimeo list\n"
   ]
  },
  {
   "cell_type": "code",
   "execution_count": 1,
   "id": "1fa31b33",
   "metadata": {},
   "outputs": [],
   "source": [
    "required_url = \"https://player.vimeo.com/video/656354357?h=8d99bdbfcd\"\n",
    "parameters = [\"656354357\",\"8d99bdbfcd\"]"
   ]
  },
  {
   "cell_type": "markdown",
   "id": "71b12914",
   "metadata": {},
   "source": [
    "<tr>\n",
    "  <th>0</th>\n",
    "  <td><a href=\"https://player.vimeo.com/video/656378731?h=8daa35d1e8\">https://player.vimeo.com/video/656378731?h=8daa35d1e8</a></td>\n",
    "  <td># Heading for videos</td>\n",
    "</tr>"
   ]
  },
  {
   "cell_type": "code",
   "execution_count": 2,
   "id": "b64ae9b9",
   "metadata": {},
   "outputs": [],
   "source": [
    "with open(\"test.json\", encoding=\"utf-8\") as f:\n",
    "    data = f.read()"
   ]
  },
  {
   "cell_type": "code",
   "execution_count": 3,
   "id": "89ee7e60",
   "metadata": {},
   "outputs": [],
   "source": [
    "def replace_function(x,y):\n",
    "    x=x.replace(\"VimeoVideo(\", \"\")\n",
    "    x=x.replace('\"', \"\")\n",
    "    y=y.replace(\" h=\", \"\")\n",
    "    y=y.replace('\"', \"\")\n",
    "    return f\"https://player.vimeo.com/video/{x}?h={y}\"\n"
   ]
  },
  {
   "cell_type": "code",
   "execution_count": 4,
   "id": "acd00540",
   "metadata": {},
   "outputs": [],
   "source": [
    "import json\n",
    "import pandas as pd\n",
    "from IPython.display import display, HTML\n",
    "\n",
    "# Assuming data is already loaded\n",
    "json_data = json.loads(data)\n",
    "\n",
    "list_of_urls = []\n",
    "count = 0\n",
    "\n",
    "\n"
   ]
  },
  {
   "cell_type": "code",
   "execution_count": 5,
   "id": "264bc4d4",
   "metadata": {},
   "outputs": [
    {
     "name": "stdout",
     "output_type": "stream",
     "text": [
      "https://player.vimeo.com/video/665851858?h=e39fc3d260\n",
      "https://player.vimeo.com/video/665851852?h=16aa0a56e6\n",
      "https://player.vimeo.com/video/665851840?h=e048425f49\n",
      "https://player.vimeo.com/video/665851830?h=85f58bc92b\n",
      "https://player.vimeo.com/video/665851811?h=ee3a2b5c24\n",
      "https://player.vimeo.com/video/665851798?h=6c191cd94c\n",
      "https://player.vimeo.com/video/665851769?h=94a4296cde\n",
      "https://player.vimeo.com/video/665851746?h=1a4511e883\n",
      "https://player.vimeo.com/video/665851744?h=60d053b455\n",
      "https://player.vimeo.com/video/665851712?h=9ff0cdba9c\n",
      "https://player.vimeo.com/video/665851702?h=b494adc297\n",
      "https://player.vimeo.com/video/665851684?h=d6d782a1f3\n",
      "https://player.vimeo.com/video/665851662?h=72e767e121\n",
      "https://player.vimeo.com/video/665851628?h=29b43e482e\n",
      "https://player.vimeo.com/video/665851599?h=bb30d96e43\n",
      "https://player.vimeo.com/video/665851568?h=a764ab5416\n",
      "https://player.vimeo.com/video/665851553?h=46338036cc\n",
      "https://player.vimeo.com/video/665851529?h=39284d37ac\n"
     ]
    },
    {
     "data": {
      "text/html": [
       "<table border=\"1\" class=\"dataframe\">\n",
       "  <thead>\n",
       "    <tr style=\"text-align: right;\">\n",
       "      <th></th>\n",
       "      <th>url</th>\n",
       "      <th>checkbox</th>\n",
       "    </tr>\n",
       "  </thead>\n",
       "  <tbody>\n",
       "    <tr>\n",
       "      <th>0</th>\n",
       "      <td><a href=\"https://player.vimeo.com/video/665851858?h=e39fc3d260\">https://player.vimeo.com/video/665851858?h=e39fc3d260</a></td>\n",
       "      <td><input type=\"checkbox\"></td>\n",
       "    </tr>\n",
       "    <tr>\n",
       "      <th>1</th>\n",
       "      <td><a href=\"https://player.vimeo.com/video/665851852?h=16aa0a56e6\">https://player.vimeo.com/video/665851852?h=16aa0a56e6</a></td>\n",
       "      <td><input type=\"checkbox\"></td>\n",
       "    </tr>\n",
       "    <tr>\n",
       "      <th>2</th>\n",
       "      <td><a href=\"https://player.vimeo.com/video/665851840?h=e048425f49\">https://player.vimeo.com/video/665851840?h=e048425f49</a></td>\n",
       "      <td><input type=\"checkbox\"></td>\n",
       "    </tr>\n",
       "    <tr>\n",
       "      <th>3</th>\n",
       "      <td><a href=\"https://player.vimeo.com/video/665851830?h=85f58bc92b\">https://player.vimeo.com/video/665851830?h=85f58bc92b</a></td>\n",
       "      <td><input type=\"checkbox\"></td>\n",
       "    </tr>\n",
       "    <tr>\n",
       "      <th>4</th>\n",
       "      <td><a href=\"https://player.vimeo.com/video/665851811?h=ee3a2b5c24\">https://player.vimeo.com/video/665851811?h=ee3a2b5c24</a></td>\n",
       "      <td><input type=\"checkbox\"></td>\n",
       "    </tr>\n",
       "    <tr>\n",
       "      <th>5</th>\n",
       "      <td><a href=\"https://player.vimeo.com/video/665851798?h=6c191cd94c\">https://player.vimeo.com/video/665851798?h=6c191cd94c</a></td>\n",
       "      <td><input type=\"checkbox\"></td>\n",
       "    </tr>\n",
       "    <tr>\n",
       "      <th>6</th>\n",
       "      <td><a href=\"https://player.vimeo.com/video/665851769?h=94a4296cde\">https://player.vimeo.com/video/665851769?h=94a4296cde</a></td>\n",
       "      <td><input type=\"checkbox\"></td>\n",
       "    </tr>\n",
       "    <tr>\n",
       "      <th>7</th>\n",
       "      <td><a href=\"https://player.vimeo.com/video/665851746?h=1a4511e883\">https://player.vimeo.com/video/665851746?h=1a4511e883</a></td>\n",
       "      <td><input type=\"checkbox\"></td>\n",
       "    </tr>\n",
       "    <tr>\n",
       "      <th>8</th>\n",
       "      <td><a href=\"https://player.vimeo.com/video/665851744?h=60d053b455\">https://player.vimeo.com/video/665851744?h=60d053b455</a></td>\n",
       "      <td><input type=\"checkbox\"></td>\n",
       "    </tr>\n",
       "    <tr>\n",
       "      <th>9</th>\n",
       "      <td><a href=\"https://player.vimeo.com/video/665851712?h=9ff0cdba9c\">https://player.vimeo.com/video/665851712?h=9ff0cdba9c</a></td>\n",
       "      <td><input type=\"checkbox\"></td>\n",
       "    </tr>\n",
       "    <tr>\n",
       "      <th>10</th>\n",
       "      <td><a href=\"https://player.vimeo.com/video/665851702?h=b494adc297\">https://player.vimeo.com/video/665851702?h=b494adc297</a></td>\n",
       "      <td><input type=\"checkbox\"></td>\n",
       "    </tr>\n",
       "    <tr>\n",
       "      <th>11</th>\n",
       "      <td><a href=\"https://player.vimeo.com/video/665851684?h=d6d782a1f3\">https://player.vimeo.com/video/665851684?h=d6d782a1f3</a></td>\n",
       "      <td><input type=\"checkbox\"></td>\n",
       "    </tr>\n",
       "    <tr>\n",
       "      <th>12</th>\n",
       "      <td><a href=\"https://player.vimeo.com/video/665851662?h=72e767e121\">https://player.vimeo.com/video/665851662?h=72e767e121</a></td>\n",
       "      <td><input type=\"checkbox\"></td>\n",
       "    </tr>\n",
       "    <tr>\n",
       "      <th>13</th>\n",
       "      <td><a href=\"https://player.vimeo.com/video/665851628?h=29b43e482e\">https://player.vimeo.com/video/665851628?h=29b43e482e</a></td>\n",
       "      <td><input type=\"checkbox\"></td>\n",
       "    </tr>\n",
       "    <tr>\n",
       "      <th>14</th>\n",
       "      <td><a href=\"https://player.vimeo.com/video/665851599?h=bb30d96e43\">https://player.vimeo.com/video/665851599?h=bb30d96e43</a></td>\n",
       "      <td><input type=\"checkbox\"></td>\n",
       "    </tr>\n",
       "    <tr>\n",
       "      <th>15</th>\n",
       "      <td><a href=\"https://player.vimeo.com/video/665851568?h=a764ab5416\">https://player.vimeo.com/video/665851568?h=a764ab5416</a></td>\n",
       "      <td><input type=\"checkbox\"></td>\n",
       "    </tr>\n",
       "    <tr>\n",
       "      <th>16</th>\n",
       "      <td><a href=\"https://player.vimeo.com/video/665851553?h=46338036cc\">https://player.vimeo.com/video/665851553?h=46338036cc</a></td>\n",
       "      <td><input type=\"checkbox\"></td>\n",
       "    </tr>\n",
       "    <tr>\n",
       "      <th>17</th>\n",
       "      <td><a href=\"https://player.vimeo.com/video/665851529?h=39284d37ac\">https://player.vimeo.com/video/665851529?h=39284d37ac</a></td>\n",
       "      <td><input type=\"checkbox\"></td>\n",
       "    </tr>\n",
       "  </tbody>\n",
       "</table>"
      ],
      "text/plain": [
       "<IPython.core.display.HTML object>"
      ]
     },
     "metadata": {},
     "output_type": "display_data"
    }
   ],
   "source": [
    "list_of_urls = []\n",
    "\n",
    "for items in json_data[\"cells\"]:\n",
    "    for src in items[\"source\"]:  # loop through each string in the list\n",
    "        if \"VimeoVideo\" in src and \"from\" not in src:  # make sure we're only grabbing Vimeo lines\n",
    "        \n",
    "\n",
    "            parts = src.split(\",\")  # split into [video_id, h=..., width=...]\n",
    "            video_id = parts[0]     # 'VimeoVideo(\"665412094\"'\n",
    "            h_param = parts[1]      # ' h=\"8334dfab2e\"'\n",
    "\n",
    "            url = replace_function(video_id, h_param)\n",
    "            print(url)\n",
    "\n",
    "            list_of_urls.append({\n",
    "                \"url\": f'<a href=\"{url}\">{url}</a>',\n",
    "                \"checkbox\": '<input type=\"checkbox\">'\n",
    "            })\n",
    "\n",
    "df = pd.DataFrame(list_of_urls)\n",
    "\n",
    "# Render with HTML checkboxes\n",
    "display(HTML(df.to_html(escape=False)))"
   ]
  }
 ],
 "metadata": {
  "kernelspec": {
   "display_name": "applied_data_science_lab",
   "language": "python",
   "name": "python3"
  },
  "language_info": {
   "codemirror_mode": {
    "name": "ipython",
    "version": 3
   },
   "file_extension": ".py",
   "mimetype": "text/x-python",
   "name": "python",
   "nbconvert_exporter": "python",
   "pygments_lexer": "ipython3",
   "version": "3.13.2"
  }
 },
 "nbformat": 4,
 "nbformat_minor": 5
}
