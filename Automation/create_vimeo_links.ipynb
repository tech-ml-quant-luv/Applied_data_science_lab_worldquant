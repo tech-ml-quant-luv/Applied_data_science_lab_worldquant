{
 "cells": [
  {
   "cell_type": "markdown",
   "id": "ff2619a5",
   "metadata": {},
   "source": [
    "#### Create Vimeo list\n"
   ]
  },
  {
   "cell_type": "code",
   "execution_count": 1,
   "id": "1fa31b33",
   "metadata": {},
   "outputs": [],
   "source": [
    "required_url = \"https://player.vimeo.com/video/656354357?h=8d99bdbfcd\"\n",
    "parameters = [\"656354357\",\"8d99bdbfcd\"]"
   ]
  },
  {
   "cell_type": "code",
   "execution_count": 2,
   "id": "b64ae9b9",
   "metadata": {},
   "outputs": [],
   "source": [
    "with open(\"test.json\", encoding=\"utf-8\") as f:\n",
    "    data = f.read()"
   ]
  },
  {
   "cell_type": "code",
   "execution_count": 3,
   "id": "89ee7e60",
   "metadata": {},
   "outputs": [],
   "source": [
    "def replace_function(x,y):\n",
    "    x=x.replace(\"VimeoVideo(\", \"\")\n",
    "    x=x.replace('\"', \"\")\n",
    "    y=y.replace(\" h=\", \"\")\n",
    "    y=y.replace('\"', \"\")\n",
    "    return f\"https://player.vimeo.com/video/{x}?h={y}\"\n"
   ]
  },
  {
   "cell_type": "code",
   "execution_count": 4,
   "id": "acd00540",
   "metadata": {},
   "outputs": [],
   "source": [
    "import json\n",
    "import pandas as pd\n",
    "from IPython.display import display, HTML\n",
    "\n",
    "# Assuming data is already loaded\n",
    "json_data = json.loads(data)\n",
    "\n",
    "list_of_urls = []\n",
    "count = 0\n",
    "\n",
    "\n"
   ]
  },
  {
   "cell_type": "code",
   "execution_count": 5,
   "id": "264bc4d4",
   "metadata": {},
   "outputs": [
    {
     "name": "stdout",
     "output_type": "stream",
     "text": [
      "https://player.vimeo.com/video/665414130?h=71649d291e\n",
      "https://player.vimeo.com/video/665415006?h=ecb1b87861\n",
      "https://player.vimeo.com/video/665415061?h=6250826047\n",
      "https://player.vimeo.com/video/665415109?h=b3bb82651d\n",
      "https://player.vimeo.com/video/665415153?h=f0ec320955\n",
      "https://player.vimeo.com/video/665415169?h=44702fc696\n",
      "https://player.vimeo.com/video/665415186?h=c4ce187170\n",
      "https://player.vimeo.com/video/665415198?h=b4b85c3308\n",
      "https://player.vimeo.com/video/665415236?h=51d4be13fa\n",
      "https://player.vimeo.com/video/665415255?h=573e9cfd74\n",
      "https://player.vimeo.com/video/665415275?h=880366a826\n",
      "https://player.vimeo.com/video/665415304?h=c7eeac08c9\n",
      "https://player.vimeo.com/video/665415316?h=0dd9004477\n"
     ]
    }
   ],
   "source": [
    "list_of_urls = []\n",
    "\n",
    "for items in json_data[\"cells\"]:\n",
    "    for src in items[\"source\"]:  # loop through each string in the list\n",
    "        if \"VimeoVideo\" in src and \"from\" not in src:  # make sure we're only grabbing Vimeo lines\n",
    "        \n",
    "\n",
    "            parts = src.split(\",\")  # split into [video_id, h=..., width=...]\n",
    "            video_id = parts[0]     # 'VimeoVideo(\"665412094\"'\n",
    "            h_param = parts[1]      # ' h=\"8334dfab2e\"'\n",
    "\n",
    "            url = replace_function(video_id, h_param)\n",
    "            print(url)\n",
    "\n",
    "            list_of_urls.append({\n",
    "                \"url\": f'<a href=\"{url}\">{url}</a>',\n",
    "                \"checkbox\": '<input type=\"checkbox\">'\n",
    "            })\n",
    "\n",
    "df = pd.DataFrame(list_of_urls)\n",
    "\n",
    "# Render with HTML checkboxes\n",
    "# display(HTML(df.to_html(escape=False)))"
   ]
  }
 ],
 "metadata": {
  "kernelspec": {
   "display_name": "applied_data_science_labs",
   "language": "python",
   "name": "python3"
  },
  "language_info": {
   "codemirror_mode": {
    "name": "ipython",
    "version": 3
   },
   "file_extension": ".py",
   "mimetype": "text/x-python",
   "name": "python",
   "nbconvert_exporter": "python",
   "pygments_lexer": "ipython3",
   "version": "3.12.10"
  }
 },
 "nbformat": 4,
 "nbformat_minor": 5
}
