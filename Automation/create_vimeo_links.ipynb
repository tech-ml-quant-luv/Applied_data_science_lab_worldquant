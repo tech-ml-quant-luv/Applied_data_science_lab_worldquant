{
 "cells": [
  {
   "cell_type": "markdown",
   "id": "ff2619a5",
   "metadata": {},
   "source": [
    "#### Create Vimeo list\n"
   ]
  },
  {
   "cell_type": "code",
   "execution_count": 2,
   "id": "1fa31b33",
   "metadata": {},
   "outputs": [],
   "source": [
    "required_url = \"https://player.vimeo.com/video/656354357?h=8d99bdbfcd\"\n",
    "parameters = [\"656354357\",\"8d99bdbfcd\"]"
   ]
  },
  {
   "cell_type": "markdown",
   "id": "71b12914",
   "metadata": {},
   "source": [
    "<tr>\n",
    "  <th>0</th>\n",
    "  <td><a href=\"https://player.vimeo.com/video/656378731?h=8daa35d1e8\">https://player.vimeo.com/video/656378731?h=8daa35d1e8</a></td>\n",
    "  <td># Heading for videos</td>\n",
    "</tr>"
   ]
  },
  {
   "cell_type": "code",
   "execution_count": 3,
   "id": "b64ae9b9",
   "metadata": {},
   "outputs": [],
   "source": [
    "with open(\"test.json\", encoding=\"utf-8\") as f:\n",
    "    data = f.read()"
   ]
  },
  {
   "cell_type": "code",
   "execution_count": 4,
   "id": "89ee7e60",
   "metadata": {},
   "outputs": [],
   "source": [
    "def replace_function(x,y):\n",
    "    x=x.replace(\"VimeoVideo(\", \"\")\n",
    "    x=x.replace('\"', \"\")\n",
    "    y=y.replace(\" h=\", \"\")\n",
    "    y=y.replace('\"', \"\")\n",
    "    return f\"https://player.vimeo.com/video/{x}?h={y}\"\n"
   ]
  },
  {
   "cell_type": "code",
   "execution_count": 5,
   "id": "acd00540",
   "metadata": {},
   "outputs": [],
   "source": [
    "import json\n",
    "import pandas as pd\n",
    "from IPython.display import display, HTML\n",
    "\n",
    "# Assuming data is already loaded\n",
    "json_data = json.loads(data)\n",
    "\n",
    "list_of_urls = []\n",
    "count = 0\n",
    "\n",
    "\n"
   ]
  },
  {
   "cell_type": "code",
   "execution_count": 6,
   "id": "264bc4d4",
   "metadata": {},
   "outputs": [
    {
     "name": "stdout",
     "output_type": "stream",
     "text": [
      "https://player.vimeo.com/video/665412094?h=8334dfab2e\n",
      "https://player.vimeo.com/video/665412135?h=dcff7ab83a\n",
      "https://player.vimeo.com/video/665412155?h=1ca0dd03d0\n",
      "https://player.vimeo.com/video/665412176?h=6fea7c6346\n",
      "https://player.vimeo.com/video/665412216?h=7d4027dc33\n",
      "https://player.vimeo.com/video/665412231?h=89c546b00f\n",
      "https://player.vimeo.com/video/665412252?h=bff2abbdc0\n",
      "https://player.vimeo.com/video/665412270?h=e4a5f5c84b\n",
      "https://player.vimeo.com/video/665412279?h=c2315f3be1\n",
      "https://player.vimeo.com/video/665412306?h=e1e913dfd1\n",
      "https://player.vimeo.com/video/665412322?h=4776c6d548\n",
      "https://player.vimeo.com/video/665412344?h=d2354584cd\n",
      "https://player.vimeo.com/video/665412372?h=565122c9cc\n",
      "https://player.vimeo.com/video/665412380?h=f7f7a39bb3\n",
      "https://player.vimeo.com/video/665412389?h=8976ea3090\n",
      "https://player.vimeo.com/video/665412418?h=0c4b125254\n",
      "https://player.vimeo.com/video/665412437?h=7a436c7e7e\n",
      "https://player.vimeo.com/video/665412442?h=494636d1ea\n"
     ]
    },
    {
     "data": {
      "text/html": [
       "<table border=\"1\" class=\"dataframe\">\n",
       "  <thead>\n",
       "    <tr style=\"text-align: right;\">\n",
       "      <th></th>\n",
       "      <th>url</th>\n",
       "      <th>checkbox</th>\n",
       "    </tr>\n",
       "  </thead>\n",
       "  <tbody>\n",
       "    <tr>\n",
       "      <th>0</th>\n",
       "      <td><a href=\"https://player.vimeo.com/video/665412094?h=8334dfab2e\">https://player.vimeo.com/video/665412094?h=8334dfab2e</a></td>\n",
       "      <td><input type=\"checkbox\"></td>\n",
       "    </tr>\n",
       "    <tr>\n",
       "      <th>1</th>\n",
       "      <td><a href=\"https://player.vimeo.com/video/665412135?h=dcff7ab83a\">https://player.vimeo.com/video/665412135?h=dcff7ab83a</a></td>\n",
       "      <td><input type=\"checkbox\"></td>\n",
       "    </tr>\n",
       "    <tr>\n",
       "      <th>2</th>\n",
       "      <td><a href=\"https://player.vimeo.com/video/665412155?h=1ca0dd03d0\">https://player.vimeo.com/video/665412155?h=1ca0dd03d0</a></td>\n",
       "      <td><input type=\"checkbox\"></td>\n",
       "    </tr>\n",
       "    <tr>\n",
       "      <th>3</th>\n",
       "      <td><a href=\"https://player.vimeo.com/video/665412176?h=6fea7c6346\">https://player.vimeo.com/video/665412176?h=6fea7c6346</a></td>\n",
       "      <td><input type=\"checkbox\"></td>\n",
       "    </tr>\n",
       "    <tr>\n",
       "      <th>4</th>\n",
       "      <td><a href=\"https://player.vimeo.com/video/665412216?h=7d4027dc33\">https://player.vimeo.com/video/665412216?h=7d4027dc33</a></td>\n",
       "      <td><input type=\"checkbox\"></td>\n",
       "    </tr>\n",
       "    <tr>\n",
       "      <th>5</th>\n",
       "      <td><a href=\"https://player.vimeo.com/video/665412231?h=89c546b00f\">https://player.vimeo.com/video/665412231?h=89c546b00f</a></td>\n",
       "      <td><input type=\"checkbox\"></td>\n",
       "    </tr>\n",
       "    <tr>\n",
       "      <th>6</th>\n",
       "      <td><a href=\"https://player.vimeo.com/video/665412252?h=bff2abbdc0\">https://player.vimeo.com/video/665412252?h=bff2abbdc0</a></td>\n",
       "      <td><input type=\"checkbox\"></td>\n",
       "    </tr>\n",
       "    <tr>\n",
       "      <th>7</th>\n",
       "      <td><a href=\"https://player.vimeo.com/video/665412270?h=e4a5f5c84b\">https://player.vimeo.com/video/665412270?h=e4a5f5c84b</a></td>\n",
       "      <td><input type=\"checkbox\"></td>\n",
       "    </tr>\n",
       "    <tr>\n",
       "      <th>8</th>\n",
       "      <td><a href=\"https://player.vimeo.com/video/665412279?h=c2315f3be1\">https://player.vimeo.com/video/665412279?h=c2315f3be1</a></td>\n",
       "      <td><input type=\"checkbox\"></td>\n",
       "    </tr>\n",
       "    <tr>\n",
       "      <th>9</th>\n",
       "      <td><a href=\"https://player.vimeo.com/video/665412306?h=e1e913dfd1\">https://player.vimeo.com/video/665412306?h=e1e913dfd1</a></td>\n",
       "      <td><input type=\"checkbox\"></td>\n",
       "    </tr>\n",
       "    <tr>\n",
       "      <th>10</th>\n",
       "      <td><a href=\"https://player.vimeo.com/video/665412322?h=4776c6d548\">https://player.vimeo.com/video/665412322?h=4776c6d548</a></td>\n",
       "      <td><input type=\"checkbox\"></td>\n",
       "    </tr>\n",
       "    <tr>\n",
       "      <th>11</th>\n",
       "      <td><a href=\"https://player.vimeo.com/video/665412344?h=d2354584cd\">https://player.vimeo.com/video/665412344?h=d2354584cd</a></td>\n",
       "      <td><input type=\"checkbox\"></td>\n",
       "    </tr>\n",
       "    <tr>\n",
       "      <th>12</th>\n",
       "      <td><a href=\"https://player.vimeo.com/video/665412372?h=565122c9cc\">https://player.vimeo.com/video/665412372?h=565122c9cc</a></td>\n",
       "      <td><input type=\"checkbox\"></td>\n",
       "    </tr>\n",
       "    <tr>\n",
       "      <th>13</th>\n",
       "      <td><a href=\"https://player.vimeo.com/video/665412380?h=f7f7a39bb3\">https://player.vimeo.com/video/665412380?h=f7f7a39bb3</a></td>\n",
       "      <td><input type=\"checkbox\"></td>\n",
       "    </tr>\n",
       "    <tr>\n",
       "      <th>14</th>\n",
       "      <td><a href=\"https://player.vimeo.com/video/665412389?h=8976ea3090\">https://player.vimeo.com/video/665412389?h=8976ea3090</a></td>\n",
       "      <td><input type=\"checkbox\"></td>\n",
       "    </tr>\n",
       "    <tr>\n",
       "      <th>15</th>\n",
       "      <td><a href=\"https://player.vimeo.com/video/665412418?h=0c4b125254\">https://player.vimeo.com/video/665412418?h=0c4b125254</a></td>\n",
       "      <td><input type=\"checkbox\"></td>\n",
       "    </tr>\n",
       "    <tr>\n",
       "      <th>16</th>\n",
       "      <td><a href=\"https://player.vimeo.com/video/665412437?h=7a436c7e7e\">https://player.vimeo.com/video/665412437?h=7a436c7e7e</a></td>\n",
       "      <td><input type=\"checkbox\"></td>\n",
       "    </tr>\n",
       "    <tr>\n",
       "      <th>17</th>\n",
       "      <td><a href=\"https://player.vimeo.com/video/665412442?h=494636d1ea\">https://player.vimeo.com/video/665412442?h=494636d1ea</a></td>\n",
       "      <td><input type=\"checkbox\"></td>\n",
       "    </tr>\n",
       "  </tbody>\n",
       "</table>"
      ],
      "text/plain": [
       "<IPython.core.display.HTML object>"
      ]
     },
     "metadata": {},
     "output_type": "display_data"
    }
   ],
   "source": [
    "list_of_urls = []\n",
    "\n",
    "for items in json_data[\"cells\"]:\n",
    "    for src in items[\"source\"]:  # loop through each string in the list\n",
    "        if \"VimeoVideo\" in src and \"from\" not in src:  # make sure we're only grabbing Vimeo lines\n",
    "        \n",
    "\n",
    "            parts = src.split(\",\")  # split into [video_id, h=..., width=...]\n",
    "            video_id = parts[0]     # 'VimeoVideo(\"665412094\"'\n",
    "            h_param = parts[1]      # ' h=\"8334dfab2e\"'\n",
    "\n",
    "            url = replace_function(video_id, h_param)\n",
    "            print(url)\n",
    "\n",
    "            list_of_urls.append({\n",
    "                \"url\": f'<a href=\"{url}\">{url}</a>',\n",
    "                \"checkbox\": '<input type=\"checkbox\">'\n",
    "            })\n",
    "\n",
    "df = pd.DataFrame(list_of_urls)\n",
    "\n",
    "# Render with HTML checkboxes\n",
    "display(HTML(df.to_html(escape=False)))"
   ]
  }
 ],
 "metadata": {
  "kernelspec": {
   "display_name": "applied_data_science_lab",
   "language": "python",
   "name": "python3"
  },
  "language_info": {
   "codemirror_mode": {
    "name": "ipython",
    "version": 3
   },
   "file_extension": ".py",
   "mimetype": "text/x-python",
   "name": "python",
   "nbconvert_exporter": "python",
   "pygments_lexer": "ipython3",
   "version": "3.13.2"
  }
 },
 "nbformat": 4,
 "nbformat_minor": 5
}
