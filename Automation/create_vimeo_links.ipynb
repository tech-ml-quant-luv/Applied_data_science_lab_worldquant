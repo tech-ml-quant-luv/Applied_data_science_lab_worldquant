{
 "cells": [
  {
   "cell_type": "markdown",
   "id": "ff2619a5",
   "metadata": {},
   "source": [
    "#### Create Vimeo list\n"
   ]
  },
  {
   "cell_type": "code",
   "execution_count": 1,
   "id": "1fa31b33",
   "metadata": {},
   "outputs": [],
   "source": [
    "required_url = \"https://player.vimeo.com/video/656354357?h=8d99bdbfcd\"\n",
    "parameters = [\"656354357\",\"8d99bdbfcd\"]"
   ]
  },
  {
   "cell_type": "markdown",
   "id": "71b12914",
   "metadata": {},
   "source": [
    "<tr>\n",
    "  <th>0</th>\n",
    "  <td><a href=\"https://player.vimeo.com/video/656378731?h=8daa35d1e8\">https://player.vimeo.com/video/656378731?h=8daa35d1e8</a></td>\n",
    "  <td># Heading for videos</td>\n",
    "</tr>"
   ]
  },
  {
   "cell_type": "code",
   "execution_count": 2,
   "id": "b64ae9b9",
   "metadata": {},
   "outputs": [],
   "source": [
    "with open(\"test.json\", encoding=\"utf-8\") as f:\n",
    "    data = f.read()"
   ]
  },
  {
   "cell_type": "code",
   "execution_count": 3,
   "id": "89ee7e60",
   "metadata": {},
   "outputs": [],
   "source": [
    "def replace_function(x,y):\n",
    "    x=x.replace(\"VimeoVideo(\", \"\")\n",
    "    x=x.replace('\"', \"\")\n",
    "    y=y.replace(\" h=\", \"\")\n",
    "    y=y.replace('\"', \"\")\n",
    "    return f\"https://player.vimeo.com/video/{x}?h={y}\"\n"
   ]
  },
  {
   "cell_type": "code",
   "execution_count": 4,
   "id": "acd00540",
   "metadata": {},
   "outputs": [],
   "source": [
    "import json\n",
    "import pandas as pd\n",
    "from IPython.display import display, HTML\n",
    "\n",
    "# Assuming data is already loaded\n",
    "json_data = json.loads(data)\n",
    "\n",
    "list_of_urls = []\n",
    "count = 0\n",
    "\n",
    "\n"
   ]
  },
  {
   "cell_type": "code",
   "execution_count": 5,
   "id": "264bc4d4",
   "metadata": {},
   "outputs": [
    {
     "name": "stdout",
     "output_type": "stream",
     "text": [
      "https://player.vimeo.com/video/665412117?h=c39a50bd58\n",
      "https://player.vimeo.com/video/665412469?h=135f32c7da\n",
      "https://player.vimeo.com/video/665412480?h=c20ed3e570\n",
      "https://player.vimeo.com/video/665412496?h=d757475f7c\n",
      "https://player.vimeo.com/video/665412520?h=e03eefff07\n",
      "https://player.vimeo.com/video/665412546?h=97792cb982\n",
      "https://player.vimeo.com/video/665412573?h=b46049021b\n",
      "https://player.vimeo.com/video/665412594?h=e56c2f6839\n",
      "https://player.vimeo.com/video/665412601?h=a16c5a73fc\n",
      "https://player.vimeo.com/video/665412649?h=d2e99d2e75\n",
      "https://player.vimeo.com/video/665412693?h=c3bca16aff\n",
      "https://player.vimeo.com/video/665412732?h=059e4088c5\n",
      "https://player.vimeo.com/video/665412741?h=7439cb107c\n",
      "https://player.vimeo.com/video/665412762?h=a5eba496f7\n",
      "https://player.vimeo.com/video/665412785?h=03118eda71\n",
      "https://player.vimeo.com/video/665412844?h=129865775d\n",
      "https://player.vimeo.com/video/665412870?h=318d69683e\n",
      "https://player.vimeo.com/video/665412891?h=39d7356a26\n"
     ]
    },
    {
     "data": {
      "text/html": [
       "<table border=\"1\" class=\"dataframe\">\n",
       "  <thead>\n",
       "    <tr style=\"text-align: right;\">\n",
       "      <th></th>\n",
       "      <th>url</th>\n",
       "      <th>checkbox</th>\n",
       "    </tr>\n",
       "  </thead>\n",
       "  <tbody>\n",
       "    <tr>\n",
       "      <th>0</th>\n",
       "      <td><a href=\"https://player.vimeo.com/video/665412117?h=c39a50bd58\">https://player.vimeo.com/video/665412117?h=c39a50bd58</a></td>\n",
       "      <td><input type=\"checkbox\"></td>\n",
       "    </tr>\n",
       "    <tr>\n",
       "      <th>1</th>\n",
       "      <td><a href=\"https://player.vimeo.com/video/665412469?h=135f32c7da\">https://player.vimeo.com/video/665412469?h=135f32c7da</a></td>\n",
       "      <td><input type=\"checkbox\"></td>\n",
       "    </tr>\n",
       "    <tr>\n",
       "      <th>2</th>\n",
       "      <td><a href=\"https://player.vimeo.com/video/665412480?h=c20ed3e570\">https://player.vimeo.com/video/665412480?h=c20ed3e570</a></td>\n",
       "      <td><input type=\"checkbox\"></td>\n",
       "    </tr>\n",
       "    <tr>\n",
       "      <th>3</th>\n",
       "      <td><a href=\"https://player.vimeo.com/video/665412496?h=d757475f7c\">https://player.vimeo.com/video/665412496?h=d757475f7c</a></td>\n",
       "      <td><input type=\"checkbox\"></td>\n",
       "    </tr>\n",
       "    <tr>\n",
       "      <th>4</th>\n",
       "      <td><a href=\"https://player.vimeo.com/video/665412520?h=e03eefff07\">https://player.vimeo.com/video/665412520?h=e03eefff07</a></td>\n",
       "      <td><input type=\"checkbox\"></td>\n",
       "    </tr>\n",
       "    <tr>\n",
       "      <th>5</th>\n",
       "      <td><a href=\"https://player.vimeo.com/video/665412546?h=97792cb982\">https://player.vimeo.com/video/665412546?h=97792cb982</a></td>\n",
       "      <td><input type=\"checkbox\"></td>\n",
       "    </tr>\n",
       "    <tr>\n",
       "      <th>6</th>\n",
       "      <td><a href=\"https://player.vimeo.com/video/665412573?h=b46049021b\">https://player.vimeo.com/video/665412573?h=b46049021b</a></td>\n",
       "      <td><input type=\"checkbox\"></td>\n",
       "    </tr>\n",
       "    <tr>\n",
       "      <th>7</th>\n",
       "      <td><a href=\"https://player.vimeo.com/video/665412594?h=e56c2f6839\">https://player.vimeo.com/video/665412594?h=e56c2f6839</a></td>\n",
       "      <td><input type=\"checkbox\"></td>\n",
       "    </tr>\n",
       "    <tr>\n",
       "      <th>8</th>\n",
       "      <td><a href=\"https://player.vimeo.com/video/665412601?h=a16c5a73fc\">https://player.vimeo.com/video/665412601?h=a16c5a73fc</a></td>\n",
       "      <td><input type=\"checkbox\"></td>\n",
       "    </tr>\n",
       "    <tr>\n",
       "      <th>9</th>\n",
       "      <td><a href=\"https://player.vimeo.com/video/665412649?h=d2e99d2e75\">https://player.vimeo.com/video/665412649?h=d2e99d2e75</a></td>\n",
       "      <td><input type=\"checkbox\"></td>\n",
       "    </tr>\n",
       "    <tr>\n",
       "      <th>10</th>\n",
       "      <td><a href=\"https://player.vimeo.com/video/665412693?h=c3bca16aff\">https://player.vimeo.com/video/665412693?h=c3bca16aff</a></td>\n",
       "      <td><input type=\"checkbox\"></td>\n",
       "    </tr>\n",
       "    <tr>\n",
       "      <th>11</th>\n",
       "      <td><a href=\"https://player.vimeo.com/video/665412732?h=059e4088c5\">https://player.vimeo.com/video/665412732?h=059e4088c5</a></td>\n",
       "      <td><input type=\"checkbox\"></td>\n",
       "    </tr>\n",
       "    <tr>\n",
       "      <th>12</th>\n",
       "      <td><a href=\"https://player.vimeo.com/video/665412741?h=7439cb107c\">https://player.vimeo.com/video/665412741?h=7439cb107c</a></td>\n",
       "      <td><input type=\"checkbox\"></td>\n",
       "    </tr>\n",
       "    <tr>\n",
       "      <th>13</th>\n",
       "      <td><a href=\"https://player.vimeo.com/video/665412762?h=a5eba496f7\">https://player.vimeo.com/video/665412762?h=a5eba496f7</a></td>\n",
       "      <td><input type=\"checkbox\"></td>\n",
       "    </tr>\n",
       "    <tr>\n",
       "      <th>14</th>\n",
       "      <td><a href=\"https://player.vimeo.com/video/665412785?h=03118eda71\">https://player.vimeo.com/video/665412785?h=03118eda71</a></td>\n",
       "      <td><input type=\"checkbox\"></td>\n",
       "    </tr>\n",
       "    <tr>\n",
       "      <th>15</th>\n",
       "      <td><a href=\"https://player.vimeo.com/video/665412844?h=129865775d\">https://player.vimeo.com/video/665412844?h=129865775d</a></td>\n",
       "      <td><input type=\"checkbox\"></td>\n",
       "    </tr>\n",
       "    <tr>\n",
       "      <th>16</th>\n",
       "      <td><a href=\"https://player.vimeo.com/video/665412870?h=318d69683e\">https://player.vimeo.com/video/665412870?h=318d69683e</a></td>\n",
       "      <td><input type=\"checkbox\"></td>\n",
       "    </tr>\n",
       "    <tr>\n",
       "      <th>17</th>\n",
       "      <td><a href=\"https://player.vimeo.com/video/665412891?h=39d7356a26\">https://player.vimeo.com/video/665412891?h=39d7356a26</a></td>\n",
       "      <td><input type=\"checkbox\"></td>\n",
       "    </tr>\n",
       "  </tbody>\n",
       "</table>"
      ],
      "text/plain": [
       "<IPython.core.display.HTML object>"
      ]
     },
     "metadata": {},
     "output_type": "display_data"
    }
   ],
   "source": [
    "list_of_urls = []\n",
    "\n",
    "for items in json_data[\"cells\"]:\n",
    "    for src in items[\"source\"]:  # loop through each string in the list\n",
    "        if \"VimeoVideo\" in src and \"from\" not in src:  # make sure we're only grabbing Vimeo lines\n",
    "        \n",
    "\n",
    "            parts = src.split(\",\")  # split into [video_id, h=..., width=...]\n",
    "            video_id = parts[0]     # 'VimeoVideo(\"665412094\"'\n",
    "            h_param = parts[1]      # ' h=\"8334dfab2e\"'\n",
    "\n",
    "            url = replace_function(video_id, h_param)\n",
    "            print(url)\n",
    "\n",
    "            list_of_urls.append({\n",
    "                \"url\": f'<a href=\"{url}\">{url}</a>',\n",
    "                \"checkbox\": '<input type=\"checkbox\">'\n",
    "            })\n",
    "\n",
    "df = pd.DataFrame(list_of_urls)\n",
    "\n",
    "# Render with HTML checkboxes\n",
    "display(HTML(df.to_html(escape=False)))"
   ]
  }
 ],
 "metadata": {
  "kernelspec": {
   "display_name": "applied_data_science_lab",
   "language": "python",
   "name": "python3"
  },
  "language_info": {
   "codemirror_mode": {
    "name": "ipython",
    "version": 3
   },
   "file_extension": ".py",
   "mimetype": "text/x-python",
   "name": "python",
   "nbconvert_exporter": "python",
   "pygments_lexer": "ipython3",
   "version": "3.13.2"
  }
 },
 "nbformat": 4,
 "nbformat_minor": 5
}
