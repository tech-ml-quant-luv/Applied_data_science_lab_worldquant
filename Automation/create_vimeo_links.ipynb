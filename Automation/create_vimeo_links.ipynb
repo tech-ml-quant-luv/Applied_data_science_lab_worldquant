{
 "cells": [
  {
   "cell_type": "markdown",
   "id": "ff2619a5",
   "metadata": {},
   "source": [
    "#### Create Vimeo list\n"
   ]
  },
  {
   "cell_type": "code",
   "execution_count": 1,
   "id": "1fa31b33",
   "metadata": {},
   "outputs": [],
   "source": [
    "required_url = \"https://player.vimeo.com/video/656354357?h=8d99bdbfcd\"\n",
    "parameters = [\"656354357\",\"8d99bdbfcd\"]"
   ]
  },
  {
   "cell_type": "code",
   "execution_count": 2,
   "id": "b64ae9b9",
   "metadata": {},
   "outputs": [],
   "source": [
    "with open(\"test.json\", encoding=\"utf-8\") as f:\n",
    "    data = f.read()"
   ]
  },
  {
   "cell_type": "code",
   "execution_count": 3,
   "id": "89ee7e60",
   "metadata": {},
   "outputs": [],
   "source": [
    "def replace_function(x,y):\n",
    "    x=x.replace(\"VimeoVideo(\", \"\")\n",
    "    x=x.replace('\"', \"\")\n",
    "    y=y.replace(\" h=\", \"\")\n",
    "    y=y.replace('\"', \"\")\n",
    "    return f\"https://player.vimeo.com/video/{x}?h={y}\"\n"
   ]
  },
  {
   "cell_type": "code",
   "execution_count": 4,
   "id": "acd00540",
   "metadata": {},
   "outputs": [],
   "source": [
    "import json\n",
    "import pandas as pd\n",
    "from IPython.display import display, HTML\n",
    "\n",
    "# Assuming data is already loaded\n",
    "json_data = json.loads(data)\n",
    "\n",
    "list_of_urls = []\n",
    "count = 0\n",
    "\n",
    "\n"
   ]
  },
  {
   "cell_type": "code",
   "execution_count": 5,
   "id": "264bc4d4",
   "metadata": {},
   "outputs": [
    {
     "name": "stdout",
     "output_type": "stream",
     "text": [
      "https://player.vimeo.com/video/665414044?h=ff34728e6a\n",
      "https://player.vimeo.com/video/665414180?h=573444d2f6\n",
      "https://player.vimeo.com/video/665414201?h=4f30b7a95f\n",
      "https://player.vimeo.com/video/665414239?h=d7319aa0a8\n",
      "https://player.vimeo.com/video/665414263?h=5b7d1e875f\n",
      "https://player.vimeo.com/video/665414293?h=72fbe6b7d8\n",
      "https://player.vimeo.com/video/665414303?h=6ba10ddf88\n",
      "https://player.vimeo.com/video/665414313?h=adbab3e418\n",
      "https://player.vimeo.com/video/665414336?h=5b595107c6\n",
      "https://player.vimeo.com/video/665414344?h=bdcb4a50a3\n",
      "https://player.vimeo.com/video/665414356?h=5d2bdb3813\n",
      "https://player.vimeo.com/video/665414390?h=308ea86e4b\n",
      "https://player.vimeo.com/video/665414402?h=64875c7779\n",
      "https://player.vimeo.com/video/665414414?h=202f83f3cb\n",
      "https://player.vimeo.com/video/665414450?h=0fcb4dc3fa\n",
      "https://player.vimeo.com/video/665414466?h=37dde03c93\n",
      "https://player.vimeo.com/video/665414492?h=9392e1a66e\n",
      "https://player.vimeo.com/video/665414501?h=812d482c73\n",
      "https://player.vimeo.com/video/665414513?h=c6a81b49ad\n"
     ]
    }
   ],
   "source": [
    "list_of_urls = []\n",
    "\n",
    "for items in json_data[\"cells\"]:\n",
    "    for src in items[\"source\"]:  # loop through each string in the list\n",
    "        if \"VimeoVideo\" in src and \"from\" not in src:  # make sure we're only grabbing Vimeo lines\n",
    "        \n",
    "\n",
    "            parts = src.split(\",\")  # split into [video_id, h=..., width=...]\n",
    "            video_id = parts[0]     # 'VimeoVideo(\"665412094\"'\n",
    "            h_param = parts[1]      # ' h=\"8334dfab2e\"'\n",
    "\n",
    "            url = replace_function(video_id, h_param)\n",
    "            print(url)\n",
    "\n",
    "            list_of_urls.append({\n",
    "                \"url\": f'<a href=\"{url}\">{url}</a>',\n",
    "                \"checkbox\": '<input type=\"checkbox\">'\n",
    "            })\n",
    "\n",
    "df = pd.DataFrame(list_of_urls)\n",
    "\n",
    "# Render with HTML checkboxes\n",
    "# display(HTML(df.to_html(escape=False)))"
   ]
  }
 ],
 "metadata": {
  "kernelspec": {
   "display_name": "applied_data_science_labs",
   "language": "python",
   "name": "python3"
  },
  "language_info": {
   "codemirror_mode": {
    "name": "ipython",
    "version": 3
   },
   "file_extension": ".py",
   "mimetype": "text/x-python",
   "name": "python",
   "nbconvert_exporter": "python",
   "pygments_lexer": "ipython3",
   "version": "3.12.10"
  }
 },
 "nbformat": 4,
 "nbformat_minor": 5
}
