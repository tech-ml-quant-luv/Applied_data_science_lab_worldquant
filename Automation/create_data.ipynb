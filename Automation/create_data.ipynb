{
 "cells": [
  {
   "cell_type": "code",
   "execution_count": 48,
   "id": "68e2d3d5",
   "metadata": {},
   "outputs": [],
   "source": [
    "import pandas as pd"
   ]
  },
  {
   "cell_type": "code",
   "execution_count": 49,
   "id": "a2998942",
   "metadata": {},
   "outputs": [
    {
     "name": "stdout",
     "output_type": "stream",
     "text": [
      "['https://jupyter-36ca648a-8888.us-east-26.prd.namespace.im/lab/tree/project/', 'mexico-city-test-features.csv']\n"
     ]
    }
   ],
   "source": [
    "url = input(\"Enter url: \")\n",
    "def change_url(url_input):\n",
    "    parts = url.split(\"lab/tree\")\n",
    "    return f\"{parts[0]+\"files\"+parts[1]}\"\n",
    "print(url.split(\"data/\"))\n",
    "df = pd.read_csv(change_url(url))\n",
    "df.to_csv(f\"../Project 2 - Housing in Buenos Aires/data/{url.split('data/')[1]}\")\n"
   ]
  }
 ],
 "metadata": {
  "kernelspec": {
   "display_name": "applied_data_science_lab",
   "language": "python",
   "name": "python3"
  },
  "language_info": {
   "codemirror_mode": {
    "name": "ipython",
    "version": 3
   },
   "file_extension": ".py",
   "mimetype": "text/x-python",
   "name": "python",
   "nbconvert_exporter": "python",
   "pygments_lexer": "ipython3",
   "version": "3.13.2"
  }
 },
 "nbformat": 4,
 "nbformat_minor": 5
}
